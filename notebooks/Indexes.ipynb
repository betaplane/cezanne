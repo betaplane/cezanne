{
 "cells": [
  {
   "cell_type": "code",
   "execution_count": null,
   "metadata": {
    "collapsed": false,
    "deletable": true,
    "editable": true,
    "hideCode": true
   },
   "outputs": [],
   "source": [
    "import sys\n",
    "sys.path.append('../../code/python')\n",
    "import pandas as pd\n",
    "import statsmodels.api as sm\n",
    "import xarray as xr\n",
    "import numpy as np\n",
    "from mpl_toolkits.basemap import Basemap\n",
    "import matplotlib.pyplot as plt\n",
    "%matplotlib inline"
   ]
  },
  {
   "cell_type": "code",
   "execution_count": null,
   "metadata": {
    "collapsed": false,
    "deletable": true,
    "editable": true,
    "hideCode": true
   },
   "outputs": [],
   "source": [
    "D = pd.HDFStore('../../data/analyses/indexes.h5')"
   ]
  },
  {
   "cell_type": "code",
   "execution_count": null,
   "metadata": {
    "collapsed": false,
    "deletable": true,
    "editable": true,
    "hideCode": true
   },
   "outputs": [],
   "source": [
    " def regression(field, series, intercept=True, lag=None, pval=False):\n",
    "    Y = field.copy()\n",
    "    if lag is not None:\n",
    "        Y['time'] = Y.time + pd.Timedelta(lag)\n",
    "    try:\n",
    "        Y = Y.stack(space = ('lon', 'lat')).squeeze()\n",
    "    except KeyError:\n",
    "        Y = Y.stack(space = ('longitude', 'latitude')).squeeze()\n",
    "    Y, x = xr.align(Y, xr.DataArray(series).rename({'dim_0': 'time'}))\n",
    "    X = sm.tools.add_constant(x) if intercept else np.array(x, ndmin=2).T\n",
    "\n",
    "    if pval:\n",
    "        def ols(Y, X):\n",
    "            res = sm.OLS(Y, X).fit()\n",
    "            return res.params[1], res.pvalues[1]\n",
    "        r, p = np.apply_along_axis(ols, 0, np.array(Y), X=X)\n",
    "        p = xr.DataArray(p, coords=[Y.space]).unstack('space')\n",
    "    else:\n",
    "        r = np.linalg.lstsq(X, Y)[0][1]\n",
    "    r = xr.DataArray(r, coords=[Y.space]).unstack('space')\n",
    "    return (r, p) if pval else r"
   ]
  },
  {
   "cell_type": "code",
   "execution_count": null,
   "metadata": {
    "collapsed": false,
    "deletable": true,
    "editable": true,
    "hideCode": true
   },
   "outputs": [],
   "source": [
    "LargeMap = Basemap(\n",
    "    projection = 'merc',\n",
    "    llcrnrlon = -180,\n",
    "    llcrnrlat = -70,\n",
    "    urcrnrlon = -60,\n",
    "    urcrnrlat = 10\n",
    ")\n",
    "SmallMap = Basemap(\n",
    "    projection = 'merc',\n",
    "    llcrnrlon = -85,\n",
    "    llcrnrlat = -40,\n",
    "    urcrnrlon = -60,\n",
    "    urcrnrlat = -20,\n",
    "    resolution = 'h'\n",
    ")\n",
    "\n",
    "def plot(r, p, a=None, box=None):\n",
    "    plt.figure(figsize=(15,5))\n",
    "    plt.set_cmap('coolwarm')\n",
    "    plt.subplot(1, 2, 1)\n",
    "    if a is None:\n",
    "        LargeMap.pcolor(lon, lat, r.values.T, latlon=True)\n",
    "    else:\n",
    "        LargeMap.pcolor(lon, lat, r.values.T, latlon=True, vmin=-a[0], vmax=a[0])\n",
    "    LargeMap.plot(-71.24221, -29.91502, 'bo', latlon=True, ms=10) # CEAZA\n",
    "    if box is not None:\n",
    "        for b in box:\n",
    "            LargeMap.plot(*b, color='b', latlon=True)    \n",
    "    LargeMap.drawcoastlines()\n",
    "    plt.colorbar()\n",
    "    LargeMap.contour(lon, lat, p.values.T, [0.05], latlon=True, colors=['w'])\n",
    "    plt.subplot(1, 2, 2)\n",
    "    if a is None:\n",
    "        SmallMap.pcolor(lon, lat, r.values.T, latlon=True)\n",
    "    else:\n",
    "        SmallMap.pcolor(lon, lat, r.values.T, latlon=True, vmin=-a[1], vmax=a[1])\n",
    "    SmallMap.plot(-71.24221, -29.91502, 'bo', latlon=True, ms=10) # CEAZA\n",
    "    SmallMap.drawcoastlines()\n",
    "    plt.colorbar()"
   ]
  },
  {
   "cell_type": "markdown",
   "metadata": {
    "deletable": true,
    "editable": true
   },
   "source": [
    "# 2m Temperature"
   ]
  },
  {
   "cell_type": "markdown",
   "metadata": {},
   "source": [
    "#### NCEP Reanalysis 2"
   ]
  },
  {
   "cell_type": "code",
   "execution_count": null,
   "metadata": {
    "collapsed": false,
    "deletable": true,
    "editable": true,
    "hideCode": true
   },
   "outputs": [],
   "source": [
    "with xr.open_dataset('../../data/analyses/NCEP2_T2_ppt_uv850.nc') as ds:\n",
    "    T = ds['air'].load()\n",
    "lon, lat = np.meshgrid(T.lon - 360, T.lat)"
   ]
  },
  {
   "cell_type": "markdown",
   "metadata": {},
   "source": [
    "#### ERA interim"
   ]
  },
  {
   "cell_type": "code",
   "execution_count": null,
   "metadata": {
    "collapsed": false,
    "deletable": true,
    "editable": true,
    "hideCode": true
   },
   "outputs": [],
   "source": [
    "with xr.open_dataset('../../data/analyses/ERA-T2.nc') as ds:\n",
    "    T = ds['t2m'].load()\n",
    "lon, lat = np.meshgrid(T.longitude - 360, T.latitude)"
   ]
  },
  {
   "cell_type": "markdown",
   "metadata": {
    "hideCode": false
   },
   "source": [
    "[pandas offset aliases](http://pandas.pydata.org/pandas-docs/stable/timeseries.html#offset-aliases)"
   ]
  },
  {
   "cell_type": "code",
   "execution_count": null,
   "metadata": {
    "collapsed": false,
    "hideCode": true,
    "hidePrompt": false
   },
   "outputs": [],
   "source": [
    "Tmly = T.resample('MS', dim='time', how='mean')"
   ]
  },
  {
   "cell_type": "code",
   "execution_count": null,
   "metadata": {
    "collapsed": false,
    "hideCode": true
   },
   "outputs": [],
   "source": [
    "Tdly = T.resample('D', dim='time', how='mean')"
   ]
  },
  {
   "cell_type": "code",
   "execution_count": null,
   "metadata": {
    "collapsed": false,
    "hideCode": true
   },
   "outputs": [],
   "source": [
    "keys = ['nino34', 'nino12', 'nino4', 'nino_oni', 'nino_tni', 'aao_mly', 'sam_mly']\n",
    "def reg(k):\n",
    "    r, p = regression(Rmly, D[k], pval=True)\n",
    "    return xr.concat((r, p), pd.Index(['slope', 'p-value'], name='variable'))\n",
    "\n",
    "d = xr.Dataset({k: reg(k) for k in keys})"
   ]
  },
  {
   "cell_type": "code",
   "execution_count": null,
   "metadata": {
    "collapsed": false,
    "hideCode": true
   },
   "outputs": [],
   "source": [
    "d.to_netcdf('ERA_precip.nc')"
   ]
  },
  {
   "cell_type": "markdown",
   "metadata": {},
   "source": [
    "## [ENSO](https://climatedataguide.ucar.edu/climate-data/nino-sst-indices-nino-12-3-34-4-oni-and-tni)"
   ]
  },
  {
   "cell_type": "markdown",
   "metadata": {},
   "source": [
    "### Niño3.4"
   ]
  },
  {
   "cell_type": "code",
   "execution_count": null,
   "metadata": {
    "collapsed": false,
    "deletable": true,
    "editable": true,
    "hideCode": true,
    "hideOutput": false
   },
   "outputs": [],
   "source": [
    "r, p = regression(Tmly, D['nino34'], pval=True)\n",
    "box = [([-170, -120, -120, -170, -170], [-5, -5, 5, 5, -5])]"
   ]
  },
  {
   "cell_type": "markdown",
   "metadata": {},
   "source": [
    "#### NCEP"
   ]
  },
  {
   "cell_type": "code",
   "execution_count": null,
   "metadata": {
    "collapsed": false,
    "deletable": true,
    "editable": true,
    "hideCode": true,
    "hideOutput": false
   },
   "outputs": [],
   "source": [
    "plot(r, p, [2, 2], box)"
   ]
  },
  {
   "cell_type": "markdown",
   "metadata": {},
   "source": [
    "white lines are p-value = 0.05; blue box indicates the index region"
   ]
  },
  {
   "cell_type": "markdown",
   "metadata": {},
   "source": [
    "#### ERA"
   ]
  },
  {
   "cell_type": "code",
   "execution_count": null,
   "metadata": {
    "collapsed": false,
    "hideCode": true,
    "hideOutput": false
   },
   "outputs": [],
   "source": [
    "plot(r, p, [3, 2], box)"
   ]
  },
  {
   "cell_type": "markdown",
   "metadata": {},
   "source": [
    "### Niño4"
   ]
  },
  {
   "cell_type": "code",
   "execution_count": null,
   "metadata": {
    "collapsed": false,
    "hideCode": true
   },
   "outputs": [],
   "source": [
    "r, p = regression(Tmly, D['nino4'], pval=True)\n",
    "box = [([-160, -150, -150, -160, -160], [-5, -5, 5, 5, -5])]"
   ]
  },
  {
   "cell_type": "markdown",
   "metadata": {},
   "source": [
    "#### NCEP"
   ]
  },
  {
   "cell_type": "code",
   "execution_count": null,
   "metadata": {
    "collapsed": false,
    "hideCode": true,
    "hideOutput": false
   },
   "outputs": [],
   "source": [
    "plot(r, p, [4, 3], box)"
   ]
  },
  {
   "cell_type": "markdown",
   "metadata": {},
   "source": [
    "#### ERA"
   ]
  },
  {
   "cell_type": "code",
   "execution_count": null,
   "metadata": {
    "collapsed": false,
    "hideCode": true,
    "hideOutput": false
   },
   "outputs": [],
   "source": [
    "plot(r, p, [4, 3], box)"
   ]
  },
  {
   "cell_type": "markdown",
   "metadata": {},
   "source": [
    "### Niño1+2"
   ]
  },
  {
   "cell_type": "code",
   "execution_count": null,
   "metadata": {
    "collapsed": false,
    "hideCode": true
   },
   "outputs": [],
   "source": [
    "r, p = regression(Tmly, D['nino12'], pval=True)\n",
    "box = [([-90, -80, -80, -90, -90], [-10, -10, 0, 0, -10])]"
   ]
  },
  {
   "cell_type": "markdown",
   "metadata": {},
   "source": [
    "#### NCEP"
   ]
  },
  {
   "cell_type": "code",
   "execution_count": null,
   "metadata": {
    "collapsed": false,
    "hideCode": true,
    "hideOutput": false
   },
   "outputs": [],
   "source": [
    "plot(r, p, [2.2, 1.5], box)"
   ]
  },
  {
   "cell_type": "markdown",
   "metadata": {},
   "source": [
    "#### ERA"
   ]
  },
  {
   "cell_type": "code",
   "execution_count": null,
   "metadata": {
    "collapsed": false,
    "hideCode": true,
    "hideOutput": false
   },
   "outputs": [],
   "source": [
    "plot(r, p, [1.75, 1.5], box)"
   ]
  },
  {
   "cell_type": "markdown",
   "metadata": {
    "deletable": true,
    "editable": true
   },
   "source": [
    "### Oceanic Niño Index (ONI)"
   ]
  },
  {
   "cell_type": "code",
   "execution_count": null,
   "metadata": {
    "collapsed": false,
    "deletable": true,
    "editable": true,
    "hideCode": true
   },
   "outputs": [],
   "source": [
    "r, p = regression(Tmly, D['nino_oni'], pval=True)\n",
    "box = [([-170, -120, -120, -170, -170], [-5, -5, 5, 5, -5])]"
   ]
  },
  {
   "cell_type": "markdown",
   "metadata": {},
   "source": [
    "#### NCEP"
   ]
  },
  {
   "cell_type": "code",
   "execution_count": null,
   "metadata": {
    "collapsed": false,
    "deletable": true,
    "editable": true,
    "hideCode": true,
    "hideOutput": false
   },
   "outputs": [],
   "source": [
    "plot(r, p, [1.4, 1], box)"
   ]
  },
  {
   "cell_type": "markdown",
   "metadata": {},
   "source": [
    "#### ERA"
   ]
  },
  {
   "cell_type": "code",
   "execution_count": null,
   "metadata": {
    "collapsed": false,
    "hideCode": true,
    "hideOutput": false
   },
   "outputs": [],
   "source": [
    "plot(r, p, [1.25, .6], box)"
   ]
  },
  {
   "cell_type": "markdown",
   "metadata": {},
   "source": [
    "### Trans-Niño Index (TNI)"
   ]
  },
  {
   "cell_type": "code",
   "execution_count": null,
   "metadata": {
    "collapsed": false,
    "hideCode": true
   },
   "outputs": [],
   "source": [
    "r, p = regression(Tmly, D['nino_tni'], pval=True)\n",
    "box = [([-160, -150, -150, -160, -160], [-5, -5, 5, 5, -5]),\n",
    "       ([-90, -80, -80, -90, -90], [-10, -10, 0, 0, -10])]"
   ]
  },
  {
   "cell_type": "markdown",
   "metadata": {},
   "source": [
    "#### NCEP"
   ]
  },
  {
   "cell_type": "code",
   "execution_count": null,
   "metadata": {
    "collapsed": false,
    "hideCode": true,
    "hideOutput": false
   },
   "outputs": [],
   "source": [
    "plot(r, p, [.6, .6])"
   ]
  },
  {
   "cell_type": "markdown",
   "metadata": {},
   "source": [
    "#### ERA"
   ]
  },
  {
   "cell_type": "code",
   "execution_count": null,
   "metadata": {
    "collapsed": false,
    "hideCode": true,
    "hideOutput": false
   },
   "outputs": [],
   "source": [
    "plot(r, p, [.6, .4], box)"
   ]
  },
  {
   "cell_type": "markdown",
   "metadata": {},
   "source": [
    "## SAM"
   ]
  },
  {
   "cell_type": "markdown",
   "metadata": {},
   "source": [
    "### [reanalysis-based](http://www.cpc.ncep.noaa.gov/products/precip/CWlink/daily_ao_index/aao/aao.shtml)"
   ]
  },
  {
   "cell_type": "markdown",
   "metadata": {},
   "source": [
    "##### monthly"
   ]
  },
  {
   "cell_type": "markdown",
   "metadata": {},
   "source": [
    "daily pretty much the same"
   ]
  },
  {
   "cell_type": "code",
   "execution_count": null,
   "metadata": {
    "collapsed": false,
    "hideCode": true
   },
   "outputs": [],
   "source": [
    "r, p = regression(Tmly, D['aao_mly'], pval=True)"
   ]
  },
  {
   "cell_type": "markdown",
   "metadata": {
    "hideOutput": false
   },
   "source": [
    "#### NCEP"
   ]
  },
  {
   "cell_type": "code",
   "execution_count": null,
   "metadata": {
    "collapsed": false,
    "hideCode": true,
    "hideOutput": false
   },
   "outputs": [],
   "source": [
    "plot(r, p, [1, .4])"
   ]
  },
  {
   "cell_type": "markdown",
   "metadata": {},
   "source": [
    "#### ERA"
   ]
  },
  {
   "cell_type": "code",
   "execution_count": null,
   "metadata": {
    "collapsed": false,
    "hideCode": true,
    "hideOutput": false
   },
   "outputs": [],
   "source": [
    "plot(r, p, [1, .5])"
   ]
  },
  {
   "cell_type": "markdown",
   "metadata": {},
   "source": [
    "### [station-based (Marshall Southern Annular Mode Index)](https://climatedataguide.ucar.edu/climate-data/marshall-southern-annular-mode-sam-index-station-based)"
   ]
  },
  {
   "cell_type": "code",
   "execution_count": null,
   "metadata": {
    "collapsed": false,
    "hideCode": true,
    "hidePrompt": false
   },
   "outputs": [],
   "source": [
    "r, p = regression(Tmly, D['sam_mly'], pval=True)"
   ]
  },
  {
   "cell_type": "markdown",
   "metadata": {},
   "source": [
    "#### NCEP"
   ]
  },
  {
   "cell_type": "code",
   "execution_count": null,
   "metadata": {
    "collapsed": false,
    "hideCode": true,
    "hideOutput": false
   },
   "outputs": [],
   "source": [
    "plot(r, p, [.4, .2])"
   ]
  },
  {
   "cell_type": "markdown",
   "metadata": {},
   "source": [
    "#### ERA"
   ]
  },
  {
   "cell_type": "code",
   "execution_count": null,
   "metadata": {
    "collapsed": false,
    "hideCode": true,
    "hideOutput": false
   },
   "outputs": [],
   "source": [
    "plot(r, p, [.4, .3])"
   ]
  },
  {
   "cell_type": "markdown",
   "metadata": {},
   "source": [
    "# Precipitation"
   ]
  },
  {
   "cell_type": "code",
   "execution_count": null,
   "metadata": {
    "collapsed": false,
    "hideCode": true
   },
   "outputs": [],
   "source": [
    "with xr.open_dataset('../../data/analyses/NCEP2_T2_ppt_uv850.nc') as ds:\n",
    "    rr = ds['prate'].load()\n",
    "lon, lat = np.meshgrid(rr.lon - 360, rr.lat)"
   ]
  },
  {
   "cell_type": "code",
   "execution_count": null,
   "metadata": {
    "collapsed": false,
    "hideCode": true
   },
   "outputs": [],
   "source": [
    "Rmly = rr.resample('MS', dim='time', how='mean') # it's a rate"
   ]
  },
  {
   "cell_type": "code",
   "execution_count": null,
   "metadata": {
    "collapsed": false,
    "hideCode": true
   },
   "outputs": [],
   "source": [
    "with xr.open_dataset('../../data/analyses/ERA-ppt.nc') as ds:\n",
    "    ppt = ds['tp'].load()\n",
    "\n",
    "lon, lat = np.meshgrid(ppt.longitude - 360, ppt.latitude)\n",
    "ppt['time'] = ppt.time - pd.Timedelta('1h') # to include 0:00h accumulated ppt with the previous day\n",
    "Rmly = ppt.resample('MS', dim='time', how='sum')"
   ]
  },
  {
   "cell_type": "markdown",
   "metadata": {},
   "source": [
    "### Niño34"
   ]
  },
  {
   "cell_type": "markdown",
   "metadata": {},
   "source": [
    "#### ERA"
   ]
  },
  {
   "cell_type": "code",
   "execution_count": null,
   "metadata": {
    "collapsed": false,
    "hideCode": true
   },
   "outputs": [],
   "source": [
    "r, p = regression(Rmly, D['nino34'], pval=True)\n",
    "box = [([-170, -120, -120, -170, -170], [-5, -5, 5, 5, -5])]"
   ]
  },
  {
   "cell_type": "code",
   "execution_count": null,
   "metadata": {
    "collapsed": false,
    "hideCode": true,
    "hideOutput": false
   },
   "outputs": [],
   "source": [
    "plot(r, p, [.15, .15], box)"
   ]
  },
  {
   "cell_type": "markdown",
   "metadata": {},
   "source": [
    "#### NCEP"
   ]
  },
  {
   "cell_type": "code",
   "execution_count": null,
   "metadata": {
    "collapsed": false
   },
   "outputs": [],
   "source": [
    "plot(r, p, np.array([5, 2.5])*1e-5, box)"
   ]
  },
  {
   "cell_type": "markdown",
   "metadata": {
    "hideCode": false
   },
   "source": [
    "### Niño4"
   ]
  },
  {
   "cell_type": "code",
   "execution_count": null,
   "metadata": {
    "collapsed": false,
    "hideCode": true
   },
   "outputs": [],
   "source": [
    "r, p = regression(Rmly, D['nino4'], pval=True)\n",
    "box = [([-160, -150, -150, -160, -160], [-5, -5, 5, 5, -5])]"
   ]
  },
  {
   "cell_type": "markdown",
   "metadata": {},
   "source": [
    "#### ERA"
   ]
  },
  {
   "cell_type": "code",
   "execution_count": null,
   "metadata": {
    "collapsed": false,
    "hideCode": true,
    "hideOutput": false
   },
   "outputs": [],
   "source": [
    "plot(r, p, [.15, .15], box)"
   ]
  },
  {
   "cell_type": "markdown",
   "metadata": {},
   "source": [
    "#### NCEP"
   ]
  },
  {
   "cell_type": "code",
   "execution_count": null,
   "metadata": {
    "collapsed": false,
    "hideCode": true
   },
   "outputs": [],
   "source": [
    "plot(r, p, np.array([6, 3])*1e-5, box)"
   ]
  },
  {
   "cell_type": "markdown",
   "metadata": {},
   "source": [
    "### Niño1+2"
   ]
  },
  {
   "cell_type": "code",
   "execution_count": null,
   "metadata": {
    "collapsed": false,
    "hideCode": true
   },
   "outputs": [],
   "source": [
    "r, p = regression(Rmly, D['nino12'], pval=True)\n",
    "box = [([-90, -80, -80, -90, -90], [-10, -10, 0, 0, -10])]"
   ]
  },
  {
   "cell_type": "markdown",
   "metadata": {},
   "source": [
    "#### ERA"
   ]
  },
  {
   "cell_type": "code",
   "execution_count": null,
   "metadata": {
    "collapsed": false,
    "hideCode": true
   },
   "outputs": [],
   "source": [
    "plot(r, p, [.1, .05], box)"
   ]
  },
  {
   "cell_type": "markdown",
   "metadata": {},
   "source": [
    "#### NCEP"
   ]
  },
  {
   "cell_type": "code",
   "execution_count": null,
   "metadata": {
    "collapsed": false,
    "hideCode": true
   },
   "outputs": [],
   "source": [
    "plot(r, p, np.array([4, 1])*1e-5, box)"
   ]
  },
  {
   "cell_type": "markdown",
   "metadata": {},
   "source": [
    "### ONI"
   ]
  },
  {
   "cell_type": "code",
   "execution_count": null,
   "metadata": {
    "collapsed": false,
    "hideCode": true
   },
   "outputs": [],
   "source": [
    "r, p = regression(Rmly, D['nino_oni'], pval=True)\n",
    "box = [([-170, -120, -120, -170, -170], [-5, -5, 5, 5, -5])]"
   ]
  },
  {
   "cell_type": "markdown",
   "metadata": {},
   "source": [
    "#### ERA"
   ]
  },
  {
   "cell_type": "code",
   "execution_count": null,
   "metadata": {
    "collapsed": false,
    "hideCode": true
   },
   "outputs": [],
   "source": [
    "plot(r, p, [.15, .03], box)"
   ]
  },
  {
   "cell_type": "markdown",
   "metadata": {},
   "source": [
    "#### NCEP"
   ]
  },
  {
   "cell_type": "code",
   "execution_count": null,
   "metadata": {
    "collapsed": false,
    "hideCode": true
   },
   "outputs": [],
   "source": [
    "plot(r, p, np.array([5, .6])*1e-5, box)"
   ]
  },
  {
   "cell_type": "markdown",
   "metadata": {},
   "source": [
    "### TNI"
   ]
  },
  {
   "cell_type": "code",
   "execution_count": null,
   "metadata": {
    "collapsed": false,
    "hideCode": true
   },
   "outputs": [],
   "source": [
    "r, p = regression(Rmly, D['nino_tni'], pval=True)\n",
    "box = [([-160, -150, -150, -160, -160], [-5, -5, 5, 5, -5]),\n",
    "       ([-90, -80, -80, -90, -90], [-10, -10, 0, 0, -10])]"
   ]
  },
  {
   "cell_type": "markdown",
   "metadata": {},
   "source": [
    "#### ERA"
   ]
  },
  {
   "cell_type": "code",
   "execution_count": null,
   "metadata": {
    "collapsed": false,
    "hideCode": true
   },
   "outputs": [],
   "source": [
    "plot(r, p, [.03, .02], box)"
   ]
  },
  {
   "cell_type": "markdown",
   "metadata": {},
   "source": [
    "#### NCEP"
   ]
  },
  {
   "cell_type": "code",
   "execution_count": null,
   "metadata": {
    "collapsed": false,
    "hideCode": true
   },
   "outputs": [],
   "source": [
    "plot(r, p, np.array([1.2, .6])*1e-5, box)"
   ]
  },
  {
   "cell_type": "markdown",
   "metadata": {},
   "source": [
    "## SAM"
   ]
  },
  {
   "cell_type": "markdown",
   "metadata": {},
   "source": [
    "### reanalysis"
   ]
  },
  {
   "cell_type": "code",
   "execution_count": null,
   "metadata": {
    "collapsed": false,
    "hideCode": true
   },
   "outputs": [],
   "source": [
    "r, p = regression(Rmly, D['aao_mly'], pval=True)"
   ]
  },
  {
   "cell_type": "markdown",
   "metadata": {},
   "source": [
    "#### ERA"
   ]
  },
  {
   "cell_type": "code",
   "execution_count": null,
   "metadata": {
    "collapsed": false,
    "hideCode": true
   },
   "outputs": [],
   "source": [
    "plot(r, p, [.03, .03])"
   ]
  },
  {
   "cell_type": "markdown",
   "metadata": {},
   "source": [
    "#### NCEP"
   ]
  },
  {
   "cell_type": "code",
   "execution_count": null,
   "metadata": {
    "collapsed": false,
    "hideCode": true
   },
   "outputs": [],
   "source": [
    "plot(r, p, np.array([1.5, .5])*1e-5, box)"
   ]
  },
  {
   "cell_type": "markdown",
   "metadata": {},
   "source": [
    "### Marshall"
   ]
  },
  {
   "cell_type": "code",
   "execution_count": null,
   "metadata": {
    "collapsed": false,
    "hideCode": true
   },
   "outputs": [],
   "source": [
    "r, p = regression(Rmly, D['sam_mly'], pval=True)"
   ]
  },
  {
   "cell_type": "markdown",
   "metadata": {},
   "source": [
    "#### ERA"
   ]
  },
  {
   "cell_type": "code",
   "execution_count": null,
   "metadata": {
    "collapsed": false,
    "hideCode": true
   },
   "outputs": [],
   "source": [
    "plot(r, p, [.015, .015])"
   ]
  },
  {
   "cell_type": "markdown",
   "metadata": {},
   "source": [
    "#### NCEP"
   ]
  },
  {
   "cell_type": "code",
   "execution_count": null,
   "metadata": {
    "collapsed": false,
    "hideCode": true
   },
   "outputs": [],
   "source": [
    "plot(r, p, np.array([1, .25])*1e-5, box)"
   ]
  },
  {
   "cell_type": "markdown",
   "metadata": {},
   "source": [
    "# precipiation against wind"
   ]
  },
  {
   "cell_type": "code",
   "execution_count": null,
   "metadata": {
    "collapsed": false,
    "hideCode": true
   },
   "outputs": [],
   "source": [
    "with xr.open_dataset('../../data/analyses/ERA-ws.nc') as ds:\n",
    "    ws = ds['ws'].load()\n",
    "lon, lat = np.meshgrid(ws.lon - 360, ws.lat)"
   ]
  },
  {
   "cell_type": "code",
   "execution_count": null,
   "metadata": {
    "collapsed": false,
    "hideCode": true
   },
   "outputs": [],
   "source": [
    "wmly = ws.resample('MS', dim='time', how='mean')"
   ]
  },
  {
   "cell_type": "code",
   "execution_count": null,
   "metadata": {
    "collapsed": false,
    "hideCode": true,
    "scrolled": false
   },
   "outputs": [],
   "source": [
    "wdly = ws.resample('D', dim='time', how='mean')\n",
    "Rdly = ppt.resample('D', dim='time', how='mean')"
   ]
  },
  {
   "cell_type": "code",
   "execution_count": null,
   "metadata": {
    "collapsed": false,
    "hideCode": true
   },
   "outputs": [],
   "source": [
    "def regression(x, y):\n",
    "    X = xr.concat((x, y), pd.Index(['X', 'Y'], name='var'))\n",
    "    X = X.stack(space = ('longitude', 'latitude'))\n",
    "    X = X.stack(col = ('time', 'var'))\n",
    "    def ols(X):\n",
    "        res = sm.OLS(X[1::2], sm.tools.add_constant(X[::2])).fit()\n",
    "        return res.params[1], res.pvalues[1]\n",
    "    r, p = np.apply_along_axis(ols, 1, X).T\n",
    "    return [xr.DataArray(x, coords=[X.space]).unstack('space') for x in [r, p]]"
   ]
  },
  {
   "cell_type": "code",
   "execution_count": null,
   "metadata": {
    "collapsed": false,
    "hideCode": true,
    "hideOutput": false
   },
   "outputs": [],
   "source": [
    "r, p = regression(wmly, Rmly)"
   ]
  },
  {
   "cell_type": "code",
   "execution_count": null,
   "metadata": {
    "collapsed": false,
    "hideCode": true
   },
   "outputs": [],
   "source": [
    "plot(-r, p, [.6, .6])"
   ]
  }
 ],
 "metadata": {
  "celltoolbar": "Hide code",
  "kernelspec": {
   "display_name": "Python 3",
   "language": "python",
   "name": "python3"
  },
  "language_info": {
   "codemirror_mode": {
    "name": "ipython",
    "version": 3
   },
   "file_extension": ".py",
   "mimetype": "text/x-python",
   "name": "python",
   "nbconvert_exporter": "python",
   "pygments_lexer": "ipython3",
   "version": "3.6.0"
  }
 },
 "nbformat": 4,
 "nbformat_minor": 2
}
