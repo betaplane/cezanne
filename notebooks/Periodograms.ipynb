{
 "cells": [
  {
   "cell_type": "code",
   "execution_count": null,
   "metadata": {
    "collapsed": false,
    "deletable": true,
    "editable": true
   },
   "outputs": [],
   "source": [
    "import numpy as np\n",
    "from astropy.stats import LombScargle\n",
    "import scipy.signal as sig\n",
    "import matplotlib.pyplot as plt\n",
    "%matplotlib inline\n",
    "\n",
    "# t is a linear time without reference to angular frequencies\n",
    "# signal at frequency 1\n",
    "def signal(N, cycles, noise):\n",
    "    \"\"\"\n",
    "    :param N: number of samples in output sequence y\n",
    "    :param cycles: number of cycles of signal to appear in sequence\n",
    "    :param noise: amplitude of noise (signal has amplitude 1)\n",
    "    :returns: t, y = arrays containing time, signal sequences, with \n",
    "    signal appearing at frequency 1\n",
    "    \"\"\"\n",
    "    t = np.linspace(0, cycles, N)\n",
    "    y = np.sin(2* np.pi * t) + np.random.rand(N) * noise\n",
    "    return t, y\n",
    "\n",
    "def fft(t, y):\n",
    "    \"\"\"\n",
    "    :param t: linear time array\n",
    "    :param y: signal sequence\n",
    "    :returns: f, P = arrays containing (positive) frequencies of FFT and corresponding\n",
    "    power spectrum (frequency in cycles / unit time)\n",
    "    \"\"\"\n",
    "    N = len(t)\n",
    "    f = np.fft.fftfreq(N, t[1]-t[0]) # this computes frequency w.r.t Delta t\n",
    "    i = (f>0)\n",
    "    f = f[i]\n",
    "    P = abs(np.fft.fft(y)[i]) ** 2 / N\n",
    "    return f, P"
   ]
  },
  {
   "cell_type": "markdown",
   "metadata": {
    "deletable": true,
    "editable": true
   },
   "source": [
    "## Power spectrum\n",
    "\n",
    "The 'psd' normalization returns indead the same power as a corresponding FFT:"
   ]
  },
  {
   "cell_type": "code",
   "execution_count": null,
   "metadata": {
    "collapsed": false,
    "deletable": true,
    "editable": true
   },
   "outputs": [],
   "source": [
    "N = 256\n",
    "C = 16\n",
    "t, y = signal(N, C, 1)\n",
    "plt.plot(t, y)"
   ]
  },
  {
   "cell_type": "code",
   "execution_count": null,
   "metadata": {
    "collapsed": false,
    "deletable": true,
    "editable": true
   },
   "outputs": [],
   "source": [
    "f, P = fft(t, y)\n",
    "LS = LombScargle(t, y).power(f, normalization='psd')\n",
    "plt.figure(figsize=(10, 5))\n",
    "plt.subplot(1,2,1)\n",
    "plt.plot(f, P)\n",
    "plt.subplot(1,2,2)\n",
    "plt.plot(f, LS)"
   ]
  },
  {
   "cell_type": "markdown",
   "metadata": {
    "deletable": true,
    "editable": true
   },
   "source": [
    "The forward fft is not normalized (https://docs.scipy.org/doc/numpy-1.12.0/reference/routines.fft.html), so that the inverse transform needs to be normalized by $\\frac{1}{N}$. To go from power $P(f)$ to amplitude $A(f)$, one has  \n",
    "$$A(f) = 2 \\left(\\frac{P(f)}{N} \\right)^{1/2} $$\n",
    "where the factor $2$ arises from the fact that we ignore the negative frequencies in the power spectrum (negative and positive frequencies add up to the full real amplitude when performing an inverse transform)."
   ]
  },
  {
   "cell_type": "code",
   "execution_count": null,
   "metadata": {
    "collapsed": false,
    "deletable": true,
    "editable": true
   },
   "outputs": [],
   "source": [
    "p = LombScargle(t, y).power(1, normalization='psd')\n",
    "2 * np.sqrt(p/N)"
   ]
  },
  {
   "cell_type": "markdown",
   "metadata": {
    "deletable": true,
    "editable": true
   },
   "source": [
    "The equivalent result from fft is obtained when chosing the $C^{th}$ element in the returned fft array, where $C$ is the number of cycles of the periodic signal:"
   ]
  },
  {
   "cell_type": "code",
   "execution_count": null,
   "metadata": {
    "collapsed": false,
    "deletable": true,
    "editable": true
   },
   "outputs": [],
   "source": [
    "p = np.fft.fft(y)[C] # no conversion to power first here\n",
    "2 * abs(p) / N"
   ]
  },
  {
   "cell_type": "markdown",
   "metadata": {
    "deletable": true,
    "editable": true
   },
   "source": [
    "## Windowing\n",
    "\n",
    "### \"DFT-even\" and symmetric windows\n",
    "The *sym* option in SciPy's [window functions](https://docs.scipy.org/doc/scipy-0.18.1/reference/generated/scipy.signal.hann.html#scipy.signal.hann) produces, when set to *False* and the window length is even a \"DFT even\" (or \"periodic\") window, i.e. one with symmetry about a central point which attains the value 1, but with the first element set to 0. This is useful for DFTs because they have an implied periodicity: the result would be unchanged if an $(N+1)^{th}$ value identical to the $0^{th}$ value followed a sequence of $N$ (an even number) elements <cite data-cite=\"2031184/N92WUBJI\"></cite>. SciPy's implementation sets the first element of the window to zero, while Harris does it with last one - I don't know why.\n",
    "\n",
    "### Window coherent gain\n",
    "The application of a window function reduces the *gain* of the resulting DFT, changing the amplitude estimates. The gain for a Hann window (a $cos^{\\alpha}(x)$ window with $\\alpha=2$ in Harris' terminology) is 0.5. Therefore the amplitude estimate needs to be multiplied by an additional factor of 2."
   ]
  },
  {
   "cell_type": "code",
   "execution_count": null,
   "metadata": {
    "collapsed": false,
    "deletable": true,
    "editable": true
   },
   "outputs": [],
   "source": [
    "def welch(t, y, n):\n",
    "    \"\"\"\n",
    "    Welch's method computes the average of the power spectra of windowed sub-sequences that\n",
    "    overlap by 50%. The window is a Hann window.\n",
    "    :param t: time sequence\n",
    "    :param y: signal sequence\n",
    "    :param n: number of non-overlapping subsequences (total number: 2n-1)\n",
    "    \"\"\"\n",
    "    N = len(y)\n",
    "    w = N // n # width\n",
    "    win = sig.hann(w, sym=False)\n",
    "    d = w // 2\n",
    "    m = np.mean([LombScargle(t[:w], y[j*d:j*d+w] * win).power(1, normalization='psd')\n",
    "        for j in range(2 * n - 1)])\n",
    "    return 4 * np.sqrt(m / w) # 2 x the non-windowed estimate \n",
    "\n",
    "[welch(t, y, n) for n in [1,2,4,8,16]]"
   ]
  },
  {
   "cell_type": "markdown",
   "metadata": {
    "deletable": true,
    "editable": true
   },
   "source": [
    "As comparison, here the amplitude estimate from simple \"period folding\":"
   ]
  },
  {
   "cell_type": "code",
   "execution_count": null,
   "metadata": {
    "collapsed": false,
    "deletable": true,
    "editable": true
   },
   "outputs": [],
   "source": [
    "x = y.reshape((16,-1)).mean(0)\n",
    "(max(x) - min(x)) / 2"
   ]
  },
  {
   "cell_type": "markdown",
   "metadata": {},
   "source": [
    "## Coherence\n",
    "Coherence of a raw DFT is always 1. Only when averaging over windows is employed can coherence be estimated. \n",
    "\n",
    "[The correct definition is](https://www.dsprelated.com/freebooks/mdft/Coherence_Function.html):\n",
    "$$\n",
    "\\hat{C}_{xy}(\\omega_k) = \\frac{\\left| \\left\\{ \\overline{X_m(\\omega_k)} Y_m(\\omega_k) \\right\\}_m \\right|^2}\n",
    "{\\left\\{ \\left| X_m(\\omega_k) \\right|^2 \\right\\}_m \\left\\{ \\left| Y_m(\\omega_k) \\right|^2 \\right\\}_m}\n",
    "$$\n",
    "\n",
    "where the overbar denotes complex conjugation and the curly brackets averaging over windows $m$. Note the respective order of taking averages and moduli. "
   ]
  },
  {
   "cell_type": "code",
   "execution_count": null,
   "metadata": {
    "collapsed": false
   },
   "outputs": [],
   "source": []
  }
 ],
 "metadata": {
  "cite2c": {
   "citations": {
    "2031184/N92WUBJI": {
     "author": [
      {
       "family": "Harris",
       "given": "Fredric J"
      }
     ],
     "container-title": "Proceedings of the IEEE",
     "id": "2031184/N92WUBJI",
     "issue": "1",
     "issued": {
      "year": "1978"
     },
     "page": "51–83",
     "page-first": "51",
     "title": "On the use of windows for harmonic analysis with the discrete Fourier transform",
     "type": "article-journal",
     "volume": "66"
    }
   }
  },
  "kernelspec": {
   "display_name": "Python 3",
   "language": "python",
   "name": "python3"
  },
  "language_info": {
   "codemirror_mode": {
    "name": "ipython",
    "version": 3
   },
   "file_extension": ".py",
   "mimetype": "text/x-python",
   "name": "python",
   "nbconvert_exporter": "python",
   "pygments_lexer": "ipython3",
   "version": "3.6.0"
  }
 },
 "nbformat": 4,
 "nbformat_minor": 2
}
