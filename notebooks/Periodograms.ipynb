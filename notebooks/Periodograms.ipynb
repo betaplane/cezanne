{
 "cells": [
  {
   "cell_type": "code",
   "execution_count": null,
   "metadata": {
    "collapsed": false,
    "deletable": true,
    "editable": true
   },
   "outputs": [],
   "source": [
    "import numpy as np\n",
    "from astropy.stats import LombScargle\n",
    "import scipy.signal as sig\n",
    "import matplotlib.pyplot as plt\n",
    "%matplotlib inline\n",
    "\n",
    "# t is a linear time without reference to angular frequencies\n",
    "# signal at frequency 1\n",
    "def signal(N, cycles, noise):\n",
    "    \"\"\"\n",
    "    :param N: number of samples in output sequence y\n",
    "    :param cycles: number of cycles of signal to appear in sequence\n",
    "    :param noise: amplitude of noise (signal has amplitude 1)\n",
    "    :returns: t, y = arrays containing time, signal sequences, with \n",
    "    signal appearing at frequency 1\n",
    "    \"\"\"\n",
    "    t = np.linspace(0, cycles, N)\n",
    "    y = np.sin(2* np.pi * t) + np.random.rand(N) * noise\n",
    "    return t, y\n",
    "\n",
    "def fft(t, x):\n",
    "    \"\"\"\n",
    "    :param t: linear time array\n",
    "    :param y: signal sequence\n",
    "    :returns: f, P = arrays containing (positive) frequencies of FFT and corresponding\n",
    "    power spectrum (frequency in cycles / unit time)\n",
    "    \"\"\"\n",
    "    N = len(t)\n",
    "    f = np.fft.fftfreq(N, t[1]-t[0]) # this computes frequency w.r.t Delta t\n",
    "    i = (f>0)\n",
    "    f = f[i]\n",
    "    P = abs(np.fft.fft(x)[i]) ** 2 / N\n",
    "    return f, P"
   ]
  },
  {
   "cell_type": "markdown",
   "metadata": {},
   "source": [
    "Let's use a signal with both sine and noise amplitude equal to 1 and 16 cycles in 256 data points (frequency of the signal is 1, i.e. sampling frequency is 1/16)."
   ]
  },
  {
   "cell_type": "code",
   "execution_count": null,
   "metadata": {
    "collapsed": false,
    "deletable": true,
    "editable": true
   },
   "outputs": [],
   "source": [
    "N = 256\n",
    "C = 16\n",
    "t, x = signal(N, C, 1)\n",
    "plt.plot(t, x)"
   ]
  },
  {
   "cell_type": "markdown",
   "metadata": {
    "deletable": true,
    "editable": true
   },
   "source": [
    "\n"
   ]
  },
  {
   "cell_type": "markdown",
   "metadata": {},
   "source": [
    "## Power spectrum and power spectral density\n",
    "\n",
    "[Parseval's theorem](https://en.wikipedia.org/wiki/Parseval%27s_theorem) gives the relationship between the variance ($\\equiv$ RMS, energy) of a time-domain signal and its Fourier transform:\n",
    "$$\n",
    "\\int_{-\\infty}^{\\infty} \\left| x(t) \\right|^2 df = \n",
    "\\frac{1}{2 \\pi} \\int_{-\\infty}^{\\infty} \\left| \\tilde{X}(\\omega) \\right|^2 d \\omega =\n",
    "\\int_{-\\infty}^{\\infty} \\left| \\tilde{X}(2 \\pi f) \\right|^2 df\n",
    "$$\n",
    "which in the discrete form becomes:\n",
    "$$\n",
    "\\sum_{n=0}^{N-1} \\left| x[n] \\right|^2 = \\frac{1}{N} \\sum_{n=0}^{N-1} \\left| \\tilde{X}[k] \\right|^2\n",
    "$$\n",
    "\n",
    "The relationship between the **power spectrum** ($PS$, given in $U^2$ where $U$ is the measurement unit) and the **power spectral density** ($PSD$, given in $U^2 T$ where $T$ is the time unit) is <cite data-cite=\"2031184/A4NPSUMX\"></cite>:\n",
    "$$\n",
    "PS = PSD \\times ENBW\n",
    "$$\n",
    "where $ENBW$ is the effective noise bandwith\n",
    "$$\n",
    "ENBW = f_s \\frac{\\sum_j w_j^2}{\\left( \\sum_j w_j \\right)^2}\n",
    "$$\n",
    "where $w_j$ are the weights of any window function used and $f_s$ is the sampling frequency. For a straightforward Fourier transform without any windowing or averaging, the $w_j=1$ and hence\n",
    "$$\n",
    "PSD = \\frac{1}{f_s} PS\n",
    "$$\n",
    "Note that with a total measurement period $T$, $f_s=1/\\Delta t = N/T$, and therefore with $T=1$ as an un-normalized FFT assumes,\n",
    "$$\n",
    "PSD = \\frac{1}{N} PS\n",
    "$$\n",
    "The relationship with the Fourier transform is:\n",
    "$$\n",
    "PS(f_k) = 2 \\frac{\\left| \\tilde{X}[k] \\right|^2}{\\left( \\sum_j w_j \\right)^2} \\\\\n",
    "PSD(f_k) = \\frac{2}{f_s} \\frac{\\left| \\tilde{X}[k] \\right|^2}{\\sum_j w_j^2}\n",
    "$$\n",
    "The factor of 2 arises because one typically only considers the positive frequencies of the Fourier transform, while for an inverse transform which reconstitutes the original signal, both negative and positive frequencies (whose modulus is symmetric about 0) will be summed. For this reason, a straightforward FFT gives back the **amplitude** of a sine component as\n",
    "$$\n",
    "A(f_k) = \\frac{2}{N} \\left| \\tilde{X}[k] \\right|\n",
    "$$\n",
    "Chosing the $C^{th}$ element in the returned fft array, where $C$ is the number of cycles of the periodic signal:"
   ]
  },
  {
   "cell_type": "code",
   "execution_count": null,
   "metadata": {
    "collapsed": false,
    "deletable": true,
    "editable": true
   },
   "outputs": [],
   "source": [
    "p = np.fft.fft(x)[C]\n",
    "2 * abs(p) / N"
   ]
  },
  {
   "cell_type": "markdown",
   "metadata": {},
   "source": [
    "On the other hand, $PS$ and $PSD$ give the root mean square of the signal, which is related to the amplitude by a factor of $\\sqrt{2}$ for the sinusoids of a Fourier transform:\n",
    "$$\n",
    "A(f_k) = \\sqrt{2 PS(f_k)} \n",
    "$$\n",
    "This also shows that the [*numpy.fft.fft* implementation](https://docs.scipy.org/doc/numpy-1.12.0/reference/routines.fft.html) is not normalized in the forward transform, i.e.:\n",
    "$$\n",
    "\\tilde{X}[k] = \\sum_{n=0}^{N-1} x(t_n) e^{-2 \\pi i n k / N}.\n",
    "$$\n",
    "The *astropy.stats.LombScargle* implementation is normalized such that, with normalization='psd', it gives the same result as\n",
    "$$\n",
    "\\frac{\\left| \\tilde{X}[k] \\right|^2}{N}\n",
    "$$\n",
    "i.e. it gives $PSD$ without the $2\\times$ factor."
   ]
  },
  {
   "cell_type": "code",
   "execution_count": null,
   "metadata": {
    "collapsed": false,
    "deletable": true,
    "editable": true
   },
   "outputs": [],
   "source": [
    "f, P = fft(t, x)\n",
    "LS = LombScargle(t, x).power(f, normalization='psd')\n",
    "plt.figure(figsize=(10, 4))\n",
    "plt.subplot(1,2,1)\n",
    "plt.plot(f, P)\n",
    "plt.subplot(1,2,2)\n",
    "plt.plot(f, LS)"
   ]
  },
  {
   "cell_type": "markdown",
   "metadata": {},
   "source": [
    "To get amplitude from *astropy.stats.LombScargle*, one would need\n",
    "$$\n",
    "A(f_k) = 2 \\left( \\frac{PSD(f_k)}{N} \\right)^{1/2}\n",
    "$$"
   ]
  },
  {
   "cell_type": "code",
   "execution_count": null,
   "metadata": {
    "collapsed": false,
    "deletable": true,
    "editable": true
   },
   "outputs": [],
   "source": [
    "p = LombScargle(t, x).power(1, normalization='psd') # remember, frequency of the signal is 1\n",
    "2 * np.sqrt(p/N)"
   ]
  },
  {
   "cell_type": "markdown",
   "metadata": {
    "deletable": true,
    "editable": true
   },
   "source": [
    "On the other hand the *scipy.signal.periodogram* routine is normalized with the $2\\times$ factor, and can also be given $f_s$ directly as an argument."
   ]
  },
  {
   "cell_type": "code",
   "execution_count": null,
   "metadata": {
    "collapsed": false
   },
   "outputs": [],
   "source": [
    "f, P = sig.periodogram(x)\n",
    "fig = plt.figure(figsize=(10,4))\n",
    "plt.plot(f, P)\n",
    "plt.subplot(1,2,1)\n",
    "plt.plot(f, P)\n",
    "# N/C is sampling frequency\n",
    "f, PG = sig.periodogram(x, N/C)\n",
    "plt.subplot(1,2,2)\n",
    "plt.plot(f, PG)"
   ]
  },
  {
   "cell_type": "markdown",
   "metadata": {},
   "source": [
    "For amplitude, one therefore has, for *scipy.signal.periodogram*:\n",
    "$$\n",
    "A(f_k) = \\left(2 \\frac{PSD(f_k)}{N} \\right)^{1/2}\n",
    "$$"
   ]
  },
  {
   "cell_type": "code",
   "execution_count": null,
   "metadata": {
    "collapsed": false
   },
   "outputs": [],
   "source": [
    "f, pg = sig.periodogram(x)\n",
    "np.sqrt(2 * pg[C] / N)"
   ]
  },
  {
   "cell_type": "markdown",
   "metadata": {
    "deletable": true,
    "editable": true
   },
   "source": [
    "## Windowing\n",
    "\n",
    "### \"DFT-even\" and symmetric windows\n",
    "The *sym* option in SciPy's [window functions](https://docs.scipy.org/doc/scipy-0.18.1/reference/generated/scipy.signal.hann.html#scipy.signal.hann) produces, when set to *False* and the window length is even a \"DFT even\" (or \"periodic\") window, i.e. one with symmetry about a central point which attains the value 1, but with the first element set to 0. This is useful for DFTs because they have an implied periodicity: the result would be unchanged if an $(N+1)^{th}$ value identical to the $0^{th}$ value followed a sequence of $N$ (an even number) elements <cite data-cite=\"2031184/N92WUBJI\"></cite>. SciPy's implementation sets the first element of the window to zero, while Harris does it with last one - I don't know why.\n",
    "\n",
    "### Window coherent and incoherent gain \n",
    "The application of a window function reduces the *gain* of the resulting DFT, changing the amplitude estimates. The *coherent* gain refers to the gain of the sinusoidal signal and is given by\n",
    "$$\n",
    "S_1 = \\sum_j w_j\n",
    "$$\n",
    "in the nomenclature of <cite data-cite=\"2031184/A4NPSUMX\"></cite>. The *incoherent* gain refers to the gain experienced by the white noise and is given by\n",
    "$$\n",
    "S_2 = \\sum_j w_j^2\n",
    "$$\n",
    "and therefore\n",
    "$$\n",
    "ENBW = f_s \\frac{S_2}{(S_1)^2}.\n",
    "$$\n",
    "If we are interested in the power or amplitude spectrum, we normalize the windowed Fourier transform by $S_1$; if we are interested in the power spectral density, by $S_2$. **The sums already contain the normalization for different window lengths.**"
   ]
  },
  {
   "cell_type": "code",
   "execution_count": null,
   "metadata": {
    "collapsed": false,
    "deletable": true,
    "editable": true
   },
   "outputs": [],
   "source": [
    "def welch(t, x, n):\n",
    "    \"\"\"\n",
    "    Welch's method computes the average of the power spectra of windowed sub-sequences that\n",
    "    overlap by 50%. The window is a Hann window.\n",
    "    :param t: time sequence\n",
    "    :param y: signal sequence\n",
    "    :param n: number of non-overlapping subsequences (total number: 2n-1)\n",
    "    \"\"\"\n",
    "    N = len(x)\n",
    "    w = N // n # width\n",
    "    win = sig.hann(w, sym=False)\n",
    "    d = w // 2\n",
    "    m = np.mean([LombScargle(t[:w], x[j*d:j*d+w] * win).power(1, normalization='psd')\n",
    "        for j in range(2 * n - 1)])\n",
    "    # we normalize by 'S_1', but we also have to multiply by w ~ f_s\n",
    "    # since the computation by LombScargle already contains that factor\n",
    "    return 2 * np.sqrt(w * m) / np.sum(win)\n",
    "\n",
    "[welch(t, y, n) for n in [1,2,4,8,16]]"
   ]
  },
  {
   "cell_type": "markdown",
   "metadata": {
    "deletable": true,
    "editable": true
   },
   "source": [
    "As comparison, here the amplitude estimate from simple \"period folding\":"
   ]
  },
  {
   "cell_type": "code",
   "execution_count": null,
   "metadata": {
    "collapsed": false,
    "deletable": true,
    "editable": true
   },
   "outputs": [],
   "source": [
    "y = x.reshape((16,-1)).mean(0)\n",
    "(max(y) - min(y)) / 2"
   ]
  },
  {
   "cell_type": "markdown",
   "metadata": {},
   "source": [
    "Welch's original paper <cite data-cite=\"2031184/JJJBDPIV\"></cite> normalizes by $S_2$ but apparently not by $f_s$ (or $N$), which should result in a $PSD$ that depends on window size. Similarly, the *scipy.signal.welch* implementation gives window-size dependent results:"
   ]
  },
  {
   "cell_type": "code",
   "execution_count": null,
   "metadata": {
    "collapsed": false
   },
   "outputs": [],
   "source": [
    "[sig.welch(y, nperseg=n)[1][n//C] for n in [256, 128, 64, 32]]"
   ]
  },
  {
   "cell_type": "markdown",
   "metadata": {},
   "source": [
    "This is true independent on whether the frequency is given as argument:"
   ]
  },
  {
   "cell_type": "code",
   "execution_count": null,
   "metadata": {
    "collapsed": false
   },
   "outputs": [],
   "source": [
    "[sig.welch(y, fs=N/C, nperseg=n)[1][n//C] for n in [256, 128, 64, 32]]"
   ]
  },
  {
   "cell_type": "markdown",
   "metadata": {},
   "source": [
    "For a Hann window, the default for *scipy.signal.welch*, $S_2/S_1 = 3$, and the correct result for the amplitude (remember: $PS=PSD \\times ENBW$) is obtained by dividing by the window length and multiplying by 3:"
   ]
  },
  {
   "cell_type": "code",
   "execution_count": null,
   "metadata": {
    "collapsed": false
   },
   "outputs": [],
   "source": [
    "[3 * sig.welch(y, nperseg=n)[1][n//C] / n for n in [256, 128, 64, 32]]"
   ]
  },
  {
   "cell_type": "markdown",
   "metadata": {
    "deletable": true,
    "editable": true
   },
   "source": [
    "## Coherence\n",
    "Coherence of a raw DFT is always 1. Only when averaging over windows is employed can coherence be estimated. \n",
    "\n",
    "[The correct definition is](https://www.dsprelated.com/freebooks/mdft/Coherence_Function.html):\n",
    "$$\n",
    "\\hat{C}_{xy}(\\omega_k) = \\frac{\\left| \\left\\{ \\overline{X_m(\\omega_k)} Y_m(\\omega_k) \\right\\}_m \\right|^2}\n",
    "{\\left\\{ \\left| X_m(\\omega_k) \\right|^2 \\right\\}_m \\left\\{ \\left| Y_m(\\omega_k) \\right|^2 \\right\\}_m}\n",
    "$$\n",
    "\n",
    "where the overbar denotes complex conjugation and the curly brackets averaging over windows $m$. Note the respective order of taking averages and moduli. "
   ]
  }
 ],
 "metadata": {
  "cite2c": {
   "citations": {
    "2031184/A4NPSUMX": {
     "accessed": {
      "day": "22",
      "month": "5",
      "year": "2017"
     },
     "author": [
      {
       "family": "Heinzel",
       "given": "G"
      },
      {
       "family": "Rüdiger",
       "given": "A"
      },
      {
       "family": "Schilling",
       "given": "R"
      }
     ],
     "id": "2031184/A4NPSUMX",
     "issued": {
      "year": "2002"
     },
     "title": "Spectrum and spectral density estimation by the Discrete Fourier transform (DFT), including a comprehensive list of window functions and some new flat-top windows.",
     "type": "report"
    },
    "2031184/JJJBDPIV": {
     "author": [
      {
       "family": "Welch",
       "given": "Peter D"
      }
     ],
     "container-title": "IEEE Transactions on audio and electroacoustics",
     "id": "2031184/JJJBDPIV",
     "issue": "2",
     "issued": {
      "year": "1967"
     },
     "page": "70–73",
     "page-first": "70",
     "title": "The use of fast Fourier transform for the estimation of power spectra: A method based on time averaging over short, modified periodograms",
     "type": "article-journal",
     "volume": "15"
    },
    "2031184/N92WUBJI": {
     "author": [
      {
       "family": "Harris",
       "given": "Fredric J"
      }
     ],
     "container-title": "Proceedings of the IEEE",
     "id": "2031184/N92WUBJI",
     "issue": "1",
     "issued": {
      "year": "1978"
     },
     "page": "51–83",
     "page-first": "51",
     "title": "On the use of windows for harmonic analysis with the discrete Fourier transform",
     "type": "article-journal",
     "volume": "66"
    }
   }
  },
  "kernelspec": {
   "display_name": "Python 3",
   "language": "python",
   "name": "python3"
  },
  "language_info": {
   "codemirror_mode": {
    "name": "ipython",
    "version": 3
   },
   "file_extension": ".py",
   "mimetype": "text/x-python",
   "name": "python",
   "nbconvert_exporter": "python",
   "pygments_lexer": "ipython3",
   "version": "3.6.0"
  }
 },
 "nbformat": 4,
 "nbformat_minor": 2
}
