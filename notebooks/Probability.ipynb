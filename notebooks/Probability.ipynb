{
 "cells": [
  {
   "cell_type": "markdown",
   "metadata": {},
   "source": [
    "[Latex symbols](https://oeis.org/wiki/List_of_LaTeX_mathematical_symbols)"
   ]
  },
  {
   "cell_type": "markdown",
   "metadata": {},
   "source": [
    "## Joint and conditional probabilities"
   ]
  },
  {
   "cell_type": "markdown",
   "metadata": {},
   "source": [
    "#### Conditional Probability\n",
    "\n",
    "$$\n",
    "P(A|B) = \\frac{P(A \\cap B)}{P(B)}\n",
    "$$"
   ]
  },
  {
   "cell_type": "markdown",
   "metadata": {},
   "source": [
    "#### Conditional Expectation\n",
    "\n",
    "$$\n",
    "E(f|y) = \\int p(x|y) f(x) \\text{d}x\n",
    "$$"
   ]
  },
  {
   "cell_type": "markdown",
   "metadata": {},
   "source": [
    "####  Independence\n",
    "$A$ and $B$ are statistically independent ($A \\bot B$) iff:\n",
    "$$\n",
    "\\begin{align}\n",
    "P(A \\cap B) &= P(A) P(B) \\\\\n",
    "P(A|B) &= P(B|A)\n",
    "\\end{align}\n",
    "$$"
   ]
  },
  {
   "cell_type": "markdown",
   "metadata": {
    "collapsed": true
   },
   "source": [
    "#### Conditional Independence\n",
    "\n",
    "$A$ and $B$ are condiditionally independent  given $Y$ iff:\n",
    "$$\n",
    "\\begin{align}\n",
    "P(A \\cap B | Y) &= P(A | Y) P(B | Y) \\\\\n",
    "\\textsf{or, equivalently} \\quad P(A|B \\cap Y) &= P(A|Y)\n",
    "\\end{align}\n",
    "$$"
   ]
  },
  {
   "cell_type": "markdown",
   "metadata": {},
   "source": [
    "#### Fundamental Rule (aka product rule)\n",
    "\n",
    "$$\n",
    "\\begin{align}\n",
    "P(A,B) &= P(A|B) P(B)\\\\\n",
    "P(A, B | C) &= P(A|B, C) P(B|C)\n",
    "\\end{align}\n",
    "$$\n",
    "\n",
    "#### Chain Rule\n",
    "\n",
    "$$\n",
    "P(A_1, A_2, A_3, ..., A_n) = P(A_1|A_2, A_3, ..., A_n) P(A_2|A_3, ..., A_n) ... P(A_n)\n",
    "$$"
   ]
  },
  {
   "cell_type": "markdown",
   "metadata": {},
   "source": [
    "### Bayes' Rule\n",
    "$$\n",
    "\\begin{align}\n",
    "P(A|B) &= \\frac{P(B|A) P(A)}{P(B)} \\\\\n",
    "P(A_i|B) &= \\frac{P(B|A_i) P(A_i)}{\\sum_j P(B|A_j) P(A_j)}\n",
    "\\end{align}\n",
    "$$"
   ]
  },
  {
   "cell_type": "markdown",
   "metadata": {},
   "source": [
    "using\n",
    "\n",
    "#### Law of total Probability (aka sum rule)\n",
    "$$\n",
    "\\begin{align}\n",
    "P(B) &= \\sum_j P(B|A_j) P(A_j) \\quad \\textsf{for a partition ${A_j}$ of the sample space} \\\\\n",
    "\\textsf{for continuous variables:}\\\\\n",
    "p(x) &= \\int p(x,y) \\text{d}y\n",
    "\\end{align}\n",
    "$$"
   ]
  },
  {
   "cell_type": "markdown",
   "metadata": {},
   "source": [
    "## Various"
   ]
  },
  {
   "cell_type": "markdown",
   "metadata": {},
   "source": [
    "### Lagrange Multiplier"
   ]
  },
  {
   "cell_type": "markdown",
   "metadata": {},
   "source": [
    "maximize $f(x_1, \\ldots, x_n)$   \n",
    "subject to $g_k(x_1, \\ldots, x_n) = 0, \\quad k = 1, \\ldots, M$\n",
    "\n",
    "by forming the *Lagrangian*:\n",
    "$$\n",
    "\\mathcal{L}(x_1, \\ldots, x_n, \\lambda_1, \\ldots, \\lambda_M) = f(x_1, \\ldots, x_n) - \\sum_{k=1}^M \\lambda_k g_k(x_1, \\ldots, x_n)\n",
    "$$\n",
    "\n",
    "and solving:\n",
    "$$\n",
    "\\nabla \\mathcal{L} = 0\n",
    "$$"
   ]
  },
  {
   "cell_type": "markdown",
   "metadata": {},
   "source": [
    "### Entropy\n",
    "\n",
    "#### Discrete\n",
    "$$\n",
    "H[x] = - \\sum_x p(x) \\ln p(x)\n",
    "$$\n",
    "\n",
    "#### Differential\n",
    "$$\n",
    "H[x] = - \\int p(x) \\ln p(x) \\text{d}x\n",
    "$$\n",
    "\n",
    "#### Conditional\n",
    "$$\n",
    "\\begin{align}\n",
    "H[x|y] &= - \\int p(x, y) \\ln p(x|y) \\text{d}x\\text{d}y \\\\\n",
    "H[x, y] &= H[x|y] + H[y]\n",
    "\\end{align}\n",
    "$$"
   ]
  },
  {
   "cell_type": "markdown",
   "metadata": {},
   "source": [
    "### Jensen's inequality\n",
    "\n",
    "for a convex function $f(x)$:\n",
    "$$\n",
    "\\begin{align}\n",
    "f \\left(\\sum_i \\lambda_i x_i \\right) &\\leq \\sum_i \\lambda_i f(x_i) \\quad \\text{for any set }\\{ x_i \\} \\\\\n",
    "f \\left( \\int x p(x) \\text{d}x \\right) &\\leq \\int f(x) p(x) \\text{d}x \\\\\n",
    "\\textsf{equivalently,} \\quad f(E[x]) &\\leq E[f(x)]\n",
    "\\end{align}\n",
    "$$"
   ]
  },
  {
   "cell_type": "code",
   "execution_count": null,
   "metadata": {
    "collapsed": true
   },
   "outputs": [],
   "source": []
  }
 ],
 "metadata": {
  "kernelspec": {
   "display_name": "Python 3",
   "language": "python",
   "name": "python3"
  },
  "language_info": {
   "codemirror_mode": {
    "name": "ipython",
    "version": 3
   },
   "file_extension": ".py",
   "mimetype": "text/x-python",
   "name": "python",
   "nbconvert_exporter": "python",
   "pygments_lexer": "ipython3",
   "version": "3.6.2"
  }
 },
 "nbformat": 4,
 "nbformat_minor": 2
}
