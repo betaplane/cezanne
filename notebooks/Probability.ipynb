{
 "cells": [
  {
   "cell_type": "markdown",
   "metadata": {},
   "source": [
    "## Joint and conditional probabilities\n",
    "\n",
    "#### Fundamental Rule\n",
    "\n",
    "$$ \n",
    "P(A,B) = P(A|B) P(B)\\\\\n",
    "P(A, B | C) = P(A|B, C) P(B|C)\n",
    "$$\n",
    "\n",
    "#### Chain Rule\n",
    "\n",
    "$$\n",
    "P(A_1, A_2, A_3, ..., A_n) = P(A_1|A_2, A_3, ..., A_n) P(A_2|A_3, ..., A_n) ... P(A_n)\n",
    "$$"
   ]
  },
  {
   "cell_type": "code",
   "execution_count": null,
   "metadata": {
    "collapsed": false
   },
   "outputs": [],
   "source": []
  }
 ],
 "metadata": {
  "kernelspec": {
   "display_name": "Python 3",
   "language": "python",
   "name": "python3"
  },
  "language_info": {
   "codemirror_mode": {
    "name": "ipython",
    "version": 3
   },
   "file_extension": ".py",
   "mimetype": "text/x-python",
   "name": "python",
   "nbconvert_exporter": "python",
   "pygments_lexer": "ipython3",
   "version": "3.6.0"
  }
 },
 "nbformat": 4,
 "nbformat_minor": 2
}
