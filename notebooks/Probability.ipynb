{
 "cells": [
  {
   "cell_type": "markdown",
   "metadata": {},
   "source": [
    "[Latex symbols](https://oeis.org/wiki/List_of_LaTeX_mathematical_symbols)"
   ]
  },
  {
   "cell_type": "markdown",
   "metadata": {},
   "source": [
    "## Joint and conditional probabilities"
   ]
  },
  {
   "cell_type": "markdown",
   "metadata": {},
   "source": [
    "#### Conditional Probability\n",
    "\n",
    "$$\n",
    "P(A|B) = \\frac{P(A \\cap B)}{P(B)}\n",
    "$$"
   ]
  },
  {
   "cell_type": "markdown",
   "metadata": {},
   "source": [
    "####  Independence\n",
    "$A$ and $B$ are statistically independent ($A \\bot B$) iff:\n",
    "$$\n",
    "\\begin{align}\n",
    "P(A \\cap B) &= P(A) P(B) \\\\\n",
    "P(A|B) &= P(B|A)\n",
    "\\end{align}\n",
    "$$"
   ]
  },
  {
   "cell_type": "markdown",
   "metadata": {
    "collapsed": true
   },
   "source": [
    "#### Conditional Independence\n",
    "\n",
    "$A$ and $B$ are condiditionally independent  given $Y$ iff:\n",
    "$$\n",
    "\\begin{align}\n",
    "P(A \\cap B | Y) &= P(A | Y) P(B | Y) \\\\\n",
    "\\textsf{or, equivalently} \\quad P(A|B \\cap Y) &= P(A|Y)\n",
    "\\end{align}\n",
    "$$"
   ]
  },
  {
   "cell_type": "markdown",
   "metadata": {},
   "source": [
    "#### Fundamental Rule\n",
    "\n",
    "$$\n",
    "\\begin{align}\n",
    "P(A,B) &= P(A|B) P(B)\\\\\n",
    "P(A, B | C) &= P(A|B, C) P(B|C)\n",
    "\\end{align}\n",
    "$$\n",
    "\n",
    "#### Chain Rule\n",
    "\n",
    "$$\n",
    "P(A_1, A_2, A_3, ..., A_n) = P(A_1|A_2, A_3, ..., A_n) P(A_2|A_3, ..., A_n) ... P(A_n)\n",
    "$$"
   ]
  },
  {
   "cell_type": "markdown",
   "metadata": {},
   "source": [
    "### Bayes' Rule\n",
    "$$\n",
    "\\begin{align}\n",
    "P(A|B) &= \\frac{P(B|A) P(A)}{P(B)} \\\\\n",
    "P(A_i|B) &= \\frac{P(B|A_i) P(A_i)}{\\sum_j P(B|A_j) P(A_j)}\n",
    "\\end{align}\n",
    "$$"
   ]
  },
  {
   "cell_type": "markdown",
   "metadata": {},
   "source": [
    "using\n",
    "\n",
    "#### Law of total Probability\n",
    "$$\n",
    "P(B) = \\sum_j P(B|A_j) P(A_j) \\quad \\textsf{for a partition ${A_j}$ of the sample space}\n",
    "$$"
   ]
  },
  {
   "cell_type": "code",
   "execution_count": null,
   "metadata": {
    "collapsed": true
   },
   "outputs": [],
   "source": []
  }
 ],
 "metadata": {
  "kernelspec": {
   "display_name": "Python 3",
   "language": "python",
   "name": "python3"
  },
  "language_info": {
   "codemirror_mode": {
    "name": "ipython",
    "version": 3
   },
   "file_extension": ".py",
   "mimetype": "text/x-python",
   "name": "python",
   "nbconvert_exporter": "python",
   "pygments_lexer": "ipython3",
   "version": "3.6.2"
  }
 },
 "nbformat": 4,
 "nbformat_minor": 2
}
