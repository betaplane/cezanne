{
 "cells": [
  {
   "cell_type": "markdown",
   "metadata": {},
   "source": [
    "# Practicalities\n",
    "\n",
    "## Conda\n",
    "\n",
    "[Conda](https://docs.conda.io/en/latest/) is a combined package and environment manager with a focus on Python (but not exclusively so anymore). \"Environments\" have been part of the Python microcosmos for some time and in various incarnations; the idea is to \"isolate\" as much as possible one particular installation of Python, including an interpreter and any possibly installed third-party extensions. An environment consists of a folder inside of which the typical Linux file system structure is replicated.\n",
    "\n",
    "Environments need to be\n",
    "- created (once)\n",
    "- activated (every time you want to use them)\n",
    "\n",
    "The rationale for using these \"quarantined zones\" is that it is quite common to have several different versions of Python interpreters (we will talk about what that is shortly) installed on your system, with various levels of restrictions. Most operating systems these days come with a Python interpreter pre-instaled, so that in principle you could just use that one. However, in some cases (e.g. MacOS), the built-in Python is a special version with OS-specific capabilities (on the Mac, you could use Python together with the built-in version to write full-fledged MacOS GUI applications), but also limitations, e.g. on where you can install third-party libraries. On MacOS, the relatively new \"System Integrity Protection (SIP)\" means you can't install libraries in the places Python would like to install them, resulting in all kind of workarounds becoming necessary. Also, you might sometimes want a really brand-new version of Python, which is also not likely to be the one that comes with your OS.\n",
    "\n",
    "It should maybe be pointed out that if you're using a Conda environmnet (i.e. a folder, typically in a specific place within the file system tree in which Conda itself resides), that does not mean everything you work on has to happen inside that folder - far from it. Personally, I leave these environment folders completely untouched and put my code in some other place.\n",
    "\n",
    "When you **activate** and environment, this simply means that a few file system paths are placed before any others onto the search path, both for the general shell environment and Python itself.\n",
    "\n",
    "With that background, here a couple of examples:\n",
    "\n",
    "1. Create an environment:\n",
    "```\n",
    "conda create -n <name>\n",
    "```\n",
    "\n",
    "2. Activate an environmnet:\n",
    "```\n",
    "conda activate <name>\n",
    "```\n",
    "\n",
    "3. Install a third-party module\n",
    "```\n",
    "conda install [-c <channel>] <name>\n",
    "```\n",
    "\n",
    "Note that if an environment is activated, the install command will install **into the activate environment.** Otherwise, you can give it a `-n` switch to tell it into which environment to install.\n",
    "\n",
    "## Jupyter / IPython\n",
    "\n",
    "The [Jupyter](https://jupyter.org/) set of tools consists of several \"frontends\" to work interactively with Python, of which I will briefly mentione 2: the [console](https://jupyter-console.readthedocs.io/en/stable/), and the [notebook](https://jupyter-notebook.readthedocs.io/en/stable/index.html).\n",
    "\n",
    "### Console\n",
    "\n",
    "The console (`jupyter console`) and [IPython](https://ipython.readthedocs.io/en/stable/) are identical in that the Jupyter console internally uses IPython as the outward-facing frontend. IPython stands for \"interactive Python\" and is a REPL shell similar to the one built into the Python interpreter, but with enhanced capabilities (better tab completions, history, post-mortem debugger and many others). The difference between evoking `ipython` and `jupyter console` on the command line is that Jupyter separates the frontend from the Python \"kernel\", allowing several frontends (e.g. both a console and a notebook) to connected to the same kernel.\n",
    "\n",
    "### Notebook\n",
    "\n",
    "... is what we're using right now, and hopefully you will get a sense of how they work as we go along.\n",
    "\n",
    "### A trick for all of the above\n",
    "\n",
    "One particularly useful trick for IPython / Jupyter is the following: use `_` (single underscore) to refer to the result from the previous line, and `__` (double underscore) for the one before that (I believe in Matlab you could use `ans` or something along those lines). In fact, all results are kept in the list `Out` and can be referenced again later by index (e.g. `Out[243]`) as indicated at the beginning of each line of output (see below)."
   ]
  },
  {
   "cell_type": "markdown",
   "metadata": {},
   "source": [
    "# Introduction\n",
    "\n",
    "Python, as a language, is\n",
    "- interpreted language\n",
    "- dynamically typed\n",
    "\n",
    "## Compilers vs. Interpreters\n",
    "\n",
    "A **compiler** is a program that takes source code as input and produces an **executable** file which can be loaded and run directly by a computer's operating system. The compiler is typically specific to a particular computing platform and produces (in general) only executables for that particular platform.\n",
    "\n",
    "An **interpreter** is a program that takes a text file which contains programmatic statements and exectues them immediately. The interpreter, like the compiler, is specific to a particular platform. \n",
    "\n",
    "In both cases, the code is (more or less) independent of the platform, but in the case of an interpreted language, it can be executed immediately on any platform, as long as a corresponding interpreter is available.\n",
    "\n",
    "The program you usually call be executing `python` on the command line is the Python interpreter. Like with some, but by no means all, other scripting languages, the Python interpreter doubles as a **\"shell\"**. That is, there are two fundamental modes of working with Python:\n",
    "\n",
    "1. run a script: `python script.py`\n",
    "2. work interactively (**'REPL'**): `python`\n",
    "\n",
    "The terms 'interpreted language' and 'scripting language' are synonymous (I think). 'Shells' such as *bash* work essentially in the same way as Python.\n",
    "\n",
    "### A note on running scripts in general (which you'll probably never do...)\n",
    "\n",
    "In general, script files of all kinds can be executed on \\*nix architectures by setting the right permissions (`chmod 755 script.py`) and calling them with the `./` prefix. For the operating system to know which interpreter to invoke, you can give the script a **\"shebang\"** line at the very top:\n",
    "```python\n",
    "#!/usr/bin/env python\n",
    "```\n",
    "This is not needed if you call the script excplicitely with the Python interpreter:\n",
    "```python\n",
    "python script.py\n",
    "```\n",
    "The shebang line can be useful if you want to make sure the script gets executed by a specific Python interpreter, e.g. one associated with a specific *conda* environment:\n",
    "```python\n",
    "#!/path/to/a/specific/python\n",
    "```\n",
    "\n",
    "(The line `#!/usr/bin/env python` actually asks the current shell environement for the location of the Python interpreter and will substitute the correct one if a particular conda environment is activated.)\n",
    "\n",
    "\n",
    "## What is a variable?\n",
    "### in mathematics:\n",
    "- a symbol which we imagine to be able to take on an arbitrary value\n",
    "    - sometimes, it stands for *all* the values it can take on\n",
    "    - sometimes, it stands for *a particular* value which we don't know explicitely\n",
    "\n",
    "### in programming:\n",
    "- a memory location that holds a given value at a given time\n",
    "- that can be overwritten with a different value at any time\n",
    "\n",
    "Many programming languages require you to **declare** variables before you can use them. That means in particular:\n",
    "- declare the variable to be of a certain **type**\n",
    "- declare the variable **\"shape\"** (in the case of **arrays**)\n",
    "- in the case of static memory allocation, also the **size**\n",
    "\n",
    "Python does not require you to declare variables; instead, it **infers** a lot of what it needs to know:"
   ]
  },
  {
   "cell_type": "code",
   "execution_count": 2,
   "metadata": {},
   "outputs": [],
   "source": [
    "# This statements assigns the value '5' to the name 'a'\n",
    "a = 5"
   ]
  },
  {
   "cell_type": "markdown",
   "metadata": {},
   "source": [
    "Btw, the line starting with `#` above is a **comment** - text that is ignored by the Python interpreter."
   ]
  },
  {
   "cell_type": "code",
   "execution_count": 4,
   "metadata": {},
   "outputs": [
    {
     "data": {
      "text/plain": [
       "int"
      ]
     },
     "execution_count": 4,
     "metadata": {},
     "output_type": "execute_result"
    }
   ],
   "source": [
    "# Python infers that the number should be interpreted as an integer\n",
    "type(a)"
   ]
  },
  {
   "cell_type": "code",
   "execution_count": 5,
   "metadata": {},
   "outputs": [
    {
     "data": {
      "text/plain": [
       "float"
      ]
     },
     "execution_count": 5,
     "metadata": {},
     "output_type": "execute_result"
    }
   ],
   "source": [
    "# If you wanted it to be represented as a float, you would write\n",
    "a = 5.\n",
    "type(a)"
   ]
  },
  {
   "cell_type": "markdown",
   "metadata": {},
   "source": [
    "Unlike in other scripting languages, you don't even have to declare that `a` **is** a variable. In JavaScript, for example, you'd have to write:\n",
    "```javascript\n",
    "var a = 5\n",
    "```\n",
    "\n",
    "Moreover, you can assign variables at any given place in a script or module, unlike in some compiled languages which require you to declare all variables at the beginning of a program. The reason why compiled languages often require you to declare variables at the beginning of the program is because the operating system needs to know how much memory the program requires to run. Any variable defined in the program takes up a memory location. \n",
    "\n",
    "## Memory allocation and garbage collection\n",
    "\n",
    "A program can also request memory from the operating system while it is already running: this is called **dynamic memory allocation** and is pretty much how most programs operate nowadays. In fact, under the hood, Python needs to request memory from the operating system every time you type something like `a = 5`.\n",
    "\n",
    "Of course, dynamically allocated memory also needs to be freed again at some point, lest a program keep eating up more and more of the computer's available RAM (if that happens, it is called a *memory leak*). While many compiled programming languages require you to do the work of deallocating memory again yourself, Python uses **garbage collection** - it deallocates memory automatically if it determines it is no longer needed (how it does that is certainly beyond an introduction and need not concern you). \n",
    "\n",
    "(As a side note: statically declared variables do not need to be deallocated even in compiled languages; dynamic allocation is usually exclusively used for **arrays** of variables, a concept we will get to later.)\n",
    "\n",
    "## Automatic typecasting\n",
    "\n",
    "We have seen above that Python has a concept called **\"type\"** - e.g. a number can be a `float` or an `int`, and there are other basice types such as strings (`str`). Any memory location holds only a sequence of `0`s and `1`s, and in order for such sequences to \"mean\" anything, knowledge of what is represented is necessary; such knowledge is represented by the informations **\"type\"**. The same binary sequence in computer memory may represent different numbers depending on whether its associated type is \"integer\" or \"floating point\", and re-interpreted as a character, it will most obviously correspond to something completely different.\n",
    "\n",
    "Luckily, in Python, we don't need to worry about that. With other languages, a problem might arise if we tried to perform a mathematical operation on differently typed numbers:"
   ]
  },
  {
   "cell_type": "code",
   "execution_count": 10,
   "metadata": {},
   "outputs": [
    {
     "data": {
      "text/plain": [
       "3.5"
      ]
     },
     "execution_count": 10,
     "metadata": {},
     "output_type": "execute_result"
    }
   ],
   "source": [
    "1 + 2.5"
   ]
  },
  {
   "cell_type": "markdown",
   "metadata": {},
   "source": [
    "Even though we saw before that Python automatically assigns the type `int` to the a number typed as `1` and the type `float` to a number typed as `2.5`, it does not complain when we try to add them. Instead, it realizes that it needs to **cast** the number `1` to a `float` before adding it to `2.5`.\n",
    "\n",
    "As a result, Python is incrediblty convenient to use - we hardly need to think more deeply about what we're doing. Nonetheless, it is often the case that errors arise from insufficient understanding of what's going on behind the scenes.\n",
    "\n",
    "On final example of the `float`/`int` issue:"
   ]
  },
  {
   "cell_type": "code",
   "execution_count": 13,
   "metadata": {},
   "outputs": [
    {
     "data": {
      "text/plain": [
       "1.5"
      ]
     },
     "execution_count": 13,
     "metadata": {},
     "output_type": "execute_result"
    }
   ],
   "source": [
    "3 / 2"
   ]
  },
  {
   "cell_type": "markdown",
   "metadata": {},
   "source": [
    "The operator `/` corresponds to division as we would normally understand it. Note, though, that both `1` and `2` are `int`s, whereas the result needs to be a `float` - again Python does the correct thing.\n",
    "\n",
    "There is however another operator, `//`, which corresponds to \"integer divison\" (i.e. an integer result without the \"remainder\"):"
   ]
  },
  {
   "cell_type": "code",
   "execution_count": 14,
   "metadata": {},
   "outputs": [
    {
     "data": {
      "text/plain": [
       "1"
      ]
     },
     "execution_count": 14,
     "metadata": {},
     "output_type": "execute_result"
    }
   ],
   "source": [
    "3 // 2"
   ]
  },
  {
   "cell_type": "markdown",
   "metadata": {},
   "source": [
    "Its result is again an `int`:"
   ]
  },
  {
   "cell_type": "code",
   "execution_count": 15,
   "metadata": {},
   "outputs": [
    {
     "data": {
      "text/plain": [
       "int"
      ]
     },
     "execution_count": 15,
     "metadata": {},
     "output_type": "execute_result"
    }
   ],
   "source": [
    "type(3 // 2)"
   ]
  },
  {
   "cell_type": "markdown",
   "metadata": {},
   "source": [
    "## Mathematical operators in Python\n",
    "\n",
    "The following operators are available:\n",
    "- `+`, `-`, `*`, `/` - with the usual meaning\n",
    "- `**` represents exponentiation\n",
    "- `1j` represents the imaginary unit ($\\sqrt{-1}$)\n",
    "- `//` represents integer division and `%` the modulo operator (returns the remainder)"
   ]
  },
  {
   "cell_type": "code",
   "execution_count": 18,
   "metadata": {},
   "outputs": [
    {
     "data": {
      "text/plain": [
       "1"
      ]
     },
     "execution_count": 18,
     "metadata": {},
     "output_type": "execute_result"
    }
   ],
   "source": [
    "3 % 2"
   ]
  },
  {
   "cell_type": "markdown",
   "metadata": {},
   "source": [
    "# Functions (1)\n",
    "\n",
    "Functions take arguments and return values; we will refine this concept as we go along."
   ]
  },
  {
   "cell_type": "code",
   "execution_count": 19,
   "metadata": {},
   "outputs": [],
   "source": [
    "def pourquoi(pas):\n",
    "    return pas"
   ]
  },
  {
   "cell_type": "markdown",
   "metadata": {},
   "source": [
    "The keyword `def` tells the Python interpreter that what follows is a function definition; `pourquoi` is the name of the function, and `pas` is its argument. The name of the function and of the arguments is completely up to you.\n",
    "\n",
    "The function `pourquoi` does nothing but return its argument, whatever that may be:"
   ]
  },
  {
   "cell_type": "code",
   "execution_count": 23,
   "metadata": {},
   "outputs": [
    {
     "data": {
      "text/plain": [
       "5"
      ]
     },
     "execution_count": 23,
     "metadata": {},
     "output_type": "execute_result"
    }
   ],
   "source": [
    "pourquoi(5) # an int"
   ]
  },
  {
   "cell_type": "code",
   "execution_count": null,
   "metadata": {},
   "outputs": [],
   "source": [
    "pourquoi(3.14) # a float"
   ]
  },
  {
   "cell_type": "code",
   "execution_count": 24,
   "metadata": {},
   "outputs": [
    {
     "data": {
      "text/plain": [
       "'moi'"
      ]
     },
     "execution_count": 24,
     "metadata": {},
     "output_type": "execute_result"
    }
   ],
   "source": [
    "pourquoi('moi') # a string"
   ]
  },
  {
   "cell_type": "markdown",
   "metadata": {},
   "source": [
    "# Python style elements (1)\n",
    "\n",
    "## 1. Indentation\n",
    "\n",
    "Now that we have seen a function definition, some comments on Python syntax are in order.\n",
    "\n",
    "Programming languages usually need a way to express that a number of code lines belong together - e.g. the body of a function. Such functionally coherent pieces of code are usually called \"blocks\" and occur naturally in a variety of circumstances which we will encounter in due course. \n",
    "\n",
    "Many languages use parentheses/brackets to surround blocks of code; Python uses **indentation**. Lines of code which are indented with respect to preceding ones belong to a block. This grew out of programmers' practice to indent code in order to make it more legible (parentheses get very confusing very quickly - try *Lisp* for a taste!).\n",
    "\n",
    "In Python, this practice has been turned into a **functional** element of the syntax. **<span style=\"color:red\">It does not matter what characters (tab or spaces) you use to indent your code - <span style=\"color:green\">but</span> it must be consistent across your file.</span>\n",
    "**\n",
    "\n",
    "The other element of style to note is the **colon** after the first line of the function definition. I don't think indented code blocks in Python ever occur without the colon, and it probably is simply another element meant to make the code more readable to humans (i.e. signify that what follows is a function definition).\n",
    "\n",
    "## 2. Quoted strings\n",
    "\n",
    "If you executed our function in the following way"
   ]
  },
  {
   "cell_type": "code",
   "execution_count": 25,
   "metadata": {},
   "outputs": [
    {
     "ename": "NameError",
     "evalue": "name 'moi' is not defined",
     "output_type": "error",
     "traceback": [
      "\u001b[0;31m---------------------------------------------------------------------------\u001b[0m",
      "\u001b[0;31mNameError\u001b[0m                                 Traceback (most recent call last)",
      "\u001b[0;32m<ipython-input-25-3b7f18943167>\u001b[0m in \u001b[0;36m<module>\u001b[0;34m()\u001b[0m\n\u001b[0;32m----> 1\u001b[0;31m \u001b[0mpourquoi\u001b[0m\u001b[0;34m(\u001b[0m\u001b[0mmoi\u001b[0m\u001b[0;34m)\u001b[0m\u001b[0;34m\u001b[0m\u001b[0m\n\u001b[0m",
      "\u001b[0;31mNameError\u001b[0m: name 'moi' is not defined"
     ]
    }
   ],
   "source": [
    "pourquoi(moi)"
   ]
  },
  {
   "cell_type": "markdown",
   "metadata": {},
   "source": [
    "you get an error message. Unlike before, we didn't quote the `moi` this time. Unquoted names in Python refer to variables and other objects (definition forthcoming) which reside in the computer's memory; but `moi` has never been defined before.\n",
    "\n",
    "To be precise, Python has, again, interpreted what we wanted to do automatically. We could also have written:"
   ]
  },
  {
   "cell_type": "code",
   "execution_count": 26,
   "metadata": {},
   "outputs": [
    {
     "data": {
      "text/plain": [
       "'moi'"
      ]
     },
     "execution_count": 26,
     "metadata": {},
     "output_type": "execute_result"
    }
   ],
   "source": [
    "a = 'moi'\n",
    "pourquoi(a)"
   ]
  },
  {
   "cell_type": "markdown",
   "metadata": {},
   "source": [
    "In fact, we could use:"
   ]
  },
  {
   "cell_type": "code",
   "execution_count": 28,
   "metadata": {},
   "outputs": [
    {
     "data": {
      "text/plain": [
       "'toi'"
      ]
     },
     "execution_count": 28,
     "metadata": {},
     "output_type": "execute_result"
    }
   ],
   "source": [
    "moi = 'toi'\n",
    "pourquoi(moi)"
   ]
  },
  {
   "cell_type": "markdown",
   "metadata": {},
   "source": [
    "**Now** we have defined `moi`; we have assigned the *string* \"toi\" to the variable `moi`. As mentioned before, strings have the type `str` in Python:"
   ]
  },
  {
   "cell_type": "code",
   "execution_count": 29,
   "metadata": {},
   "outputs": [
    {
     "data": {
      "text/plain": [
       "str"
      ]
     },
     "execution_count": 29,
     "metadata": {},
     "output_type": "execute_result"
    }
   ],
   "source": [
    "type(moi)"
   ]
  },
  {
   "cell_type": "markdown",
   "metadata": {},
   "source": [
    "Strings are denoted by surrounding them with quotes. **<span style=\"color:red\">It does not matter whether you use single or double quotes.</span>**\n",
    "\n",
    "If you need to quote something **inside** a quote, use the respective other type of quote character, i.e. `\"'this' being quoted\"` is equivalent to `'\"this\" being quoted'`. (If more levels of quoting are necessary, it usually depends on the particular purpose what kind of *\"escaping\"* needs to be applied.)\n",
    "\n",
    "## 3. Comments\n",
    "\n",
    "If you want to comment your code, use the character `#`. Everything between the `#` and the end of the line will be ignored by the interpreter. (I.e. you can use it at the beginning of the line, but also after some code; there is no multiline-comment in Python.)\n",
    "\n",
    "## 4. `None`\n",
    "\n",
    "Many languages have a special keyword reserved to denote \"nothing\" (often, it is called `null` or variants thereof). In Python, the \"nothing\" keyword is `None` (with capital \"N\"). We will see it in the wild shortly.\n",
    "\n",
    "## 5. Capitalization\n",
    "\n",
    "Capitalization matters in the sense that the name `A` and the name `a` will refer to distinct entities. However, in terms of \"style\", you are free to use capital and lower-case letters in any combination you desire.\n",
    "\n",
    "## 6. Whitespace\n",
    "\n",
    "Whitespace is ignored - places as many or as few spaces between other language elements as you like:"
   ]
  },
  {
   "cell_type": "code",
   "execution_count": 30,
   "metadata": {},
   "outputs": [
    {
     "data": {
      "text/plain": [
       "5"
      ]
     },
     "execution_count": 30,
     "metadata": {},
     "output_type": "execute_result"
    }
   ],
   "source": [
    "a=5\n",
    "a"
   ]
  },
  {
   "cell_type": "code",
   "execution_count": 32,
   "metadata": {},
   "outputs": [
    {
     "data": {
      "text/plain": [
       "7"
      ]
     },
     "execution_count": 32,
     "metadata": {},
     "output_type": "execute_result"
    }
   ],
   "source": [
    "a                           =                          7\n",
    "a"
   ]
  },
  {
   "cell_type": "markdown",
   "metadata": {},
   "source": [
    "# Functions (2)\n",
    "\n",
    "Your function can have an arbitrary number of elements:"
   ]
  },
  {
   "cell_type": "code",
   "execution_count": 33,
   "metadata": {},
   "outputs": [],
   "source": [
    "def func(a, b):\n",
    "    return a + b"
   ]
  },
  {
   "cell_type": "markdown",
   "metadata": {},
   "source": [
    "Functions often return a value (its *return value*). In other languages, something that doesn't return a value but is \"called\" in the same way as a function is usually called a *subroutine*. Python keeps things simple and only uses one concept. The return value of the function is denoted, inside the function definition, by the keyword `return`. If your function is really a subroutine, you can just leave out the `return`, although, in that case, Python will automatically return the value `None` (another reserved word in Python). You could also explicitely write `return None`.\n",
    "\n",
    "Btw, the return value of a function can (obviously) be assigned to a variable:"
   ]
  },
  {
   "cell_type": "code",
   "execution_count": 34,
   "metadata": {},
   "outputs": [
    {
     "data": {
      "text/plain": [
       "7"
      ]
     },
     "execution_count": 34,
     "metadata": {},
     "output_type": "execute_result"
    }
   ],
   "source": [
    "c = func(3, 4)\n",
    "c"
   ]
  },
  {
   "cell_type": "markdown",
   "metadata": {},
   "source": [
    "A little example of what is **not** possible:"
   ]
  },
  {
   "cell_type": "code",
   "execution_count": 35,
   "metadata": {},
   "outputs": [
    {
     "ename": "TypeError",
     "evalue": "unsupported operand type(s) for +: 'int' and 'str'",
     "output_type": "error",
     "traceback": [
      "\u001b[0;31m---------------------------------------------------------------------------\u001b[0m",
      "\u001b[0;31mTypeError\u001b[0m                                 Traceback (most recent call last)",
      "\u001b[0;32m<ipython-input-35-a71a1a8b5003>\u001b[0m in \u001b[0;36m<module>\u001b[0;34m()\u001b[0m\n\u001b[0;32m----> 1\u001b[0;31m \u001b[0mfunc\u001b[0m\u001b[0;34m(\u001b[0m\u001b[0;36m3\u001b[0m\u001b[0;34m,\u001b[0m \u001b[0;34m'word'\u001b[0m\u001b[0;34m)\u001b[0m\u001b[0;34m\u001b[0m\u001b[0m\n\u001b[0m",
      "\u001b[0;32m<ipython-input-33-33723f3dd93d>\u001b[0m in \u001b[0;36mfunc\u001b[0;34m(a, b)\u001b[0m\n\u001b[1;32m      1\u001b[0m \u001b[0;32mdef\u001b[0m \u001b[0mfunc\u001b[0m\u001b[0;34m(\u001b[0m\u001b[0ma\u001b[0m\u001b[0;34m,\u001b[0m \u001b[0mb\u001b[0m\u001b[0;34m)\u001b[0m\u001b[0;34m:\u001b[0m\u001b[0;34m\u001b[0m\u001b[0m\n\u001b[0;32m----> 2\u001b[0;31m     \u001b[0;32mreturn\u001b[0m \u001b[0ma\u001b[0m \u001b[0;34m+\u001b[0m \u001b[0mb\u001b[0m\u001b[0;34m\u001b[0m\u001b[0m\n\u001b[0m",
      "\u001b[0;31mTypeError\u001b[0m: unsupported operand type(s) for +: 'int' and 'str'"
     ]
    }
   ],
   "source": [
    "func(3, 'word')"
   ]
  },
  {
   "cell_type": "markdown",
   "metadata": {},
   "source": [
    "The function takes two arguments and adds them; naturally, strings and numbers really can't be added together even with automatic typecasting (there's no way to turn a string into a number in the same way an `int` can be re-interpreted as a `float`). Python therefore throws a correspondingly named `TypeError`.\n",
    "\n",
    "## Function arguments\n",
    "\n",
    "There are two ways of handing arguments to functions in Python:\n",
    "1. as an ordered sequence\n",
    "2. with \"keywords\"\n",
    "\n",
    "In the first case, Python looks at the order in which the arguments appear in both the definition and the later call in order to determine which is which:"
   ]
  },
  {
   "cell_type": "code",
   "execution_count": 36,
   "metadata": {},
   "outputs": [
    {
     "name": "stdout",
     "output_type": "stream",
     "text": [
      "First argument: one, second argument: 2, third argument: 3.0\n"
     ]
    }
   ],
   "source": [
    "def func(arg1, arg2, arg3):\n",
    "    # 'print()' and 'format()' are built-in functions - later :P\n",
    "    print(\"First argument: {}, second argument: {}, third argument: {}\".format(arg1, arg2, arg3))\n",
    "    \n",
    "func('one', 2, 3.)"
   ]
  },
  {
   "cell_type": "markdown",
   "metadata": {},
   "source": [
    "With the same function definition, you could use the names you have given your function's arguments when you call it:"
   ]
  },
  {
   "cell_type": "code",
   "execution_count": 38,
   "metadata": {},
   "outputs": [
    {
     "name": "stdout",
     "output_type": "stream",
     "text": [
      "First argument: zwei, second argument: eins, third argument: drei\n"
     ]
    }
   ],
   "source": [
    "func(arg2='eins', arg1='zwei', arg3='drei')"
   ]
  },
  {
   "cell_type": "markdown",
   "metadata": {},
   "source": [
    "In which case the order doesn't matter anymore, it is the **name** according to which the values are assigned to the arguments.\n",
    "\n",
    "This is an uncommon use, however (obviously, since it requires more writing). Typically they are used for two other important scenarios:\n",
    "1. **default values**\n",
    "1. **optional arguments**\n",
    "\n",
    "To define a function with an argument that posseses a default value:"
   ]
  },
  {
   "cell_type": "code",
   "execution_count": 39,
   "metadata": {},
   "outputs": [],
   "source": [
    "def func(default=5):\n",
    "    return default"
   ]
  },
  {
   "cell_type": "markdown",
   "metadata": {},
   "source": [
    "If this function is called without an argument, the default value is substituted:"
   ]
  },
  {
   "cell_type": "code",
   "execution_count": 40,
   "metadata": {},
   "outputs": [
    {
     "data": {
      "text/plain": [
       "5"
      ]
     },
     "execution_count": 40,
     "metadata": {},
     "output_type": "execute_result"
    }
   ],
   "source": [
    "func()"
   ]
  },
  {
   "cell_type": "markdown",
   "metadata": {},
   "source": [
    "(This demonstrates also how to call a function without any arguments.) If it is called **with** a value, that value takes precedence:"
   ]
  },
  {
   "cell_type": "code",
   "execution_count": 41,
   "metadata": {},
   "outputs": [
    {
     "data": {
      "text/plain": [
       "'OMG'"
      ]
     },
     "execution_count": 41,
     "metadata": {},
     "output_type": "execute_result"
    }
   ],
   "source": [
    "func('OMG')"
   ]
  },
  {
   "cell_type": "markdown",
   "metadata": {},
   "source": [
    "Note also, that as with all variables in Python, the type of the variable will be determined automatically and need not be specified (and, in fact, can be different between function calls, if the body of the function is compatible with that).\n",
    "\n",
    "The same syntax is used in order to denote that an argument is **optional**:"
   ]
  },
  {
   "cell_type": "code",
   "execution_count": 42,
   "metadata": {},
   "outputs": [],
   "source": [
    "# Btw, this is a function that doesn't return anything - it just prints something to the output\n",
    "def func(maybe=None):\n",
    "    if maybe is not None:\n",
    "        print(\"yes\")\n",
    "    else:\n",
    "        print(\"no\")"
   ]
  },
  {
   "cell_type": "code",
   "execution_count": 43,
   "metadata": {},
   "outputs": [
    {
     "name": "stdout",
     "output_type": "stream",
     "text": [
      "no\n"
     ]
    }
   ],
   "source": [
    "func()"
   ]
  },
  {
   "cell_type": "code",
   "execution_count": 44,
   "metadata": {},
   "outputs": [
    {
     "name": "stdout",
     "output_type": "stream",
     "text": [
      "yes\n"
     ]
    }
   ],
   "source": [
    "func('hello')"
   ]
  },
  {
   "cell_type": "markdown",
   "metadata": {},
   "source": [
    "An argument with the default value of `None` is interpreted as optional. **<span style=\"color:red\">Note, however, that it is up to the function body to actually test whether the argument is present or not.</span>**\n",
    "\n",
    "If a function has no argument (or optional ones that aren't used in the call), it is called with empty parentheses. **<span style=\"color:red\">The parentheses after a name tell the interpreter to call the function, whether empty or not.</span>**\n",
    "\n",
    "If you write just the name of the function without parentheses, you are simply *referring* to a named object and Python will simply tell you what it is:"
   ]
  },
  {
   "cell_type": "code",
   "execution_count": 84,
   "metadata": {},
   "outputs": [
    {
     "data": {
      "text/plain": [
       "<function __main__.func>"
      ]
     },
     "execution_count": 84,
     "metadata": {},
     "output_type": "execute_result"
    }
   ],
   "source": [
    "func"
   ]
  },
  {
   "cell_type": "markdown",
   "metadata": {},
   "source": [
    "A function can combine both types of arguments:"
   ]
  },
  {
   "cell_type": "code",
   "execution_count": 45,
   "metadata": {},
   "outputs": [],
   "source": [
    "def func(a, b, c=None):\n",
    "    d = a + b\n",
    "    if c is not None:\n",
    "        return d + c\n",
    "    else:\n",
    "        return d"
   ]
  },
  {
   "cell_type": "code",
   "execution_count": 46,
   "metadata": {},
   "outputs": [
    {
     "data": {
      "text/plain": [
       "3"
      ]
     },
     "execution_count": 46,
     "metadata": {},
     "output_type": "execute_result"
    }
   ],
   "source": [
    "func(1, 2)"
   ]
  },
  {
   "cell_type": "code",
   "execution_count": 48,
   "metadata": {},
   "outputs": [
    {
     "data": {
      "text/plain": [
       "15"
      ]
     },
     "execution_count": 48,
     "metadata": {},
     "output_type": "execute_result"
    }
   ],
   "source": [
    "func(4, 5, c=6)"
   ]
  },
  {
   "cell_type": "markdown",
   "metadata": {},
   "source": [
    "If you supply the keyword argument at the same position as it occurs in the function definition, you don't actually need to supply the keyword when you call the funtion:"
   ]
  },
  {
   "cell_type": "code",
   "execution_count": 47,
   "metadata": {},
   "outputs": [
    {
     "data": {
      "text/plain": [
       "6"
      ]
     },
     "execution_count": 47,
     "metadata": {},
     "output_type": "execute_result"
    }
   ],
   "source": [
    "func(1, 2, 3)"
   ]
  },
  {
   "cell_type": "markdown",
   "metadata": {},
   "source": [
    "Non-keyword arguments, on the other hand, are not optional, and if not supplied (**<span style=\"color:red\">in the correct order</span>** or with name), will result in an error:"
   ]
  },
  {
   "cell_type": "code",
   "execution_count": 49,
   "metadata": {},
   "outputs": [
    {
     "ename": "TypeError",
     "evalue": "func() missing 2 required positional arguments: 'a' and 'b'",
     "output_type": "error",
     "traceback": [
      "\u001b[0;31m---------------------------------------------------------------------------\u001b[0m",
      "\u001b[0;31mTypeError\u001b[0m                                 Traceback (most recent call last)",
      "\u001b[0;32m<ipython-input-49-2c2e524488c5>\u001b[0m in \u001b[0;36m<module>\u001b[0;34m()\u001b[0m\n\u001b[0;32m----> 1\u001b[0;31m \u001b[0mfunc\u001b[0m\u001b[0;34m(\u001b[0m\u001b[0mc\u001b[0m\u001b[0;34m=\u001b[0m\u001b[0;36m5\u001b[0m\u001b[0;34m)\u001b[0m\u001b[0;34m\u001b[0m\u001b[0m\n\u001b[0m",
      "\u001b[0;31mTypeError\u001b[0m: func() missing 2 required positional arguments: 'a' and 'b'"
     ]
    }
   ],
   "source": [
    "func(c=5)"
   ]
  },
  {
   "cell_type": "markdown",
   "metadata": {},
   "source": [
    "Also, your function's argument list must be ordered such that all **<span style=\"color:red\">ordered arguements come before keyword arguments</span>**:"
   ]
  },
  {
   "cell_type": "code",
   "execution_count": 50,
   "metadata": {},
   "outputs": [
    {
     "ename": "SyntaxError",
     "evalue": "non-default argument follows default argument (<ipython-input-50-7f27c601eebd>, line 1)",
     "output_type": "error",
     "traceback": [
      "\u001b[0;36m  File \u001b[0;32m\"<ipython-input-50-7f27c601eebd>\"\u001b[0;36m, line \u001b[0;32m1\u001b[0m\n\u001b[0;31m    def func(a=None, b):\u001b[0m\n\u001b[0m            ^\u001b[0m\n\u001b[0;31mSyntaxError\u001b[0m\u001b[0;31m:\u001b[0m non-default argument follows default argument\n"
     ]
    }
   ],
   "source": [
    "def func(a=None, b):\n",
    "    pass"
   ]
  },
  {
   "cell_type": "markdown",
   "metadata": {},
   "source": [
    "As you can see, Python's error messages are quite descriptive and usually tell you exactly what's wrong.\n",
    "\n",
    "(The `pass` keyword can be used when syntax requires that there be *something* at a specific place in the code, but you don't really want to do anything. The function definition would not be recognized if there were no code whatsover in the indented block, but since this is a demonstration only we really don't need to perform anything, we `pass`...)\n",
    "\n",
    "A final note: We have redefined the name \"func\" many times above. This is perfectly fine in Python: The most recent definition is the one that remains associated to the name \"func\". We will inspect this issue more later.\n",
    "\n",
    "# Object Oriented Programming\n",
    "\n",
    "Object orientated programming (OOP) is a programming *paradigm*. It doesn't describe a language per se and can be implemented in principle in any langauge, but many languages are built around this paradigm and provide corresponding elements and structures. Object orientation is a prominent feature of Python and useful in particular to keep your code well-structured and maintainable.\n",
    "\n",
    "There are two key ideas in OOP which I will introduce here: **encapsulation** and **inheritance**. Furthermore, OOP is often associated with certain prescriptions on how to best handle errors and, more generally, \"events\".\n",
    "\n",
    "## What is an object?\n",
    "\n",
    "An *object* in OOP is an entity that encapsulates both data and functionality and keeps it separate from other objects. In Python, the idea of an object is represented by the concept of `class`. A class definition looks as follows:\n",
    "\n",
    "```python\n",
    "class Eagle:\n",
    "    pass\n",
    "```\n",
    "This class, named \"Eagle\", does nothing of course (I used the keyword `pass` again, since for Python to accept the definition, there needs to be *something* on the indented line after the colon). In case you ever look at other people's code and get confused, I will mention here that in Python 2, there used to be \"old style\" and \"new style\" classes which differed in the way they were declared: `class Eagle():` for old style and `class Eagle(object):` for new style. Python 3 only has new style classes and it doesn't matter if you declare them with or without the `(object)` - however, the syntax with the parentheses **does** have a meaning and we will learn about that shortly.\n",
    "\n",
    "We use objects in computing in order to group entities together that, in the programmer's opinion, belong together - the object *encapsulates* them. Entities, here, refer to data (i.e. variables) and functions.\n",
    "\n",
    "Let us look at a more capable example:"
   ]
  },
  {
   "cell_type": "code",
   "execution_count": 56,
   "metadata": {},
   "outputs": [],
   "source": [
    "class Person(object):\n",
    "    def __init__(self, nationality):\n",
    "        self.nationality = nationality"
   ]
  },
  {
   "cell_type": "markdown",
   "metadata": {},
   "source": [
    "We will immediately need to take note of another concept in OOP: initialization. In order to initialize the `Person` object, you call it similar to how you call a function, and assign it to an **instance**:"
   ]
  },
  {
   "cell_type": "code",
   "execution_count": 57,
   "metadata": {},
   "outputs": [],
   "source": [
    "Arno = Person('German')"
   ]
  },
  {
   "cell_type": "markdown",
   "metadata": {},
   "source": [
    "The **instance** of the `Person` class has here been called `Arno`. What is Arno's personality?"
   ]
  },
  {
   "cell_type": "code",
   "execution_count": 58,
   "metadata": {},
   "outputs": [
    {
     "data": {
      "text/plain": [
       "'German'"
      ]
     },
     "execution_count": 58,
     "metadata": {},
     "output_type": "execute_result"
    }
   ],
   "source": [
    "Arno.nationality"
   ]
  },
  {
   "cell_type": "markdown",
   "metadata": {},
   "source": [
    "### Instantiation\n",
    "\n",
    "Why is the object referred to by the name of `Arno` an \"instance\"? Because the class represents, as the name suggests, a \"class\" of entities, which however can have many different \"instances\":"
   ]
  },
  {
   "cell_type": "code",
   "execution_count": 60,
   "metadata": {},
   "outputs": [
    {
     "data": {
      "text/plain": [
       "'Swiss'"
      ]
     },
     "execution_count": 60,
     "metadata": {},
     "output_type": "execute_result"
    }
   ],
   "source": [
    "Simone = Person('Swiss')\n",
    "Simone.nationality"
   ]
  },
  {
   "cell_type": "markdown",
   "metadata": {},
   "source": [
    "We have instantiated two different objects of class `Person`, each with its own, distinct attribute `nationality`. As you can see, you **access** the value of the attribute via the \"dot-accessor\" syntax which Python shares with many other object-oriented languages (e.g. Java). The same syntax allows you to change the value of the attribute after the object has been instantiated:"
   ]
  },
  {
   "cell_type": "code",
   "execution_count": 61,
   "metadata": {},
   "outputs": [
    {
     "data": {
      "text/plain": [
       "'Chilean'"
      ]
     },
     "execution_count": 61,
     "metadata": {},
     "output_type": "execute_result"
    }
   ],
   "source": [
    "Simone.nationality = 'Chilean'\n",
    "Simone.nationality"
   ]
  },
  {
   "cell_type": "markdown",
   "metadata": {},
   "source": [
    "However, one thing we cannot do is access this attribute from the object representing the class:"
   ]
  },
  {
   "cell_type": "code",
   "execution_count": 62,
   "metadata": {},
   "outputs": [
    {
     "ename": "AttributeError",
     "evalue": "type object 'Person' has no attribute 'nationality'",
     "output_type": "error",
     "traceback": [
      "\u001b[0;31m---------------------------------------------------------------------------\u001b[0m",
      "\u001b[0;31mAttributeError\u001b[0m                            Traceback (most recent call last)",
      "\u001b[0;32m<ipython-input-62-834729bfe62f>\u001b[0m in \u001b[0;36m<module>\u001b[0;34m()\u001b[0m\n\u001b[0;32m----> 1\u001b[0;31m \u001b[0mPerson\u001b[0m\u001b[0;34m.\u001b[0m\u001b[0mnationality\u001b[0m\u001b[0;34m\u001b[0m\u001b[0m\n\u001b[0m",
      "\u001b[0;31mAttributeError\u001b[0m: type object 'Person' has no attribute 'nationality'"
     ]
    }
   ],
   "source": [
    "Person.nationality"
   ]
  },
  {
   "cell_type": "markdown",
   "metadata": {},
   "source": [
    "For this reason, attributes like `nationality` of `Person` are referred to as **instance variables**. Each instance will have a specific set of values associated with its instance variables, distinct from those of other instances of the same class. However, there also exists the concept of a **class variable** - one that **all** instances of a class share. They are expressed in the class definition as follows:"
   ]
  },
  {
   "cell_type": "code",
   "execution_count": 70,
   "metadata": {},
   "outputs": [
    {
     "data": {
      "text/plain": [
       "'Chordata'"
      ]
     },
     "execution_count": 70,
     "metadata": {},
     "output_type": "execute_result"
    }
   ],
   "source": [
    "class Animal(object):\n",
    "    phylum = 'Chordata'\n",
    "    legs = None\n",
    "    \n",
    "Dog = Animal()\n",
    "Cat = Animal()\n",
    "Cat.phylum"
   ]
  },
  {
   "cell_type": "markdown",
   "metadata": {},
   "source": [
    "Class variables are declared immediately under the definition line and need to contain the assignment operator (`=`); for that reason, if a class variable has no value at the time of definition, assign `None` to it.\n",
    "\n",
    "If a assign a number of legs to the object representing the class:"
   ]
  },
  {
   "cell_type": "code",
   "execution_count": 75,
   "metadata": {},
   "outputs": [
    {
     "data": {
      "text/plain": [
       "4"
      ]
     },
     "execution_count": 75,
     "metadata": {},
     "output_type": "execute_result"
    }
   ],
   "source": [
    "Animal.legs = 4\n",
    "Dog.legs"
   ]
  },
  {
   "cell_type": "code",
   "execution_count": 76,
   "metadata": {},
   "outputs": [
    {
     "data": {
      "text/plain": [
       "4"
      ]
     },
     "execution_count": 76,
     "metadata": {},
     "output_type": "execute_result"
    }
   ],
   "source": [
    "Cat.legs"
   ]
  },
  {
   "cell_type": "markdown",
   "metadata": {},
   "source": [
    "all instances will have the same number of legs. Btw, Python being Python, you can even give objects attributes after instantiation:"
   ]
  },
  {
   "cell_type": "code",
   "execution_count": 78,
   "metadata": {},
   "outputs": [
    {
     "data": {
      "text/plain": [
       "'blond'"
      ]
     },
     "execution_count": 78,
     "metadata": {},
     "output_type": "execute_result"
    }
   ],
   "source": [
    "# an instance variable\n",
    "Simone.hair = 'blond'\n",
    "Simone.hair"
   ]
  },
  {
   "cell_type": "code",
   "execution_count": 82,
   "metadata": {},
   "outputs": [
    {
     "ename": "AttributeError",
     "evalue": "'Person' object has no attribute 'hair'",
     "output_type": "error",
     "traceback": [
      "\u001b[0;31m---------------------------------------------------------------------------\u001b[0m",
      "\u001b[0;31mAttributeError\u001b[0m                            Traceback (most recent call last)",
      "\u001b[0;32m<ipython-input-82-d00105db780f>\u001b[0m in \u001b[0;36m<module>\u001b[0;34m()\u001b[0m\n\u001b[0;32m----> 1\u001b[0;31m \u001b[0mArno\u001b[0m\u001b[0;34m.\u001b[0m\u001b[0mhair\u001b[0m\u001b[0;34m\u001b[0m\u001b[0m\n\u001b[0m",
      "\u001b[0;31mAttributeError\u001b[0m: 'Person' object has no attribute 'hair'"
     ]
    }
   ],
   "source": [
    "# which only applies to Simone\n",
    "Arno.hair"
   ]
  },
  {
   "cell_type": "code",
   "execution_count": 80,
   "metadata": {},
   "outputs": [
    {
     "data": {
      "text/plain": [
       "'Homo'"
      ]
     },
     "execution_count": 80,
     "metadata": {},
     "output_type": "execute_result"
    }
   ],
   "source": [
    "# a class variable\n",
    "Person.genus = 'Homo'\n",
    "Arno.genus"
   ]
  },
  {
   "cell_type": "code",
   "execution_count": 81,
   "metadata": {},
   "outputs": [
    {
     "data": {
      "text/plain": [
       "'Homo'"
      ]
     },
     "execution_count": 81,
     "metadata": {},
     "output_type": "execute_result"
    }
   ],
   "source": [
    "# which applies to everyone\n",
    "Simone.genus"
   ]
  },
  {
   "cell_type": "markdown",
   "metadata": {},
   "source": [
    "### Methods\n",
    "\n",
    "As we have seen, objects (i.e. classes) encapsulate data in the form of class and instance variables. In particular as for the instance variables, this basically amounts to prescribing a common *structure* to the data, which can however be filled in with different values for each instance.\n",
    "\n",
    "The second type of entity encapsulated by objects are functions; a function associated with a class is called a **method** (this difference in naming is really only to distinguish \"stand-alone\" functions from those associated with a class). Class methods are defined in the (indented) body of the class:"
   ]
  },
  {
   "cell_type": "code",
   "execution_count": 102,
   "metadata": {},
   "outputs": [],
   "source": [
    "class Speaker(object):\n",
    "    def greet(self, who):\n",
    "        print('Hello {}'.format(who))"
   ]
  },
  {
   "cell_type": "markdown",
   "metadata": {},
   "source": [
    "Methods are accessed in the same way as variables (with dot-accessor syntax), which is why both methods and variables together are generally referred to as `attributes`:"
   ]
  },
  {
   "cell_type": "code",
   "execution_count": 104,
   "metadata": {},
   "outputs": [
    {
     "name": "stdout",
     "output_type": "stream",
     "text": [
      "Hello Shelley\n"
     ]
    }
   ],
   "source": [
    "Me = Speaker()\n",
    "Me.greet(\"Shelley\")"
   ]
  },
  {
   "cell_type": "markdown",
   "metadata": {},
   "source": [
    "Notice how the method definition references two arguments, whereas the call (`greet(\"Shelley\")`) only has one. The first argument in a method definition is conventionally called `self`, although in principle you could name it however you want (but, don't... sticking to convention makes understanding other people's code a lot easier). It is the name which you can use in your internal method definitions to refer to the object instance itself. If you want to access an instance variable inside a method (which is more or less the whole point), you will simply access it from the `self` object. It is present in the method definition for that reason - so you can access the instance's variables and methods - but you do not give this argument when you call the method on an object instance; Python fills this in for you automatically. Method *calls* have therefore always one argument less than their definition.\n",
    "\n",
    "With this knowledge, let us once more look at the original `Person`:"
   ]
  },
  {
   "cell_type": "code",
   "execution_count": 86,
   "metadata": {},
   "outputs": [],
   "source": [
    "class Person(object):\n",
    "    def __init__(self, nat):\n",
    "        self.nationality = nat"
   ]
  },
  {
   "cell_type": "markdown",
   "metadata": {},
   "source": [
    "The class declaration here contains also the definition of a method called `__init__`. This is a name that has a special meaning to the Python interpreter; by using it, you tell the interpreter that this method implements a particular operation - in this case the instantiation of the object. The `__init__` method is what the interpreter internally calls when you instantiate a class by calling its name. It is customarily used in order to populate whatever instance variables you want to populate on instance creating, and carry out any other tasks you deem necessary for that purpose. As with other methods, it receives the additional `self` in the definition so that you can attach the variables to the instance being created; and as with other methods, this argument is missing from the actual instantiation *call* (or rather, filled in automatically by Python).\n",
    "\n",
    "(In general parlance, a method that initializes an object is also called a *constructor*.)\n",
    "\n",
    "You may notice that the definition of `Speaker` did not contain an `__init__` method. This is so because Python, under the hood, will always provide a default implementation; so even if you don't define it, it is there - you just don't have an opportunity to populate instance variables in that case.\n",
    "\n",
    "The mechanism by which Python provides a default constructor is the second aspect of OOP I want to talk about: inheritance.\n",
    "\n",
    "### Class inheritance\n",
    "\n",
    "Inheritance provides a way to structure your code such as to keep the need to repeat yourself to a minimum. Again, an example will make this more digestible:"
   ]
  },
  {
   "cell_type": "code",
   "execution_count": 87,
   "metadata": {},
   "outputs": [],
   "source": [
    "class Animal(object):\n",
    "    def eat(self, fodder):\n",
    "        print(\"I'm eating {}\".format(fodder))\n",
    "        \n",
    "class Dog(Animal):\n",
    "    def bark(self):\n",
    "        print(\"Woof!\")\n",
    "        \n",
    "class Cat(Animal):\n",
    "    def meow(self):\n",
    "        print(\"Meow!\")"
   ]
  },
  {
   "cell_type": "markdown",
   "metadata": {},
   "source": [
    "In this example, `Dog` and `Cat` **inherit** from `Animal`. Another frequently used way to express this is to say that `Cat` and `Dog` are **subclasses** of `Animal`.\n",
    "\n",
    "Subclasses inherit functionality (and variables, examples of which we have left out here for simplicity) from their *parents*. All Animals eat:"
   ]
  },
  {
   "cell_type": "code",
   "execution_count": 89,
   "metadata": {},
   "outputs": [
    {
     "name": "stdout",
     "output_type": "stream",
     "text": [
      "I'm eating sausage\n"
     ]
    }
   ],
   "source": [
    "Waldi = Dog()\n",
    "Waldi.eat('sausage')"
   ]
  },
  {
   "cell_type": "code",
   "execution_count": 94,
   "metadata": {},
   "outputs": [
    {
     "name": "stdout",
     "output_type": "stream",
     "text": [
      "I'm eating fish\n"
     ]
    }
   ],
   "source": [
    "Mimi.eat('fish')"
   ]
  },
  {
   "cell_type": "markdown",
   "metadata": {},
   "source": [
    "But only cats meow:"
   ]
  },
  {
   "cell_type": "code",
   "execution_count": 91,
   "metadata": {},
   "outputs": [
    {
     "name": "stdout",
     "output_type": "stream",
     "text": [
      "Meow!\n"
     ]
    }
   ],
   "source": [
    "Mimi = Cat()\n",
    "Mimi.meow()"
   ]
  },
  {
   "cell_type": "markdown",
   "metadata": {},
   "source": [
    "And only dogs bark:"
   ]
  },
  {
   "cell_type": "code",
   "execution_count": 96,
   "metadata": {},
   "outputs": [
    {
     "name": "stdout",
     "output_type": "stream",
     "text": [
      "Woof!\n"
     ]
    }
   ],
   "source": [
    "Waldi.bark()"
   ]
  },
  {
   "cell_type": "markdown",
   "metadata": {},
   "source": [
    "**<span style=\"color:red\">The parent class is given in parentheses in the class definition.</span>** Which also tells you where the `object` in the basic class definition comes from: It's the most \"basic\" object there is in Python, from which all other objects inherit. This `object` class comes with some basic functionality common to all objects in Python, including an `__init__` method, so that even classes defined without on can be instantiated without problem.\n",
    "\n",
    "If you define your own `__init__` method, you **override** the one provided by the fundamental `object`. That's another aspect of inheritance: **<span style=\"color:red\">functions defined by a subclass replace any of the same name that might exist on the parent:</span>**"
   ]
  },
  {
   "cell_type": "code",
   "execution_count": 98,
   "metadata": {},
   "outputs": [
    {
     "name": "stdout",
     "output_type": "stream",
     "text": [
      "Actually, I'm not eating shit.\n"
     ]
    }
   ],
   "source": [
    "class Dog(Animal):\n",
    "    def eat(self, fodder):\n",
    "        print(\"Actually, I'm not eating {}.\".format(fodder))\n",
    "        \n",
    "Tinkerbell = Dog()\n",
    "Tinkerbell.eat(\"shit\")"
   ]
  },
  {
   "cell_type": "markdown",
   "metadata": {},
   "source": [
    "I is very common, however, that you don't want to override a method completely - after all, once you've \"overwritten\" its definition, you can't call the original method anymore. Rather, you might want to *add* some functionality to it. This is particularly frequently the case for `__init__` methods. For this reason, you can call the original method from within the definition of its replacement, as in the following example:"
   ]
  },
  {
   "cell_type": "code",
   "execution_count": 105,
   "metadata": {},
   "outputs": [],
   "source": [
    "class Man(Person):\n",
    "    def __init__(self, nat):\n",
    "        super().__init__(nat)\n",
    "        self.gender = 'masculine'\n",
    "        \n",
    "Alvaro = Man('Chilean')"
   ]
  },
  {
   "cell_type": "markdown",
   "metadata": {},
   "source": [
    "The function `super()` returns the parent (I will not go into details here), and calling its `__init__` method initializes the `nationality` attribute of the parent class (`Person`), which will therefore also exist on its subclass `Man`."
   ]
  },
  {
   "cell_type": "code",
   "execution_count": 106,
   "metadata": {},
   "outputs": [
    {
     "data": {
      "text/plain": [
       "'Chilean'"
      ]
     },
     "execution_count": 106,
     "metadata": {},
     "output_type": "execute_result"
    }
   ],
   "source": [
    "Alvaro.nationality"
   ]
  },
  {
   "cell_type": "markdown",
   "metadata": {},
   "source": [
    "But we added another instance variable in the subclasse's constructor:"
   ]
  },
  {
   "cell_type": "code",
   "execution_count": 100,
   "metadata": {},
   "outputs": [
    {
     "data": {
      "text/plain": [
       "'masculine'"
      ]
     },
     "execution_count": 100,
     "metadata": {},
     "output_type": "execute_result"
    }
   ],
   "source": [
    "Alvaro.gender"
   ]
  },
  {
   "cell_type": "markdown",
   "metadata": {},
   "source": [
    "There are many more facets to OOP and its particular implementation in Python; I will just mention in passing a few more points.\n",
    "\n",
    "#### Class methods\n",
    "\n",
    "As with instance and class variables, there are also class methods. The difference to instance methods is that class methods can be called on uninstantiated classes, whereas instance methods cannot. For that reason, class methods receive as their first argument the class, not the instance, and have no access to instance variables (obviously). It is customary to refer to that class argument as `cls`, similar to the `self` in the instance methods - from this `cls` object, class variables **can** be accessed."
   ]
  },
  {
   "cell_type": "code",
   "execution_count": 107,
   "metadata": {},
   "outputs": [
    {
     "name": "stdout",
     "output_type": "stream",
     "text": [
      "Hello Shelley, I'm Arno\n"
     ]
    }
   ],
   "source": [
    "class Person(object):\n",
    "    def __init__(self, name):\n",
    "        self.name = name\n",
    "    def greet(self, other):\n",
    "        print(\"Hello {}, I'm {}\".format(other, self.name))\n",
    "        \n",
    "    @classmethod\n",
    "    def shout(cls, what):\n",
    "        print(what)\n",
    "        \n",
    "Arno = Person('Arno')\n",
    "Arno.greet('Shelley')"
   ]
  },
  {
   "cell_type": "code",
   "execution_count": 110,
   "metadata": {},
   "outputs": [
    {
     "name": "stdout",
     "output_type": "stream",
     "text": [
      "Help!\n"
     ]
    }
   ],
   "source": [
    "# call from the class\n",
    "Person.shout('Help!')"
   ]
  },
  {
   "cell_type": "code",
   "execution_count": 111,
   "metadata": {},
   "outputs": [
    {
     "name": "stdout",
     "output_type": "stream",
     "text": [
      "I can shout too!\n"
     ]
    }
   ],
   "source": [
    "# call from the instance\n",
    "Arno.shout('I can shout too!')"
   ]
  },
  {
   "cell_type": "markdown",
   "metadata": {},
   "source": [
    "The statement `@classmethod` is another element of Python called a **\"decorator\"** - it \"decorates\" the method definition which turns it into a classmethod. There are decorators for other purposes, too, and you can also define your own decorators - but we will not get into this at this point (decorators exist merely for convenience rather than necessity - such language elements are usually referred to as \"syntactic sugar\").\n",
    "\n",
    "#### Mixins\n",
    "\n",
    "One can also combine the capabilities of several classes together, a technique called \"mixins\" in general parlance. Without going into details, here's an example:"
   ]
  },
  {
   "cell_type": "code",
   "execution_count": 116,
   "metadata": {},
   "outputs": [
    {
     "name": "stdout",
     "output_type": "stream",
     "text": [
      "Meow!\n"
     ]
    }
   ],
   "source": [
    "class CatDog(Cat, Dog):\n",
    "    pass\n",
    "\n",
    "Christ = CatDog()\n",
    "Christ.meow() # Btw, we overrode the definition of Dog, so it doesn't actually bark anymore..."
   ]
  },
  {
   "cell_type": "markdown",
   "metadata": {},
   "source": [
    "# Elements of style (2)\n",
    "\n",
    "## 7. Private & protected variable names\n",
    "\n",
    "Different OO languages often know concepts called \"private\" and/or \"protected\" variables or similar. A basic motivation behind OOP is that code created by one programmer can be used by another one without knowing any of the details: The \"object\" encapsulates the (hopefully documented) functionality, and whoever uses your object only needs to know **what** the method accomplishes, not **how**. For that reason, many languages include a provision for instance variables on objects that are not visible from the \"outside\" and only used in the internal workings of the object.\n",
    "\n",
    "Python does not actually implement anything of the sort; in fact, it is part of the philosophy and appeal of Python that it is extremely \"transparent\". You can always have a look at other people's classes and will always be able to access all of their attributes and methods. That being said, a convention exists that names beginning with underscores are to be considered protected and private:\n",
    "- single underscore: \"protected\"\n",
    "- double underscore: \"private\"\n",
    "\n",
    "I mention this here only so you can better understand other peoples' code in case they abide by this convention - it is not really important in Python.\n",
    "\n",
    "## 8. Special method names\n",
    "\n",
    "More important are names which are flanked by double underscores on either side, such as `__init__()`. There is a number of such names which have variety of purposes - not all are methods. For example,"
   ]
  },
  {
   "cell_type": "code",
   "execution_count": 117,
   "metadata": {},
   "outputs": [
    {
     "data": {
      "text/plain": [
       "'__main__'"
      ]
     },
     "execution_count": 117,
     "metadata": {},
     "output_type": "execute_result"
    }
   ],
   "source": [
    "__name__"
   ]
  },
  {
   "cell_type": "markdown",
   "metadata": {},
   "source": [
    "is a variable that is populated automatically by Python according to the type of code which is currently being run ('__main__' means we're in a script - more on that later).\n",
    "\n",
    "One more example to illustrate what this is all about. Imagine you want to define an object that does something when you \"call\" it like you do when you instantiate it:"
   ]
  },
  {
   "cell_type": "code",
   "execution_count": 119,
   "metadata": {},
   "outputs": [
    {
     "name": "stdout",
     "output_type": "stream",
     "text": [
      "Call me\n"
     ]
    }
   ],
   "source": [
    "class Caller(object):\n",
    "    def __call__(self, other):\n",
    "        print(\"Call {}\".format(other))\n",
    "        \n",
    "You = Caller()\n",
    "You('me')"
   ]
  },
  {
   "cell_type": "markdown",
   "metadata": {},
   "source": [
    "Defining a method named `__call__` on the class tells Python to call this method when you call the object. Needless to say, this is another example of syntactic sugar.\n",
    "\n",
    "# Digression: everything is an object\n",
    "\n",
    "Btw, we now have the necessary background to explain the statements I have used in many of the example classes. The function `print()` simply prints something to the output (stdout, to be precise, but let's not delve into that). The `format` call, however, refers to a method defined on strings. When I write: `\"Hello {}\".format(\"world\")`, I first create a string object (`\"Hello {}\"`), and then call the method `format()` on that object. The character sequence `\"{}\"` within the string gets replaced by a formatted version of the argument to `format()`. One could, more explicitely, write:"
   ]
  },
  {
   "cell_type": "code",
   "execution_count": 120,
   "metadata": {},
   "outputs": [
    {
     "data": {
      "text/plain": [
       "'Hello world.'"
      ]
     },
     "execution_count": 120,
     "metadata": {},
     "output_type": "execute_result"
    }
   ],
   "source": [
    "a = \"Hello {}.\"\n",
    "a.format(\"world\")"
   ]
  },
  {
   "cell_type": "markdown",
   "metadata": {},
   "source": [
    "I won't go into the details of the `format()` method, but I will mention it can take an arbitrary number of replacements / arguments:"
   ]
  },
  {
   "cell_type": "code",
   "execution_count": 121,
   "metadata": {},
   "outputs": [
    {
     "data": {
      "text/plain": [
       "'Hello Shelley, Simone and Alvaro!'"
      ]
     },
     "execution_count": 121,
     "metadata": {},
     "output_type": "execute_result"
    }
   ],
   "source": [
    "\"Hello {}, {} and {}!\".format(\"Shelley\", \"Simone\", \"Alvaro\")"
   ]
  },
  {
   "cell_type": "markdown",
   "metadata": {},
   "source": [
    "This illustrates another point and the reason for why I talked about OOP before introducing the more benign elements of Python: in Python, everything is an object. While a distinction is made in principle between the built-in \"types\" I have talked about before and \"proper\" objects (the idea being that \"types\" are something more basic and fundamental, corresponding to the \"types\" of other programming languages), in reality, even types are implemented under the hood as objects. The only difference lies in how we talk about them syntactically: I write `a = 1` or `name = \"Arno\"` instead of instantiating an object and giving some instance variable of it a value - but that's what Python is doing under the hood.\n",
    "\n",
    "This is also how Python deals with any operation that may apply to an object, such as mathematical operations: A number object, for example, has a method called `__add__` defined on it, which is what Python calls when it encounters the symbol `+`. We can use this fact to define our own objects' behavior when subjected to a `+`:"
   ]
  },
  {
   "cell_type": "code",
   "execution_count": 128,
   "metadata": {},
   "outputs": [
    {
     "data": {
      "text/plain": [
       "-2"
      ]
     },
     "execution_count": 128,
     "metadata": {},
     "output_type": "execute_result"
    }
   ],
   "source": [
    "class Lier(object):\n",
    "    def __init__(self, value):\n",
    "        self._value = value\n",
    "    def __add__(self, other):\n",
    "        return self._value - other._value\n",
    "\n",
    "a = Lier(2)\n",
    "b = Lier(4)\n",
    "a + b"
   ]
  },
  {
   "cell_type": "markdown",
   "metadata": {},
   "source": [
    "# Language basics\n",
    "\n",
    "Now, to the actual language elements.\n",
    "\n",
    "## Containers\n",
    "\n",
    "### Lists\n",
    "\n",
    "Lists hold an ordered collection of other objects which are accessible by index. Lists can dynamically grow and shrink."
   ]
  },
  {
   "cell_type": "code",
   "execution_count": 213,
   "metadata": {},
   "outputs": [],
   "source": [
    "a = [1, 2, 3, 4, 5]"
   ]
  },
  {
   "cell_type": "markdown",
   "metadata": {},
   "source": [
    "Element access is denoted by square brackets:"
   ]
  },
  {
   "cell_type": "code",
   "execution_count": 134,
   "metadata": {},
   "outputs": [
    {
     "data": {
      "text/plain": [
       "1"
      ]
     },
     "execution_count": 134,
     "metadata": {},
     "output_type": "execute_result"
    }
   ],
   "source": [
    "a[0]"
   ]
  },
  {
   "cell_type": "markdown",
   "metadata": {},
   "source": [
    "**<span style=\"color:red\">Python is a 0-indexed language (unlike Matlab, which is 1-indexed).</span>** To access several elements, a \"slice\" notation exists:"
   ]
  },
  {
   "cell_type": "code",
   "execution_count": 135,
   "metadata": {},
   "outputs": [
    {
     "data": {
      "text/plain": [
       "[1, 2]"
      ]
     },
     "execution_count": 135,
     "metadata": {},
     "output_type": "execute_result"
    }
   ],
   "source": [
    "a[0:2]"
   ]
  },
  {
   "cell_type": "markdown",
   "metadata": {},
   "source": [
    "**<span style=\"color:red\">Slices include the start, but exclude the end</span>**, i.e. above notation returns elements at positions 0 and 1, but not 2: the slice `a:b` corresponds to the interval $[a, b)$."
   ]
  },
  {
   "cell_type": "code",
   "execution_count": 139,
   "metadata": {},
   "outputs": [
    {
     "data": {
      "text/plain": [
       "[2, 3]"
      ]
     },
     "execution_count": 139,
     "metadata": {},
     "output_type": "execute_result"
    }
   ],
   "source": [
    "# Do you want to know how it is implemented internally? Try:\n",
    "a[slice(1, 3)]"
   ]
  },
  {
   "cell_type": "code",
   "execution_count": 141,
   "metadata": {},
   "outputs": [
    {
     "data": {
      "text/plain": [
       "2"
      ]
     },
     "execution_count": 141,
     "metadata": {},
     "output_type": "execute_result"
    }
   ],
   "source": [
    "# Also, how do you think the bracket operator [] works? Via a double-underscore method, of course:\n",
    "a.__getitem__(1)"
   ]
  },
  {
   "cell_type": "markdown",
   "metadata": {},
   "source": [
    "Slices can have a step size (`start:end:step`):"
   ]
  },
  {
   "cell_type": "code",
   "execution_count": 145,
   "metadata": {},
   "outputs": [
    {
     "data": {
      "text/plain": [
       "[1, 3, 5]"
      ]
     },
     "execution_count": 145,
     "metadata": {},
     "output_type": "execute_result"
    }
   ],
   "source": [
    "a[0:5:2]"
   ]
  },
  {
   "cell_type": "markdown",
   "metadata": {},
   "source": [
    "And start and end can be ommitted:"
   ]
  },
  {
   "cell_type": "code",
   "execution_count": 146,
   "metadata": {},
   "outputs": [
    {
     "data": {
      "text/plain": [
       "[1, 2, 3]"
      ]
     },
     "execution_count": 146,
     "metadata": {},
     "output_type": "execute_result"
    }
   ],
   "source": [
    "a[:3]"
   ]
  },
  {
   "cell_type": "code",
   "execution_count": 147,
   "metadata": {},
   "outputs": [
    {
     "data": {
      "text/plain": [
       "[4, 5]"
      ]
     },
     "execution_count": 147,
     "metadata": {},
     "output_type": "execute_result"
    }
   ],
   "source": [
    "a[3:]"
   ]
  },
  {
   "cell_type": "markdown",
   "metadata": {},
   "source": [
    "Finally, negative indexes in Python count from the back:"
   ]
  },
  {
   "cell_type": "code",
   "execution_count": 148,
   "metadata": {},
   "outputs": [
    {
     "data": {
      "text/plain": [
       "5"
      ]
     },
     "execution_count": 148,
     "metadata": {},
     "output_type": "execute_result"
    }
   ],
   "source": [
    "a[-1]"
   ]
  },
  {
   "cell_type": "code",
   "execution_count": 149,
   "metadata": {},
   "outputs": [
    {
     "data": {
      "text/plain": [
       "4"
      ]
     },
     "execution_count": 149,
     "metadata": {},
     "output_type": "execute_result"
    }
   ],
   "source": [
    "a[-2]"
   ]
  },
  {
   "cell_type": "markdown",
   "metadata": {},
   "source": [
    "Assignment is also possible:"
   ]
  },
  {
   "cell_type": "code",
   "execution_count": 214,
   "metadata": {},
   "outputs": [
    {
     "data": {
      "text/plain": [
       "['aww', <__main__.Dog at 0x7fa5e1736b00>, [10, 11, 12], 4, 5]"
      ]
     },
     "execution_count": 214,
     "metadata": {},
     "output_type": "execute_result"
    }
   ],
   "source": [
    "a[0] = 'aww'\n",
    "a[1] = Waldi\n",
    "a[2] = [10, 11, 12]\n",
    "a"
   ]
  },
  {
   "cell_type": "markdown",
   "metadata": {},
   "source": [
    "and as you can see, different types can be mixed and lists can contain any object, including other lists.\n",
    "\n",
    "Lists have a number of methods defined on them, here are a few:"
   ]
  },
  {
   "cell_type": "code",
   "execution_count": 215,
   "metadata": {},
   "outputs": [
    {
     "data": {
      "text/plain": [
       "['aww', <__main__.Dog at 0x7fa5e1736b00>, [10, 11, 12], 4, 5, 'more']"
      ]
     },
     "execution_count": 215,
     "metadata": {},
     "output_type": "execute_result"
    }
   ],
   "source": [
    "a.append('more')\n",
    "a"
   ]
  },
  {
   "cell_type": "code",
   "execution_count": 216,
   "metadata": {},
   "outputs": [
    {
     "data": {
      "text/plain": [
       "['beginning',\n",
       " 'next',\n",
       " 'aww',\n",
       " <__main__.Dog at 0x7fa5e1736b00>,\n",
       " [10, 11, 12],\n",
       " 4,\n",
       " 5,\n",
       " 'more']"
      ]
     },
     "execution_count": 216,
     "metadata": {},
     "output_type": "execute_result"
    }
   ],
   "source": [
    "a.insert(0, 'beginning')\n",
    "a.insert(1, 'next')\n",
    "a"
   ]
  },
  {
   "cell_type": "markdown",
   "metadata": {},
   "source": [
    "To find how long a list is, use the built-in function `len()`:"
   ]
  },
  {
   "cell_type": "code",
   "execution_count": 161,
   "metadata": {},
   "outputs": [
    {
     "data": {
      "text/plain": [
       "8"
      ]
     },
     "execution_count": 161,
     "metadata": {},
     "output_type": "execute_result"
    }
   ],
   "source": [
    "len(a)"
   ]
  },
  {
   "cell_type": "markdown",
   "metadata": {},
   "source": [
    "To remove an element if you know its value:"
   ]
  },
  {
   "cell_type": "code",
   "execution_count": 217,
   "metadata": {},
   "outputs": [
    {
     "data": {
      "text/plain": [
       "['next', 'aww', <__main__.Dog at 0x7fa5e1736b00>, [10, 11, 12], 4, 5, 'more']"
      ]
     },
     "execution_count": 217,
     "metadata": {},
     "output_type": "execute_result"
    }
   ],
   "source": [
    "a.remove('beginning')\n",
    "a"
   ]
  },
  {
   "cell_type": "markdown",
   "metadata": {},
   "source": [
    "To remove an element if you know its position:"
   ]
  },
  {
   "cell_type": "code",
   "execution_count": 218,
   "metadata": {},
   "outputs": [
    {
     "data": {
      "text/plain": [
       "['next', 'aww', <__main__.Dog at 0x7fa5e1736b00>, [10, 11, 12], 4, 5]"
      ]
     },
     "execution_count": 218,
     "metadata": {},
     "output_type": "execute_result"
    }
   ],
   "source": [
    "del a[-1]\n",
    "a"
   ]
  },
  {
   "cell_type": "markdown",
   "metadata": {},
   "source": [
    "\"Popping\" and element removes it from the list and returns it:"
   ]
  },
  {
   "cell_type": "code",
   "execution_count": 219,
   "metadata": {},
   "outputs": [
    {
     "data": {
      "text/plain": [
       "<__main__.Dog at 0x7fa5e1736b00>"
      ]
     },
     "execution_count": 219,
     "metadata": {},
     "output_type": "execute_result"
    }
   ],
   "source": [
    "b = a.pop(2) # at position 2\n",
    "b"
   ]
  },
  {
   "cell_type": "markdown",
   "metadata": {},
   "source": [
    "The list no longer contains the popped element:"
   ]
  },
  {
   "cell_type": "code",
   "execution_count": 220,
   "metadata": {},
   "outputs": [
    {
     "data": {
      "text/plain": [
       "['next', 'aww', [10, 11, 12], 4, 5]"
      ]
     },
     "execution_count": 220,
     "metadata": {},
     "output_type": "execute_result"
    }
   ],
   "source": [
    "a"
   ]
  },
  {
   "cell_type": "markdown",
   "metadata": {},
   "source": [
    "The default argument to `pop` is the position `-1`:"
   ]
  },
  {
   "cell_type": "code",
   "execution_count": 221,
   "metadata": {},
   "outputs": [
    {
     "data": {
      "text/plain": [
       "5"
      ]
     },
     "execution_count": 221,
     "metadata": {},
     "output_type": "execute_result"
    }
   ],
   "source": [
    "a.pop()"
   ]
  },
  {
   "cell_type": "markdown",
   "metadata": {},
   "source": [
    "Lastly, an empty list is created by `a = []`."
   ]
  },
  {
   "cell_type": "markdown",
   "metadata": {},
   "source": [
    "### Tuples\n",
    "\n",
    "Tuples are simply *immuatable* lists - once created, they cannot be changed anymore, neither as for the value of individual elements nor in terms of length. They are denoted by round instead of square brackets:"
   ]
  },
  {
   "cell_type": "code",
   "execution_count": 174,
   "metadata": {},
   "outputs": [
    {
     "data": {
      "text/plain": [
       "(1, 2, 3, 4, 5)"
      ]
     },
     "execution_count": 174,
     "metadata": {},
     "output_type": "execute_result"
    }
   ],
   "source": [
    "a = (1, 2, 3, 4, 5)\n",
    "a"
   ]
  },
  {
   "cell_type": "markdown",
   "metadata": {},
   "source": [
    "Elements are accessed in the same way as with lists (with square brackets, including slice notation):"
   ]
  },
  {
   "cell_type": "code",
   "execution_count": 171,
   "metadata": {},
   "outputs": [
    {
     "data": {
      "text/plain": [
       "1"
      ]
     },
     "execution_count": 171,
     "metadata": {},
     "output_type": "execute_result"
    }
   ],
   "source": [
    "a[0]"
   ]
  },
  {
   "cell_type": "markdown",
   "metadata": {},
   "source": [
    "\"Implicit\" tuple notation (with parentheses omitted) abounds in Python code:"
   ]
  },
  {
   "cell_type": "code",
   "execution_count": 173,
   "metadata": {},
   "outputs": [
    {
     "data": {
      "text/plain": [
       "(1, 2)"
      ]
     },
     "execution_count": 173,
     "metadata": {},
     "output_type": "execute_result"
    }
   ],
   "source": [
    "a = 1, 2\n",
    "a"
   ]
  },
  {
   "cell_type": "markdown",
   "metadata": {},
   "source": [
    "The rationale behind the existence of tuples is that lists, with all of their capabilities (growing, shrinking, replacing values - their *mutability*), are very inefficient - there's always a lot going on behind the scenes. Tuples are a more bare-boned container without much functionality, which can use if you need to group some values together, but not much more.\n",
    "\n",
    "Tuples can be used as a syntactic element to make some type of code more readable (of course, this is not very \"efficient\" either, but that usually doesn't matter):"
   ]
  },
  {
   "cell_type": "code",
   "execution_count": 175,
   "metadata": {},
   "outputs": [],
   "source": [
    "# Implicitely, this constructs two tuples and assigns the elements of (1, 2) to (a, b)\n",
    "a, b = 1, 2"
   ]
  },
  {
   "cell_type": "code",
   "execution_count": 176,
   "metadata": {},
   "outputs": [
    {
     "data": {
      "text/plain": [
       "1"
      ]
     },
     "execution_count": 176,
     "metadata": {},
     "output_type": "execute_result"
    }
   ],
   "source": [
    "a"
   ]
  },
  {
   "cell_type": "code",
   "execution_count": 177,
   "metadata": {},
   "outputs": [
    {
     "data": {
      "text/plain": [
       "2"
      ]
     },
     "execution_count": 177,
     "metadata": {},
     "output_type": "execute_result"
    }
   ],
   "source": [
    "b"
   ]
  },
  {
   "cell_type": "markdown",
   "metadata": {},
   "source": [
    "Lastly, in the special case of a tuple with a single element, you need to use the notation `a = (1,)` in order to avoide confusion with other situations involving parentheses. (Unlike with empty lists, which can subsequently populated, and emtpy tuple makes no sense whatsoever.)"
   ]
  },
  {
   "cell_type": "markdown",
   "metadata": {},
   "source": [
    "### Dictionaries\n",
    "\n",
    "The third container type in Python is the dictionary, a data structure sometimes also referred to as a *mapping type* because it *maps* one value to another. It can be though of as similar to a list, but with elements not accessed by their **order**, but by a **key**. In again another way of expressing it, a dictionary contains *key-value pairs*."
   ]
  },
  {
   "cell_type": "code",
   "execution_count": 236,
   "metadata": {},
   "outputs": [
    {
     "data": {
      "text/plain": [
       "{'a': 5, 'b': 6}"
      ]
     },
     "execution_count": 236,
     "metadata": {},
     "output_type": "execute_result"
    }
   ],
   "source": [
    "a = {'a': 5, 'b': 6}\n",
    "a"
   ]
  },
  {
   "cell_type": "markdown",
   "metadata": {},
   "source": [
    "This maps the key `'a'` to the value `5` and the key `'b'` to the value `6`:"
   ]
  },
  {
   "cell_type": "code",
   "execution_count": 179,
   "metadata": {},
   "outputs": [
    {
     "data": {
      "text/plain": [
       "5"
      ]
     },
     "execution_count": 179,
     "metadata": {},
     "output_type": "execute_result"
    }
   ],
   "source": [
    "a['a']"
   ]
  },
  {
   "cell_type": "code",
   "execution_count": 180,
   "metadata": {},
   "outputs": [
    {
     "data": {
      "text/plain": [
       "6"
      ]
     },
     "execution_count": 180,
     "metadata": {},
     "output_type": "execute_result"
    }
   ],
   "source": [
    "a['b']"
   ]
  },
  {
   "cell_type": "markdown",
   "metadata": {},
   "source": [
    "You can add elements after the creation of the dictionare, and overwrite existing ones:"
   ]
  },
  {
   "cell_type": "code",
   "execution_count": 237,
   "metadata": {},
   "outputs": [
    {
     "data": {
      "text/plain": [
       "{'a': 5, 'b': 6, 7: 8}"
      ]
     },
     "execution_count": 237,
     "metadata": {},
     "output_type": "execute_result"
    }
   ],
   "source": [
    "a[7] = 8\n",
    "a"
   ]
  },
  {
   "cell_type": "markdown",
   "metadata": {},
   "source": [
    "In this case, the key is the number 7 (which btw is different from the - quoted - *character* `'7'`).\n",
    "\n",
    "**<span style=\"color:red\">Anything can serve as key or value.</span>**."
   ]
  },
  {
   "cell_type": "code",
   "execution_count": 238,
   "metadata": {},
   "outputs": [
    {
     "data": {
      "text/plain": [
       "{'a': 5, 'b': 6, 7: 8, <__main__.Cat at 0x7fa5e173a7b8>: __main__.Cat}"
      ]
     },
     "execution_count": 238,
     "metadata": {},
     "output_type": "execute_result"
    }
   ],
   "source": [
    "a[Mimi] = Cat\n",
    "a"
   ]
  },
  {
   "cell_type": "markdown",
   "metadata": {},
   "source": [
    "Here, the key is the Cat-instance `Mimi`, and the value is the *class* `Cat`.\n",
    "\n",
    "Btw, many objects, including `dict`s, have a \"length\" attribute that can be queried with the `len` function:"
   ]
  },
  {
   "cell_type": "code",
   "execution_count": 239,
   "metadata": {},
   "outputs": [
    {
     "data": {
      "text/plain": [
       "4"
      ]
     },
     "execution_count": 239,
     "metadata": {},
     "output_type": "execute_result"
    }
   ],
   "source": [
    "len(a)"
   ]
  },
  {
   "cell_type": "markdown",
   "metadata": {},
   "source": [
    "\n",
    "\n",
    "## Conditional statements\n",
    "\n",
    "There is only one type of conditional statement (plus a syntactic-sugar variant of it) in Python. It has the form:"
   ]
  },
  {
   "cell_type": "code",
   "execution_count": 185,
   "metadata": {},
   "outputs": [
    {
     "name": "stdout",
     "output_type": "stream",
     "text": [
      "one\n"
     ]
    }
   ],
   "source": [
    "a = 1\n",
    "\n",
    "if a == 1:\n",
    "    print(\"one\")\n",
    "elif a == 2:\n",
    "    print(\"two\")\n",
    "else:\n",
    "    print(\"neither\")"
   ]
  },
  {
   "cell_type": "markdown",
   "metadata": {},
   "source": [
    "The `elif` and `else` parts of the statement are optional. There can be multiple `elif` clauses if necessary.\n",
    "\n",
    "### Comparison operators\n",
    "\n",
    "- `==` tests for equality (remember, the single `=` is the *assignment operator*)\n",
    "- `>`, `<`, `>=`, `<=` are self-explanatory\n",
    "- `!=` tests for *not equal*\n",
    "- there is also the keyword `is` which is recommended in particular for use with booleans (see below) and in order to test whether a value is equal to `None`:"
   ]
  },
  {
   "cell_type": "code",
   "execution_count": 190,
   "metadata": {},
   "outputs": [
    {
     "name": "stdout",
     "output_type": "stream",
     "text": [
      "It's nothing!\n"
     ]
    }
   ],
   "source": [
    "a = None\n",
    "\n",
    "if a is None:\n",
    "    print(\"It's nothing!\")"
   ]
  },
  {
   "cell_type": "markdown",
   "metadata": {},
   "source": [
    "Testing for the opposite of `None` is intuitive:"
   ]
  },
  {
   "cell_type": "code",
   "execution_count": 191,
   "metadata": {},
   "outputs": [
    {
     "name": "stdout",
     "output_type": "stream",
     "text": [
      "whatever\n"
     ]
    }
   ],
   "source": [
    "a = \"whatever\"\n",
    "\n",
    "if a is not None:\n",
    "    print(a)"
   ]
  },
  {
   "cell_type": "markdown",
   "metadata": {},
   "source": [
    "### Booleans\n",
    "\n",
    "Conditional statements evaluate to boolean expressions, which, in Python, are `True` and `False`. Booleans can also be used directly in conditionals (which will mostly occur if the result of some operation is a boolean and has been assigned to a variable):"
   ]
  },
  {
   "cell_type": "code",
   "execution_count": 353,
   "metadata": {},
   "outputs": [
    {
     "name": "stdout",
     "output_type": "stream",
     "text": [
      "true\n"
     ]
    }
   ],
   "source": [
    "a = True\n",
    "if a:\n",
    "    print(\"true\")"
   ]
  },
  {
   "cell_type": "markdown",
   "metadata": {},
   "source": [
    "### Syntactic sugar etc\n",
    "\n",
    "Btw, in cases where there is a colon at the end of a line, the new line plus indentation is not strictly necessary (although nonetheless usually recommended for readability."
   ]
  },
  {
   "cell_type": "code",
   "execution_count": 189,
   "metadata": {},
   "outputs": [
    {
     "name": "stdout",
     "output_type": "stream",
     "text": [
      "True\n"
     ]
    }
   ],
   "source": [
    "if a: print(a)"
   ]
  },
  {
   "cell_type": "markdown",
   "metadata": {},
   "source": [
    "As I mentioned in the beginning, there is also a sugary variant of the conditional statement, sometimes called the *ternary operator* (it exists in many languages). It takes the form:"
   ]
  },
  {
   "cell_type": "code",
   "execution_count": 187,
   "metadata": {},
   "outputs": [
    {
     "data": {
      "text/plain": [
       "3"
      ]
     },
     "execution_count": 187,
     "metadata": {},
     "output_type": "execute_result"
    }
   ],
   "source": [
    "b = 2 if a==4 else 3\n",
    "b"
   ]
  },
  {
   "cell_type": "markdown",
   "metadata": {},
   "source": [
    "This statement is equivalent to:"
   ]
  },
  {
   "cell_type": "code",
   "execution_count": 354,
   "metadata": {},
   "outputs": [
    {
     "data": {
      "text/plain": [
       "3"
      ]
     },
     "execution_count": 354,
     "metadata": {},
     "output_type": "execute_result"
    }
   ],
   "source": [
    "if a==4:\n",
    "    b = 2\n",
    "else:\n",
    "    b = 3\n",
    "b"
   ]
  },
  {
   "cell_type": "markdown",
   "metadata": {},
   "source": [
    "## Loops\n",
    "\n",
    "There are two types of loop in Python.\n",
    "\n",
    "### For-loops"
   ]
  },
  {
   "cell_type": "code",
   "execution_count": 196,
   "metadata": {},
   "outputs": [
    {
     "name": "stdout",
     "output_type": "stream",
     "text": [
      "4\n",
      "7\n",
      "10.5\n"
     ]
    }
   ],
   "source": [
    "a = [4, 7, 10.5]\n",
    "for i in a:\n",
    "    print(i)\n",
    "\n",
    "# after the loop: de-indent"
   ]
  },
  {
   "cell_type": "markdown",
   "metadata": {},
   "source": [
    "The meaning of the statement is that it iterates over the elements in `a` one at a time, assigning each iteration's element to `i`. The code *block* to be executed for each iteration is, as usual, delimited by indentation - **<span style=\"color:red\">and the end of the loop is marked by de-indentation</span>**.\n",
    "\n",
    "Of course, the name you give to the element is up to you:"
   ]
  },
  {
   "cell_type": "code",
   "execution_count": 197,
   "metadata": {},
   "outputs": [
    {
     "name": "stdout",
     "output_type": "stream",
     "text": [
      "4\n",
      "7\n",
      "10.5\n"
     ]
    }
   ],
   "source": [
    "for element in a:\n",
    "    print(element)"
   ]
  },
  {
   "cell_type": "markdown",
   "metadata": {},
   "source": [
    "Also, the container to be iterated over does not have to be assigned to a variable beforehand, it can be constructed on the fly, *anonymously*:"
   ]
  },
  {
   "cell_type": "code",
   "execution_count": 198,
   "metadata": {},
   "outputs": [
    {
     "name": "stdout",
     "output_type": "stream",
     "text": [
      "1\n",
      "2\n",
      "3\n"
     ]
    }
   ],
   "source": [
    "for el in [1, 2, 3]:\n",
    "    print(el)"
   ]
  },
  {
   "cell_type": "markdown",
   "metadata": {},
   "source": [
    "Container types which support iteration are called, surprisingly, **iterators** and are not limited to lists. (Want to guess how an iterator is constructed? It's an object that implements a method named `__iter__`.)\n",
    "\n",
    "Since a very common pattern in programming is simply to loop over a block a given number of times, there is a function that is provided for this purpose:"
   ]
  },
  {
   "cell_type": "code",
   "execution_count": 199,
   "metadata": {},
   "outputs": [
    {
     "name": "stdout",
     "output_type": "stream",
     "text": [
      "0\n",
      "1\n",
      "2\n"
     ]
    }
   ],
   "source": [
    "for i in range(3):\n",
    "    print(i)"
   ]
  },
  {
   "cell_type": "markdown",
   "metadata": {},
   "source": [
    "This function, `range`, is another type of Pythonic object called a **generator**, because unlike the *iterator* which holds all of its elements in memory, the generator simply produces a value one at a time when the interpreter requests it (here, by incrementing a counter by one). \n",
    "\n",
    "This can be seen by looking at the return value of `range` directly:"
   ]
  },
  {
   "cell_type": "code",
   "execution_count": 200,
   "metadata": {},
   "outputs": [
    {
     "data": {
      "text/plain": [
       "range(0, 3)"
      ]
     },
     "execution_count": 200,
     "metadata": {},
     "output_type": "execute_result"
    }
   ],
   "source": [
    "range(3)"
   ]
  },
  {
   "cell_type": "markdown",
   "metadata": {},
   "source": [
    "Which is just the way that Python3 describes the range object. If you wrap the range generator in the constructor for a `list`, though, the result is a list containing the elements produced by `range`:"
   ]
  },
  {
   "cell_type": "code",
   "execution_count": 201,
   "metadata": {},
   "outputs": [
    {
     "data": {
      "text/plain": [
       "[0, 1, 2]"
      ]
     },
     "execution_count": 201,
     "metadata": {},
     "output_type": "execute_result"
    }
   ],
   "source": [
    "list(range(3))"
   ]
  },
  {
   "cell_type": "markdown",
   "metadata": {},
   "source": [
    "(Again, you see that when you write `a = [1, 2, 3]` this just signals the interpreter to call the constructor of the `list` object.)\n",
    "\n",
    "Now we can inspect the arguments that `range` can take:"
   ]
  },
  {
   "cell_type": "code",
   "execution_count": 202,
   "metadata": {},
   "outputs": [
    {
     "data": {
      "text/plain": [
       "[3, 4]"
      ]
     },
     "execution_count": 202,
     "metadata": {},
     "output_type": "execute_result"
    }
   ],
   "source": [
    "list(range(3, 5))"
   ]
  },
  {
   "cell_type": "code",
   "execution_count": 204,
   "metadata": {},
   "outputs": [
    {
     "data": {
      "text/plain": [
       "[0, 2, 4]"
      ]
     },
     "execution_count": 204,
     "metadata": {},
     "output_type": "execute_result"
    }
   ],
   "source": [
    "list(range(0, 5, 2))"
   ]
  },
  {
   "cell_type": "markdown",
   "metadata": {},
   "source": [
    "As you can see, the argument list to the `range` function has the same meaning as for the slice notation `start:end:step`: it is `range(start, end, step)` with the `end` and `step` being optional. As with the slice (which, as I have shown you before, is internally implemented with the `slice(start, end, step)` function anyways, which has exactly the same signature as `range`), the interval of iteration includes the `start` but excludes the `end`. Negative integers are allowed, including for the step:"
   ]
  },
  {
   "cell_type": "code",
   "execution_count": 205,
   "metadata": {},
   "outputs": [
    {
     "data": {
      "text/plain": [
       "[5, 4, 3, 2, 1]"
      ]
     },
     "execution_count": 205,
     "metadata": {},
     "output_type": "execute_result"
    }
   ],
   "source": [
    "list(range(5, 0, -1))"
   ]
  },
  {
   "cell_type": "markdown",
   "metadata": {},
   "source": [
    "As a final comment, the existence of the `range` function has to do with the fact that Python tries to keep things simple and provides only one form for the *for loop*, instead of several different ones as is often the case with other languages.\n",
    "\n",
    "It happens occasionally that syntax requires you to accept a variable, like the numbers returned by the `range` function, but you don't really \"need\" its value - e.g. if you need a certain number of iterations, but you don't need to know which iteration you're in. In those cases, it is idiomatic in Python to assign the value to a variable called `_` (underscore):"
   ]
  },
  {
   "cell_type": "code",
   "execution_count": 207,
   "metadata": {},
   "outputs": [
    {
     "name": "stdout",
     "output_type": "stream",
     "text": [
      "I don't know which iteration I'm at, but I'll do it 3 times.\n",
      "I don't know which iteration I'm at, but I'll do it 3 times.\n",
      "I don't know which iteration I'm at, but I'll do it 3 times.\n"
     ]
    }
   ],
   "source": [
    "for _ in range(3):\n",
    "    print(\"I don't know which iteration I'm at, but I'll do it 3 times.\")"
   ]
  },
  {
   "cell_type": "markdown",
   "metadata": {},
   "source": [
    "**<span style=\"color:red\">One word of warning: While it is <span style=\"color:green\">possible</span> in Python to modify the contents of an `iterable` while looping over it, that's certainly not <span style=\"color:green\">advisable</span>, because it may lead to unexpected results (many other languages explicitly forbid this).</span>**"
   ]
  },
  {
   "cell_type": "markdown",
   "metadata": {},
   "source": [
    "### while-loops\n",
    "\n",
    "The *while loop* is executed as long as a condition is `True`:"
   ]
  },
  {
   "cell_type": "code",
   "execution_count": 208,
   "metadata": {},
   "outputs": [
    {
     "name": "stdout",
     "output_type": "stream",
     "text": [
      "0\n",
      "1\n",
      "2\n",
      "3\n"
     ]
    }
   ],
   "source": [
    "a = 0\n",
    "\n",
    "while a < 4:\n",
    "    print(a)\n",
    "    a += 1"
   ]
  },
  {
   "cell_type": "markdown",
   "metadata": {},
   "source": [
    "Btw, `a += 1` is syntactic sugar for `a = a + 1`, and for the other arithmetic operations, a corresponding syntax exsist: `-=`, `*=`, `/=`. However, this is actually an example of non-standard Python that might not be available in all Python implementations (it is in \"CPython\", which really is the only one you'll be likely to encounter, but there are other Python flavors, like \"Jython\" and \"PyPy\").\n",
    "\n",
    "### Exiting a loop\n",
    "\n",
    "Sometimes, you want to **exit** a loop depending on a condition you encounter during the iteration, or you might want to **skip** an iteration. If you want to \"break out\" of a loop completely, you use the `break` keyword, while if you want to skip an iteration and continue with the next one, you use `continue`.\n",
    "\n",
    "I will demonstrate `break`ing with a common idiom in Python (which however is often discouraged in other languages because of the high likelihood of getting stuck in infinite loops):"
   ]
  },
  {
   "cell_type": "code",
   "execution_count": 209,
   "metadata": {},
   "outputs": [
    {
     "name": "stdout",
     "output_type": "stream",
     "text": [
      "3\n",
      "5\n",
      "7\n",
      "9\n",
      "11\n"
     ]
    }
   ],
   "source": [
    "a = 1\n",
    "while True:\n",
    "    a += 2\n",
    "    print(a)\n",
    "    if a > 10:\n",
    "        break"
   ]
  },
  {
   "cell_type": "markdown",
   "metadata": {},
   "source": [
    "Because the condition to the `while` statement is hard-coded to `True` here, it could easily happen that the loop continues forever; however, because of the \"simplicity\" philosophy of Python, this is the most common way to implement a loop if you don't know beforehand how many iterations you will need to perform.\n",
    "\n",
    "The `continue` statement looks as follows:"
   ]
  },
  {
   "cell_type": "code",
   "execution_count": 210,
   "metadata": {},
   "outputs": [
    {
     "name": "stdout",
     "output_type": "stream",
     "text": [
      "0\n",
      "1\n",
      "3\n"
     ]
    }
   ],
   "source": [
    "for i in range(4):\n",
    "    if i==2:\n",
    "        continue\n",
    "    print(i)"
   ]
  },
  {
   "cell_type": "markdown",
   "metadata": {},
   "source": [
    "## List and dictionary comprehensions\n",
    "\n",
    "We now have all the knowledge to introduce the sweetest sugary treat of them all: *list comprehensions*.\n",
    "\n",
    "Oftentimes you need to loop over some elements of a container, do something to each element, and assign the results to a new container. An example:"
   ]
  },
  {
   "cell_type": "code",
   "execution_count": 228,
   "metadata": {},
   "outputs": [
    {
     "data": {
      "text/plain": [
       "[11, 12, 13, 14]"
      ]
     },
     "execution_count": 228,
     "metadata": {},
     "output_type": "execute_result"
    }
   ],
   "source": [
    "a = [1, 2, 3, 4]\n",
    "b = [i+10 for i in a]\n",
    "b"
   ]
  },
  {
   "cell_type": "markdown",
   "metadata": {},
   "source": [
    "The expression inside the `list` brackets `[]` means: iterate over the elements of `a`, assigning each in turn to the name `i`, add `10` to each element, and assigne the overall result to the name `b`. Of course, the naming is up to youL"
   ]
  },
  {
   "cell_type": "code",
   "execution_count": 212,
   "metadata": {},
   "outputs": [
    {
     "data": {
      "text/plain": [
       "[1, 2, 3, 4]"
      ]
     },
     "execution_count": 212,
     "metadata": {},
     "output_type": "execute_result"
    }
   ],
   "source": [
    "c = [element-10 for element in b]\n",
    "c"
   ]
  },
  {
   "cell_type": "markdown",
   "metadata": {},
   "source": [
    "The idiom is also available for dictionaries:"
   ]
  },
  {
   "cell_type": "code",
   "execution_count": 223,
   "metadata": {},
   "outputs": [
    {
     "data": {
      "text/plain": [
       "{'a': 5, 'b': 6}"
      ]
     },
     "execution_count": 223,
     "metadata": {},
     "output_type": "execute_result"
    }
   ],
   "source": [
    "d = {'a': 1, 'b': 2}\n",
    "e = {key: value+4 for key, value in d.items()}\n",
    "e"
   ]
  },
  {
   "cell_type": "markdown",
   "metadata": {},
   "source": [
    "There are some other methods to unpack here, though: The method `items()` returns an iterator over the (key, value) pairs of the dictionary:"
   ]
  },
  {
   "cell_type": "code",
   "execution_count": 224,
   "metadata": {},
   "outputs": [
    {
     "data": {
      "text/plain": [
       "dict_items([('a', 1), ('b', 2)])"
      ]
     },
     "execution_count": 224,
     "metadata": {},
     "output_type": "execute_result"
    }
   ],
   "source": [
    "d.items()"
   ]
  },
  {
   "cell_type": "markdown",
   "metadata": {},
   "source": [
    "As you can see, for loops (inside a list comprehension or outside) can also iterate over `tuples`, and those tuples can be assigned implicitely:"
   ]
  },
  {
   "cell_type": "code",
   "execution_count": 225,
   "metadata": {},
   "outputs": [
    {
     "name": "stdout",
     "output_type": "stream",
     "text": [
      "('a', 1)\n",
      "('b', 2)\n"
     ]
    }
   ],
   "source": [
    "for i in d.items():\n",
    "    print(i)"
   ]
  },
  {
   "cell_type": "code",
   "execution_count": 226,
   "metadata": {},
   "outputs": [
    {
     "name": "stdout",
     "output_type": "stream",
     "text": [
      "key: a; value: 1\n",
      "key: b; value: 2\n"
     ]
    }
   ],
   "source": [
    "for k, v in d.items():\n",
    "    print(\"key: {}; value: {}\".format(k, v))"
   ]
  },
  {
   "cell_type": "markdown",
   "metadata": {},
   "source": [
    "Lastly, the list/dict comprehension can include conditions:"
   ]
  },
  {
   "cell_type": "code",
   "execution_count": 231,
   "metadata": {},
   "outputs": [
    {
     "data": {
      "text/plain": [
       "[2, 3, 4]"
      ]
     },
     "execution_count": 231,
     "metadata": {},
     "output_type": "execute_result"
    }
   ],
   "source": [
    "[i for i in a if i != 1]"
   ]
  },
  {
   "cell_type": "markdown",
   "metadata": {},
   "source": [
    "This is in fact the standard way (in Python3 at least) to \"filter\" a list."
   ]
  },
  {
   "cell_type": "markdown",
   "metadata": {},
   "source": [
    "# Functions (3)\n",
    "\n",
    "Now that we know about container types in Python, we can introduce some more syntactic sugar for function definitions. Python provides a shorthand to \"hand over\" whole lists of arguements to a function:"
   ]
  },
  {
   "cell_type": "code",
   "execution_count": 232,
   "metadata": {},
   "outputs": [
    {
     "name": "stdout",
     "output_type": "stream",
     "text": [
      "1\n",
      "2\n",
      "3\n"
     ]
    }
   ],
   "source": [
    "def func(*args):\n",
    "    for argument in args:\n",
    "        print(argument)\n",
    "        \n",
    "func(1, 2, 3)"
   ]
  },
  {
   "cell_type": "markdown",
   "metadata": {},
   "source": [
    "The statement `*args` inside the function definition's argument list means: \"Take all of the arguments supplied to the function and put it into the list `args`. Again, you could give any name to that list, but `args` is customary. Needless to say, in this case, the number of arguments is arbitrary and only determined when you call the function:"
   ]
  },
  {
   "cell_type": "code",
   "execution_count": 233,
   "metadata": {},
   "outputs": [
    {
     "name": "stdout",
     "output_type": "stream",
     "text": [
      "hello\n",
      "world\n"
     ]
    }
   ],
   "source": [
    "func('hello', 'world')"
   ]
  },
  {
   "cell_type": "markdown",
   "metadata": {},
   "source": [
    "Keyword arguments are packed into a dictionary prefaced by a double `**`, and the statement is:"
   ]
  },
  {
   "cell_type": "code",
   "execution_count": 235,
   "metadata": {},
   "outputs": [
    {
     "name": "stdout",
     "output_type": "stream",
     "text": [
      "key: a - value: 4\n",
      "key: b - value: []\n"
     ]
    }
   ],
   "source": [
    "def func(*args, **kwargs):\n",
    "    for k, v in kwargs.items():\n",
    "        print(\"key: {} - value: {}\".format(k, v))\n",
    "\n",
    "func(a=4, b=[])"
   ]
  },
  {
   "cell_type": "markdown",
   "metadata": {},
   "source": [
    "Again, the name `kwargs` is common practice but not imperative. Furthermore, note that if no by-order `*args` are given, the function nonetheless executes without error - the `args` list is simply not populated and one could test inside the function body whether any are present (e.g. with `if len(args) > 0:`).\n",
    "\n",
    "## Variable scope\n",
    "\n",
    "The concept of *scope* is a very important one. Most modern languages implement some version of it. The idea is that in order to keep accidental mess-ups to a minimum, variables are only defined inside a particular \"scope\". Scopes, in turn are nested hierarchically; for example, your entire script file corresponds to one scope, and the body of a function represents another, nested scope.\n",
    "\n",
    "**<span style=\"color:red\">Variables that are only defined <span style=\"color:green\">inside</span> a function will never be \"visible\" <span style=\"color:green\">outside</span> of it</span>.** This is so as to prevent *collisions* between names, in particular if you use someone else's code and don't know how she named her variables."
   ]
  },
  {
   "cell_type": "code",
   "execution_count": 240,
   "metadata": {},
   "outputs": [
    {
     "ename": "NameError",
     "evalue": "name 'inside' is not defined",
     "output_type": "error",
     "traceback": [
      "\u001b[0;31m---------------------------------------------------------------------------\u001b[0m",
      "\u001b[0;31mNameError\u001b[0m                                 Traceback (most recent call last)",
      "\u001b[0;32m<ipython-input-240-1872572c42ce>\u001b[0m in \u001b[0;36m<module>\u001b[0;34m()\u001b[0m\n\u001b[1;32m      2\u001b[0m     \u001b[0minside\u001b[0m \u001b[0;34m=\u001b[0m \u001b[0;34m'defined'\u001b[0m\u001b[0;34m\u001b[0m\u001b[0m\n\u001b[1;32m      3\u001b[0m \u001b[0;34m\u001b[0m\u001b[0m\n\u001b[0;32m----> 4\u001b[0;31m \u001b[0minside\u001b[0m\u001b[0;34m\u001b[0m\u001b[0m\n\u001b[0m",
      "\u001b[0;31mNameError\u001b[0m: name 'inside' is not defined"
     ]
    }
   ],
   "source": [
    "def func():\n",
    "    inside = 'defined'\n",
    "\n",
    "inside"
   ]
  },
  {
   "cell_type": "code",
   "execution_count": 242,
   "metadata": {},
   "outputs": [
    {
     "name": "stdout",
     "output_type": "stream",
     "text": [
      "defined\n"
     ]
    }
   ],
   "source": [
    "def func():\n",
    "    inside = 'defined'\n",
    "    print(inside)\n",
    "\n",
    "func()"
   ]
  },
  {
   "cell_type": "markdown",
   "metadata": {},
   "source": [
    "However, for convenience, **<span style=\"color:red\">a function body does have access to variables that are defined in the <span style=\"color:green\">enclosing</span> scope</span>**."
   ]
  },
  {
   "cell_type": "code",
   "execution_count": 243,
   "metadata": {},
   "outputs": [
    {
     "name": "stdout",
     "output_type": "stream",
     "text": [
      "sunshine\n"
     ]
    }
   ],
   "source": [
    "outside = 'sunshine'\n",
    "def func():\n",
    "    print(outside)\n",
    "    \n",
    "func()"
   ]
  },
  {
   "cell_type": "markdown",
   "metadata": {},
   "source": [
    "However, for safety, **<span style=\"color:red\">if a function body modifies the value of an outside variable, it is only overwritten inside the function</span>** - the function has no *side effects*: effects on the enclosing program other than possibly returning a value."
   ]
  },
  {
   "cell_type": "code",
   "execution_count": 247,
   "metadata": {},
   "outputs": [
    {
     "data": {
      "text/plain": [
       "'sunshine'"
      ]
     },
     "execution_count": 247,
     "metadata": {},
     "output_type": "execute_result"
    }
   ],
   "source": [
    "outside = 'sunshine'\n",
    "def func():\n",
    "    outside = 'dark'\n",
    "\n",
    "func()\n",
    "outside"
   ]
  },
  {
   "cell_type": "markdown",
   "metadata": {},
   "source": [
    "It may be that the behavior of overwriting the outside variable is desired, in which case the variable could be declared inside the function body as `global` - however, this is a strongly discouraged practice which I mention only for the sake of completeness:"
   ]
  },
  {
   "cell_type": "code",
   "execution_count": 248,
   "metadata": {},
   "outputs": [
    {
     "data": {
      "text/plain": [
       "'dark'"
      ]
     },
     "execution_count": 248,
     "metadata": {},
     "output_type": "execute_result"
    }
   ],
   "source": [
    "def func():\n",
    "    global outside\n",
    "    outside = 'dark'\n",
    "\n",
    "func()\n",
    "outside"
   ]
  },
  {
   "cell_type": "markdown",
   "metadata": {},
   "source": [
    "## Lambda expressions\n",
    "\n",
    "Sometimes, you want to use a function-like object (a `callable` in Python parlance) without using the full `def...` syntaxt - sort of \"on the fly\". For this case there exists the so-called `lambda` expression, which provides you with a way of constructing a `callable` without defining a function first. This happens mostly in connection with functions that take themselves a `callable` as argument, such as `sorted`:"
   ]
  },
  {
   "cell_type": "code",
   "execution_count": 310,
   "metadata": {},
   "outputs": [
    {
     "data": {
      "text/plain": [
       "[(4, 1), (1, 2)]"
      ]
     },
     "execution_count": 310,
     "metadata": {},
     "output_type": "execute_result"
    }
   ],
   "source": [
    "a = [(1, 2), (4, 1)]\n",
    "sorted(a, key=lambda i: i[1])"
   ]
  },
  {
   "cell_type": "markdown",
   "metadata": {},
   "source": [
    "With a regular function, above expression would look like:"
   ]
  },
  {
   "cell_type": "code",
   "execution_count": 311,
   "metadata": {},
   "outputs": [
    {
     "data": {
      "text/plain": [
       "[(4, 1), (1, 2)]"
      ]
     },
     "execution_count": 311,
     "metadata": {},
     "output_type": "execute_result"
    }
   ],
   "source": [
    "def k(i):\n",
    "    return i[1]\n",
    "sorted(a, key=k)"
   ]
  },
  {
   "cell_type": "markdown",
   "metadata": {},
   "source": [
    "The point here is that we want `sorted` to sort the list according to the *second* element in each of the tuples that make up the list. The optional argument `key` to `sorted` takes a callable as an argument that is invoked on each element of the list and here returns its second value. By default, `sorted` would probably use the first element of the tuples for sorting:"
   ]
  },
  {
   "cell_type": "code",
   "execution_count": 312,
   "metadata": {},
   "outputs": [
    {
     "data": {
      "text/plain": [
       "[(1, 4), (2, 1)]"
      ]
     },
     "execution_count": 312,
     "metadata": {},
     "output_type": "execute_result"
    }
   ],
   "source": [
    "sorted([(2, 1), (1, 4)])"
   ]
  },
  {
   "cell_type": "markdown",
   "metadata": {},
   "source": [
    "The `lambda` expression does not assign the function to a name as does the `def`-type function definition. However, it's of course possible to do just that:"
   ]
  },
  {
   "cell_type": "code",
   "execution_count": 313,
   "metadata": {},
   "outputs": [
    {
     "data": {
      "text/plain": [
       "[(4, 1), (1, 2)]"
      ]
     },
     "execution_count": 313,
     "metadata": {},
     "output_type": "execute_result"
    }
   ],
   "source": [
    "l = lambda element: element[1]\n",
    "sorted(a, key=l)"
   ]
  },
  {
   "cell_type": "markdown",
   "metadata": {},
   "source": [
    "As always, how we name the argument to `lambda` (before the colon) is up to us, and several arguments can be given: "
   ]
  },
  {
   "cell_type": "code",
   "execution_count": 314,
   "metadata": {},
   "outputs": [
    {
     "data": {
      "text/plain": [
       "9"
      ]
     },
     "execution_count": 314,
     "metadata": {},
     "output_type": "execute_result"
    }
   ],
   "source": [
    "# this syntax immediately evaluates the lambda on the input (4, 5)\n",
    "(lambda x, y: x + y)(4, 5)"
   ]
  },
  {
   "cell_type": "markdown",
   "metadata": {},
   "source": [
    "# More statements\n",
    "\n",
    "I will finish this introduction by briefly mentioning some more commonly used statements in Python, without aspiring to be comprehensive.\n",
    "\n",
    "## `with` statements\n",
    "\n",
    "The `with` statement is closely linked to the idea of scope; in fact it creates what is called, in Python, a **\"context\"** and is used with a number of objects that provide the necessary methods (`__enter__` and `__exit__`). \n",
    "\n",
    "A common example is the object returned when you open a file:"
   ]
  },
  {
   "cell_type": "code",
   "execution_count": null,
   "metadata": {},
   "outputs": [],
   "source": [
    "with open('filename.txt', 'w') as f:\n",
    "    f.write('something')"
   ]
  },
  {
   "cell_type": "markdown",
   "metadata": {},
   "source": [
    "This opens the file 'filename.txt' in write mode (argument `'w'`) and assigns the file handle object to the name `f`. Inside the (indented) block, I have access to this file handle called `f` (and again, you're free to substitute any name here). The purpose of the `with` block, in this case, is to automatically close the file again after the block is exited. Different `with` statements may have different purposes, and you can also implement your own objects providing \"contexts\"; but in general they're there in order to \"clean up\" after a block automatically.\n",
    "\n",
    "Without the `with`, you would do the following:"
   ]
  },
  {
   "cell_type": "code",
   "execution_count": null,
   "metadata": {},
   "outputs": [],
   "source": [
    "f = open('filename.txt', 'w')\n",
    "f.write('something')\n",
    "f.close()"
   ]
  },
  {
   "cell_type": "markdown",
   "metadata": {},
   "source": [
    "## Error handling (`try: except:` statements)\n",
    "\n",
    "As you probably have noticed by now, Python often gives errors if something unexpected occurs. In code that you write, you can also imbue your objects with the ability to throw errors with enlightening messages for other users. \n",
    "\n",
    "Generally, if an error occurs, it will interrupt your program. This may sometimes not be desirable (e.g. if you're running a long loop which will fail on some, but not most iterations). For this purpose, a special syntax exists that allows you to \"catch\" errors and provide an alternative way of proceeding:"
   ]
  },
  {
   "cell_type": "code",
   "execution_count": 250,
   "metadata": {},
   "outputs": [
    {
     "name": "stdout",
     "output_type": "stream",
     "text": [
      "2\n",
      "3\n",
      "4\n",
      "error: None\n",
      "6\n",
      "7\n"
     ]
    }
   ],
   "source": [
    "for i in [1, 2, 3, None, 5, 6]:\n",
    "    try:\n",
    "        print(i + 1)\n",
    "    except:\n",
    "        print(\"error: {}\".format(i))"
   ]
  },
  {
   "cell_type": "markdown",
   "metadata": {},
   "source": [
    "The error handling is performed by the `try: ... except:` statement, I only wrapped it inside a loop in order to produce an error on one iteration only (when I try to add 1 to `None`). In general, only the code block under the `try:` clause is executed, **unless** an error occurs within this block, in which case the code under the `except:` clause is executed instead.\n",
    "\n",
    "There are some variations of this statement: for once, you can assign the actual error that is thrown to a name of your choosing by means of an `as ...` expression:"
   ]
  },
  {
   "cell_type": "code",
   "execution_count": 253,
   "metadata": {},
   "outputs": [
    {
     "name": "stdout",
     "output_type": "stream",
     "text": [
      "2\n",
      "3\n",
      "4\n",
      "6\n",
      "7\n"
     ]
    }
   ],
   "source": [
    "for i in [1, 2, 3, None, 5, 6]:\n",
    "    try:\n",
    "        print(i + 1)\n",
    "    except Exception as exc:\n",
    "        a = exc"
   ]
  },
  {
   "cell_type": "markdown",
   "metadata": {},
   "source": [
    "In this case, when an error occurs, the \"error object\" (whose most general base class is `Exception`) is assigned to the name `exc` (in this case), which I then assign to the variable name `a` in order to inspect it here:"
   ]
  },
  {
   "cell_type": "code",
   "execution_count": 254,
   "metadata": {},
   "outputs": [
    {
     "data": {
      "text/plain": [
       "TypeError(\"unsupported operand type(s) for +: 'NoneType' and 'int'\")"
      ]
     },
     "execution_count": 254,
     "metadata": {},
     "output_type": "execute_result"
    }
   ],
   "source": [
    "a"
   ]
  },
  {
   "cell_type": "markdown",
   "metadata": {},
   "source": [
    "The reason why I need to do this is that the name `exc` resulting from the `as` statement is only valid inside the scope of the `except` block. As you can see, it as a particular type of error that is being thrown; in fact, `TypeError` is simply a subclass of the basic `Exception`. The specific error type can be used in order to tailor your error-catching operation:"
   ]
  },
  {
   "cell_type": "code",
   "execution_count": 255,
   "metadata": {},
   "outputs": [
    {
     "name": "stdout",
     "output_type": "stream",
     "text": [
      "2\n",
      "3\n",
      "4\n",
      "None\n",
      "6\n",
      "7\n"
     ]
    }
   ],
   "source": [
    "for i in [1, 2, 3, None, 5, 6]:\n",
    "    try:\n",
    "        print(i + 1)\n",
    "    except TypeError:\n",
    "        print(i)"
   ]
  },
  {
   "cell_type": "markdown",
   "metadata": {},
   "source": [
    "This expression will only catch `TypeError`s. Here's an example of a different type of error:"
   ]
  },
  {
   "cell_type": "code",
   "execution_count": 257,
   "metadata": {},
   "outputs": [
    {
     "ename": "IndexError",
     "evalue": "list index out of range",
     "output_type": "error",
     "traceback": [
      "\u001b[0;31m---------------------------------------------------------------------------\u001b[0m",
      "\u001b[0;31mIndexError\u001b[0m                                Traceback (most recent call last)",
      "\u001b[0;32m<ipython-input-257-a392fe6eb072>\u001b[0m in \u001b[0;36m<module>\u001b[0;34m()\u001b[0m\n\u001b[0;32m----> 1\u001b[0;31m \u001b[0;34m[\u001b[0m\u001b[0;36m1\u001b[0m\u001b[0;34m,\u001b[0m \u001b[0;36m2\u001b[0m\u001b[0;34m,\u001b[0m \u001b[0;36m3\u001b[0m\u001b[0;34m]\u001b[0m\u001b[0;34m[\u001b[0m\u001b[0;36m3\u001b[0m\u001b[0;34m]\u001b[0m\u001b[0;34m\u001b[0m\u001b[0m\n\u001b[0m",
      "\u001b[0;31mIndexError\u001b[0m: list index out of range"
     ]
    }
   ],
   "source": [
    "[1, 2, 3][3]"
   ]
  },
  {
   "cell_type": "markdown",
   "metadata": {},
   "source": [
    "I was trying to access element `3` of a three-element list (remember, indexes in Python start with 0). Let's try and catch that one:"
   ]
  },
  {
   "cell_type": "code",
   "execution_count": 258,
   "metadata": {},
   "outputs": [
    {
     "name": "stdout",
     "output_type": "stream",
     "text": [
      "caught it\n"
     ]
    }
   ],
   "source": [
    "try:\n",
    "    a = [1, 2, 3][3]\n",
    "    print(a)\n",
    "except IndexError:\n",
    "    print('caught it')"
   ]
  },
  {
   "cell_type": "markdown",
   "metadata": {},
   "source": [
    "If I only wanted to catch a `TypeError`:"
   ]
  },
  {
   "cell_type": "code",
   "execution_count": 259,
   "metadata": {},
   "outputs": [
    {
     "ename": "IndexError",
     "evalue": "list index out of range",
     "output_type": "error",
     "traceback": [
      "\u001b[0;31m---------------------------------------------------------------------------\u001b[0m",
      "\u001b[0;31mIndexError\u001b[0m                                Traceback (most recent call last)",
      "\u001b[0;32m<ipython-input-259-cd5728030bfd>\u001b[0m in \u001b[0;36m<module>\u001b[0;34m()\u001b[0m\n\u001b[1;32m      1\u001b[0m \u001b[0;32mtry\u001b[0m\u001b[0;34m:\u001b[0m\u001b[0;34m\u001b[0m\u001b[0m\n\u001b[0;32m----> 2\u001b[0;31m     \u001b[0ma\u001b[0m \u001b[0;34m=\u001b[0m \u001b[0;34m[\u001b[0m\u001b[0;36m1\u001b[0m\u001b[0;34m,\u001b[0m \u001b[0;36m2\u001b[0m\u001b[0;34m,\u001b[0m \u001b[0;36m3\u001b[0m\u001b[0;34m]\u001b[0m\u001b[0;34m[\u001b[0m\u001b[0;36m3\u001b[0m\u001b[0;34m]\u001b[0m\u001b[0;34m\u001b[0m\u001b[0m\n\u001b[0m\u001b[1;32m      3\u001b[0m     \u001b[0mprint\u001b[0m\u001b[0;34m(\u001b[0m\u001b[0ma\u001b[0m\u001b[0;34m)\u001b[0m\u001b[0;34m\u001b[0m\u001b[0m\n\u001b[1;32m      4\u001b[0m \u001b[0;32mexcept\u001b[0m \u001b[0mTypeError\u001b[0m\u001b[0;34m:\u001b[0m\u001b[0;34m\u001b[0m\u001b[0m\n\u001b[1;32m      5\u001b[0m     \u001b[0mprint\u001b[0m\u001b[0;34m(\u001b[0m\u001b[0;34m'caught it'\u001b[0m\u001b[0;34m)\u001b[0m\u001b[0;34m\u001b[0m\u001b[0m\n",
      "\u001b[0;31mIndexError\u001b[0m: list index out of range"
     ]
    }
   ],
   "source": [
    "try:\n",
    "    a = [1, 2, 3][3]\n",
    "    print(a)\n",
    "except TypeError:\n",
    "    print('caught it')"
   ]
  },
  {
   "cell_type": "markdown",
   "metadata": {},
   "source": [
    "The index error would not be caught. `Exception` is the general base class for **all** errors and will catch them all. It is also possible to provide several per-error `except:` clauses:"
   ]
  },
  {
   "cell_type": "code",
   "execution_count": 260,
   "metadata": {},
   "outputs": [
    {
     "name": "stdout",
     "output_type": "stream",
     "text": [
      "list index out of range\n"
     ]
    }
   ],
   "source": [
    "try:\n",
    "    a = [1, 2, 3][3]\n",
    "    print(a)\n",
    "except TypeError as te:\n",
    "    print(te)\n",
    "except IndexError as ie:\n",
    "    print(ie)"
   ]
  },
  {
   "cell_type": "markdown",
   "metadata": {},
   "source": [
    "There has to be at least one `except:` clause, but it is one of those instances where the word `pass` comes in handy if you just want to avoid the error interrupting the program, but have no alternative execution requirement:"
   ]
  },
  {
   "cell_type": "code",
   "execution_count": 261,
   "metadata": {},
   "outputs": [
    {
     "name": "stdout",
     "output_type": "stream",
     "text": [
      "2\n",
      "3\n",
      "4\n",
      "6\n",
      "7\n"
     ]
    }
   ],
   "source": [
    "for i in [1, 2, 3, None, 5, 6]:\n",
    "    try:\n",
    "        print(i + 1)\n",
    "    except:\n",
    "        pass"
   ]
  },
  {
   "cell_type": "markdown",
   "metadata": {},
   "source": [
    "There are two further **optional** clauses that can be used with a `try:` statement:\n",
    "- `else:` - which contains code that should **only** be executed if the code inside the `try:` block does **not** throw and error\n",
    "- `finally:` - which contains code that should **always** be executed.\n",
    "\n",
    "A complete example:"
   ]
  },
  {
   "cell_type": "code",
   "execution_count": 264,
   "metadata": {},
   "outputs": [
    {
     "name": "stdout",
     "output_type": "stream",
     "text": [
      "no error, j is 2\n",
      "always\n",
      "no error, j is 3\n",
      "always\n",
      "no error, j is 4\n",
      "always\n",
      "error, i is None\n",
      "always\n",
      "no error, j is 6\n",
      "always\n",
      "no error, j is 7\n",
      "always\n"
     ]
    }
   ],
   "source": [
    "for i in [1, 2, 3, None, 5, 6]:\n",
    "    try:\n",
    "       j = i + 1\n",
    "    except:\n",
    "        print(\"error, i is {}\".format(i))\n",
    "    else:\n",
    "        print(\"no error, j is {}\".format(j))\n",
    "    finally:\n",
    "        print(\"always\")"
   ]
  },
  {
   "cell_type": "markdown",
   "metadata": {},
   "source": [
    "As a final comment, you can raise your own errors. The simplest way to do that is:"
   ]
  },
  {
   "cell_type": "code",
   "execution_count": 265,
   "metadata": {},
   "outputs": [
    {
     "ename": "Exception",
     "evalue": "Whatever I want to tell the user.",
     "output_type": "error",
     "traceback": [
      "\u001b[0;31m---------------------------------------------------------------------------\u001b[0m",
      "\u001b[0;31mException\u001b[0m                                 Traceback (most recent call last)",
      "\u001b[0;32m<ipython-input-265-5c75522acea8>\u001b[0m in \u001b[0;36m<module>\u001b[0;34m()\u001b[0m\n\u001b[0;32m----> 1\u001b[0;31m \u001b[0;32mraise\u001b[0m \u001b[0mException\u001b[0m\u001b[0;34m(\u001b[0m\u001b[0;34m\"Whatever I want to tell the user.\"\u001b[0m\u001b[0;34m)\u001b[0m\u001b[0;34m\u001b[0m\u001b[0m\n\u001b[0m",
      "\u001b[0;31mException\u001b[0m: Whatever I want to tell the user."
     ]
    }
   ],
   "source": [
    "raise Exception(\"Whatever I want to tell the user.\")"
   ]
  },
  {
   "cell_type": "markdown",
   "metadata": {},
   "source": [
    "More functionally usefull is the ability to create your own, named subclass of `Exception`, which can then be caught explicitly by another part of the code. This is actually a design pattern in Python: it provides an easy, albeit somewhat misappropriated way of communicating between distant parts of your code."
   ]
  },
  {
   "cell_type": "code",
   "execution_count": 267,
   "metadata": {},
   "outputs": [
    {
     "name": "stdout",
     "output_type": "stream",
     "text": [
      "You can't add to me!\n",
      "Even though this is an exception, I can actually use this as a form of flow control.\n"
     ]
    }
   ],
   "source": [
    "class Help(Exception):\n",
    "    pass\n",
    "\n",
    "class Swimmer(object):\n",
    "    def __add__(self, other):\n",
    "        raise Help(\"You can't add to me!\")\n",
    "    \n",
    "Shelley = Swimmer()\n",
    "try:\n",
    "    Shelley + 1\n",
    "except Help as h:\n",
    "    print(h)\n",
    "    print(\"Even though this is an exception, I can actually use this as a form of flow control.\")"
   ]
  },
  {
   "cell_type": "markdown",
   "metadata": {},
   "source": [
    "# Python modules\n",
    "\n",
    "Now that we have a fundation on which to build, let's look at how to use libraries in Python. When you write a Python script or work interactively as we are doing here right now, there is a certain number of fundamental statements that the interpreter will understand - all of the ones we have used so far belong to this category. You will have noticed that those \"always present\" language elements comprise both *statements* (like the `try: except:` statement we just talked about) and functions (like the `print()` function).\n",
    "\n",
    "Even without installing anything else, the base Python includes a number of additional tools and functionalities which are not automatically accessible; furthermore, the Python ecosystem consists of probably millions of additional libraries written by Python programmers and available as Open Source. \n",
    "\n",
    "Additional libraries in Python are called **modules**. A module is always *one* text file containing the code that provides the additional functionality. This may include functions, classes or even just variables. Modules have to be **imported** before the code they provide is available to the interpreter. Once imported, the module is just another \"object\" whose attributes (i.e. everything the module defines) can be accessed by dot-accessor syntax.\n",
    "\n",
    "Modules can furthermore be grouped into **packages** - collections of individual module files that belong, in the creator's opinion, together. The access via dot-accessor traverses hierarchies: `package.module.class.method`. \n",
    "\n",
    "Hopefully this will become a little clearer with examples. Let us look at one particular, frequently used **built-in** Python module which is not automatically imported when you start Python, the `os` module (`os` stands for operating system). In order to import a module, there is an `import` statement."
   ]
  },
  {
   "cell_type": "code",
   "execution_count": 270,
   "metadata": {},
   "outputs": [
    {
     "data": {
      "text/plain": [
       "['src', 'data', 'other', 'plots', 'old', 'notes', 'code']"
      ]
     },
     "execution_count": 270,
     "metadata": {},
     "output_type": "execute_result"
    }
   ],
   "source": [
    "import os\n",
    "os.listdir('/home/arno/Documents')"
   ]
  },
  {
   "cell_type": "markdown",
   "metadata": {},
   "source": [
    "The `os` module contains all kinds of tools relating to the file system; `listdir`, for example, returns the contents of a directory (given as argument, or defaulting to the current one) as a Python `list`. A very frequently used submodule (yes, the distinction between modules and packages gets foggy at some point) is `os.path`, which contains tools to deal with file system paths, e.g."
   ]
  },
  {
   "cell_type": "code",
   "execution_count": 271,
   "metadata": {},
   "outputs": [
    {
     "data": {
      "text/plain": [
       "'home/arno'"
      ]
     },
     "execution_count": 271,
     "metadata": {},
     "output_type": "execute_result"
    }
   ],
   "source": [
    "os.path.join(\"home\", \"arno\")"
   ]
  },
  {
   "cell_type": "markdown",
   "metadata": {},
   "source": [
    "Important to understand is how the import system works. In the above form, a single \"symbol\" (the name `os`) is imported into the respective scope (in our case simply our interactive workspace, or the scope created when running a script), and additional functionality is accessible via the dot-accessors. There are some additional variants of the import statement:"
   ]
  },
  {
   "cell_type": "code",
   "execution_count": 272,
   "metadata": {},
   "outputs": [
    {
     "data": {
      "text/plain": [
       "['src', 'data', 'other', 'plots', 'old', 'notes', 'code']"
      ]
     },
     "execution_count": 272,
     "metadata": {},
     "output_type": "execute_result"
    }
   ],
   "source": [
    "import os as something\n",
    "something.listdir('/home/arno/Documents')"
   ]
  },
  {
   "cell_type": "markdown",
   "metadata": {},
   "source": [
    "The `as` keyword assigns the imported module to a different name than its own, in this case `something` - this is used frequently, albeit usually in order to shorten a long module name to something shorter.\n",
    "\n",
    "If I know I only want to use the `os.path` submodule, I can restrict my import:\n",
    "```python\n",
    "import os.path\n",
    "```\n",
    "in which case it will be accessible exactlyas imported, as `os.path`. Of course, I can reassign the name:\n",
    "```python\n",
    "import os.path as path\n",
    "```\n",
    "in which case it will be accessible as `path`. The same can be achieved by the following syntax:\n",
    "```python\n",
    "from os import path\n",
    "```\n",
    "which only imports the `path` submodule from `os` and assigns it to the name `path`. The two variants can be combined:"
   ]
  },
  {
   "cell_type": "code",
   "execution_count": 274,
   "metadata": {},
   "outputs": [
    {
     "data": {
      "text/plain": [
       "'home/arno'"
      ]
     },
     "execution_count": 274,
     "metadata": {},
     "output_type": "execute_result"
    }
   ],
   "source": [
    "from os import path as p\n",
    "p.join(\"home\", \"arno\")"
   ]
  },
  {
   "cell_type": "markdown",
   "metadata": {},
   "source": [
    "The `from import` variant does not need to refer to a whole module, it can be used to import only one named entity of any sort from a module. For example, there is a variable called the system path, which is a simple Python `list` populated with locations where to search for additional modules when evoking the `import` statement. It is usually accessed by:"
   ]
  },
  {
   "cell_type": "code",
   "execution_count": 276,
   "metadata": {},
   "outputs": [
    {
     "data": {
      "text/plain": [
       "['',\n",
       " '/home/arno/Documents/code/python',\n",
       " '/home/arno/Documents/code/conda/envs/intel/lib/python36.zip',\n",
       " '/home/arno/Documents/code/conda/envs/intel/lib/python3.6',\n",
       " '/home/arno/Documents/code/conda/envs/intel/lib/python3.6/lib-dynload',\n",
       " '/home/arno/.local/lib/python3.6/site-packages',\n",
       " '/home/arno/Documents/code/conda/envs/intel/lib/python3.6/site-packages',\n",
       " '/home/arno/Documents/code/conda/envs/intel/lib/python3.6/site-packages/Sphinx-1.6.3-py3.6.egg',\n",
       " '/home/arno/Documents/code/conda/envs/intel/lib/python3.6/site-packages/IPython/extensions',\n",
       " '/home/arno/.ipython']"
      ]
     },
     "execution_count": 276,
     "metadata": {},
     "output_type": "execute_result"
    }
   ],
   "source": [
    "import sys\n",
    "sys.path"
   ]
  },
  {
   "cell_type": "markdown",
   "metadata": {},
   "source": [
    "But I could also import it directly:"
   ]
  },
  {
   "cell_type": "code",
   "execution_count": 275,
   "metadata": {},
   "outputs": [
    {
     "data": {
      "text/plain": [
       "['',\n",
       " '/home/arno/Documents/code/python',\n",
       " '/home/arno/Documents/code/conda/envs/intel/lib/python36.zip',\n",
       " '/home/arno/Documents/code/conda/envs/intel/lib/python3.6',\n",
       " '/home/arno/Documents/code/conda/envs/intel/lib/python3.6/lib-dynload',\n",
       " '/home/arno/.local/lib/python3.6/site-packages',\n",
       " '/home/arno/Documents/code/conda/envs/intel/lib/python3.6/site-packages',\n",
       " '/home/arno/Documents/code/conda/envs/intel/lib/python3.6/site-packages/Sphinx-1.6.3-py3.6.egg',\n",
       " '/home/arno/Documents/code/conda/envs/intel/lib/python3.6/site-packages/IPython/extensions',\n",
       " '/home/arno/.ipython']"
      ]
     },
     "execution_count": 275,
     "metadata": {},
     "output_type": "execute_result"
    }
   ],
   "source": [
    "from sys import path as syspath\n",
    "syspath"
   ]
  },
  {
   "cell_type": "markdown",
   "metadata": {},
   "source": [
    "You may also sometimes see code that uses a variant of the sort `from sys import *`, which means that all definitions of the `sys` module should be imported into the current scope. This practice is strongly discouraged, again for name-collision reasons. If you only import the top-level module, e.g. `os`, there will be only this one name defined in your scope, but everything that is defined \"below\" the level of `os` can be accessed via dot-accessor syntax. That way, if you have defined a variable `path` in your script, there will be no collision with the `path` inside the `os` module, which will have to be accessed as `os.path`. \n",
    "\n",
    "This is a common programming practive called **\"namespacing\"**. The top-level \"namespace\" here is `os`. If I import the module `sys`, all of **its** submodules, classes and functions are said to live in the `sys` namespace. Namespaces and scopes are both concepts that are used in order to minimize the potential for bugs; on important thing to bear in mind is that you never know what names anohter programmer gives to her variables, so that it is better to keep them separate (namespaced!) from your own.\n",
    "\n",
    "A few more practical comments:\n",
    "- If you import a simple module consisting of a single file, all the definitions that live in this file will be accessible by dot-syntax. However, sometimes you don't know if what you're importing is actually a package, consisting of many files, and it can happen that what you think is a submodule are **not** accessible from the top level. In this case you need to import the submodule explicitly. Example:"
   ]
  },
  {
   "cell_type": "code",
   "execution_count": 286,
   "metadata": {},
   "outputs": [
    {
     "data": {
      "text/plain": [
       "<module 'sklearn.tree' from '/home/arno/Documents/code/conda/envs/intel/lib/python3.6/site-packages/sklearn/tree/__init__.py'>"
      ]
     },
     "execution_count": 286,
     "metadata": {},
     "output_type": "execute_result"
    }
   ],
   "source": [
    "# works\n",
    "from sklearn import tree\n",
    "tree"
   ]
  },
  {
   "cell_type": "code",
   "execution_count": 287,
   "metadata": {},
   "outputs": [
    {
     "ename": "AttributeError",
     "evalue": "module 'sklearn' has no attribute 'tree'",
     "output_type": "error",
     "traceback": [
      "\u001b[0;31m---------------------------------------------------------------------------\u001b[0m",
      "\u001b[0;31mAttributeError\u001b[0m                            Traceback (most recent call last)",
      "\u001b[0;32m<ipython-input-287-e128257d9cbd>\u001b[0m in \u001b[0;36m<module>\u001b[0;34m()\u001b[0m\n\u001b[1;32m      1\u001b[0m \u001b[0;31m# doesn't work\u001b[0m\u001b[0;34m\u001b[0m\u001b[0;34m\u001b[0m\u001b[0m\n\u001b[1;32m      2\u001b[0m \u001b[0;32mimport\u001b[0m \u001b[0msklearn\u001b[0m \u001b[0;32mas\u001b[0m \u001b[0mskl\u001b[0m\u001b[0;34m\u001b[0m\u001b[0m\n\u001b[0;32m----> 3\u001b[0;31m \u001b[0mskl\u001b[0m\u001b[0;34m.\u001b[0m\u001b[0mtree\u001b[0m\u001b[0;34m\u001b[0m\u001b[0m\n\u001b[0m",
      "\u001b[0;31mAttributeError\u001b[0m: module 'sklearn' has no attribute 'tree'"
     ]
    }
   ],
   "source": [
    "# doesn't work\n",
    "import sklearn as skl\n",
    "skl.tree"
   ]
  },
  {
   "cell_type": "markdown",
   "metadata": {},
   "source": [
    "- Modules are ever only imported **once** per session. A repeat `import` statement has no effect, although there are some \"reload\" tools in existence (this is really only relevant if you are working on your own module). Loaded modules are added to the dictionary `sys.modules`, and before executing any `import` statement, the Python interpreter looks there to see if the respective module has been imported before.\n",
    "- Imports are only available within the scope inside which you executed the `import` statement. If you imported something inside a function, it will only be available inside the function.\n",
    "\n",
    "## Modules vs. scripts\n",
    "\n",
    "In the beginning, you will probably write more scripts than modules. The difference is that scripts are simply \"run\", whereas modules are \"imported\". Modules generally live in their own namespace, whereas the definitions contained in a script are simply added to the current namespace.\n",
    "\n",
    "It is possible to design files that can double as both a module or a script; a module can be used in a different script or module (by importing it), whereas a script cannot. This is typically done with a particular idiom:\n",
    "```python\n",
    "# main module code\n",
    "class Classname(object):\n",
    "    def run(self):\n",
    "        do something\n",
    "\n",
    "# this statement determines whether the file is imported or run as a script:\n",
    "if __name__ == '__main__':\n",
    "    c = Classname()\n",
    "    c.run()\n",
    "```\n",
    "\n",
    "The built-in variable `__name__` is always set to \"__main__\" if the file is executed as a script, whereas it is set to the name of the module if it is imported:"
   ]
  },
  {
   "cell_type": "code",
   "execution_count": 289,
   "metadata": {},
   "outputs": [
    {
     "data": {
      "text/plain": [
       "'os'"
      ]
     },
     "execution_count": 289,
     "metadata": {},
     "output_type": "execute_result"
    }
   ],
   "source": [
    "os.__name__"
   ]
  },
  {
   "cell_type": "markdown",
   "metadata": {},
   "source": [
    "The typical pattern is to define some class in the module body, which can for example be imported and reused by other scripts/modules, but to initialize the class and execute a method only when the file is run as a script."
   ]
  },
  {
   "cell_type": "markdown",
   "metadata": {},
   "source": [
    "# Numpy\n",
    "\n",
    "Let us now turn to the arguably most important third-party module you will use in numerical work: [Numpy](http://www.numpy.org/). The main claim to fame of Numpy is that it provides Python with a data structure that is missing from the language itself: arrays.\n",
    "\n",
    "## What is an array?\n",
    "\n",
    "An array is a collection of similar items, in particular numbers of a given type. It is most frequently thought of as the computer's equivalent to the mathematical concept of a vector. It has a superficial similarity to a Python `list` (in that it is a collection of items accessible by an index), but it differs in several respects:\n",
    "- once constructed, its **size** can no longer be changed (but unlike with a `tuple`, values **can** be changed)\n",
    "- its elements are of **one** type only (usually, a numerical type like float or int)\n",
    "- it offers vectorized computations (i.e. linear algebra)\n",
    "\n",
    "Arrays are **vastly** more efficient than Python lists, in part because they do not offer a lot of the flexibility and functionality that lists offer, in part because Numpy is really implemented in C and all of its functions are carried out by highly optimized and compiled code, **not** by the Python interpreter. A lot of Analysis work would simply not be possible due to the relative inefficiency of Python itself - however, thanks to packages like Numpy, this restriction is not very relevant, which is precisely what has made Python so popular. \n",
    "\n",
    "Let us import Numpy and construct an array:"
   ]
  },
  {
   "cell_type": "code",
   "execution_count": 290,
   "metadata": {},
   "outputs": [
    {
     "data": {
      "text/plain": [
       "array([1, 2, 3])"
      ]
     },
     "execution_count": 290,
     "metadata": {},
     "output_type": "execute_result"
    }
   ],
   "source": [
    "import numpy as np # it can almost be considered a 'standard' to import numpy as 'np'\n",
    "a = np.array([1, 2, 3])\n",
    "a"
   ]
  },
  {
   "cell_type": "markdown",
   "metadata": {},
   "source": [
    "As you can see, you intialize an array by giving it a `list` of the elements it is supposed to hold. What data type has Numpy used?"
   ]
  },
  {
   "cell_type": "code",
   "execution_count": 291,
   "metadata": {},
   "outputs": [
    {
     "data": {
      "text/plain": [
       "dtype('int64')"
      ]
     },
     "execution_count": 291,
     "metadata": {},
     "output_type": "execute_result"
    }
   ],
   "source": [
    "a.dtype"
   ]
  },
  {
   "cell_type": "markdown",
   "metadata": {},
   "source": [
    "Apparently, integers. If I want to \"coerce\" them to floats, I can use the same strategy as in raw Python:"
   ]
  },
  {
   "cell_type": "code",
   "execution_count": 293,
   "metadata": {},
   "outputs": [
    {
     "data": {
      "text/plain": [
       "dtype('float64')"
      ]
     },
     "execution_count": 293,
     "metadata": {},
     "output_type": "execute_result"
    }
   ],
   "source": [
    "a = np.array([1., 2, 3])\n",
    "a.dtype"
   ]
  },
  {
   "cell_type": "markdown",
   "metadata": {},
   "source": [
    "It's sufficient that **one** of the numbers be a float, that \"upcasts\" all the other integers to floats (because floats are a more general class of type than integers, as in, integers can be represented as floats, but not vice versa). Also note that Numpy actually defines its own numeric types (e.g. `np.float64` or `np.int64`, where the `64` is meant to indicate that we're dealing with 64-bit representations).\n",
    "\n",
    "Alternatively, I can tell the array constructor directly what data type (`dtype`) I want:"
   ]
  },
  {
   "cell_type": "code",
   "execution_count": 294,
   "metadata": {},
   "outputs": [
    {
     "data": {
      "text/plain": [
       "dtype('float64')"
      ]
     },
     "execution_count": 294,
     "metadata": {},
     "output_type": "execute_result"
    }
   ],
   "source": [
    "a = np.array([1, 2, 3], dtype='float')\n",
    "a.dtype"
   ]
  },
  {
   "cell_type": "code",
   "execution_count": 296,
   "metadata": {},
   "outputs": [
    {
     "data": {
      "text/plain": [
       "array([1, 2, 3])"
      ]
     },
     "execution_count": 296,
     "metadata": {},
     "output_type": "execute_result"
    }
   ],
   "source": [
    "# What do you think will happen here?\n",
    "np.array([1.7, 2.8, 3.5], dtype='int')"
   ]
  },
  {
   "cell_type": "markdown",
   "metadata": {},
   "source": [
    "The most important aspect of Numpy arrays is that they define vectorized operations:"
   ]
  },
  {
   "cell_type": "code",
   "execution_count": 297,
   "metadata": {},
   "outputs": [
    {
     "data": {
      "text/plain": [
       "array([ 5.,  7.,  9.])"
      ]
     },
     "execution_count": 297,
     "metadata": {},
     "output_type": "execute_result"
    }
   ],
   "source": [
    "a = np.array([1., 2, 3])\n",
    "b = np.array([4, 5, 6])\n",
    "a + b"
   ]
  },
  {
   "cell_type": "markdown",
   "metadata": {},
   "source": [
    "As with regular Python, upcasting to the correct type is automatically performed (`a` is an array of floats, `b` of ints). \n",
    "\n",
    "Numpy borrows a lot of its syntax from Matlab; Numpy arrays are very similar to Matlab matrices. The usual slice notation can be used on them, too:"
   ]
  },
  {
   "cell_type": "code",
   "execution_count": 298,
   "metadata": {},
   "outputs": [
    {
     "data": {
      "text/plain": [
       "array([ 1.,  2.])"
      ]
     },
     "execution_count": 298,
     "metadata": {},
     "output_type": "execute_result"
    }
   ],
   "source": [
    "a[:2]"
   ]
  },
  {
   "cell_type": "markdown",
   "metadata": {},
   "source": [
    "**<span style=\"color:red\">However, a main difference to Matlab is that the \"default\" operations defined for the arithmetic operators are understood as <span style=\"color:green\">elementwise</span></span>**, rather than in terms of e.g. dot products (corresponding to the `.*` syntax in Matlab). To perform such operations, special methods are available, e.g."
   ]
  },
  {
   "cell_type": "code",
   "execution_count": 299,
   "metadata": {},
   "outputs": [
    {
     "data": {
      "text/plain": [
       "array([[ 58,  64],\n",
       "       [139, 154]])"
      ]
     },
     "execution_count": 299,
     "metadata": {},
     "output_type": "execute_result"
    }
   ],
   "source": [
    "a = np.array([[1, 2, 3], [4, 5, 6]])\n",
    "b = np.array([[7, 8], [9, 10], [11, 12]])\n",
    "a.dot(b)"
   ]
  },
  {
   "cell_type": "markdown",
   "metadata": {},
   "source": [
    "## Array broadcasting\n",
    "\n",
    "Numpy is a comprehensive package that offers many high-performing methods around the \"theme\" of linear algebra, ranging from matrix decompositions and least squares solvers to FFTs. I will not go into any more detail here, but I will mention one particularly useful and \"Pythonic\" shortcut that is available with Numpy arrays, called *broadcasting*.\n",
    "\n",
    "Consider two simple arrays of shape (1, 2) and (2, 2). These two arrays do not offer themselves to an elementwise operation since they have different shapes; however, one of their dimensions (the second) agrees in length. If you perform an elementwise operation on these two arrays, Numpy will assume that you want to **\"fill out\"** the shorter dimension:"
   ]
  },
  {
   "cell_type": "code",
   "execution_count": 300,
   "metadata": {},
   "outputs": [
    {
     "data": {
      "text/plain": [
       "array([[4, 8],\n",
       "       [4, 8]])"
      ]
     },
     "execution_count": 300,
     "metadata": {},
     "output_type": "execute_result"
    }
   ],
   "source": [
    "a = np.array([1, 2])\n",
    "b = np.array([[4, 4], [4, 4]])\n",
    "a * b"
   ]
  },
  {
   "cell_type": "markdown",
   "metadata": {},
   "source": [
    "This is equivalent to the statement:"
   ]
  },
  {
   "cell_type": "code",
   "execution_count": 305,
   "metadata": {},
   "outputs": [
    {
     "data": {
      "text/plain": [
       "array([[4, 8],\n",
       "       [4, 8]])"
      ]
     },
     "execution_count": 305,
     "metadata": {},
     "output_type": "execute_result"
    }
   ],
   "source": [
    "np.repeat(a.reshape(1, -1), 2, 0) * b"
   ]
  },
  {
   "cell_type": "markdown",
   "metadata": {},
   "source": [
    "Which first \"repeats\" array `a` along the first dimension:"
   ]
  },
  {
   "cell_type": "code",
   "execution_count": 306,
   "metadata": {},
   "outputs": [
    {
     "data": {
      "text/plain": [
       "array([[1, 2],\n",
       "       [1, 2]])"
      ]
     },
     "execution_count": 306,
     "metadata": {},
     "output_type": "execute_result"
    }
   ],
   "source": [
    "np.repeat(a.reshape(1, -1), 2, 0)"
   ]
  },
  {
   "cell_type": "markdown",
   "metadata": {},
   "source": [
    "(We also need to `reshape` it because as defined, it only has one dimension but needs two: broadcasting and repeating only works if the overall **number** of dimensions is the same for both arrays.)\n",
    "\n",
    "Rather than delving into Numpy, which is really a topic for itself, I will use the opportunity to talk about one final general concept: pointers.\n",
    "\n",
    "## Digression: Python and *pointers*\n",
    "\n",
    "In general, it is not necessary to know the concept of a pointer in order to code in Python; in fact, Python doesn't really \"know\" pointers. However, knowing about pointers will help understand some of the more bizarre behavioral aspects of Python.\n",
    "\n",
    "A pointer is a variable whose value corresponds to a memory address. It was introduced with the programming language \"C\" and played a large part in how arrays were defined in C. An array in C is basically a pointer to a \"starting\" address in memory, with the implicit understanding that the subsequent elements in an array can simply be reached by incrementing the address location (memory addresses can be thought of as a sequence of integers).\n",
    "\n",
    "I will not go into too much detail here, instead I will demonstrate something:"
   ]
  },
  {
   "cell_type": "code",
   "execution_count": 6,
   "metadata": {},
   "outputs": [
    {
     "data": {
      "text/plain": [
       "5"
      ]
     },
     "execution_count": 6,
     "metadata": {},
     "output_type": "execute_result"
    }
   ],
   "source": [
    "a = 5\n",
    "b = a\n",
    "a = 6\n",
    "# what do you expect b to be now?\n",
    "b"
   ]
  },
  {
   "cell_type": "code",
   "execution_count": 9,
   "metadata": {},
   "outputs": [
    {
     "data": {
      "text/plain": [
       "array([6])"
      ]
     },
     "execution_count": 9,
     "metadata": {},
     "output_type": "execute_result"
    }
   ],
   "source": [
    "a = np.array([5])\n",
    "b = a\n",
    "a[0] = 6\n",
    "# what about this b?\n",
    "b"
   ]
  },
  {
   "cell_type": "markdown",
   "metadata": {},
   "source": [
    "What is happening in the second example is that `a` is really best understood as a \"pointer\" to a memory location that serves as the \"address\" of the Numpy array object that has been created. When we use the variable `a` in Python, **<span style=\"color:red\">Python will always interpret this as referring to the actual object, not its address</span>**, which is intiutively satisfying and sets languages like Python apart from those like C, where you'd have to take incredible care with whether you're dealing with an address or the value that is stored at that address. \n",
    "\n",
    "However, if I write `b = a` in the second example, `b` is simply set to \"point\" to the same memory address as `a` - in Python parlance we would say it *refers* to the same object as `a`. So when I change the value of `a`, `b`, point to the exact, **identical** object, will still reference this now-changed object.\n",
    "\n",
    "The situation in the first example is different, but only because Python was explicitly designed to give you this result, which seems more intuitive than the second one. When I assign `b = a`, Python thinks, correctly, that I want to assing the **value** of a to be, **not** that I want to **refer** to the same memory location. In essence, it is a \"copy\" of the value that is being assigned to `b`, not the **object** referred to by `a`.\n",
    "\n",
    "For that reason, Numpy objects actually have an explicit `copy` method:"
   ]
  },
  {
   "cell_type": "code",
   "execution_count": 307,
   "metadata": {},
   "outputs": [
    {
     "data": {
      "text/plain": [
       "array([5])"
      ]
     },
     "execution_count": 307,
     "metadata": {},
     "output_type": "execute_result"
    }
   ],
   "source": [
    "a = np.array([5])\n",
    "b = a.copy()\n",
    "a[0] = 6\n",
    "b"
   ]
  },
  {
   "cell_type": "markdown",
   "metadata": {},
   "source": [
    "Here's the thing: **<span style=\"color:red\">This is indeed confusing</span>**, in particular because it is not always clear with third-party libraries such as Numpy what type of behavior they implement. To be fair, Python itself should probably behave like Numpy does - because then we'd know once and for all that everything is an object, everything is a pointer. As it is, we just need to be mindful of checking whether we're actually copying values or just referencing an object **without** copying values. (Btw, this is also an efficiency issue: copying values is expensive, \"pointing\" to them is not.)\n",
    "\n",
    "# Debugging\n",
    "\n",
    "I will restrict talking about specific software to one particular issue: debugging. As you have already seen, Python is quite good with throwing expressive error messages, although it is obviously up to the developer of third-party libraries to implement similarly expressive ones for those.\n",
    "\n",
    "Very, very briefly, debugging entails mainly the inspection of variable values in order to see if any of them are different from what you were expecting. This can be done manyally, by inserting `print` statements into your code to print out the value of variables at a given place in the code, or by means of a **debugger**, which can drop you off at a given location in the code and allows you to inspect any variable's value defined at that particular location. Debuggers also generally allow you to execute code in a stepwise fashion, so you can slowly work yourself towards the location where the error ocurred.\n",
    " \n",
    "Personally, I almost exclusively use the debugging entrypoints that come with IPython / Jupyter (which in turn use Python's own debugger. The really useful feature here is that IPython and Jupyter come with the `%debug` magic which can be invoked **after** an error has been thrown and inserts you right at the place in the code where the error ocurred (so-called *post-mortem* tracing). \n",
    "\n",
    "If you're running some code interactively from IPython or the Jupyter console and an error occurs, you can simply execute the command `%debug` (IPython and Jupyter define a number of `%`-prefaced commands for various purpuses they call \"magics\" - the other very usefule one being `%matplotlib`).\n",
    "\n",
    "The `%debug` command will enter the debugger post-mortem and drop you at the point in the *stack* (sort of the \"inbox\" of the operating system where all directives that are to be executed in the near future are being placed in order) where the error caused the overall program to crash; this may not be the location where the error occurred. You are placed on a command line interface where typing the name of a variable will print out its value, unless this name collides with one of the debugger's commands, in which case you should wrap it into a `print` statement. You can execute any Python code at this point, using the variables that are defined at that location.\n",
    "\n",
    "The built-in commands of the debugger include\n",
    "- `u` - go \"up\" in the hierarchy of nested function calls that define the current position in the stack\n",
    "- `n` - go to the \"next\" step in the program\n",
    "- `s` - \"step\" **into** a function (if a function is to be called in the \"next\" step, `n` will simply execute the function and return to the next line **after** the function, whereas `s` will step **inside** the function body)\n",
    "\n",
    "Lastly, you can also direct your code directly to stop at a specific place, by putting the following snipped at the location you want to stop at:\n",
    "```python\n",
    "from IPython.core.debugger import set_trace; set_trace()\n",
    "```\n",
    "This will execute your code up to this location and then drop into the debugger.\n",
    "\n",
    "# Documenting\n",
    "\n",
    "Python has a built-in way to document the code you write (which is pretty much identical to the system Matlab uses), and it's called the **\"docstring\"**. A string placed immediately underneath the heading of a function definition will be displayed if you ask your Python environment of choice for help."
   ]
  },
  {
   "cell_type": "code",
   "execution_count": 355,
   "metadata": {},
   "outputs": [],
   "source": [
    "def func():\n",
    "    \"This is the docstring.\"\n",
    "    pass"
   ]
  },
  {
   "cell_type": "markdown",
   "metadata": {},
   "source": [
    "In the case of IPython or Jupiter, asking for help is as simple as typing a `?` after the object you'd like to be helped with:"
   ]
  },
  {
   "cell_type": "code",
   "execution_count": 356,
   "metadata": {},
   "outputs": [],
   "source": [
    "func?"
   ]
  },
  {
   "cell_type": "markdown",
   "metadata": {},
   "source": [
    "A more extensive docstring can run over several lines; multi-line strings in Python are surrounded by triple quotes:"
   ]
  },
  {
   "cell_type": "code",
   "execution_count": 359,
   "metadata": {},
   "outputs": [],
   "source": [
    "def func():\n",
    "    \"\"\"A docstring with multiple lines.\n",
    "    \n",
    "    Here, you can give details about the arguments your function expects.\n",
    "    \n",
    "    \"\"\"\n",
    "    pass"
   ]
  },
  {
   "cell_type": "code",
   "execution_count": 358,
   "metadata": {},
   "outputs": [],
   "source": [
    "func?"
   ]
  },
  {
   "cell_type": "markdown",
   "metadata": {},
   "source": [
    "Docstrings can be placed under the definitions of classes too, and even at the very top of a module file."
   ]
  },
  {
   "cell_type": "markdown",
   "metadata": {},
   "source": [
    "# Some amuse-gueules\n",
    "\n",
    "## Datetime functionality\n",
    "\n",
    "Python comes with a module that encapsulates date-time functionality in a manner that far surpasses anything that can be done in Matlab (`datetime`). However, personally I use the separate-but-related functionality implemented in Numpy more frequently - the particular appeal here being that you can do vectorized arithmetic and dates and times!\n",
    "\n",
    "This is really far more extensive than I can get into here, so I only show you some examples of what can be done:"
   ]
  },
  {
   "cell_type": "code",
   "execution_count": 315,
   "metadata": {},
   "outputs": [
    {
     "data": {
      "text/plain": [
       "array([0, 1, 2, 3, 4, 5, 6, 7, 8, 9])"
      ]
     },
     "execution_count": 315,
     "metadata": {},
     "output_type": "execute_result"
    }
   ],
   "source": [
    "# this is the Numpy equivalent to 'range' in raw Python - it produces a proper array as a result, however\n",
    "a = np.arange(10)\n",
    "a"
   ]
  },
  {
   "cell_type": "code",
   "execution_count": 320,
   "metadata": {},
   "outputs": [
    {
     "data": {
      "text/plain": [
       "array(['1970-01-01', '1970-01-02', '1970-01-03', '1970-01-04',\n",
       "       '1970-01-05', '1970-01-06', '1970-01-07', '1970-01-08',\n",
       "       '1970-01-09', '1970-01-10'], dtype='datetime64[D]')"
      ]
     },
     "execution_count": 320,
     "metadata": {},
     "output_type": "execute_result"
    }
   ],
   "source": [
    "# I now re-interpret the integers to correspond to days\n",
    "# Numpy interprets '0 days' to refer to the computer-epoch base date of Jan 1 1970 \n",
    "d = a.astype('datetime64[D]')\n",
    "d"
   ]
  },
  {
   "cell_type": "code",
   "execution_count": 317,
   "metadata": {},
   "outputs": [
    {
     "data": {
      "text/plain": [
       "numpy.datetime64('1899-04-23')"
      ]
     },
     "execution_count": 317,
     "metadata": {},
     "output_type": "execute_result"
    }
   ],
   "source": [
    "# arbitrary dates can however be constructe, I just was just being lazy:\n",
    "np.datetime64('1899-04-23')"
   ]
  },
  {
   "cell_type": "code",
   "execution_count": 322,
   "metadata": {},
   "outputs": [
    {
     "data": {
      "text/plain": [
       "array(['1970-01-11', '1970-01-12', '1970-01-13', '1970-01-14',\n",
       "       '1970-01-15', '1970-01-16', '1970-01-17', '1970-01-18',\n",
       "       '1970-01-19', '1970-01-20'], dtype='datetime64[D]')"
      ]
     },
     "execution_count": 322,
     "metadata": {},
     "output_type": "execute_result"
    }
   ],
   "source": [
    "# datetime arithmetic works with so-called 'timedeltas' - here I add 10 days to each element of 'd'\n",
    "d + np.timedelta64(10, 'D')"
   ]
  },
  {
   "cell_type": "code",
   "execution_count": 323,
   "metadata": {},
   "outputs": [
    {
     "data": {
      "text/plain": [
       "array(['1970-01-01T00:35', '1970-01-02T00:35', '1970-01-03T00:35',\n",
       "       '1970-01-04T00:35', '1970-01-05T00:35', '1970-01-06T00:35',\n",
       "       '1970-01-07T00:35', '1970-01-08T00:35', '1970-01-09T00:35',\n",
       "       '1970-01-10T00:35'], dtype='datetime64[m]')"
      ]
     },
     "execution_count": 323,
     "metadata": {},
     "output_type": "execute_result"
    }
   ],
   "source": [
    "# or just some minutes\n",
    "d + np.timedelta64(35, 'm')"
   ]
  },
  {
   "cell_type": "code",
   "execution_count": 327,
   "metadata": {},
   "outputs": [
    {
     "data": {
      "text/plain": [
       "array([1, 1, 1, 1, 1, 1, 1, 1, 1], dtype='timedelta64[D]')"
      ]
     },
     "execution_count": 327,
     "metadata": {},
     "output_type": "execute_result"
    }
   ],
   "source": [
    "# diffing dates from each other produces timedeltas\n",
    "np.diff(d)"
   ]
  },
  {
   "cell_type": "markdown",
   "metadata": {},
   "source": [
    "## Matplotlib\n",
    "\n",
    "[Matplotlib](https://matplotlib.org/) is the de-facto standard of scientific plotting in Python and implements a very Matlab-style API (in fact there is a submodule that is supposedly an exact copy of the Matlab function calls, called `pylab`, but I have not used this). Again, far too much to go into details here, but at least an example of how it all works inside a Jupyter Notebook:"
   ]
  },
  {
   "cell_type": "code",
   "execution_count": 1,
   "metadata": {},
   "outputs": [],
   "source": [
    "import matplotlib.pyplot as plt # again, importing it as 'plt' is almost a standard in the Python world"
   ]
  },
  {
   "cell_type": "markdown",
   "metadata": {},
   "source": [
    "The 'magic' `%matplotlib` enables some collaborative functionality between matplotlib and whatever interface you're using. It can take a second argument depending on what particular [backend](https://matplotlib.org/tutorials/introductory/usage.html#id4) you want to use. For the Jupyter Notebook, at least two are available: `inline` and `notebook`. We will start with `inline`:"
   ]
  },
  {
   "cell_type": "code",
   "execution_count": 2,
   "metadata": {},
   "outputs": [],
   "source": [
    "%matplotlib inline"
   ]
  },
  {
   "cell_type": "code",
   "execution_count": 3,
   "metadata": {},
   "outputs": [],
   "source": [
    "import xarray as xr         # a module that implements an N-dimensional datastructure that works\n",
    "                            # very well with netcdf files\n",
    "from cartopy import crs     # map projections"
   ]
  },
  {
   "cell_type": "markdown",
   "metadata": {},
   "source": [
    "If you open a netcdf file with [xarray](http://xarray.pydata.org/en/stable/), the data structure gets populated not only with the data variables, but also the dimensions."
   ]
  },
  {
   "cell_type": "code",
   "execution_count": 4,
   "metadata": {},
   "outputs": [
    {
     "data": {
      "text/plain": [
       "<xarray.Dataset>\n",
       "Dimensions:                (Time: 24, bottom_top: 29, bottom_top_stag: 30, soil_layers_stag: 4, south_north: 141, south_north_stag: 142, west_east: 99, west_east_stag: 100)\n",
       "Coordinates:\n",
       "    XLAT                   (Time, south_north, west_east) float32 -32.876564 ...\n",
       "    XLONG                  (Time, south_north, west_east) float32 -72.58426 ...\n",
       "    XTIME                  (Time) datetime64[ns] 2017-09-30T12:00:00 ...\n",
       "    XLAT_U                 (Time, south_north, west_east_stag) float32 -32.876892 ...\n",
       "    XLONG_U                (Time, south_north, west_east_stag) float32 -72.6026 ...\n",
       "    XLAT_V                 (Time, south_north_stag, west_east) float32 -32.891953 ...\n",
       "    XLONG_V                (Time, south_north_stag, west_east) float32 -72.58389 ...\n",
       "Dimensions without coordinates: Time, bottom_top, bottom_top_stag, soil_layers_stag, south_north, south_north_stag, west_east, west_east_stag\n",
       "Data variables:\n",
       "    Times                  (Time) |S19 b'2017-09-30_12:00:00' ...\n",
       "    LU_INDEX               (Time, south_north, west_east) float32 17.0 17.0 ...\n",
       "    ZNU                    (Time, bottom_top) float32 0.9965 0.988 ...\n",
       "    ZNW                    (Time, bottom_top_stag) float32 1.0 0.993 0.983 ...\n",
       "    ZS                     (Time, soil_layers_stag) float32 0.05 0.25 ...\n",
       "    DZS                    (Time, soil_layers_stag) float32 0.1 0.3 0.6 1.0 ...\n",
       "    VAR_SSO                (Time, south_north, west_east) float32 0.0 0.0 ...\n",
       "    U                      (Time, bottom_top, south_north, west_east_stag) float32 3.5029776 ...\n",
       "    V                      (Time, bottom_top, south_north_stag, west_east) float32 -3.2275712 ...\n",
       "    W                      (Time, bottom_top_stag, south_north, west_east) float32 0.0 ...\n",
       "    PH                     (Time, bottom_top_stag, south_north, west_east) float32 0.0 ...\n",
       "    PHB                    (Time, bottom_top_stag, south_north, west_east) float32 0.0 ...\n",
       "    T                      (Time, bottom_top, south_north, west_east) float32 -14.710908 ...\n",
       "    HFX_FORCE              (Time) float32 0.0 0.0 0.0 0.0 0.0 0.0 0.0 0.0 ...\n",
       "    LH_FORCE               (Time) float32 0.0 0.0 0.0 0.0 0.0 0.0 0.0 0.0 ...\n",
       "    TSK_FORCE              (Time) float32 0.0 0.0 0.0 0.0 0.0 0.0 0.0 0.0 ...\n",
       "    HFX_FORCE_TEND         (Time) float32 0.0 0.0 0.0 0.0 0.0 0.0 0.0 0.0 ...\n",
       "    LH_FORCE_TEND          (Time) float32 0.0 0.0 0.0 0.0 0.0 0.0 0.0 0.0 ...\n",
       "    TSK_FORCE_TEND         (Time) float32 0.0 0.0 0.0 0.0 0.0 0.0 0.0 0.0 ...\n",
       "    MU                     (Time, south_north, west_east) float32 1276.2656 ...\n",
       "    MUB                    (Time, south_north, west_east) float32 95000.0 ...\n",
       "    NEST_POS               (Time, south_north, west_east) float32 0.0 0.0 ...\n",
       "    P                      (Time, bottom_top, south_north, west_east) float32 1586.4062 ...\n",
       "    PB                     (Time, bottom_top, south_north, west_east) float32 99667.5 ...\n",
       "    FNM                    (Time, bottom_top) float32 0.0 0.41176593 ...\n",
       "    FNP                    (Time, bottom_top) float32 0.0 0.58823407 ...\n",
       "    RDNW                   (Time, bottom_top) float32 -142.85655 -100.0001 ...\n",
       "    RDN                    (Time, bottom_top) float32 0.0 -117.64693 ...\n",
       "    DNW                    (Time, bottom_top) float32 -0.007000029 ...\n",
       "    DN                     (Time, bottom_top) float32 0.0 -0.00850001 ...\n",
       "    CFN                    (Time) float32 1.459726 1.459726 1.459726 ...\n",
       "    CFN1                   (Time) float32 -0.45972592 -0.45972592 ...\n",
       "    THIS_IS_AN_IDEAL_RUN   (Time) int32 0 0 0 0 0 0 0 0 0 0 0 0 0 0 0 0 0 0 ...\n",
       "    P_HYD                  (Time, bottom_top, south_north, west_east) float32 101253.91 ...\n",
       "    Q2                     (Time, south_north, west_east) float32 0.009317078 ...\n",
       "    T2                     (Time, south_north, west_east) float32 286.4151 ...\n",
       "    TH2                    (Time, south_north, west_east) float32 285.3972 ...\n",
       "    PSFC                   (Time, south_north, west_east) float32 101593.87 ...\n",
       "    U10                    (Time, south_north, west_east) float32 3.2044327 ...\n",
       "    V10                    (Time, south_north, west_east) float32 -3.2387204 ...\n",
       "    RDX                    (Time) float32 0.0003000003 0.0003000003 ...\n",
       "    RDY                    (Time) float32 0.0003000003 0.0003000003 ...\n",
       "    RESM                   (Time) float32 0.0 0.0 0.0 0.0 0.0 0.0 0.0 0.0 ...\n",
       "    ZETATOP                (Time) float32 0.0 0.0 0.0 0.0 0.0 0.0 0.0 0.0 ...\n",
       "    CF1                    (Time) float32 1.7617677 1.7617677 1.7617677 ...\n",
       "    CF2                    (Time) float32 -1.0204656 -1.0204656 -1.0204656 ...\n",
       "    CF3                    (Time) float32 0.25869793 0.25869793 0.25869793 ...\n",
       "    ITIMESTEP              (Time) int32 0 180 360 540 720 900 1080 1260 1440 ...\n",
       "    QVAPOR                 (Time, bottom_top, south_north, west_east) float32 0.00929278 ...\n",
       "    QCLOUD                 (Time, bottom_top, south_north, west_east) float32 0.0 ...\n",
       "    QRAIN                  (Time, bottom_top, south_north, west_east) float32 0.0 ...\n",
       "    SHDMAX                 (Time, south_north, west_east) float32 0.0 0.0 ...\n",
       "    SHDMIN                 (Time, south_north, west_east) float32 0.0 0.0 ...\n",
       "    SNOALB                 (Time, south_north, west_east) float32 0.08 0.08 ...\n",
       "    TSLB                   (Time, soil_layers_stag, south_north, west_east) float32 285.71783 ...\n",
       "    SMOIS                  (Time, soil_layers_stag, south_north, west_east) float32 1.0 ...\n",
       "    SH2O                   (Time, soil_layers_stag, south_north, west_east) float32 1.0 ...\n",
       "    SMCREL                 (Time, soil_layers_stag, south_north, west_east) float32 0.0 ...\n",
       "    SEAICE                 (Time, south_north, west_east) float32 0.0 0.0 ...\n",
       "    XICEM                  (Time, south_north, west_east) float32 0.0 0.0 ...\n",
       "    SFROFF                 (Time, south_north, west_east) float32 0.0 0.0 ...\n",
       "    UDROFF                 (Time, south_north, west_east) float32 0.0 0.0 ...\n",
       "    IVGTYP                 (Time, south_north, west_east) int32 17 17 17 17 ...\n",
       "    ISLTYP                 (Time, south_north, west_east) int32 14 14 14 14 ...\n",
       "    VEGFRA                 (Time, south_north, west_east) float32 0.0 0.0 ...\n",
       "    GRDFLX                 (Time, south_north, west_east) float32 0.0 0.0 ...\n",
       "    ACGRDFLX               (Time, south_north, west_east) float32 0.0 0.0 ...\n",
       "    ACSNOM                 (Time, south_north, west_east) float32 0.0 0.0 ...\n",
       "    SNOW                   (Time, south_north, west_east) float32 0.0 0.0 ...\n",
       "    SNOWH                  (Time, south_north, west_east) float32 0.0 0.0 ...\n",
       "    CANWAT                 (Time, south_north, west_east) float32 0.0 0.0 ...\n",
       "    SSTSK                  (Time, south_north, west_east) float32 0.0 0.0 ...\n",
       "    COSZEN                 (Time, south_north, west_east) float32 0.0 0.0 ...\n",
       "    LAI                    (Time, south_north, west_east) float32 0.0 0.0 ...\n",
       "    VAR                    (Time, south_north, west_east) float32 0.0 0.0 ...\n",
       "    MAPFAC_M               (Time, south_north, west_east) float32 0.97452676 ...\n",
       "    MAPFAC_U               (Time, south_north, west_east_stag) float32 0.97452754 ...\n",
       "    MAPFAC_V               (Time, south_north_stag, west_east) float32 0.97456276 ...\n",
       "    MAPFAC_MX              (Time, south_north, west_east) float32 0.97452676 ...\n",
       "    MAPFAC_MY              (Time, south_north, west_east) float32 0.97452676 ...\n",
       "    MAPFAC_UX              (Time, south_north, west_east_stag) float32 0.97452754 ...\n",
       "    MAPFAC_UY              (Time, south_north, west_east_stag) float32 0.97452754 ...\n",
       "    MAPFAC_VX              (Time, south_north_stag, west_east) float32 0.97456276 ...\n",
       "    MF_VX_INV              (Time, south_north_stag, west_east) float32 1.0261012 ...\n",
       "    MAPFAC_VY              (Time, south_north_stag, west_east) float32 0.97456276 ...\n",
       "    F                      (Time, south_north, west_east) float32 -7.9166464e-05 ...\n",
       "    E                      (Time, south_north, west_east) float32 0.00012248254 ...\n",
       "    SINALPHA               (Time, south_north, west_east) float32 0.021246474 ...\n",
       "    COSALPHA               (Time, south_north, west_east) float32 0.9997743 ...\n",
       "    HGT                    (Time, south_north, west_east) float32 0.0 0.0 ...\n",
       "    TSK                    (Time, south_north, west_east) float32 285.71783 ...\n",
       "    P_TOP                  (Time) float32 5000.0 5000.0 5000.0 5000.0 5000.0 ...\n",
       "    T00                    (Time) float32 290.0 290.0 290.0 290.0 290.0 ...\n",
       "    P00                    (Time) float32 100000.0 100000.0 100000.0 ...\n",
       "    TLP                    (Time) float32 50.0 50.0 50.0 50.0 50.0 50.0 50.0 ...\n",
       "    TISO                   (Time) float32 200.0 200.0 200.0 200.0 200.0 ...\n",
       "    TLP_STRAT              (Time) float32 -11.0 -11.0 -11.0 -11.0 -11.0 ...\n",
       "    P_STRAT                (Time) float32 0.0 0.0 0.0 0.0 0.0 0.0 0.0 0.0 ...\n",
       "    MAX_MSTFX              (Time) float32 0.0 0.0 0.0 0.0 0.0 0.0 0.0 0.0 ...\n",
       "    MAX_MSTFY              (Time) float32 0.0 0.0 0.0 0.0 0.0 0.0 0.0 0.0 ...\n",
       "    RAINC                  (Time, south_north, west_east) float32 0.0 0.0 ...\n",
       "    RAINSH                 (Time, south_north, west_east) float32 0.0 0.0 ...\n",
       "    RAINNC                 (Time, south_north, west_east) float32 0.0 0.0 ...\n",
       "    SNOWNC                 (Time, south_north, west_east) float32 0.0 0.0 ...\n",
       "    GRAUPELNC              (Time, south_north, west_east) float32 0.0 0.0 ...\n",
       "    HAILNC                 (Time, south_north, west_east) float32 0.0 0.0 ...\n",
       "    RTHFTEN                (Time, bottom_top, south_north, west_east) float32 0.0 ...\n",
       "    RQVFTEN                (Time, bottom_top, south_north, west_east) float32 0.0 ...\n",
       "    CLDFRA                 (Time, bottom_top, south_north, west_east) float32 0.0 ...\n",
       "    SWDOWN                 (Time, south_north, west_east) float32 0.0 0.0 ...\n",
       "    GLW                    (Time, south_north, west_east) float32 0.0 0.0 ...\n",
       "    SWNORM                 (Time, south_north, west_east) float32 0.0 0.0 ...\n",
       "    OLR                    (Time, south_north, west_east) float32 0.0 0.0 ...\n",
       "    ALBEDO                 (Time, south_north, west_east) float32 0.08 0.08 ...\n",
       "    CLAT                   (Time, south_north, west_east) float32 -32.876564 ...\n",
       "    ALBBCK                 (Time, south_north, west_east) float32 0.08 0.08 ...\n",
       "    EMISS                  (Time, south_north, west_east) float32 0.98 0.98 ...\n",
       "    NOAHRES                (Time, south_north, west_east) float32 0.0 0.0 ...\n",
       "    TMN                    (Time, south_north, west_east) float32 285.71783 ...\n",
       "    XLAND                  (Time, south_north, west_east) float32 2.0 2.0 ...\n",
       "    UST                    (Time, south_north, west_east) float32 1e-04 ...\n",
       "    PBLH                   (Time, south_north, west_east) float32 0.0 0.0 ...\n",
       "    HFX                    (Time, south_north, west_east) float32 0.0 0.0 ...\n",
       "    QFX                    (Time, south_north, west_east) float32 0.0 0.0 ...\n",
       "    LH                     (Time, south_north, west_east) float32 0.0 0.0 ...\n",
       "    ACHFX                  (Time, south_north, west_east) float32 0.0 0.0 ...\n",
       "    ACLHF                  (Time, south_north, west_east) float32 0.0 0.0 ...\n",
       "    SNOWC                  (Time, south_north, west_east) float32 0.0 0.0 ...\n",
       "    SR                     (Time, south_north, west_east) float32 0.0 0.0 ...\n",
       "    SAVE_TOPO_FROM_REAL    (Time) int32 0 0 0 0 0 0 0 0 0 0 0 0 0 0 0 0 0 0 ...\n",
       "    ISEEDARR_RAND_PERTURB  (Time, bottom_top) int32 0 0 0 0 0 0 0 0 0 0 0 0 ...\n",
       "    ISEEDARR_SPPT          (Time, bottom_top) int32 0 0 0 0 0 0 0 0 0 0 0 0 ...\n",
       "    ISEEDARR_SKEBS         (Time, bottom_top) int32 0 0 0 0 0 0 0 0 0 0 0 0 ...\n",
       "    LANDMASK               (Time, south_north, west_east) float32 0.0 0.0 ...\n",
       "    LAKEMASK               (Time, south_north, west_east) float32 0.0 0.0 ...\n",
       "    SST                    (Time, south_north, west_east) float32 285.71783 ...\n",
       "    SST_INPUT              (Time, south_north, west_east) float32 0.0 0.0 ...\n",
       "Attributes:\n",
       "    TITLE:                            OUTPUT FROM WRF V3.8 MODEL\n",
       "    START_DATE:                      2017-09-30_12:00:00\n",
       "    SIMULATION_START_DATE:           2017-09-30_12:00:00\n",
       "    WEST-EAST_GRID_DIMENSION:        100\n",
       "    SOUTH-NORTH_GRID_DIMENSION:      142\n",
       "    BOTTOM-TOP_GRID_DIMENSION:       30\n",
       "    DX:                              3333.33\n",
       "    DY:                              3333.33\n",
       "    SKEBS_ON:                        0\n",
       "    SPEC_BDY_FINAL_MU:               1\n",
       "    USE_Q_DIABATIC:                  0\n",
       "    GRIDTYPE:                        C\n",
       "    DIFF_OPT:                        1\n",
       "    KM_OPT:                          4\n",
       "    DAMP_OPT:                        0\n",
       "    DAMPCOEF:                        0.2\n",
       "    KHDIF:                           0.0\n",
       "    KVDIF:                           0.0\n",
       "    MP_PHYSICS:                      3\n",
       "    RA_LW_PHYSICS:                   1\n",
       "    RA_SW_PHYSICS:                   1\n",
       "    SF_SFCLAY_PHYSICS:               1\n",
       "    SF_SURFACE_PHYSICS:              2\n",
       "    BL_PBL_PHYSICS:                  1\n",
       "    CU_PHYSICS:                      0\n",
       "    SF_LAKE_PHYSICS:                 0\n",
       "    SURFACE_INPUT_SOURCE:            3\n",
       "    SST_UPDATE:                      0\n",
       "    GRID_FDDA:                       0\n",
       "    GFDDA_INTERVAL_M:                0\n",
       "    GFDDA_END_H:                     0\n",
       "    GRID_SFDDA:                      0\n",
       "    SGFDDA_INTERVAL_M:               0\n",
       "    SGFDDA_END_H:                    0\n",
       "    HYPSOMETRIC_OPT:                 2\n",
       "    USE_THETA_M:                     0\n",
       "    SF_URBAN_PHYSICS:                0\n",
       "    SHCU_PHYSICS:                    0\n",
       "    MFSHCONV:                        0\n",
       "    FEEDBACK:                        1\n",
       "    SMOOTH_OPTION:                   0\n",
       "    SWRAD_SCAT:                      1.0\n",
       "    W_DAMPING:                       0\n",
       "    DT:                              20.0\n",
       "    RADT:                            30.0\n",
       "    BLDT:                            0.0\n",
       "    CUDT:                            5.0\n",
       "    AER_OPT:                         0\n",
       "    SWINT_OPT:                       0\n",
       "    AER_TYPE:                        1\n",
       "    AER_AOD550_OPT:                  1\n",
       "    AER_ANGEXP_OPT:                  1\n",
       "    AER_SSA_OPT:                     1\n",
       "    AER_ASY_OPT:                     1\n",
       "    AER_AOD550_VAL:                  0.12\n",
       "    AER_ANGEXP_VAL:                  1.3\n",
       "    AER_SSA_VAL:                     1e-45\n",
       "    AER_ASY_VAL:                     1e-45\n",
       "    MOIST_ADV_OPT:                   1\n",
       "    SCALAR_ADV_OPT:                  1\n",
       "    TKE_ADV_OPT:                     1\n",
       "    DIFF_6TH_OPT:                    0\n",
       "    DIFF_6TH_FACTOR:                 0.12\n",
       "    OBS_NUDGE_OPT:                   0\n",
       "    BUCKET_MM:                       -1.0\n",
       "    BUCKET_J:                        -1.0\n",
       "    PREC_ACC_DT:                     0.0\n",
       "    SF_OCEAN_PHYSICS:                0\n",
       "    ISFTCFLX:                        0\n",
       "    ISHALLOW:                        0\n",
       "    ISFFLX:                          1\n",
       "    ICLOUD:                          1\n",
       "    ICLOUD_CU:                       0\n",
       "    TRACER_PBLMIX:                   1\n",
       "    SCALAR_PBLMIX:                   0\n",
       "    YSU_TOPDOWN_PBLMIX:              0\n",
       "    GRAV_SETTLING:                   0\n",
       "    DFI_OPT:                         0\n",
       "    SIMULATION_INITIALIZATION_TYPE:  REAL-DATA CASE\n",
       "    WEST-EAST_PATCH_START_UNSTAG:    1\n",
       "    WEST-EAST_PATCH_END_UNSTAG:      99\n",
       "    WEST-EAST_PATCH_START_STAG:      1\n",
       "    WEST-EAST_PATCH_END_STAG:        100\n",
       "    SOUTH-NORTH_PATCH_START_UNSTAG:  1\n",
       "    SOUTH-NORTH_PATCH_END_UNSTAG:    141\n",
       "    SOUTH-NORTH_PATCH_START_STAG:    1\n",
       "    SOUTH-NORTH_PATCH_END_STAG:      142\n",
       "    BOTTOM-TOP_PATCH_START_UNSTAG:   1\n",
       "    BOTTOM-TOP_PATCH_END_UNSTAG:     29\n",
       "    BOTTOM-TOP_PATCH_START_STAG:     1\n",
       "    BOTTOM-TOP_PATCH_END_STAG:       30\n",
       "    GRID_ID:                         3\n",
       "    PARENT_ID:                       2\n",
       "    I_PARENT_START:                  22\n",
       "    J_PARENT_START:                  12\n",
       "    PARENT_GRID_RATIO:               3\n",
       "    CEN_LAT:                         -30.677025\n",
       "    CEN_LON:                         -70.87717\n",
       "    TRUELAT1:                        -10.0\n",
       "    TRUELAT2:                        -40.0\n",
       "    MOAD_CEN_LAT:                    -31.000011\n",
       "    STAND_LON:                       -75.42\n",
       "    POLE_LAT:                        90.0\n",
       "    POLE_LON:                        0.0\n",
       "    GMT:                             12.0\n",
       "    JULYR:                           2017\n",
       "    JULDAY:                          273\n",
       "    MAP_PROJ:                        1\n",
       "    MAP_PROJ_CHAR:                   Lambert Conformal\n",
       "    MMINLU:                          MODIFIED_IGBP_MODIS_NOAH\n",
       "    NUM_LAND_CAT:                    21\n",
       "    ISWATER:                         17\n",
       "    ISLAKE:                          21\n",
       "    ISICE:                           15\n",
       "    ISURBAN:                         13\n",
       "    ISOILWATER:                      14"
      ]
     },
     "execution_count": 4,
     "metadata": {},
     "output_type": "execute_result"
    }
   ],
   "source": [
    "ds = xr.open_dataset('/nfs/sata2_glacio/wrf_glacio/c01_2017093012/wrfout_d03_2017-09-30_12:00:00')\n",
    "\n",
    "# You can just print it to see all the meta-info:\n",
    "ds"
   ]
  },
  {
   "cell_type": "code",
   "execution_count": 7,
   "metadata": {},
   "outputs": [],
   "source": [
    "# get the projection parameters from the netcdf attributes - however:\n",
    "# I can't get the projection to work with the parameters it *should* take, instead I need to specify a cutoff lat\n",
    "def cartopy_params(ds):\n",
    "    return {\n",
    "        'central_longitude': ds.CEN_LON,\n",
    "        'central_latitude':  ds.CEN_LAT,\n",
    "#         'standard_parallels':  (ds.TRUELAT1, ds.TRUELAT2), b\n",
    "        'cutoff': -40.\n",
    "    }"
   ]
  },
  {
   "cell_type": "code",
   "execution_count": 44,
   "metadata": {},
   "outputs": [],
   "source": [
    "from data import GSHHS\n",
    "\n",
    "def clip(g, bbox=[-72.2, -69, -32.5, -28.2]):\n",
    "    b = np.array(g.envelope.bounds)\n",
    "    return np.all(np.r_[b[:2], bbox[:2]] <= np.r_[bbox[2:], b[2:]])\n",
    "\n",
    "coast = [g for g in GSHHS.GSHHS('GSHHS_shp/i/GSHHS_i_L1').geometries() if clip(g)]\n",
    "rivers = [g for g in GSHHS.GSHHS('WDBII_shp/i/WDBII_river_i_L05').geometries() if clip(g)]"
   ]
  },
  {
   "cell_type": "code",
   "execution_count": 46,
   "metadata": {},
   "outputs": [
    {
     "data": {
      "text/plain": [
       "<matplotlib.colorbar.Colorbar at 0x7fddf16b7ac8>"
      ]
     },
     "execution_count": 46,
     "metadata": {},
     "output_type": "execute_result"
    },
    {
     "data": {
      "image/png": "[encoded data removed]",
      "text/plain": [
       "<matplotlib.figure.Figure at 0x7fde15e80e10>"
      ]
     },
     "metadata": {},
     "output_type": "display_data"
    }
   ],
   "source": [
    "from matplotlib.gridspec import GridSpec\n",
    "\n",
    "# select the DEM\n",
    "z = ds['HGT'].isel(Time=0)\n",
    "# select 2m tempterature at timestep 10\n",
    "x = ds['T2'].mean('Time')\n",
    "\n",
    "# initialize a figure\n",
    "fig = plt.figure(figsize=(15, 7))\n",
    "\n",
    "# here I'm doing some layout work that's not really necessary for simple plotting, \n",
    "# but for my somewhat more complicated example of having one unprojected and one projected plot\n",
    "gs = GridSpec(1, 2)\n",
    "ax = fig.add_subplot(gs[0])\n",
    "\n",
    "# pseudocolor plot without projection\n",
    "pl = ax.pcolormesh(x.values - 273.15, cmap='coolwarm', vmin=-20, vmax=20)\n",
    "plt.colorbar(pl, ax=ax)\n",
    "\n",
    "bx = fig.add_subplot(gs[1], projection=crs.LambertConformal(**cartopy_params(ds)))\n",
    "\n",
    "# plot a colormesh in projected coordinates\n",
    "cf = bx.contourf(z.XLONG, z.XLAT, z.values, transform=crs.PlateCarree(), cmap='terrain')\n",
    "bx.add_geometries(coast, crs.PlateCarree(), facecolor='none', edgecolor='w', linewidth=2)\n",
    "bx.add_geometries(rivers, crs.PlateCarree(), facecolor='none', edgecolor='navy', linewidth=2)\n",
    "plt.colorbar(cf, ax=bx)"
   ]
  },
  {
   "cell_type": "code",
   "execution_count": 52,
   "metadata": {},
   "outputs": [],
   "source": [
    "plt.switch_backend('notebook')\n",
    "%matplotlib notebook"
   ]
  },
  {
   "cell_type": "code",
   "execution_count": 53,
   "metadata": {},
   "outputs": [
    {
     "data": {
      "application/javascript": [
       "/* Put everything inside the global mpl namespace */\n",
       "window.mpl = {};\n",
       "\n",
       "\n",
       "mpl.get_websocket_type = function() {\n",
       "    if (typeof(WebSocket) !== 'undefined') {\n",
       "        return WebSocket;\n",
       "    } else if (typeof(MozWebSocket) !== 'undefined') {\n",
       "        return MozWebSocket;\n",
       "    } else {\n",
       "        alert('Your browser does not have WebSocket support.' +\n",
       "              'Please try Chrome, Safari or Firefox ≥ 6. ' +\n",
       "              'Firefox 4 and 5 are also supported but you ' +\n",
       "              'have to enable WebSockets in about:config.');\n",
       "    };\n",
       "}\n",
       "\n",
       "mpl.figure = function(figure_id, websocket, ondownload, parent_element) {\n",
       "    this.id = figure_id;\n",
       "\n",
       "    this.ws = websocket;\n",
       "\n",
       "    this.supports_binary = (this.ws.binaryType != undefined);\n",
       "\n",
       "    if (!this.supports_binary) {\n",
       "        var warnings = document.getElementById(\"mpl-warnings\");\n",
       "        if (warnings) {\n",
       "            warnings.style.display = 'block';\n",
       "            warnings.textContent = (\n",
       "                \"This browser does not support binary websocket messages. \" +\n",
       "                    \"Performance may be slow.\");\n",
       "        }\n",
       "    }\n",
       "\n",
       "    this.imageObj = new Image();\n",
       "\n",
       "    this.context = undefined;\n",
       "    this.message = undefined;\n",
       "    this.canvas = undefined;\n",
       "    this.rubberband_canvas = undefined;\n",
       "    this.rubberband_context = undefined;\n",
       "    this.format_dropdown = undefined;\n",
       "\n",
       "    this.image_mode = 'full';\n",
       "\n",
       "    this.root = $('<div/>');\n",
       "    this._root_extra_style(this.root)\n",
       "    this.root.attr('style', 'display: inline-block');\n",
       "\n",
       "    $(parent_element).append(this.root);\n",
       "\n",
       "    this._init_header(this);\n",
       "    this._init_canvas(this);\n",
       "    this._init_toolbar(this);\n",
       "\n",
       "    var fig = this;\n",
       "\n",
       "    this.waiting = false;\n",
       "\n",
       "    this.ws.onopen =  function () {\n",
       "            fig.send_message(\"supports_binary\", {value: fig.supports_binary});\n",
       "            fig.send_message(\"send_image_mode\", {});\n",
       "            if (mpl.ratio != 1) {\n",
       "                fig.send_message(\"set_dpi_ratio\", {'dpi_ratio': mpl.ratio});\n",
       "            }\n",
       "            fig.send_message(\"refresh\", {});\n",
       "        }\n",
       "\n",
       "    this.imageObj.onload = function() {\n",
       "            if (fig.image_mode == 'full') {\n",
       "                // Full images could contain transparency (where diff images\n",
       "                // almost always do), so we need to clear the canvas so that\n",
       "                // there is no ghosting.\n",
       "                fig.context.clearRect(0, 0, fig.canvas.width, fig.canvas.height);\n",
       "            }\n",
       "            fig.context.drawImage(fig.imageObj, 0, 0);\n",
       "        };\n",
       "\n",
       "    this.imageObj.onunload = function() {\n",
       "        fig.ws.close();\n",
       "    }\n",
       "\n",
       "    this.ws.onmessage = this._make_on_message_function(this);\n",
       "\n",
       "    this.ondownload = ondownload;\n",
       "}\n",
       "\n",
       "mpl.figure.prototype._init_header = function() {\n",
       "    var titlebar = $(\n",
       "        '<div class=\"ui-dialog-titlebar ui-widget-header ui-corner-all ' +\n",
       "        'ui-helper-clearfix\"/>');\n",
       "    var titletext = $(\n",
       "        '<div class=\"ui-dialog-title\" style=\"width: 100%; ' +\n",
       "        'text-align: center; padding: 3px;\"/>');\n",
       "    titlebar.append(titletext)\n",
       "    this.root.append(titlebar);\n",
       "    this.header = titletext[0];\n",
       "}\n",
       "\n",
       "\n",
       "\n",
       "mpl.figure.prototype._canvas_extra_style = function(canvas_div) {\n",
       "\n",
       "}\n",
       "\n",
       "\n",
       "mpl.figure.prototype._root_extra_style = function(canvas_div) {\n",
       "\n",
       "}\n",
       "\n",
       "mpl.figure.prototype._init_canvas = function() {\n",
       "    var fig = this;\n",
       "\n",
       "    var canvas_div = $('<div/>');\n",
       "\n",
       "    canvas_div.attr('style', 'position: relative; clear: both; outline: 0');\n",
       "\n",
       "    function canvas_keyboard_event(event) {\n",
       "        return fig.key_event(event, event['data']);\n",
       "    }\n",
       "\n",
       "    canvas_div.keydown('key_press', canvas_keyboard_event);\n",
       "    canvas_div.keyup('key_release', canvas_keyboard_event);\n",
       "    this.canvas_div = canvas_div\n",
       "    this._canvas_extra_style(canvas_div)\n",
       "    this.root.append(canvas_div);\n",
       "\n",
       "    var canvas = $('<canvas/>');\n",
       "    canvas.addClass('mpl-canvas');\n",
       "    canvas.attr('style', \"left: 0; top: 0; z-index: 0; outline: 0\")\n",
       "\n",
       "    this.canvas = canvas[0];\n",
       "    this.context = canvas[0].getContext(\"2d\");\n",
       "\n",
       "    var backingStore = this.context.backingStorePixelRatio ||\n",
       "\tthis.context.webkitBackingStorePixelRatio ||\n",
       "\tthis.context.mozBackingStorePixelRatio ||\n",
       "\tthis.context.msBackingStorePixelRatio ||\n",
       "\tthis.context.oBackingStorePixelRatio ||\n",
       "\tthis.context.backingStorePixelRatio || 1;\n",
       "\n",
       "    mpl.ratio = (window.devicePixelRatio || 1) / backingStore;\n",
       "\n",
       "    var rubberband = $('<canvas/>');\n",
       "    rubberband.attr('style', \"position: absolute; left: 0; top: 0; z-index: 1;\")\n",
       "\n",
       "    var pass_mouse_events = true;\n",
       "\n",
       "    canvas_div.resizable({\n",
       "        start: function(event, ui) {\n",
       "            pass_mouse_events = false;\n",
       "        },\n",
       "        resize: function(event, ui) {\n",
       "            fig.request_resize(ui.size.width, ui.size.height);\n",
       "        },\n",
       "        stop: function(event, ui) {\n",
       "            pass_mouse_events = true;\n",
       "            fig.request_resize(ui.size.width, ui.size.height);\n",
       "        },\n",
       "    });\n",
       "\n",
       "    function mouse_event_fn(event) {\n",
       "        if (pass_mouse_events)\n",
       "            return fig.mouse_event(event, event['data']);\n",
       "    }\n",
       "\n",
       "    rubberband.mousedown('button_press', mouse_event_fn);\n",
       "    rubberband.mouseup('button_release', mouse_event_fn);\n",
       "    // Throttle sequential mouse events to 1 every 20ms.\n",
       "    rubberband.mousemove('motion_notify', mouse_event_fn);\n",
       "\n",
       "    rubberband.mouseenter('figure_enter', mouse_event_fn);\n",
       "    rubberband.mouseleave('figure_leave', mouse_event_fn);\n",
       "\n",
       "    canvas_div.on(\"wheel\", function (event) {\n",
       "        event = event.originalEvent;\n",
       "        event['data'] = 'scroll'\n",
       "        if (event.deltaY < 0) {\n",
       "            event.step = 1;\n",
       "        } else {\n",
       "            event.step = -1;\n",
       "        }\n",
       "        mouse_event_fn(event);\n",
       "    });\n",
       "\n",
       "    canvas_div.append(canvas);\n",
       "    canvas_div.append(rubberband);\n",
       "\n",
       "    this.rubberband = rubberband;\n",
       "    this.rubberband_canvas = rubberband[0];\n",
       "    this.rubberband_context = rubberband[0].getContext(\"2d\");\n",
       "    this.rubberband_context.strokeStyle = \"#000000\";\n",
       "\n",
       "    this._resize_canvas = function(width, height) {\n",
       "        // Keep the size of the canvas, canvas container, and rubber band\n",
       "        // canvas in synch.\n",
       "        canvas_div.css('width', width)\n",
       "        canvas_div.css('height', height)\n",
       "\n",
       "        canvas.attr('width', width * mpl.ratio);\n",
       "        canvas.attr('height', height * mpl.ratio);\n",
       "        canvas.attr('style', 'width: ' + width + 'px; height: ' + height + 'px;');\n",
       "\n",
       "        rubberband.attr('width', width);\n",
       "        rubberband.attr('height', height);\n",
       "    }\n",
       "\n",
       "    // Set the figure to an initial 600x600px, this will subsequently be updated\n",
       "    // upon first draw.\n",
       "    this._resize_canvas(600, 600);\n",
       "\n",
       "    // Disable right mouse context menu.\n",
       "    $(this.rubberband_canvas).bind(\"contextmenu\",function(e){\n",
       "        return false;\n",
       "    });\n",
       "\n",
       "    function set_focus () {\n",
       "        canvas.focus();\n",
       "        canvas_div.focus();\n",
       "    }\n",
       "\n",
       "    window.setTimeout(set_focus, 100);\n",
       "}\n",
       "\n",
       "mpl.figure.prototype._init_toolbar = function() {\n",
       "    var fig = this;\n",
       "\n",
       "    var nav_element = $('<div/>')\n",
       "    nav_element.attr('style', 'width: 100%');\n",
       "    this.root.append(nav_element);\n",
       "\n",
       "    // Define a callback function for later on.\n",
       "    function toolbar_event(event) {\n",
       "        return fig.toolbar_button_onclick(event['data']);\n",
       "    }\n",
       "    function toolbar_mouse_event(event) {\n",
       "        return fig.toolbar_button_onmouseover(event['data']);\n",
       "    }\n",
       "\n",
       "    for(var toolbar_ind in mpl.toolbar_items) {\n",
       "        var name = mpl.toolbar_items[toolbar_ind][0];\n",
       "        var tooltip = mpl.toolbar_items[toolbar_ind][1];\n",
       "        var image = mpl.toolbar_items[toolbar_ind][2];\n",
       "        var method_name = mpl.toolbar_items[toolbar_ind][3];\n",
       "\n",
       "        if (!name) {\n",
       "            // put a spacer in here.\n",
       "            continue;\n",
       "        }\n",
       "        var button = $('<button/>');\n",
       "        button.addClass('ui-button ui-widget ui-state-default ui-corner-all ' +\n",
       "                        'ui-button-icon-only');\n",
       "        button.attr('role', 'button');\n",
       "        button.attr('aria-disabled', 'false');\n",
       "        button.click(method_name, toolbar_event);\n",
       "        button.mouseover(tooltip, toolbar_mouse_event);\n",
       "\n",
       "        var icon_img = $('<span/>');\n",
       "        icon_img.addClass('ui-button-icon-primary ui-icon');\n",
       "        icon_img.addClass(image);\n",
       "        icon_img.addClass('ui-corner-all');\n",
       "\n",
       "        var tooltip_span = $('<span/>');\n",
       "        tooltip_span.addClass('ui-button-text');\n",
       "        tooltip_span.html(tooltip);\n",
       "\n",
       "        button.append(icon_img);\n",
       "        button.append(tooltip_span);\n",
       "\n",
       "        nav_element.append(button);\n",
       "    }\n",
       "\n",
       "    var fmt_picker_span = $('<span/>');\n",
       "\n",
       "    var fmt_picker = $('<select/>');\n",
       "    fmt_picker.addClass('mpl-toolbar-option ui-widget ui-widget-content');\n",
       "    fmt_picker_span.append(fmt_picker);\n",
       "    nav_element.append(fmt_picker_span);\n",
       "    this.format_dropdown = fmt_picker[0];\n",
       "\n",
       "    for (var ind in mpl.extensions) {\n",
       "        var fmt = mpl.extensions[ind];\n",
       "        var option = $(\n",
       "            '<option/>', {selected: fmt === mpl.default_extension}).html(fmt);\n",
       "        fmt_picker.append(option)\n",
       "    }\n",
       "\n",
       "    // Add hover states to the ui-buttons\n",
       "    $( \".ui-button\" ).hover(\n",
       "        function() { $(this).addClass(\"ui-state-hover\");},\n",
       "        function() { $(this).removeClass(\"ui-state-hover\");}\n",
       "    );\n",
       "\n",
       "    var status_bar = $('<span class=\"mpl-message\"/>');\n",
       "    nav_element.append(status_bar);\n",
       "    this.message = status_bar[0];\n",
       "}\n",
       "\n",
       "mpl.figure.prototype.request_resize = function(x_pixels, y_pixels) {\n",
       "    // Request matplotlib to resize the figure. Matplotlib will then trigger a resize in the client,\n",
       "    // which will in turn request a refresh of the image.\n",
       "    this.send_message('resize', {'width': x_pixels, 'height': y_pixels});\n",
       "}\n",
       "\n",
       "mpl.figure.prototype.send_message = function(type, properties) {\n",
       "    properties['type'] = type;\n",
       "    properties['figure_id'] = this.id;\n",
       "    this.ws.send(JSON.stringify(properties));\n",
       "}\n",
       "\n",
       "mpl.figure.prototype.send_draw_message = function() {\n",
       "    if (!this.waiting) {\n",
       "        this.waiting = true;\n",
       "        this.ws.send(JSON.stringify({type: \"draw\", figure_id: this.id}));\n",
       "    }\n",
       "}\n",
       "\n",
       "\n",
       "mpl.figure.prototype.handle_save = function(fig, msg) {\n",
       "    var format_dropdown = fig.format_dropdown;\n",
       "    var format = format_dropdown.options[format_dropdown.selectedIndex].value;\n",
       "    fig.ondownload(fig, format);\n",
       "}\n",
       "\n",
       "\n",
       "mpl.figure.prototype.handle_resize = function(fig, msg) {\n",
       "    var size = msg['size'];\n",
       "    if (size[0] != fig.canvas.width || size[1] != fig.canvas.height) {\n",
       "        fig._resize_canvas(size[0], size[1]);\n",
       "        fig.send_message(\"refresh\", {});\n",
       "    };\n",
       "}\n",
       "\n",
       "mpl.figure.prototype.handle_rubberband = function(fig, msg) {\n",
       "    var x0 = msg['x0'] / mpl.ratio;\n",
       "    var y0 = (fig.canvas.height - msg['y0']) / mpl.ratio;\n",
       "    var x1 = msg['x1'] / mpl.ratio;\n",
       "    var y1 = (fig.canvas.height - msg['y1']) / mpl.ratio;\n",
       "    x0 = Math.floor(x0) + 0.5;\n",
       "    y0 = Math.floor(y0) + 0.5;\n",
       "    x1 = Math.floor(x1) + 0.5;\n",
       "    y1 = Math.floor(y1) + 0.5;\n",
       "    var min_x = Math.min(x0, x1);\n",
       "    var min_y = Math.min(y0, y1);\n",
       "    var width = Math.abs(x1 - x0);\n",
       "    var height = Math.abs(y1 - y0);\n",
       "\n",
       "    fig.rubberband_context.clearRect(\n",
       "        0, 0, fig.canvas.width, fig.canvas.height);\n",
       "\n",
       "    fig.rubberband_context.strokeRect(min_x, min_y, width, height);\n",
       "}\n",
       "\n",
       "mpl.figure.prototype.handle_figure_label = function(fig, msg) {\n",
       "    // Updates the figure title.\n",
       "    fig.header.textContent = msg['label'];\n",
       "}\n",
       "\n",
       "mpl.figure.prototype.handle_cursor = function(fig, msg) {\n",
       "    var cursor = msg['cursor'];\n",
       "    switch(cursor)\n",
       "    {\n",
       "    case 0:\n",
       "        cursor = 'pointer';\n",
       "        break;\n",
       "    case 1:\n",
       "        cursor = 'default';\n",
       "        break;\n",
       "    case 2:\n",
       "        cursor = 'crosshair';\n",
       "        break;\n",
       "    case 3:\n",
       "        cursor = 'move';\n",
       "        break;\n",
       "    }\n",
       "    fig.rubberband_canvas.style.cursor = cursor;\n",
       "}\n",
       "\n",
       "mpl.figure.prototype.handle_message = function(fig, msg) {\n",
       "    fig.message.textContent = msg['message'];\n",
       "}\n",
       "\n",
       "mpl.figure.prototype.handle_draw = function(fig, msg) {\n",
       "    // Request the server to send over a new figure.\n",
       "    fig.send_draw_message();\n",
       "}\n",
       "\n",
       "mpl.figure.prototype.handle_image_mode = function(fig, msg) {\n",
       "    fig.image_mode = msg['mode'];\n",
       "}\n",
       "\n",
       "mpl.figure.prototype.updated_canvas_event = function() {\n",
       "    // Called whenever the canvas gets updated.\n",
       "    this.send_message(\"ack\", {});\n",
       "}\n",
       "\n",
       "// A function to construct a web socket function for onmessage handling.\n",
       "// Called in the figure constructor.\n",
       "mpl.figure.prototype._make_on_message_function = function(fig) {\n",
       "    return function socket_on_message(evt) {\n",
       "        if (evt.data instanceof Blob) {\n",
       "            /* FIXME: We get \"Resource interpreted as Image but\n",
       "             * transferred with MIME type text/plain:\" errors on\n",
       "             * Chrome.  But how to set the MIME type?  It doesn't seem\n",
       "             * to be part of the websocket stream */\n",
       "            evt.data.type = \"image/png\";\n",
       "\n",
       "            /* Free the memory for the previous frames */\n",
       "            if (fig.imageObj.src) {\n",
       "                (window.URL || window.webkitURL).revokeObjectURL(\n",
       "                    fig.imageObj.src);\n",
       "            }\n",
       "\n",
       "            fig.imageObj.src = (window.URL || window.webkitURL).createObjectURL(\n",
       "                evt.data);\n",
       "            fig.updated_canvas_event();\n",
       "            fig.waiting = false;\n",
       "            return;\n",
       "        }\n",
       "        else if (typeof evt.data === 'string' && evt.data.slice(0, 21) == \"data:image/png;base64\") {\n",
       "            fig.imageObj.src = evt.data;\n",
       "            fig.updated_canvas_event();\n",
       "            fig.waiting = false;\n",
       "            return;\n",
       "        }\n",
       "\n",
       "        var msg = JSON.parse(evt.data);\n",
       "        var msg_type = msg['type'];\n",
       "\n",
       "        // Call the  \"handle_{type}\" callback, which takes\n",
       "        // the figure and JSON message as its only arguments.\n",
       "        try {\n",
       "            var callback = fig[\"handle_\" + msg_type];\n",
       "        } catch (e) {\n",
       "            console.log(\"No handler for the '\" + msg_type + \"' message type: \", msg);\n",
       "            return;\n",
       "        }\n",
       "\n",
       "        if (callback) {\n",
       "            try {\n",
       "                // console.log(\"Handling '\" + msg_type + \"' message: \", msg);\n",
       "                callback(fig, msg);\n",
       "            } catch (e) {\n",
       "                console.log(\"Exception inside the 'handler_\" + msg_type + \"' callback:\", e, e.stack, msg);\n",
       "            }\n",
       "        }\n",
       "    };\n",
       "}\n",
       "\n",
       "// from http://stackoverflow.com/questions/1114465/getting-mouse-location-in-canvas\n",
       "mpl.findpos = function(e) {\n",
       "    //this section is from http://www.quirksmode.org/js/events_properties.html\n",
       "    var targ;\n",
       "    if (!e)\n",
       "        e = window.event;\n",
       "    if (e.target)\n",
       "        targ = e.target;\n",
       "    else if (e.srcElement)\n",
       "        targ = e.srcElement;\n",
       "    if (targ.nodeType == 3) // defeat Safari bug\n",
       "        targ = targ.parentNode;\n",
       "\n",
       "    // jQuery normalizes the pageX and pageY\n",
       "    // pageX,Y are the mouse positions relative to the document\n",
       "    // offset() returns the position of the element relative to the document\n",
       "    var x = e.pageX - $(targ).offset().left;\n",
       "    var y = e.pageY - $(targ).offset().top;\n",
       "\n",
       "    return {\"x\": x, \"y\": y};\n",
       "};\n",
       "\n",
       "/*\n",
       " * return a copy of an object with only non-object keys\n",
       " * we need this to avoid circular references\n",
       " * http://stackoverflow.com/a/24161582/3208463\n",
       " */\n",
       "function simpleKeys (original) {\n",
       "  return Object.keys(original).reduce(function (obj, key) {\n",
       "    if (typeof original[key] !== 'object')\n",
       "        obj[key] = original[key]\n",
       "    return obj;\n",
       "  }, {});\n",
       "}\n",
       "\n",
       "mpl.figure.prototype.mouse_event = function(event, name) {\n",
       "    var canvas_pos = mpl.findpos(event)\n",
       "\n",
       "    if (name === 'button_press')\n",
       "    {\n",
       "        this.canvas.focus();\n",
       "        this.canvas_div.focus();\n",
       "    }\n",
       "\n",
       "    var x = canvas_pos.x * mpl.ratio;\n",
       "    var y = canvas_pos.y * mpl.ratio;\n",
       "\n",
       "    this.send_message(name, {x: x, y: y, button: event.button,\n",
       "                             step: event.step,\n",
       "                             guiEvent: simpleKeys(event)});\n",
       "\n",
       "    /* This prevents the web browser from automatically changing to\n",
       "     * the text insertion cursor when the button is pressed.  We want\n",
       "     * to control all of the cursor setting manually through the\n",
       "     * 'cursor' event from matplotlib */\n",
       "    event.preventDefault();\n",
       "    return false;\n",
       "}\n",
       "\n",
       "mpl.figure.prototype._key_event_extra = function(event, name) {\n",
       "    // Handle any extra behaviour associated with a key event\n",
       "}\n",
       "\n",
       "mpl.figure.prototype.key_event = function(event, name) {\n",
       "\n",
       "    // Prevent repeat events\n",
       "    if (name == 'key_press')\n",
       "    {\n",
       "        if (event.which === this._key)\n",
       "            return;\n",
       "        else\n",
       "            this._key = event.which;\n",
       "    }\n",
       "    if (name == 'key_release')\n",
       "        this._key = null;\n",
       "\n",
       "    var value = '';\n",
       "    if (event.ctrlKey && event.which != 17)\n",
       "        value += \"ctrl+\";\n",
       "    if (event.altKey && event.which != 18)\n",
       "        value += \"alt+\";\n",
       "    if (event.shiftKey && event.which != 16)\n",
       "        value += \"shift+\";\n",
       "\n",
       "    value += 'k';\n",
       "    value += event.which.toString();\n",
       "\n",
       "    this._key_event_extra(event, name);\n",
       "\n",
       "    this.send_message(name, {key: value,\n",
       "                             guiEvent: simpleKeys(event)});\n",
       "    return false;\n",
       "}\n",
       "\n",
       "mpl.figure.prototype.toolbar_button_onclick = function(name) {\n",
       "    if (name == 'download') {\n",
       "        this.handle_save(this, null);\n",
       "    } else {\n",
       "        this.send_message(\"toolbar_button\", {name: name});\n",
       "    }\n",
       "};\n",
       "\n",
       "mpl.figure.prototype.toolbar_button_onmouseover = function(tooltip) {\n",
       "    this.message.textContent = tooltip;\n",
       "};\n",
       "mpl.toolbar_items = [[\"Home\", \"Reset original view\", \"fa fa-home icon-home\", \"home\"], [\"Back\", \"Back to  previous view\", \"fa fa-arrow-left icon-arrow-left\", \"back\"], [\"Forward\", \"Forward to next view\", \"fa fa-arrow-right icon-arrow-right\", \"forward\"], [\"\", \"\", \"\", \"\"], [\"Pan\", \"Pan axes with left mouse, zoom with right\", \"fa fa-arrows icon-move\", \"pan\"], [\"Zoom\", \"Zoom to rectangle\", \"fa fa-square-o icon-check-empty\", \"zoom\"], [\"\", \"\", \"\", \"\"], [\"Download\", \"Download plot\", \"fa fa-floppy-o icon-save\", \"download\"]];\n",
       "\n",
       "mpl.extensions = [\"eps\", \"jpeg\", \"pdf\", \"png\", \"ps\", \"raw\", \"svg\", \"tif\"];\n",
       "\n",
       "mpl.default_extension = \"png\";var comm_websocket_adapter = function(comm) {\n",
       "    // Create a \"websocket\"-like object which calls the given IPython comm\n",
       "    // object with the appropriate methods. Currently this is a non binary\n",
       "    // socket, so there is still some room for performance tuning.\n",
       "    var ws = {};\n",
       "\n",
       "    ws.close = function() {\n",
       "        comm.close()\n",
       "    };\n",
       "    ws.send = function(m) {\n",
       "        //console.log('sending', m);\n",
       "        comm.send(m);\n",
       "    };\n",
       "    // Register the callback with on_msg.\n",
       "    comm.on_msg(function(msg) {\n",
       "        //console.log('receiving', msg['content']['data'], msg);\n",
       "        // Pass the mpl event to the overriden (by mpl) onmessage function.\n",
       "        ws.onmessage(msg['content']['data'])\n",
       "    });\n",
       "    return ws;\n",
       "}\n",
       "\n",
       "mpl.mpl_figure_comm = function(comm, msg) {\n",
       "    // This is the function which gets called when the mpl process\n",
       "    // starts-up an IPython Comm through the \"matplotlib\" channel.\n",
       "\n",
       "    var id = msg.content.data.id;\n",
       "    // Get hold of the div created by the display call when the Comm\n",
       "    // socket was opened in Python.\n",
       "    var element = $(\"#\" + id);\n",
       "    var ws_proxy = comm_websocket_adapter(comm)\n",
       "\n",
       "    function ondownload(figure, format) {\n",
       "        window.open(figure.imageObj.src);\n",
       "    }\n",
       "\n",
       "    var fig = new mpl.figure(id, ws_proxy,\n",
       "                           ondownload,\n",
       "                           element.get(0));\n",
       "\n",
       "    // Call onopen now - mpl needs it, as it is assuming we've passed it a real\n",
       "    // web socket which is closed, not our websocket->open comm proxy.\n",
       "    ws_proxy.onopen();\n",
       "\n",
       "    fig.parent_element = element.get(0);\n",
       "    fig.cell_info = mpl.find_output_cell(\"<div id='\" + id + \"'></div>\");\n",
       "    if (!fig.cell_info) {\n",
       "        console.error(\"Failed to find cell for figure\", id, fig);\n",
       "        return;\n",
       "    }\n",
       "\n",
       "    var output_index = fig.cell_info[2]\n",
       "    var cell = fig.cell_info[0];\n",
       "\n",
       "};\n",
       "\n",
       "mpl.figure.prototype.handle_close = function(fig, msg) {\n",
       "    var width = fig.canvas.width/mpl.ratio\n",
       "    fig.root.unbind('remove')\n",
       "\n",
       "    // Update the output cell to use the data from the current canvas.\n",
       "    fig.push_to_output();\n",
       "    var dataURL = fig.canvas.toDataURL();\n",
       "    // Re-enable the keyboard manager in IPython - without this line, in FF,\n",
       "    // the notebook keyboard shortcuts fail.\n",
       "    IPython.keyboard_manager.enable()\n",
       "    $(fig.parent_element).html('<img src=\"' + dataURL + '\" width=\"' + width + '\">');\n",
       "    fig.close_ws(fig, msg);\n",
       "}\n",
       "\n",
       "mpl.figure.prototype.close_ws = function(fig, msg){\n",
       "    fig.send_message('closing', msg);\n",
       "    // fig.ws.close()\n",
       "}\n",
       "\n",
       "mpl.figure.prototype.push_to_output = function(remove_interactive) {\n",
       "    // Turn the data on the canvas into data in the output cell.\n",
       "    var width = this.canvas.width/mpl.ratio\n",
       "    var dataURL = this.canvas.toDataURL();\n",
       "    this.cell_info[1]['text/html'] = '<img src=\"' + dataURL + '\" width=\"' + width + '\">';\n",
       "}\n",
       "\n",
       "mpl.figure.prototype.updated_canvas_event = function() {\n",
       "    // Tell IPython that the notebook contents must change.\n",
       "    IPython.notebook.set_dirty(true);\n",
       "    this.send_message(\"ack\", {});\n",
       "    var fig = this;\n",
       "    // Wait a second, then push the new image to the DOM so\n",
       "    // that it is saved nicely (might be nice to debounce this).\n",
       "    setTimeout(function () { fig.push_to_output() }, 1000);\n",
       "}\n",
       "\n",
       "mpl.figure.prototype._init_toolbar = function() {\n",
       "    var fig = this;\n",
       "\n",
       "    var nav_element = $('<div/>')\n",
       "    nav_element.attr('style', 'width: 100%');\n",
       "    this.root.append(nav_element);\n",
       "\n",
       "    // Define a callback function for later on.\n",
       "    function toolbar_event(event) {\n",
       "        return fig.toolbar_button_onclick(event['data']);\n",
       "    }\n",
       "    function toolbar_mouse_event(event) {\n",
       "        return fig.toolbar_button_onmouseover(event['data']);\n",
       "    }\n",
       "\n",
       "    for(var toolbar_ind in mpl.toolbar_items){\n",
       "        var name = mpl.toolbar_items[toolbar_ind][0];\n",
       "        var tooltip = mpl.toolbar_items[toolbar_ind][1];\n",
       "        var image = mpl.toolbar_items[toolbar_ind][2];\n",
       "        var method_name = mpl.toolbar_items[toolbar_ind][3];\n",
       "\n",
       "        if (!name) { continue; };\n",
       "\n",
       "        var button = $('<button class=\"btn btn-default\" href=\"#\" title=\"' + name + '\"><i class=\"fa ' + image + ' fa-lg\"></i></button>');\n",
       "        button.click(method_name, toolbar_event);\n",
       "        button.mouseover(tooltip, toolbar_mouse_event);\n",
       "        nav_element.append(button);\n",
       "    }\n",
       "\n",
       "    // Add the status bar.\n",
       "    var status_bar = $('<span class=\"mpl-message\" style=\"text-align:right; float: right;\"/>');\n",
       "    nav_element.append(status_bar);\n",
       "    this.message = status_bar[0];\n",
       "\n",
       "    // Add the close button to the window.\n",
       "    var buttongrp = $('<div class=\"btn-group inline pull-right\"></div>');\n",
       "    var button = $('<button class=\"btn btn-mini btn-primary\" href=\"#\" title=\"Stop Interaction\"><i class=\"fa fa-power-off icon-remove icon-large\"></i></button>');\n",
       "    button.click(function (evt) { fig.handle_close(fig, {}); } );\n",
       "    button.mouseover('Stop Interaction', toolbar_mouse_event);\n",
       "    buttongrp.append(button);\n",
       "    var titlebar = this.root.find($('.ui-dialog-titlebar'));\n",
       "    titlebar.prepend(buttongrp);\n",
       "}\n",
       "\n",
       "mpl.figure.prototype._root_extra_style = function(el){\n",
       "    var fig = this\n",
       "    el.on(\"remove\", function(){\n",
       "\tfig.close_ws(fig, {});\n",
       "    });\n",
       "}\n",
       "\n",
       "mpl.figure.prototype._canvas_extra_style = function(el){\n",
       "    // this is important to make the div 'focusable\n",
       "    el.attr('tabindex', 0)\n",
       "    // reach out to IPython and tell the keyboard manager to turn it's self\n",
       "    // off when our div gets focus\n",
       "\n",
       "    // location in version 3\n",
       "    if (IPython.notebook.keyboard_manager) {\n",
       "        IPython.notebook.keyboard_manager.register_events(el);\n",
       "    }\n",
       "    else {\n",
       "        // location in version 2\n",
       "        IPython.keyboard_manager.register_events(el);\n",
       "    }\n",
       "\n",
       "}\n",
       "\n",
       "mpl.figure.prototype._key_event_extra = function(event, name) {\n",
       "    var manager = IPython.notebook.keyboard_manager;\n",
       "    if (!manager)\n",
       "        manager = IPython.keyboard_manager;\n",
       "\n",
       "    // Check for shift+enter\n",
       "    if (event.shiftKey && event.which == 13) {\n",
       "        this.canvas_div.blur();\n",
       "        event.shiftKey = false;\n",
       "        // Send a \"J\" for go to next cell\n",
       "        event.which = 74;\n",
       "        event.keyCode = 74;\n",
       "        manager.command_mode();\n",
       "        manager.handle_keydown(event);\n",
       "    }\n",
       "}\n",
       "\n",
       "mpl.figure.prototype.handle_save = function(fig, msg) {\n",
       "    fig.ondownload(fig, null);\n",
       "}\n",
       "\n",
       "\n",
       "mpl.find_output_cell = function(html_output) {\n",
       "    // Return the cell and output element which can be found *uniquely* in the notebook.\n",
       "    // Note - this is a bit hacky, but it is done because the \"notebook_saving.Notebook\"\n",
       "    // IPython event is triggered only after the cells have been serialised, which for\n",
       "    // our purposes (turning an active figure into a static one), is too late.\n",
       "    var cells = IPython.notebook.get_cells();\n",
       "    var ncells = cells.length;\n",
       "    for (var i=0; i<ncells; i++) {\n",
       "        var cell = cells[i];\n",
       "        if (cell.cell_type === 'code'){\n",
       "            for (var j=0; j<cell.output_area.outputs.length; j++) {\n",
       "                var data = cell.output_area.outputs[j];\n",
       "                if (data.data) {\n",
       "                    // IPython >= 3 moved mimebundle to data attribute of output\n",
       "                    data = data.data;\n",
       "                }\n",
       "                if (data['text/html'] == html_output) {\n",
       "                    return [cell, data, j];\n",
       "                }\n",
       "            }\n",
       "        }\n",
       "    }\n",
       "}\n",
       "\n",
       "// Register the function which deals with the matplotlib target/channel.\n",
       "// The kernel may be null if the page has been refreshed.\n",
       "if (IPython.notebook.kernel != null) {\n",
       "    IPython.notebook.kernel.comm_manager.register_target('matplotlib', mpl.mpl_figure_comm);\n",
       "}\n"
      ],
      "text/plain": [
       "<IPython.core.display.Javascript object>"
      ]
     },
     "metadata": {},
     "output_type": "display_data"
    },
    {
     "data": {
      "text/html": [
       "<img src=\"data:image/png;base64,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\" width=\"637\">"
      ],
      "text/plain": [
       "<IPython.core.display.HTML object>"
      ]
     },
     "metadata": {},
     "output_type": "display_data"
    },
    {
     "data": {
      "text/plain": [
       "<matplotlib.collections.QuadMesh at 0x7fddf1740780>"
      ]
     },
     "execution_count": 53,
     "metadata": {},
     "output_type": "execute_result"
    }
   ],
   "source": [
    "plt.figure()\n",
    "plt.pcolormesh(ds['RAINNC'].isel(Time=-1))"
   ]
  },
  {
   "cell_type": "markdown",
   "metadata": {},
   "source": [
    "## Web scraping"
   ]
  },
  {
   "cell_type": "code",
   "execution_count": null,
   "metadata": {},
   "outputs": [],
   "source": [
    "import requests, re\n",
    "from bs4 import BeautifulSoup as soup\n",
    "from io import StringIO\n",
    "import pandas as pd"
   ]
  },
  {
   "cell_type": "code",
   "execution_count": null,
   "metadata": {},
   "outputs": [],
   "source": [
    "r = requests.get('https://earth.boisestate.edu/drycreek/data/lower-gage/')\n",
    "r.raise_for_status()\n",
    "s = soup(r.text, 'html.parser')"
   ]
  },
  {
   "cell_type": "code",
   "execution_count": null,
   "metadata": {},
   "outputs": [],
   "source": [
    "# 'typical' solution\n",
    "\n",
    "empty_list = []\n",
    "\n",
    "for a in s.find_all('a', {'href': re.compile('HrlySummary')}):\n",
    "    r = requests.get(a.attrs['href'])\n",
    "    r.raise_for_status()\n",
    "    empty_list.append(\n",
    "        pd.read_csv(StringIO(r.text), skiprows=18, parse_dates=True, index_col='DateTime', na_values=-6999)\n",
    "    )\n",
    "\n",
    "df = pd.concat(empty_list)"
   ]
  },
  {
   "cell_type": "code",
   "execution_count": null,
   "metadata": {},
   "outputs": [],
   "source": [
    "# Pythonic\n",
    "\n",
    "def f(a):\n",
    "    r = requests.get(a.attrs['href'])\n",
    "    r.raise_for_status()\n",
    "    return pd.read_csv(StringIO(r.text), skiprows=18, parse_dates=True, index_col='DateTime', na_values=-6999)\n",
    "\n",
    "df = pd.concat([f(a) for a in s.find_all('a', {'href': re.compile('HrlySummary')})]).dropna('all', 1)"
   ]
  }
 ],
 "metadata": {
  "kernelspec": {
   "display_name": "intel",
   "language": "python",
   "name": "intel"
  },
  "language_info": {
   "codemirror_mode": {
    "name": "ipython",
    "version": 3
   },
   "file_extension": ".py",
   "mimetype": "text/x-python",
   "name": "python",
   "nbconvert_exporter": "python",
   "pygments_lexer": "ipython3",
   "version": "3.6.3"
  }
 },
 "nbformat": 4,
 "nbformat_minor": 2
}
