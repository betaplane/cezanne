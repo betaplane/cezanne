{
 "cells": [
  {
   "cell_type": "markdown",
   "metadata": {
    "collapsed": false,
    "deletable": true,
    "editable": true
   },
   "source": [
    "## T2"
   ]
  },
  {
   "cell_type": "code",
   "execution_count": null,
   "metadata": {
    "collapsed": false
   },
   "outputs": [],
   "source": [
    "import sys, re\n",
    "sys.path.append('../../code/python')\n",
    "import numpy as np\n",
    "import pandas as pd\n",
    "import helpers as hh\n",
    "import matplotlib.pyplot as plt\n",
    "from matplotlib.figure import SubplotParams\n",
    "from matplotlib import cm, colors\n",
    "%matplotlib inline\n",
    "\n",
    "D = pd.HDFStore('../../data/tables/station_data.h5')\n",
    "T = hh.stationize(D['ta_c'].xs('prom', 1, 'aggr').drop(10, 1, 'elev'))\n",
    "sta = D['sta']\n",
    "S = pd.HDFStore('../../data/tables/LinearLinear.h5')\n",
    "Tm = S['T2']\n",
    "Z = S['z']\n",
    "Map = hh.basemap()"
   ]
  },
  {
   "cell_type": "code",
   "execution_count": null,
   "metadata": {
    "collapsed": false
   },
   "outputs": [],
   "source": [
    "Tm.items"
   ]
  },
  {
   "cell_type": "code",
   "execution_count": null,
   "metadata": {
    "collapsed": false
   },
   "outputs": [],
   "source": [
    "Z"
   ]
  },
  {
   "cell_type": "code",
   "execution_count": null,
   "metadata": {
    "collapsed": false,
    "scrolled": false
   },
   "outputs": [],
   "source": [
    "z = re.compile('d03_\\d')\n",
    "fig = plt.figure(\n",
    "    figsize=(8, 8),\n",
    "    subplotpars=SubplotParams(left=0.08, right=0.86, wspace=0.06, hspace=0.04))\n",
    "for k in range(3):\n",
    "    for j, x in enumerate(Tm.items):\n",
    "        ax = plt.subplot(3, Tm.shape[0], k * Tm.shape[0] + j + 1)\n",
    "\n",
    "        B = (Tm[x] - T).dropna(0, 'all')\n",
    "        b = B.mean().dropna()\n",
    "        dz = sta['elev'] - Z['d03_op' if z.search(x) else x]\n",
    "        if k == 0:\n",
    "            ax.set_title(x)\n",
    "            D = pd.concat(\n",
    "                (sta.loc[b.index, ('lon', 'lat')], dz), axis=1).dropna()\n",
    "            m = 1750\n",
    "        elif k == 1:\n",
    "            D = pd.concat((sta.loc[:, ('lon', 'lat')], b), axis=1).dropna()\n",
    "            m = 13\n",
    "        else:\n",
    "            D = pd.concat(\n",
    "                (sta.loc[:, ('lon', 'lat')], b - 0.0065 * dz), axis=1).dropna()\n",
    "        sm = cm.ScalarMappable(norm=colors.Normalize(vmin=-m, vmax=m))\n",
    "        sm.set_array(D.iloc[:, -1])\n",
    "        sm.set_cmap('coolwarm')\n",
    "        for i, a in D.iterrows():\n",
    "            Map.plot(\n",
    "                a['lon'],\n",
    "                a['lat'],\n",
    "                'o',\n",
    "                color=sm.to_rgba(a.iloc[-1]),\n",
    "                latlon=True)\n",
    "        Map.drawcoastlines()\n",
    "        Map.drawparallels(range(-32, -28, 1), labels=[max(Tm.shape[0] - 2 - j, 0), 0, 0, 0])\n",
    "        Map.drawmeridians(range(-72, -69, 1), labels=[0, 0, 0, max(k - 1, 0)])\n",
    "\n",
    "        if j == 3:\n",
    "            bb = ax.get_position()\n",
    "            plt.colorbar(\n",
    "                sm,\n",
    "                cax=fig.add_axes([bb.x1 + 0.02, bb.y0, 0.02, bb.y1 - bb.y0]))\n",
    "\n"
   ]
  },
  {
   "cell_type": "code",
   "execution_count": null,
   "metadata": {
    "collapsed": false
   },
   "outputs": [],
   "source": []
  }
 ],
 "metadata": {
  "kernelspec": {
   "display_name": "Python 3",
   "language": "python",
   "name": "python3"
  },
  "language_info": {
   "codemirror_mode": {
    "name": "ipython",
    "version": 3
   },
   "file_extension": ".py",
   "mimetype": "text/x-python",
   "name": "python",
   "nbconvert_exporter": "python",
   "pygments_lexer": "ipython3",
   "version": "3.6.0"
  }
 },
 "nbformat": 4,
 "nbformat_minor": 2
}
