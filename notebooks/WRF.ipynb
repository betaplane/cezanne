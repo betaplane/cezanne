{
 "cells": [
  {
   "cell_type": "markdown",
   "metadata": {},
   "source": [
    "List of original code files incorporated into this notebook:\n",
    "- bias_err_T2.py\n",
    "- bias_corr.py\n",
    "- cycles.py\n",
    "\n",
    "List of files deemed outdated:\n",
    "- bias_mean.py\n",
    "\n",
    "List of plot files incorporated:\n",
    "- landsea.pdf\n",
    "- T2/daily_errors.pdf\n",
    "- T2/annual_daily_model.pdf (i.e. annual, daily cycles based on Lomb-Scargle 'model' invocation)\n",
    "- T2/bias_corr_bars.pdf\n",
    "- T2/bias_corr_kde.pdf\n",
    "- T2/bias_daily_max.pdf\n",
    "- T2/bias_daily_min.pdf\n",
    "- T2/bias_maps.pdf\n",
    "- T2/bias_maps2.pdf\n",
    "- T2/MAE_maps.pdf\n",
    "- T2/seasonal_cycles.pdf\n",
    "- T2/seasonal_errors.pdf"
   ]
  },
  {
   "cell_type": "code",
   "execution_count": null,
   "metadata": {
    "collapsed": false,
    "deletable": true,
    "editable": true,
    "hideCode": false,
    "hidePrompt": false
   },
   "outputs": [],
   "source": [
    "import sys, re\n",
    "sys.path.append('../../code/python')\n",
    "import numpy as np\n",
    "import pandas as pd\n",
    "import helpers as hh\n",
    "import matplotlib.pyplot as plt\n",
    "from matplotlib.figure import SubplotParams\n",
    "from astropy.stats import LombScargle\n",
    "%matplotlib inline\n",
    "\n",
    "Map = hh.basemap()\n",
    "\n",
    "def plot(B, cols=None, clims=None, cbars='row'):\n",
    "    if cols is not None:\n",
    "        B = B.loc[:, :, cols]\n",
    "    if clims is None:\n",
    "        cl = pd.concat((B.min(1).min(), B.max(1).max()), 1)\n",
    "    for k, b in B.iteritems():\n",
    "        for j, x in enumerate(B.minor_axis):\n",
    "            ax = plt.subplot(B.shape[0], B.shape[2], k * B.shape[2] + j + 1)\n",
    "            D = pd.concat((sta.loc[B.major_axis, ('lon', 'lat')], b[x]), axis=1).dropna()\n",
    "            if k == 0:\n",
    "                ax.set_title(x)\n",
    "            Map.scatter(D['lon'].as_matrix(), D['lat'].as_matrix(), c=D.iloc[:,-1], marker='o', latlon=True)\n",
    "            Map.drawcoastlines()\n",
    "            Map.drawparallels(range(-32, -28, 1), labels=[j==0, 0, 0, 0])\n",
    "            Map.drawmeridians(range(-72, -69, 1), labels=[0, 0, 0, k==B.shape[0]-1])\n",
    "            if cbars=='all':\n",
    "                plt.colorbar()\n",
    "            else:\n",
    "                if clims is None:\n",
    "                    plt.clim(cl[0][k], cl[1][k])\n",
    "                else:\n",
    "                    try:\n",
    "                        plt.clim(clims[k][0], clims[k][1])\n",
    "                    except TypeError:\n",
    "                        plt.clim(-clims[k], clims[k])\n",
    "                if j == B.shape[2] - 1:\n",
    "                    bb = ax.get_position()\n",
    "                    plt.colorbar(\n",
    "                        cax=fig.add_axes([bb.x1 + 0.02, bb.y0, 0.02, bb.y1 - bb.y0]))\n",
    "\n",
    "# helper to get the correct elevation data for each model 'name'\n",
    "def dem(s):\n",
    "    if s=='d03_orl': return s\n",
    "    elif s[:3]=='d03': return 'd03_op'\n",
    "    else: return s[:3]"
   ]
  },
  {
   "cell_type": "markdown",
   "metadata": {
    "deletable": true,
    "editable": true
   },
   "source": [
    "## Land-Sea mask"
   ]
  },
  {
   "cell_type": "code",
   "execution_count": null,
   "metadata": {
    "collapsed": false,
    "deletable": true,
    "editable": true,
    "hideCode": true
   },
   "outputs": [],
   "source": [
    "fig = plt.figure(figsize=(13, 3))\n",
    "plot(pd.Panel({0:S['land_mask']}))"
   ]
  },
  {
   "cell_type": "markdown",
   "metadata": {
    "deletable": true,
    "editable": true
   },
   "source": [
    "Linear interpolation of land (1) and sea (0) values to station locations on the various model grids."
   ]
  },
  {
   "cell_type": "markdown",
   "metadata": {
    "collapsed": false,
    "deletable": true,
    "editable": true,
    "hideCode": false,
    "hidePrompt": false
   },
   "source": [
    "## T2"
   ]
  },
  {
   "cell_type": "code",
   "execution_count": null,
   "metadata": {
    "collapsed": false,
    "deletable": true,
    "editable": true,
    "hideCode": false,
    "hidePrompt": false
   },
   "outputs": [],
   "source": [
    "D = pd.HDFStore('../../data/tables/station_data.h5')\n",
    "\n",
    "# CEAZAMet station location info\n",
    "sta = D['sta']\n",
    "\n",
    "# CEAZAMet station 2m temperature in K\n",
    "T = hh.stationize(D['ta_c'].xs('prom', 1, 'aggr').drop(10, 1, 'elev')) + 273.15\n",
    "\n",
    "S = pd.HDFStore('../../data/tables/LinearLinear.h5')\n",
    "\n",
    "# model 2m temperature linearly interpolated to station location\n",
    "Tm = S['T2n']\n",
    "\n",
    "# temperature bias (model minus stations)\n",
    "B = Tm.add( -T )\n",
    "\n",
    "# mean bias\n",
    "Bm = B.mean(1)\n",
    "\n",
    "# elevations of station locations on respective model DEMs\n",
    "Z = S['z'][[dem(z) for z in B.items]]\n",
    "Z.columns = B.items\n",
    "\n",
    "# elevation difference (true station elevation minus DEM)\n",
    "dz = (sta['elev'] - Z.T).T"
   ]
  },
  {
   "cell_type": "markdown",
   "metadata": {
    "deletable": true,
    "editable": true
   },
   "source": [
    "### Mean bias"
   ]
  },
  {
   "cell_type": "code",
   "execution_count": null,
   "metadata": {
    "collapsed": false,
    "deletable": true,
    "editable": true,
    "hideCode": true,
    "hideOutput": false,
    "hidePrompt": false
   },
   "outputs": [],
   "source": [
    "fig = plt.figure(\n",
    "    figsize=(15, 10),\n",
    "    subplotpars=SubplotParams(left=0.08, right=0.86, wspace=0.06, hspace=0.06))\n",
    "plt.set_cmap('coolwarm')\n",
    "x = ['d01', 'd02', 'd03_0_00', 'd03_0_12', 'd03_orl', 'fnl']\n",
    "plot(pd.Panel({0:dz, 1:Bm, 2:Bm - 0.0065 * dz}), cols=x, clims=[1750,13,13])"
   ]
  },
  {
   "cell_type": "markdown",
   "metadata": {
    "deletable": true,
    "editable": true
   },
   "source": [
    "**top**: elevation bias (true station elevation minus model DEM elevation interpolated to station location)  \n",
    "**middle**: 2m temperature bias (model - station)  \n",
    "**bottom**: temperature bias after correcting for a mean lapse rate of 6.5K / km"
   ]
  },
  {
   "cell_type": "code",
   "execution_count": null,
   "metadata": {
    "collapsed": false,
    "deletable": true,
    "editable": true,
    "hideCode": true,
    "hideOutput": false,
    "hidePrompt": false
   },
   "outputs": [],
   "source": [
    "fig = plt.figure(\n",
    "    figsize=(15,15),\n",
    "    subplotpars=SubplotParams(left=0.08, right=0.86, wspace=0.06, hspace=0.06))\n",
    "plt.set_cmap('coolwarm')\n",
    "x = ['d02', 'd03_orl', 'd03_0_00', 'd03_0_12']\n",
    "plot(pd.Panel({0:dz, 1:Bm, 2:Bm - 0.0065 * dz}), cols=x, clims=[1150, 10, 10])"
   ]
  },
  {
   "cell_type": "markdown",
   "metadata": {
    "deletable": true,
    "editable": true
   },
   "source": [
    "same as above but for selected domains only (less variance for same color scales)\n",
    "\n",
    "**top**: elevation bias (true station elevation minus model DEM elevation interpolated to station location)  \n",
    "**middle**: 2m temperature bias (model - station)  \n",
    "**bottom**: temperature bias after correcting for a mean lapse rate of 6.5K / km"
   ]
  },
  {
   "cell_type": "code",
   "execution_count": null,
   "metadata": {
    "collapsed": false,
    "deletable": true,
    "editable": true,
    "hideCode": true,
    "hideOutput": false,
    "hidePrompt": false
   },
   "outputs": [],
   "source": [
    "x = ['fnl', 'd01', 'd02', 'd03_orl', 'd03_0_00']\n",
    "\n",
    "fig = plt.figure(\n",
    "    figsize=(15, 12),\n",
    "    subplotpars=SubplotParams(left=0.08, right=0.86, wspace=0.06, hspace=0.06))\n",
    "plt.set_cmap('coolwarm')\n",
    "\n",
    "day = lambda x: x.groupby(lambda y: y.date).min()\n",
    "dt = day(T) # daily min of station data\n",
    "P = pd.Panel({\n",
    "    0: day(Tm).add(-dt).mean(1), # daily min of model data minus daily min of station data\n",
    "    1: day( Tm.add( -0.0065 * dz, 1) ).add(-dt).mean(1), # model data corrected by standard lapse rate\n",
    "    2: day( Tm.add(-Bm, 1) ).add(-dt).mean(1) # model data with mean bias removed\n",
    "})\n",
    "\n",
    "plot(P, cols=x, clims=[10, 10, 10])"
   ]
  },
  {
   "cell_type": "markdown",
   "metadata": {
    "deletable": true,
    "editable": true
   },
   "source": [
    "**top**: mean bias of daily **minimum** temperatures (model minus station)  \n",
    "**middle**: mean bias after correction for mean lapse rate of 6.5K / km  \n",
    "**bottom**: mean bias of daily minimum after removing mean bias (over all records)"
   ]
  },
  {
   "cell_type": "code",
   "execution_count": null,
   "metadata": {
    "collapsed": false,
    "deletable": true,
    "editable": true,
    "hideCode": true,
    "hideOutput": false,
    "hidePrompt": false
   },
   "outputs": [],
   "source": [
    "x = ['fnl', 'd01', 'd02', 'd03_orl', 'd03_0_00']\n",
    "\n",
    "fig = plt.figure(\n",
    "    figsize=(15, 12),\n",
    "    subplotpars=SubplotParams(left=0.08, right=0.86, wspace=0.06, hspace=0.06))\n",
    "plt.set_cmap('coolwarm')\n",
    "\n",
    "day = lambda x: x.groupby(lambda y: y.date).max()\n",
    "dt = day(T) # daily min of station data\n",
    "P = pd.Panel(\n",
    "    {\n",
    "        0: day(Tm).add(-dt).mean(1), # daily min of model data minus daily min of station data\n",
    "        1: day( Tm.add( -0.0065 * dz, 1) ).add(-dt).mean(1), # model data corrected by standard lapse rate\n",
    "        2: day( Tm.add(-Bm, 1) ).add(-dt).mean(1) # model data with mean bias removed\n",
    "    }\n",
    ")\n",
    "\n",
    "plot(P, cols=x, clims=[10, 10, 10])"
   ]
  },
  {
   "cell_type": "markdown",
   "metadata": {
    "deletable": true,
    "editable": true
   },
   "source": [
    "**top**: mean bias of daily **maximum** temperatures (model minus station)  \n",
    "**middle**: mean bias after correction for mean lapse rate of 6.5K / km  \n",
    "**bottom**: mean bias of daily maximum after removing mean bias (over all records)"
   ]
  },
  {
   "cell_type": "markdown",
   "metadata": {
    "deletable": true,
    "editable": true
   },
   "source": [
    "### Mean absolute error (MAE)"
   ]
  },
  {
   "cell_type": "code",
   "execution_count": null,
   "metadata": {
    "collapsed": false,
    "deletable": true,
    "editable": true,
    "hideCode": true,
    "hideOutput": false,
    "hidePrompt": false
   },
   "outputs": [],
   "source": [
    "x = ['fnl', 'd01', 'd02', 'd03_orl', 'd03_0_00', 'd03_0_12']\n",
    "\n",
    "fig = plt.figure(\n",
    "    figsize=(15, 10),\n",
    "    subplotpars=SubplotParams(left=0.08, right=0.86, wspace=0.06, hspace=0.06))\n",
    "plt.set_cmap('gnuplot')\n",
    "\n",
    "P = pd.Panel({\n",
    "    0: abs(B).mean(1), # mean absolute error (MAE)\n",
    "    1: abs( B.add( -0.0065 * dz, 1 ) ).mean(1), # MAE after lapse rate adjustment\n",
    "    2: abs( B.add(-Bm, 1) ).mean(1) # MAE after removal of mean bias\n",
    "})\n",
    "\n",
    "plot(P, cols=x)"
   ]
  },
  {
   "cell_type": "markdown",
   "metadata": {
    "deletable": true,
    "editable": true
   },
   "source": [
    "**top**: mean absolute error (MAE) of 2m temperature (model/station)  \n",
    "**middle**: MAE after correction for mean lapse rate of 6.5K / km  \n",
    "**bottom**: MAE after removal of mean bias"
   ]
  },
  {
   "cell_type": "markdown",
   "metadata": {
    "deletable": true,
    "editable": true
   },
   "source": [
    "## Cycles"
   ]
  },
  {
   "cell_type": "code",
   "execution_count": null,
   "metadata": {
    "collapsed": false,
    "deletable": true,
    "editable": true,
    "hideCode": true
   },
   "outputs": [],
   "source": [
    "# This gives a good current approximation to the solar year length in seconds\n",
    "def pow(d, T=np.timedelta64(1, 'Y').astype('timedelta64[s]'), return_period=False):\n",
    "    f = lambda k: k.astype(float)\n",
    "    try:\n",
    "        c = d.dropna()\n",
    "        t = np.array(c.index, dtype='datetime64[s]')\n",
    "        n = np.arange(t[0], t[0]+T, dtype='datetime64[h]').astype('datetime64[s]')\n",
    "        if (t[-1] - t[0]) < T / 4: return np.nan\n",
    "        x = c.as_matrix()\n",
    "        y = LombScargle(f(t), x).model(f(n), f(T)**-1)\n",
    "        return pd.Timestamp(n[y.argmax()]).month if return_period else max(y) - min(y)\n",
    "    except:\n",
    "        return np.nan"
   ]
  },
  {
   "cell_type": "code",
   "execution_count": null,
   "metadata": {
    "collapsed": false,
    "deletable": true,
    "editable": true,
    "hideCode": true,
    "scrolled": false
   },
   "outputs": [],
   "source": [
    "x = ['obs', 'fnl', 'd01', 'd02', 'd03_orl', 'd03_0_00']\n",
    "\n",
    "fig = plt.figure(\n",
    "    figsize=(15, 7),\n",
    "    subplotpars=SubplotParams(left=.1, right=.96, bottom=.06, top=.92, wspace=.1, hspace=.1))\n",
    "plt.set_cmap('gnuplot')\n",
    "\n",
    "d = dict(Tm)\n",
    "d['obs'] = T\n",
    "d = pd.Panel(d)\n",
    "std = d.groupby(d.major_axis.month).std()\n",
    "std.major_axis = std.major_axis.astype('datetime64[M]')\n",
    "\n",
    "P = pd.Panel({\n",
    "    0: d.apply(pow, 1),\n",
    "    1: std.mean(1),\n",
    "    2: std.apply(pow, 1)\n",
    "})\n",
    "\n",
    "plot(P, cols=x, cbars='all')"
   ]
  },
  {
   "cell_type": "markdown",
   "metadata": {
    "deletable": true,
    "editable": true
   },
   "source": [
    "**top**: amplitude of annual cycle in 2m temperatures for observations and models (peak-to-peak, $2 \\hat{U}$)  \n",
    "**middle**: mean monthly standard deviation of 2m temperatures  \n",
    "**bottom**: amplitude of annual cycle (as above) of monthly standard deviation\n",
    "\n",
    "**Note**: The annual cycle is computed from a Lomb-Scargle periodogram, as this is known to work reliably even for lengths of records of only a fraction of the period under investigation. The amplitude is computed from the model reconstruction of the astropy.stats.LombScargle algorithm, since the normalization of the Lomb-Scargle periodogram is not directly related to that of a Fourier transform."
   ]
  },
  {
   "cell_type": "code",
   "execution_count": null,
   "metadata": {
    "collapsed": false,
    "deletable": true,
    "editable": true,
    "hideCode": true
   },
   "outputs": [],
   "source": [
    "x = ['fnl', 'd01', 'd02', 'd03_orl', 'd03_0_00']\n",
    "\n",
    "fig = plt.figure(\n",
    "    figsize=(15, 6),\n",
    "    subplotpars=SubplotParams(left=.1, right=.96, bottom=.06, top=.92, wspace=.1, hspace=.1))\n",
    "plt.set_cmap('gnuplot')\n",
    "\n",
    "std = B.groupby(B.major_axis.month).std()\n",
    "std.major_axis = std.major_axis.astype('datetime64[M]')\n",
    "\n",
    "P = pd.Panel({\n",
    "    0: B.apply(pow, 1),\n",
    "    1: std.apply(pow, 1)\n",
    "})\n",
    "\n",
    "plot(P, cols=x, cbars='all')"
   ]
  },
  {
   "cell_type": "markdown",
   "metadata": {
    "deletable": true,
    "editable": true
   },
   "source": [
    "**top**: amplitude of annual cycle (see above) of 2m temperature **bias** (model minus station)  \n",
    "**bottom**: amplitude of annual cycle of monthly standard deviation of temperature bias"
   ]
  },
  {
   "cell_type": "code",
   "execution_count": null,
   "metadata": {
    "collapsed": false,
    "deletable": true,
    "editable": true,
    "hideCode": true
   },
   "outputs": [],
   "source": [
    "x = ['obs', 'fnl', 'd01', 'd02', 'd03_orl', 'd03_0_00']\n",
    "\n",
    "fig = plt.figure(\n",
    "    figsize=(15, 3),\n",
    "    subplotpars=SubplotParams(left=.1, right=.96, bottom=.06, top=.92, wspace=.12, hspace=.1))\n",
    "plt.set_cmap('hsv')\n",
    "\n",
    "plot(pd.Panel({0: d.apply(pow, 1, return_period=True)}), cols=x, clims=[(1,12)])"
   ]
  },
  {
   "cell_type": "markdown",
   "metadata": {
    "deletable": true,
    "editable": true
   },
   "source": [
    "**Phase** of annual cycle of 2m temperatures (as month 1-12), computed from Lomb-Scargle reconstrution"
   ]
  },
  {
   "cell_type": "code",
   "execution_count": null,
   "metadata": {
    "collapsed": false,
    "deletable": true,
    "editable": true,
    "hideCode": true
   },
   "outputs": [],
   "source": [
    "x = ['obs', 'fnl', 'd01', 'd02', 'd03_orl', 'd03_0_00']\n",
    "\n",
    "fig = plt.figure(\n",
    "    figsize=(15, 6),\n",
    "    subplotpars=SubplotParams(left=.1, right=.96, bottom=.06, top=.92, wspace=.1, hspace=.1))\n",
    "plt.set_cmap('gnuplot')\n",
    "\n",
    "P = pd.Panel({\n",
    "    0: d.apply(pow, 1),\n",
    "    1: d.apply(pow, 1, T=np.timedelta64(1, 'D').astype('timedelta64[s]')),\n",
    "})\n",
    "\n",
    "plot(P, cols=x)"
   ]
  },
  {
   "cell_type": "markdown",
   "metadata": {
    "deletable": true,
    "editable": true
   },
   "source": [
    "**top**: amplitude of annual cycle (see above) of 2m temperatures  \n",
    "**bottom**: amplitude of daily cycle, computed in the same way"
   ]
  },
  {
   "cell_type": "markdown",
   "metadata": {},
   "source": [
    "## Kernel density estimates (KDE) of errors"
   ]
  },
  {
   "cell_type": "code",
   "execution_count": null,
   "metadata": {
    "collapsed": false,
    "hideCode": true,
    "hideOutput": false
   },
   "outputs": [],
   "source": [
    "from scipy.stats import gaussian_kde\n",
    "\n",
    "# compute values of 2x2 contingency table (a, b, c, d)\n",
    "def abcd(df):\n",
    "    m = df.notnull().astype(int)\n",
    "    n = df.shape[0]\n",
    "    a = np.where(m.sum(axis=1)==2)[0].shape[0]\n",
    "    b,c = [np.where(m.diff(axis=1)[1]==i)[0].shape[0] for i in [1,-1]]\n",
    "    d = n-a-b-c\n",
    "    return a,b,c,d,n\n",
    "\n",
    "x = np.linspace(-20,20,100)\n",
    "\n",
    "P = [Tm, Tm.add(-0.0065 * dz, 1), Tm.add(-Bm, 1), Tm.add(-B.apply(lambda x:x.rolling('7D').mean(), 1))]\n",
    "\n",
    "cols = np.array([['fnl','d01','d02'],['d03_orl','d03_0_00','d03_0_12'],['d03_0_00','d03_1_00','d03_4_00']])\n",
    "fig,axs = plt.subplots(*cols.shape, figsize=(15, 10))\n",
    "mae = np.zeros(np.r_[cols.shape,4])\n",
    "cold = np.zeros_like(mae)\n",
    "heat = np.zeros_like(mae)\n",
    "for i, row in enumerate(cols):\n",
    "    for j, s in enumerate(row):\n",
    "        plt.sca(axs[i,j])\n",
    "        axs[i,j].set_title(cols[i,j])\n",
    "\n",
    "        for h,f in enumerate(P):\n",
    "            y = f[s]-T\n",
    "            fg = f[s].groupby(f[s].index.date)\n",
    "            Tg = T.groupby(T.index.date)\n",
    "            mae[i,j,h] = abs(y).mean().mean()\n",
    "            k = gaussian_kde(y.stack().dropna())\n",
    "\n",
    "            p = pd.Panel({0: Tg.min(), 1:fg.min()}).to_frame()\n",
    "            a,b,c,d,n = abcd(p[p<hh.K])\n",
    "            cold[i,j,h] = a/(a+b+c)\n",
    "\n",
    "            p = pd.Panel({0: Tg.max(), 1:fg.max()}).to_frame()\n",
    "            a,b,c,d,n = abcd(p[p>hh.K+30])\n",
    "            heat[i,j,h] = a/(a+b+c)\n",
    "            plt.plot(x,k(x))\n",
    "\n",
    "        plt.grid()\n",
    "        \n",
    "for ax in axs.flatten():\n",
    "    ax.set_ylim(0,0.2)\n",
    "    ax.set_yticklabels([])\n",
    "\n",
    "for ax in axs[:2,:].flatten():\n",
    "    ax.set_xticklabels([])"
   ]
  },
  {
   "cell_type": "markdown",
   "metadata": {},
   "source": []
  },
  {
   "cell_type": "code",
   "execution_count": null,
   "metadata": {
    "collapsed": false,
    "hideCode": true
   },
   "outputs": [],
   "source": [
    "fig,axs = plt.subplots(*cols.shape, figsize=(15, 10))\n",
    "cy = axs[0,0]._get_lines.prop_cycler\n",
    "col = [next(cy)['color'] for i in range(4)]\n",
    "x = np.arange(4)\n",
    "for i in range(cols.shape[0]):\n",
    "    for j in range(cols.shape[1]):\n",
    "        axs[i,j].set_title(cols[i,j])\n",
    "        plt.sca(axs[i,j])\n",
    "        p = np.r_[mae[i:i+1,j],cold[i:i+1,j],heat[i:i+1,j]]\n",
    "        plt.bar(x,p[0,:],color=col)\n",
    "        axs[i,j].set_ylim((0,5.1))\n",
    "        ax = axs[i,j].twinx()\n",
    "        ax.bar(x+5,p[1,:],color=col)\n",
    "        ax.bar(x+10,p[2,:],color=col)\n",
    "        ax.set_ylim((0,0.81))\n",
    "        axs[i,j].set_xticks([1.5,6.5,11.5])\n",
    "        if i==2: axs[i,j].set_xticklabels(['MAE','TS < 0C', 'TS > 30C'])\n",
    "        else: axs[i,j].set_xticklabels([])\n",
    "        if j>0: axs[i,j].set_yticklabels([])\n",
    "        if j<2: ax.set_yticklabels([])\n",
    "        if i==1:\n",
    "            if j==0: axs[1,0].set_ylabel('MAE')\n",
    "            if j==2: ax.set_ylabel('threat score (TS)')"
   ]
  },
  {
   "cell_type": "markdown",
   "metadata": {},
   "source": [
    "MAE and threat score <cite data-cite=\"2031184/BVKVAVZP\"></cite> (page 263) of two scenarios:\n",
    "1. Daily minimum below 0$^{\\circ}$C ('< 0C')\n",
    "1. Daily maximum above 30$^{\\circ}$C ('> 30C')\n",
    "\n",
    "**blue**: without correction  \n",
    "**yellow**: with lapse rate 6.5K/km correction  \n",
    "**green**: with mean bias removed  \n",
    "**red**: with one-week running mean bias removed  \n",
    "\n",
    "**Note**: Threat score of 1 is perfect, 0 is worst. Gives proportion of correct 'yes' forcasts of events after removing 'no' forcasts from consideration. "
   ]
  },
  {
   "cell_type": "code",
   "execution_count": null,
   "metadata": {
    "collapsed": false,
    "deletable": true,
    "editable": true
   },
   "outputs": [],
   "source": [
    "D.close()\n",
    "S.close()"
   ]
  },
  {
   "cell_type": "code",
   "execution_count": null,
   "metadata": {
    "collapsed": false,
    "hideOutput": true
   },
   "outputs": [],
   "source": [
    "import mapping as mp\n",
    "import interpolation as intp\n",
    "from netCDF4 import Dataset\n",
    "\n",
    "g2 = Dataset('../../data/WRF/3d/grid_d03.nc')\n",
    "Map = mp.basemap(g2)\n",
    "\n",
    "n0 = Dataset('../../data/WRF/3d/d03_day0.nc')\n",
    "x0 = intp.nc_interp(n0, 'T2', sta, method='linear', map=Map)\n",
    "j = hh.tsplit(x0)\n",
    "\n",
    "x0_1 = x0.iloc[:j,:]\n",
    "x0_2 = x0.iloc[j:,:]\n",
    "\n",
    "n4 = Dataset('../../data/WRF/3d/T2_4.nc')\n",
    "x4 = intp.nc_interp(n4, 'T2', sta, method='linear', map=Map)\n",
    "x4_1 = x4.iloc[:j,:]\n",
    "x4_2 = x4.iloc[j:,:]"
   ]
  },
  {
   "cell_type": "code",
   "execution_count": null,
   "metadata": {
    "collapsed": false
   },
   "outputs": [],
   "source": [
    "fig = plt.figure(figsize=(12,8))\n",
    "for i,x in enumerate([Tm['d03_orl'],x0_1,x0_2,x4_1,x4_2]):\n",
    "    y = (x-T)**2\n",
    "    y = y.groupby(y.index.hour).mean().mean(1)\n",
    "    plt.plot(y,label=['orl','op+0/00','op+0/12','op+4/00','op+4/12'][i])\n",
    "plt.legend()\n",
    "plt.grid()\n",
    "xt = plt.gca().set_xticks(range(0,24,2))"
   ]
  },
  {
   "cell_type": "markdown",
   "metadata": {},
   "source": [
    "Mean error stratified by hour of the day for selected experiments.\n",
    "#### Legend\n",
    "**orl**: Orlando's domain\n",
    "**op**: forcast domain 3\n",
    "**+a/b**: a - forecast lead time in days, b - initialization hour of GFS forecast"
   ]
  },
  {
   "cell_type": "code",
   "execution_count": null,
   "metadata": {
    "collapsed": false
   },
   "outputs": [],
   "source": []
  }
 ],
 "metadata": {
  "celltoolbar": "Hide code",
  "cite2c": {
   "citations": {
    "2031184/BVKVAVZP": {
     "ISBN": "978-0-12-751966-1",
     "author": [
      {
       "family": "Wilks",
       "given": "Daniel S."
      }
     ],
     "call-number": "QC874.5 .W55 2006",
     "collection-number": "v. 91",
     "collection-title": "International geophysics series",
     "edition": "2nd ed",
     "event-place": "Amsterdam ; Boston",
     "id": "2031184/BVKVAVZP",
     "issued": {
      "year": "2006"
     },
     "number-of-pages": "627",
     "publisher": "Academic Press",
     "publisher-place": "Amsterdam ; Boston",
     "title": "Statistical methods in the atmospheric sciences",
     "type": "book"
    }
   }
  },
  "hide_code_all_hidden": false,
  "kernelspec": {
   "display_name": "Python 3",
   "language": "python",
   "name": "python3"
  },
  "language_info": {
   "codemirror_mode": {
    "name": "ipython",
    "version": 3
   },
   "file_extension": ".py",
   "mimetype": "text/x-python",
   "name": "python",
   "nbconvert_exporter": "python",
   "pygments_lexer": "ipython3",
   "version": "3.6.0"
  }
 },
 "nbformat": 4,
 "nbformat_minor": 2
}
