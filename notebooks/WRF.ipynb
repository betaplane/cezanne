{
 "cells": [
  {
   "cell_type": "markdown",
   "metadata": {
    "collapsed": false,
    "deletable": true,
    "editable": true,
    "hideCode": false,
    "hidePrompt": false
   },
   "source": [
    "## T2"
   ]
  },
  {
   "cell_type": "code",
   "execution_count": null,
   "metadata": {
    "collapsed": false,
    "hideCode": false,
    "hidePrompt": false
   },
   "outputs": [],
   "source": [
    "import sys, re\n",
    "sys.path.append('../../code/python')\n",
    "import numpy as np\n",
    "import pandas as pd\n",
    "import helpers as hh\n",
    "import matplotlib.pyplot as plt\n",
    "from matplotlib.figure import SubplotParams\n",
    "from astropy.stats import LombScargle\n",
    "%matplotlib inline\n",
    "\n",
    "def plot(B, cols=None, clims=None, cbars='row'):\n",
    "    if cols is not None:\n",
    "        B = B.loc[:, :, cols]\n",
    "    if clims is None:\n",
    "        cl = pd.concat((B.min(1).min(), B.max(1).max()), 1)\n",
    "    for k, b in B.iteritems():\n",
    "        for j, x in enumerate(B.minor_axis):\n",
    "            ax = plt.subplot(B.shape[0], B.shape[2], k * B.shape[2] + j + 1)\n",
    "            D = pd.concat((sta.loc[B.major_axis, ('lon', 'lat')], b[x]), axis=1).dropna()\n",
    "            if k == 0:\n",
    "                ax.set_title(x)\n",
    "            Map.scatter(D['lon'].as_matrix(), D['lat'].as_matrix(), c=D.iloc[:,-1], marker='o', latlon=True)\n",
    "            Map.drawcoastlines()\n",
    "            Map.drawparallels(range(-32, -28, 1), labels=[j==0, 0, 0, 0])\n",
    "            Map.drawmeridians(range(-72, -69, 1), labels=[0, 0, 0, k==B.shape[0]-1])\n",
    "            if cbars=='all':\n",
    "                plt.colorbar()\n",
    "            else:\n",
    "                if clims is None:\n",
    "                    plt.clim(cl[0][k], cl[1][k])\n",
    "                else:\n",
    "                    try:\n",
    "                        plt.clim(clims[k][0], clims[k][1])\n",
    "                    except TypeError:\n",
    "                        plt.clim(-clims[k], clims[k])\n",
    "                if j == B.shape[2] - 1:\n",
    "                    bb = ax.get_position()\n",
    "                    plt.colorbar(\n",
    "                        cax=fig.add_axes([bb.x1 + 0.02, bb.y0, 0.02, bb.y1 - bb.y0]))\n",
    "\n",
    "def dem(s):\n",
    "    if s=='d03_orl': return s\n",
    "    elif s[:3]=='d03': return 'd03_op'\n",
    "    else: return s[:3]"
   ]
  },
  {
   "cell_type": "code",
   "execution_count": null,
   "metadata": {
    "collapsed": false,
    "deletable": true,
    "editable": true,
    "hideCode": false,
    "hidePrompt": false
   },
   "outputs": [],
   "source": [
    "D = pd.HDFStore('../../data/tables/station_data.h5')\n",
    "\n",
    "# CEAZAMet station location info\n",
    "sta = D['sta']\n",
    "\n",
    "# CEAZAMet station 2m temperature in K\n",
    "T = hh.stationize(D['ta_c'].xs('prom', 1, 'aggr').drop(10, 1, 'elev')) + 273.15\n",
    "\n",
    "S = pd.HDFStore('../../data/tables/LinearLinear.h5')\n",
    "\n",
    "# model 2m temperature linearly interpolated to station location\n",
    "Tm = S['T2n']\n",
    "\n",
    "# temperature bias (model minus stations)\n",
    "B = Tm.add( -T )\n",
    "\n",
    "# mean bias\n",
    "Bm = B.mean(1)\n",
    "\n",
    "# elevations of station locations on respective model DEMs\n",
    "Z = S['z'][[dem(z) for z in B.items]]\n",
    "Z.columns = B.items\n",
    "\n",
    "# elevation difference (true station elevation minus DEM)\n",
    "dz = (sta['elev'] - Z.T).T\n",
    "\n",
    "Map = hh.basemap()"
   ]
  },
  {
   "cell_type": "markdown",
   "metadata": {},
   "source": [
    "### Mean bias and elevation difference"
   ]
  },
  {
   "cell_type": "code",
   "execution_count": null,
   "metadata": {
    "collapsed": false,
    "deletable": true,
    "editable": true,
    "hideCode": true,
    "hideOutput": false,
    "hidePrompt": false
   },
   "outputs": [],
   "source": [
    "fig = plt.figure(\n",
    "    figsize=(15, 10),\n",
    "    subplotpars=SubplotParams(left=0.08, right=0.86, wspace=0.06, hspace=0.06))\n",
    "plt.set_cmap('coolwarm')\n",
    "x = ['d01', 'd02', 'd03_0_00', 'd03_0_12', 'd03_orl', 'fnl']\n",
    "plot(pd.Panel({0:dz, 1:Bm, 2:Bm - 0.0065 * dz}), cols=x, clims=[1750,13,13])"
   ]
  },
  {
   "cell_type": "markdown",
   "metadata": {},
   "source": [
    "**top**: elevation bias (true station elevation minus model DEM elevation interpolated to station location)  \n",
    "**middle**: 2m temperature bias (model - station)  \n",
    "**bottom**: temperature bias after correcting for a mean lapse rate of 6.5K / km"
   ]
  },
  {
   "cell_type": "markdown",
   "metadata": {},
   "source": [
    "### Mean bias / elevation for selected configs"
   ]
  },
  {
   "cell_type": "code",
   "execution_count": null,
   "metadata": {
    "collapsed": false,
    "deletable": true,
    "editable": true,
    "hideCode": true,
    "hideOutput": false,
    "hidePrompt": false
   },
   "outputs": [],
   "source": [
    "fig = plt.figure(\n",
    "    figsize=(15,15),\n",
    "    subplotpars=SubplotParams(left=0.08, right=0.86, wspace=0.06, hspace=0.06))\n",
    "plt.set_cmap('coolwarm')\n",
    "x = ['d02', 'd03_orl', 'd03_0_00', 'd03_0_12']\n",
    "plot(pd.Panel({0:dz, 1:Bm, 2:Bm - 0.0065 * dz}), cols=x, clims=[1150, 10, 10])"
   ]
  },
  {
   "cell_type": "markdown",
   "metadata": {},
   "source": [
    "**top**: elevation bias (true station elevation minus model DEM elevation interpolated to station location)  \n",
    "**middle**: 2m temperature bias (model - station)  \n",
    "**bottom**: temperature bias after correcting for a mean lapse rate of 6.5K / km"
   ]
  },
  {
   "cell_type": "markdown",
   "metadata": {},
   "source": [
    "### Daily minimum temperatures, mean bias with and without corrections"
   ]
  },
  {
   "cell_type": "code",
   "execution_count": null,
   "metadata": {
    "collapsed": false,
    "hideCode": true,
    "hideOutput": false,
    "hidePrompt": false
   },
   "outputs": [],
   "source": [
    "x = ['fnl', 'd01', 'd02', 'd03_orl', 'd03_0_00']\n",
    "\n",
    "fig = plt.figure(\n",
    "    figsize=(15, 12),\n",
    "    subplotpars=SubplotParams(left=0.08, right=0.86, wspace=0.06, hspace=0.06))\n",
    "plt.set_cmap('coolwarm')\n",
    "\n",
    "day = lambda x: x.groupby(lambda y: y.date).min()\n",
    "dt = day(T) # daily min of station data\n",
    "P = pd.Panel({\n",
    "    0: day(Tm).add(-dt).mean(1), # daily min of model data minus daily min of station data\n",
    "    1: day( Tm.add( -0.0065 * dz, 1) ).add(-dt).mean(1), # model data corrected by standard lapse rate\n",
    "    2: day( Tm.add(-Bm, 1) ).add(-dt).mean(1) # model data with mean bias removed\n",
    "})\n",
    "\n",
    "plot(P, cols=x, clims=[10, 10, 10])"
   ]
  },
  {
   "cell_type": "markdown",
   "metadata": {},
   "source": [
    "**top**: mean bias of daily minimum temperatures (model minus station)  \n",
    "**middle**: mean bias after correction for mean lapse rate of 6.5K / km  \n",
    "**bottom**: mean bias of daily minimum after removing mean bias (over all records)"
   ]
  },
  {
   "cell_type": "markdown",
   "metadata": {},
   "source": [
    "### Daily maximum temperatures, mean bias with and without corrections"
   ]
  },
  {
   "cell_type": "code",
   "execution_count": null,
   "metadata": {
    "collapsed": false,
    "hideCode": true,
    "hideOutput": false,
    "hidePrompt": false
   },
   "outputs": [],
   "source": [
    "x = ['fnl', 'd01', 'd02', 'd03_orl', 'd03_0_00']\n",
    "\n",
    "fig = plt.figure(\n",
    "    figsize=(15, 12),\n",
    "    subplotpars=SubplotParams(left=0.08, right=0.86, wspace=0.06, hspace=0.06))\n",
    "plt.set_cmap('coolwarm')\n",
    "\n",
    "day = lambda x: x.groupby(lambda y: y.date).max()\n",
    "dt = day(T) # daily min of station data\n",
    "P = pd.Panel(\n",
    "    {\n",
    "        0: day(Tm).add(-dt).mean(1), # daily min of model data minus daily min of station data\n",
    "        1: day( Tm.add( -0.0065 * dz, 1) ).add(-dt).mean(1), # model data corrected by standard lapse rate\n",
    "        2: day( Tm.add(-Bm, 1) ).add(-dt).mean(1) # model data with mean bias removed\n",
    "    }\n",
    ")\n",
    "\n",
    "plot(P, cols=x, clims=[10, 10, 10])"
   ]
  },
  {
   "cell_type": "markdown",
   "metadata": {},
   "source": [
    "**top**: mean bias of daily maximum temperatures (model minus station)  \n",
    "**middle**: mean bias after correction for mean lapse rate of 6.5K / km  \n",
    "**bottom**: mean bias of daily maximum after removing mean bias (over all records)"
   ]
  },
  {
   "cell_type": "markdown",
   "metadata": {},
   "source": [
    "### Mean absolute error (MAE), with and without corrections"
   ]
  },
  {
   "cell_type": "code",
   "execution_count": null,
   "metadata": {
    "collapsed": false,
    "hideCode": true,
    "hideOutput": false,
    "hidePrompt": false
   },
   "outputs": [],
   "source": [
    "x = ['fnl', 'd01', 'd02', 'd03_orl', 'd03_0_00', 'd03_0_12']\n",
    "\n",
    "fig = plt.figure(\n",
    "    figsize=(15, 10),\n",
    "    subplotpars=SubplotParams(left=0.08, right=0.86, wspace=0.06, hspace=0.06))\n",
    "plt.set_cmap('gnuplot')\n",
    "\n",
    "P = pd.Panel({\n",
    "    0: abs(B).mean(1), # mean absolute error (MAE)\n",
    "    1: abs( B.add( -0.0065 * dz, 1 ) ).mean(1), # MAE after lapse rate adjustment\n",
    "    2: abs( B.add(-Bm, 1) ).mean(1) # MAE after removal of mean bias\n",
    "})\n",
    "\n",
    "plot(P, cols=x)"
   ]
  },
  {
   "cell_type": "markdown",
   "metadata": {},
   "source": [
    "**top**: mean absolute error (MAE) of 2m temperature (model/station)  \n",
    "**middle**: MAE after correction for mean lapse rate of 6.5K / km  \n",
    "**bottom**: MAE after removal of mean bias"
   ]
  },
  {
   "cell_type": "markdown",
   "metadata": {},
   "source": [
    "## Annual cycles of observations and models"
   ]
  },
  {
   "cell_type": "code",
   "execution_count": null,
   "metadata": {
    "collapsed": false
   },
   "outputs": [],
   "source": [
    "# This gives a good current approximation to the solar year length in seconds\n",
    "def pow(d, T=np.timedelta64(1, 'Y').astype('timedelta64[s]'), return_period=False):\n",
    "    f = lambda k: k.astype(float)\n",
    "    try:\n",
    "        c = d.dropna()\n",
    "        t = np.array(c.index, dtype='datetime64[s]')\n",
    "        n = np.arange(t[0], t[0]+T, dtype='datetime64[h]').astype('datetime64[s]')\n",
    "        if (t[-1] - t[0]) < T / 4: return np.nan\n",
    "        x = c.as_matrix()\n",
    "        y = LombScargle(f(t), x).model(f(n), f(T)**-1)\n",
    "        return pd.Timestamp(n[y.argmax()]).month if return_period else max(y) - min(y)\n",
    "    except:\n",
    "        return np.nan"
   ]
  },
  {
   "cell_type": "code",
   "execution_count": null,
   "metadata": {
    "collapsed": false,
    "hideCode": true,
    "scrolled": false
   },
   "outputs": [],
   "source": [
    "x = ['obs', 'fnl', 'd01', 'd02', 'd03_orl', 'd03_0_00']\n",
    "\n",
    "fig = plt.figure(\n",
    "    figsize=(15, 7),\n",
    "    subplotpars=SubplotParams(left=.1, right=.96, bottom=.06, top=.92, wspace=.1, hspace=.1))\n",
    "plt.set_cmap('gnuplot')\n",
    "\n",
    "d = dict(Tm)\n",
    "d['obs'] = T\n",
    "d = pd.Panel(d)\n",
    "std = d.groupby(d.major_axis.month).std()\n",
    "std.major_axis = std.major_axis.astype('datetime64[M]')\n",
    "\n",
    "P = pd.Panel({\n",
    "    0: d.apply(pow, 1),\n",
    "    1: std.mean(1),\n",
    "    2: std.apply(pow, 1)\n",
    "})\n",
    "\n",
    "plot(P, cols=x, cbars='all')"
   ]
  },
  {
   "cell_type": "markdown",
   "metadata": {},
   "source": [
    "**top**: amplitude of annual cycle in 2m temperatures for observations and models (peak-to-peak, $2 \\hat{U}$)  \n",
    "**middle**: mean monthly standard deviation of 2m temperatures  \n",
    "**bottom**: amplitude of annual cycle (as above) of monthly standard deviation\n",
    "\n",
    "**Note**: The annual cycle is computed from a Lomb-Scargle periodogram, as this is known to work reliably even for lengths of records of only a fraction of the period under investigation. The amplitude is computed from the model reconstruction of the astropy.stats.LombScargle algorithm, since the normalization of the Lomb-Scargle periodogram is not directly related to that of a Fourier transform."
   ]
  },
  {
   "cell_type": "markdown",
   "metadata": {},
   "source": [
    "## Annual cycle of model *bias*"
   ]
  },
  {
   "cell_type": "code",
   "execution_count": null,
   "metadata": {
    "collapsed": false,
    "hideCode": true
   },
   "outputs": [],
   "source": [
    "x = ['fnl', 'd01', 'd02', 'd03_orl', 'd03_0_00']\n",
    "\n",
    "fig = plt.figure(\n",
    "    figsize=(15, 6),\n",
    "    subplotpars=SubplotParams(left=.1, right=.96, bottom=.06, top=.92, wspace=.1, hspace=.1))\n",
    "plt.set_cmap('gnuplot')\n",
    "\n",
    "std = B.groupby(B.major_axis.month).std()\n",
    "std.major_axis = std.major_axis.astype('datetime64[M]')\n",
    "\n",
    "P = pd.Panel({\n",
    "    0: B.apply(pow, 1),\n",
    "    1: std.apply(pow, 1)\n",
    "})\n",
    "\n",
    "plot(P, cols=x, cbars='all')"
   ]
  },
  {
   "cell_type": "markdown",
   "metadata": {},
   "source": [
    "**top**: amplitude of annual cycle (see above) of 2m temperature *bias* (model minus station)  \n",
    "**bottom**: amplitude of annual cycle of monthly standard deviation of temperature bias"
   ]
  },
  {
   "cell_type": "markdown",
   "metadata": {},
   "source": [
    "## Phase of annual cycle of observations and models"
   ]
  },
  {
   "cell_type": "code",
   "execution_count": null,
   "metadata": {
    "collapsed": false
   },
   "outputs": [],
   "source": [
    "x = ['obs', 'fnl', 'd01', 'd02', 'd03_orl', 'd03_0_00']\n",
    "\n",
    "fig = plt.figure(\n",
    "    figsize=(15, 3),\n",
    "    subplotpars=SubplotParams(left=.1, right=.96, bottom=.06, top=.92, wspace=.12, hspace=.1))\n",
    "plt.set_cmap('hsv')\n",
    "\n",
    "plot(pd.Panel({0: d.apply(pow, 1, return_period=True)}), cols=x, clims=[(1,12)])"
   ]
  },
  {
   "cell_type": "markdown",
   "metadata": {},
   "source": [
    "Phase of annual cycle of 2m temperatures (as month 1-12), computed from Lomb-Scargle reconstrution"
   ]
  },
  {
   "cell_type": "markdown",
   "metadata": {},
   "source": [
    "## Annual and daily cycles of observations and models"
   ]
  },
  {
   "cell_type": "code",
   "execution_count": null,
   "metadata": {
    "collapsed": false,
    "hideCode": true
   },
   "outputs": [],
   "source": [
    "x = ['obs', 'fnl', 'd01', 'd02', 'd03_orl', 'd03_0_00']\n",
    "\n",
    "fig = plt.figure(\n",
    "    figsize=(15, 6),\n",
    "    subplotpars=SubplotParams(left=.1, right=.96, bottom=.06, top=.92, wspace=.1, hspace=.1))\n",
    "plt.set_cmap('gnuplot')\n",
    "\n",
    "P = pd.Panel({\n",
    "    0: d.apply(pow, 1),\n",
    "    1: d.apply(pow, 1, T=np.timedelta64(1, 'D').astype('timedelta64[s]')),\n",
    "})\n",
    "\n",
    "plot(P, cols=x)"
   ]
  },
  {
   "cell_type": "markdown",
   "metadata": {},
   "source": [
    "**top**: amplitude of annual cycle (see above) of 2m temperatures  \n",
    "**bottom**: amplitude of daily cycle, computed in the same way"
   ]
  },
  {
   "cell_type": "code",
   "execution_count": null,
   "metadata": {
    "collapsed": false
   },
   "outputs": [],
   "source": []
  }
 ],
 "metadata": {
  "celltoolbar": "Hide code",
  "hide_code_all_hidden": false,
  "kernelspec": {
   "display_name": "Python 3",
   "language": "python",
   "name": "python3"
  },
  "language_info": {
   "codemirror_mode": {
    "name": "ipython",
    "version": 3
   },
   "file_extension": ".py",
   "mimetype": "text/x-python",
   "name": "python",
   "nbconvert_exporter": "python",
   "pygments_lexer": "ipython3",
   "version": "3.6.0"
  }
 },
 "nbformat": 4,
 "nbformat_minor": 2
}
