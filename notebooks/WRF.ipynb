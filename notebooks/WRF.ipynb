{
 "cells": [
  {
   "cell_type": "markdown",
   "metadata": {
    "collapsed": false,
    "deletable": true,
    "editable": true
   },
   "source": [
    "## T2"
   ]
  },
  {
   "cell_type": "code",
   "execution_count": null,
   "metadata": {
    "collapsed": false,
    "deletable": true,
    "editable": true
   },
   "outputs": [],
   "source": [
    "import sys, re\n",
    "sys.path.append('../../code/python')\n",
    "import numpy as np\n",
    "import pandas as pd\n",
    "import helpers as hh\n",
    "import matplotlib.pyplot as plt\n",
    "from matplotlib.figure import SubplotParams\n",
    "from matplotlib import cm, colors\n",
    "from IPython.core.debugger import Tracer\n",
    "%matplotlib inline\n",
    "\n",
    "D = pd.HDFStore('../../data/tables/station_data.h5')\n",
    "T = hh.stationize(D['ta_c'].xs('prom', 1, 'aggr').drop(10, 1, 'elev')) + 273.15\n",
    "sta = D['sta']\n",
    "S = pd.HDFStore('../../data/tables/LinearLinear.h5')\n",
    "Tm = S['T2']\n",
    "B = Tm.add( -T ).mean(1)\n",
    "Z = S['z'][['d03_op' if re.search('d03_\\d', z) else z for z in B.columns]]\n",
    "Z.columns = B.columns\n",
    "dz = (sta['elev'] - Z.T).T\n",
    "Map = hh.basemap()"
   ]
  },
  {
   "cell_type": "code",
   "execution_count": null,
   "metadata": {
    "collapsed": false
   },
   "outputs": [],
   "source": [
    "def plot(B, clims):\n",
    "    for k, b in B.iteritems():\n",
    "        for j, x in enumerate(B.minor_axis):\n",
    "            ax = plt.subplot(3, B.shape[2], k * B.shape[2] + j + 1)\n",
    "            D = pd.concat((sta.loc[B.major_axis, ('lon', 'lat')], b[x]), axis=1).dropna()\n",
    "            if k == 0:\n",
    "                ax.set_title(x)\n",
    "            plt.set_cmap('coolwarm')\n",
    "            Map.scatter(D['lon'].as_matrix(), D['lat'].as_matrix(), c=D.iloc[:,-1], marker='o', latlon=True)\n",
    "            Map.drawcoastlines()\n",
    "            Map.drawparallels(range(-32, -28, 1), labels=[max(B.shape[2] - 2 - j, 0), 0, 0, 0])\n",
    "            Map.drawmeridians(range(-72, -69, 1), labels=[0, 0, 0, max(k - 1, 0)])\n",
    "            plt.clim(-clims[k], clims[k])\n",
    "            if j == B.shape[2] - 1:\n",
    "                bb = ax.get_position()\n",
    "                plt.colorbar(\n",
    "                    cax=fig.add_axes([bb.x1 + 0.02, bb.y0, 0.02, bb.y1 - bb.y0]))"
   ]
  },
  {
   "cell_type": "code",
   "execution_count": null,
   "metadata": {
    "collapsed": false,
    "deletable": true,
    "editable": true,
    "scrolled": false
   },
   "outputs": [],
   "source": [
    "fig = plt.figure(\n",
    "    figsize=(12, 8),\n",
    "    subplotpars=SubplotParams(left=0.08, right=0.86, wspace=0.06, hspace=0.06))\n",
    "\n",
    "plot(pd.Panel({0:dz, 1:B, 2:B - 0.0065 * dz}), clims=[1750,13,13])"
   ]
  },
  {
   "cell_type": "code",
   "execution_count": null,
   "metadata": {
    "collapsed": false,
    "deletable": true,
    "editable": true
   },
   "outputs": [],
   "source": [
    "fig = plt.figure(\n",
    "    figsize=(8, 8),\n",
    "    subplotpars=SubplotParams(left=0.08, right=0.86, wspace=0.06, hspace=0.06))\n",
    "\n",
    "x = ['d02', 'd03_orl', 'd03_0_00', 'd03_0_12']\n",
    "plot(pd.Panel({0:dz[x], 1:B[x], 2:B[x] - 0.0065 * dz[x]}), clims=[1150, 10, 10])"
   ]
  },
  {
   "cell_type": "code",
   "execution_count": null,
   "metadata": {
    "collapsed": false
   },
   "outputs": [],
   "source": [
    "x = ['fnl', 'd01', 'd02', 'd03_orl', 'd03_0_00']\n",
    "\n",
    "fig = plt.figure(\n",
    "    figsize=(10, 8),\n",
    "    subplotpars=SubplotParams(left=0.08, right=0.86, wspace=0.06, hspace=0.06))\n",
    "\n",
    "day = lambda x: x.groupby(lambda y: y.date).min()\n",
    "\n",
    "dt = day(T) # daily min of station data\n",
    "P = pd.Panel(\n",
    "    {\n",
    "        0: day(Tm[x]).add(-dt).mean(1), # daily min of model data minus daily min of station data\n",
    "        1: day( Tm[x].add( -0.0065 * dz[x], 1) ).add(-dt).mean(1), # model data corrected by standard lapse rate\n",
    "        2: day( Tm[x].add(-B[x], 1) ).add(-dt).mean(1) # model data with mean bias removed\n",
    "    }\n",
    ")\n",
    "\n",
    "plot(P, clims=[10, 10, 10])"
   ]
  },
  {
   "cell_type": "code",
   "execution_count": null,
   "metadata": {
    "collapsed": false
   },
   "outputs": [],
   "source": [
    "x = ['fnl', 'd01', 'd02', 'd03_orl', 'd03_0_00']\n",
    "\n",
    "fig = plt.figure(\n",
    "    figsize=(10, 8),\n",
    "    subplotpars=SubplotParams(left=0.08, right=0.86, wspace=0.06, hspace=0.06))\n",
    "\n",
    "day = lambda x: x.groupby(lambda y: y.date).max()\n",
    "\n",
    "dt = day(T) # daily min of station data\n",
    "P = pd.Panel(\n",
    "    {\n",
    "        0: day(Tm[x]).add(-dt).mean(1), # daily min of model data minus daily min of station data\n",
    "        1: day( Tm[x].add( -0.0065 * dz[x], 1) ).add(-dt).mean(1), # model data corrected by standard lapse rate\n",
    "        2: day( Tm[x].add(-B[x], 1) ).add(-dt).mean(1) # model data with mean bias removed\n",
    "    }\n",
    ")\n",
    "\n",
    "plot(P, clims=[10, 10, 10])"
   ]
  },
  {
   "cell_type": "code",
   "execution_count": null,
   "metadata": {
    "collapsed": false
   },
   "outputs": [],
   "source": []
  }
 ],
 "metadata": {
  "kernelspec": {
   "display_name": "Python 3",
   "language": "python",
   "name": "python3"
  },
  "language_info": {
   "codemirror_mode": {
    "name": "ipython",
    "version": 3
   },
   "file_extension": ".py",
   "mimetype": "text/x-python",
   "name": "python",
   "nbconvert_exporter": "python",
   "pygments_lexer": "ipython3",
   "version": "3.6.0"
  }
 },
 "nbformat": 4,
 "nbformat_minor": 2
}
