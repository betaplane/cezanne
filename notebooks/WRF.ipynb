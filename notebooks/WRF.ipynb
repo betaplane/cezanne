{
 "cells": [
  {
   "cell_type": "markdown",
   "metadata": {
    "deletable": true,
    "editable": true
   },
   "source": [
    "List of original code files incorporated into this notebook:\n",
    "- bias_err_T2.py\n",
    "- bias_corr.py\n",
    "- cycles.py\n",
    "- elev2.py\n",
    "- elevations.py\n",
    "- vert_T.py\n",
    "\n",
    "List of files deemed outdated:\n",
    "- bias_mean.py\n",
    "\n",
    "List of plot files incorporated:\n",
    "- landsea.pdf\n",
    "- T2\n",
    "    - daily_errors.pdf\n",
    "    - annual_daily_model.pdf (i.e. annual, daily cycles based on Lomb-Scargle 'model' invocation)\n",
    "    - bias_corr_bars.pdf\n",
    "    - bias_corr_kde.pdf\n",
    "    - bias_daily_max.pdf\n",
    "    - bias_daily_min.pdf\n",
    "    - bias_maps.pdf\n",
    "    - bias_maps2.pdf\n",
    "    - MAE_maps.pdf\n",
    "    - seasonal_cycles.pdf\n",
    "    - seasonal_errors.pdf\n",
    "    - lapse_kde_d02.pdf\n",
    "    - lapse_kde_d03orl.pdf\n",
    "    - T2_elev_corr_d02.pdf\n",
    "- T\n",
    "    - T_p_d02_raw_log.pdf\n",
    "    - daily_diff_p_d02.pdf"
   ]
  },
  {
   "cell_type": "code",
   "execution_count": null,
   "metadata": {
    "collapsed": false,
    "deletable": true,
    "editable": true
   },
   "outputs": [],
   "source": [
    "import sys\n",
    "sys.path.append('../../code/python')\n",
    "import numpy as np\n",
    "import pandas as pd\n",
    "import helpers as hh\n",
    "import interpolation as ip\n",
    "import mapping as mp\n",
    "from netCDF4 import Dataset\n",
    "import matplotlib.pyplot as plt\n",
    "from matplotlib.figure import SubplotParams\n",
    "from astropy.stats import LombScargle\n",
    "from scipy.stats import gaussian_kde\n",
    "from functools import partial\n",
    "%matplotlib inline\n",
    "# rc('font', **{'family':'sans-serif','sans-serif':['Helvetica']})\n",
    "# rc('text', usetex=True)\n",
    "plt.rcParams.update({'text.usetex': False, 'mathtext.fontset': 'stixsans'})"
   ]
  },
  {
   "cell_type": "code",
   "execution_count": null,
   "metadata": {
    "collapsed": false,
    "deletable": true,
    "editable": true,
    "hideCode": false,
    "hidePrompt": false
   },
   "outputs": [],
   "source": [
    "Map = hh.basemap()\n",
    "\n",
    "def plot(B, cols=None, clims=None, cbars='row'):\n",
    "    if cols is not None:\n",
    "        B = B.loc[:, :, cols]\n",
    "    if clims is None:\n",
    "        cl = pd.concat((B.min(1).min(), B.max(1).max()), 1)\n",
    "    for k, b in B.iteritems():\n",
    "        for j, x in enumerate(B.minor_axis):\n",
    "            ax = plt.subplot(B.shape[0], B.shape[2], k * B.shape[2] + j + 1)\n",
    "            D = pd.concat((sta.loc[B.major_axis, ('lon', 'lat')], b[x]), axis=1).dropna()\n",
    "            if k == 0:\n",
    "                ax.set_title(x)\n",
    "            Map.scatter(D['lon'].as_matrix(), D['lat'].as_matrix(), c=D.iloc[:,-1], marker='o', latlon=True)\n",
    "            Map.drawcoastlines()\n",
    "            Map.drawparallels(range(-32, -28, 1), labels=[j==0, 0, 0, 0])\n",
    "            Map.drawmeridians(range(-72, -69, 1), labels=[0, 0, 0, k==B.shape[0]-1])\n",
    "            if cbars=='all':\n",
    "                plt.colorbar()\n",
    "            else:\n",
    "                if clims is None:\n",
    "                    plt.clim(cl[0][k], cl[1][k])\n",
    "                else:\n",
    "                    try:\n",
    "                        plt.clim(clims[k][0], clims[k][1])\n",
    "                    except TypeError:\n",
    "                        plt.clim(-clims[k], clims[k])\n",
    "                if j == B.shape[2] - 1:\n",
    "                    bb = ax.get_position()\n",
    "                    plt.colorbar(\n",
    "                        cax=fig.add_axes([bb.x1 + 0.02, bb.y0, 0.02, bb.y1 - bb.y0]))"
   ]
  },
  {
   "cell_type": "markdown",
   "metadata": {
    "deletable": true,
    "editable": true
   },
   "source": [
    "## Land-Sea mask"
   ]
  },
  {
   "cell_type": "code",
   "execution_count": null,
   "metadata": {
    "collapsed": false,
    "deletable": true,
    "editable": true,
    "hideCode": true
   },
   "outputs": [],
   "source": [
    "fig = plt.figure(figsize=(13, 3))\n",
    "plot(pd.Panel({0:S['land_mask']}))"
   ]
  },
  {
   "cell_type": "markdown",
   "metadata": {
    "deletable": true,
    "editable": true
   },
   "source": [
    "Linear interpolation of land (1) and sea (0) values to station locations on the various model grids."
   ]
  },
  {
   "cell_type": "markdown",
   "metadata": {
    "collapsed": false,
    "deletable": true,
    "editable": true,
    "hideCode": false,
    "hidePrompt": false
   },
   "source": [
    "## T2"
   ]
  },
  {
   "cell_type": "code",
   "execution_count": null,
   "metadata": {
    "collapsed": false,
    "deletable": true,
    "editable": true,
    "hideCode": false,
    "hidePrompt": false
   },
   "outputs": [],
   "source": [
    "# helper to get the correct elevation data for each model 'name'\n",
    "def dem(s):\n",
    "    if s=='d03_orl': return s\n",
    "    elif s[:3]=='d03': return 'd03_op'\n",
    "    else: return s[:3]\n",
    "    \n",
    "\n",
    "D = pd.HDFStore('../../data/tables/station_data.h5')\n",
    "\n",
    "# CEAZAMet station location info\n",
    "sta = D['sta']\n",
    "\n",
    "# CEAZAMet station 2m temperature in K\n",
    "T = hh.stationize(D['ta_c'].xs('prom', 1, 'aggr').drop(10, 1, 'elev')) + 273.15\n",
    "\n",
    "S = pd.HDFStore('../../data/tables/LinearLinear.h5')\n",
    "\n",
    "# model 2m temperature linearly interpolated to station location\n",
    "Tm = S['T2n']\n",
    "\n",
    "# temperature bias (model minus stations)\n",
    "B = Tm.add( -T )\n",
    "\n",
    "# mean bias\n",
    "Bm = B.mean(1)\n",
    "\n",
    "# elevations of station locations on respective model DEMs\n",
    "Z = S['z'][[dem(z) for z in B.items]]\n",
    "Z.columns = B.items\n",
    "\n",
    "# elevation difference (true station elevation minus DEM)\n",
    "dz = (sta['elev'] - Z.T).T"
   ]
  },
  {
   "cell_type": "markdown",
   "metadata": {
    "deletable": true,
    "editable": true
   },
   "source": [
    "### Mean bias"
   ]
  },
  {
   "cell_type": "code",
   "execution_count": null,
   "metadata": {
    "collapsed": false,
    "deletable": true,
    "editable": true,
    "hideCode": true,
    "hideOutput": false,
    "hidePrompt": false
   },
   "outputs": [],
   "source": [
    "fig = plt.figure(\n",
    "    figsize=(15, 10),\n",
    "    subplotpars=SubplotParams(left=0.08, right=0.86, wspace=0.06, hspace=0.06))\n",
    "plt.set_cmap('coolwarm')\n",
    "x = ['d01', 'd02', 'd03_0_00', 'd03_0_12', 'd03_orl', 'fnl']\n",
    "plot(pd.Panel({0:dz, 1:Bm, 2:Bm - 0.0065 * dz}), cols=x, clims=[1750,13,13])"
   ]
  },
  {
   "cell_type": "markdown",
   "metadata": {
    "deletable": true,
    "editable": true
   },
   "source": [
    "**top**: elevation bias (true station elevation minus model DEM elevation interpolated to station location)  \n",
    "**middle**: 2m temperature bias (model - station)  \n",
    "**bottom**: temperature bias after correcting for a mean lapse rate of 6.5K / km"
   ]
  },
  {
   "cell_type": "code",
   "execution_count": null,
   "metadata": {
    "collapsed": false,
    "deletable": true,
    "editable": true,
    "hideCode": true,
    "hideOutput": false,
    "hidePrompt": false
   },
   "outputs": [],
   "source": [
    "fig = plt.figure(\n",
    "    figsize=(15,15),\n",
    "    subplotpars=SubplotParams(left=0.08, right=0.86, wspace=0.06, hspace=0.06))\n",
    "plt.set_cmap('coolwarm')\n",
    "x = ['d02', 'd03_orl', 'd03_0_00', 'd03_0_12']\n",
    "plot(pd.Panel({0:dz, 1:Bm, 2:Bm - 0.0065 * dz}), cols=x, clims=[1150, 10, 10])"
   ]
  },
  {
   "cell_type": "markdown",
   "metadata": {
    "deletable": true,
    "editable": true
   },
   "source": [
    "same as above but for selected domains only (less variance for same color scales)\n",
    "\n",
    "**top**: elevation bias (true station elevation minus model DEM elevation interpolated to station location)  \n",
    "**middle**: 2m temperature bias (model - station)  \n",
    "**bottom**: temperature bias after correcting for a mean lapse rate of 6.5K / km"
   ]
  },
  {
   "cell_type": "code",
   "execution_count": null,
   "metadata": {
    "collapsed": false,
    "deletable": true,
    "editable": true,
    "hideCode": true,
    "hideOutput": true,
    "hidePrompt": false
   },
   "outputs": [],
   "source": [
    "x = ['fnl', 'd01', 'd02', 'd03_orl', 'd03_0_00']\n",
    "\n",
    "fig = plt.figure(\n",
    "    figsize=(15, 12),\n",
    "    subplotpars=SubplotParams(left=0.08, right=0.86, wspace=0.06, hspace=0.06))\n",
    "plt.set_cmap('coolwarm')\n",
    "\n",
    "day = lambda x: x.groupby(lambda y: y.date).min()\n",
    "dt = day(T) # daily min of station data\n",
    "P = pd.Panel({\n",
    "    0: day(Tm).add(-dt).mean(1), # daily min of model data minus daily min of station data\n",
    "    1: day( Tm.add( -0.0065 * dz, 1) ).add(-dt).mean(1), # model data corrected by standard lapse rate\n",
    "    2: day( Tm.add(-Bm, 1) ).add(-dt).mean(1) # model data with mean bias removed\n",
    "})\n",
    "\n",
    "plot(P, cols=x, clims=[10, 10, 10])"
   ]
  },
  {
   "cell_type": "markdown",
   "metadata": {
    "deletable": true,
    "editable": true
   },
   "source": [
    "**top**: mean bias of daily **minimum** temperatures (model minus station)  \n",
    "**middle**: mean bias after correction for mean lapse rate of 6.5K / km  \n",
    "**bottom**: mean bias of daily minimum after removing mean bias (over all records)"
   ]
  },
  {
   "cell_type": "code",
   "execution_count": null,
   "metadata": {
    "collapsed": false,
    "deletable": true,
    "editable": true,
    "hideCode": true,
    "hideOutput": true,
    "hidePrompt": false
   },
   "outputs": [],
   "source": [
    "x = ['fnl', 'd01', 'd02', 'd03_orl', 'd03_0_00']\n",
    "\n",
    "fig = plt.figure(\n",
    "    figsize=(15, 12),\n",
    "    subplotpars=SubplotParams(left=0.08, right=0.86, wspace=0.06, hspace=0.06))\n",
    "plt.set_cmap('coolwarm')\n",
    "\n",
    "day = lambda x: x.groupby(lambda y: y.date).max()\n",
    "dt = day(T) # daily min of station data\n",
    "P = pd.Panel(\n",
    "    {\n",
    "        0: day(Tm).add(-dt).mean(1), # daily min of model data minus daily min of station data\n",
    "        1: day( Tm.add( -0.0065 * dz, 1) ).add(-dt).mean(1), # model data corrected by standard lapse rate\n",
    "        2: day( Tm.add(-Bm, 1) ).add(-dt).mean(1) # model data with mean bias removed\n",
    "    }\n",
    ")\n",
    "\n",
    "plot(P, cols=x, clims=[10, 10, 10])"
   ]
  },
  {
   "cell_type": "markdown",
   "metadata": {
    "deletable": true,
    "editable": true
   },
   "source": [
    "**top**: mean bias of daily **maximum** temperatures (model minus station)  \n",
    "**middle**: mean bias after correction for mean lapse rate of 6.5K / km  \n",
    "**bottom**: mean bias of daily maximum after removing mean bias (over all records)"
   ]
  },
  {
   "cell_type": "markdown",
   "metadata": {
    "deletable": true,
    "editable": true
   },
   "source": [
    "### Mean absolute error (MAE)"
   ]
  },
  {
   "cell_type": "code",
   "execution_count": null,
   "metadata": {
    "collapsed": false,
    "deletable": true,
    "editable": true,
    "hideCode": true,
    "hideOutput": false,
    "hidePrompt": false
   },
   "outputs": [],
   "source": [
    "x = ['fnl', 'd01', 'd02', 'd03_orl', 'd03_0_00', 'd03_0_12']\n",
    "\n",
    "fig = plt.figure(\n",
    "    figsize=(15, 10),\n",
    "    subplotpars=SubplotParams(left=0.08, right=0.86, wspace=0.06, hspace=0.06))\n",
    "plt.set_cmap('gnuplot')\n",
    "\n",
    "P = pd.Panel({\n",
    "    0: abs(B).mean(1), # mean absolute error (MAE)\n",
    "    1: abs( B.add( -0.0065 * dz, 1 ) ).mean(1), # MAE after lapse rate adjustment\n",
    "    2: abs( B.add(-Bm, 1) ).mean(1) # MAE after removal of mean bias\n",
    "})\n",
    "\n",
    "plot(P, cols=x)"
   ]
  },
  {
   "cell_type": "markdown",
   "metadata": {
    "deletable": true,
    "editable": true
   },
   "source": [
    "**top**: mean absolute error (MAE) of 2m temperature (model/station)  \n",
    "**middle**: MAE after correction for mean lapse rate of 6.5K / km  \n",
    "**bottom**: MAE after removal of mean bias"
   ]
  },
  {
   "cell_type": "markdown",
   "metadata": {
    "deletable": true,
    "editable": true
   },
   "source": [
    "## Cycles"
   ]
  },
  {
   "cell_type": "code",
   "execution_count": null,
   "metadata": {
    "collapsed": false,
    "deletable": true,
    "editable": true,
    "hideCode": true
   },
   "outputs": [],
   "source": [
    "# This gives a good current approximation to the solar year length in seconds\n",
    "def pow(d, T=np.timedelta64(1, 'Y').astype('timedelta64[s]'), return_period=False):\n",
    "    f = lambda k: k.astype(float)\n",
    "    try:\n",
    "        c = d.dropna()\n",
    "        t = np.array(c.index, dtype='datetime64[s]')\n",
    "        n = np.arange(t[0], t[0]+T, dtype='datetime64[h]').astype('datetime64[s]')\n",
    "        if (t[-1] - t[0]) < T / 4: return np.nan\n",
    "        x = c.as_matrix()\n",
    "        y = LombScargle(f(t), x).model(f(n), f(T)**-1)\n",
    "        return pd.Timestamp(n[y.argmax()]).month if return_period else max(y) - min(y)\n",
    "    except:\n",
    "        return np.nan"
   ]
  },
  {
   "cell_type": "code",
   "execution_count": null,
   "metadata": {
    "collapsed": false,
    "deletable": true,
    "editable": true,
    "hideCode": true,
    "hideOutput": false,
    "scrolled": false
   },
   "outputs": [],
   "source": [
    "x = ['obs', 'fnl', 'd01', 'd02', 'd03_orl', 'd03_0_00']\n",
    "\n",
    "fig = plt.figure(\n",
    "    figsize=(15, 7),\n",
    "    subplotpars=SubplotParams(left=.1, right=.96, bottom=.06, top=.92, wspace=.1, hspace=.1))\n",
    "plt.set_cmap('gnuplot')\n",
    "\n",
    "d = dict(Tm)\n",
    "d['obs'] = T\n",
    "d = pd.Panel(d)\n",
    "std = d.groupby(d.major_axis.month).std()\n",
    "std.major_axis = std.major_axis.astype('datetime64[M]')\n",
    "\n",
    "P = pd.Panel({\n",
    "    0: d.apply(pow, 1),\n",
    "    1: std.mean(1),\n",
    "    2: std.apply(pow, 1)\n",
    "})\n",
    "\n",
    "plot(P, cols=x, cbars='all')"
   ]
  },
  {
   "cell_type": "markdown",
   "metadata": {
    "deletable": true,
    "editable": true
   },
   "source": [
    "**top**: amplitude of annual cycle in 2m temperatures for observations and models (peak-to-peak, $2 \\hat{U}$)  \n",
    "**middle**: mean monthly standard deviation of 2m temperatures  \n",
    "**bottom**: amplitude of annual cycle (as above) of monthly standard deviation\n",
    "\n",
    "**Note**: The annual cycle is computed from a Lomb-Scargle periodogram, as this is known to work reliably even for lengths of records of only a fraction of the period under investigation. The amplitude is computed from the model reconstruction of the astropy.stats.LombScargle algorithm, since the normalization of the Lomb-Scargle periodogram is not directly related to that of a Fourier transform."
   ]
  },
  {
   "cell_type": "code",
   "execution_count": null,
   "metadata": {
    "collapsed": false,
    "deletable": true,
    "editable": true,
    "hideCode": true,
    "hideOutput": true
   },
   "outputs": [],
   "source": [
    "x = ['fnl', 'd01', 'd02', 'd03_orl', 'd03_0_00']\n",
    "\n",
    "fig = plt.figure(\n",
    "    figsize=(15, 6),\n",
    "    subplotpars=SubplotParams(left=.1, right=.96, bottom=.06, top=.92, wspace=.1, hspace=.1))\n",
    "plt.set_cmap('gnuplot')\n",
    "\n",
    "std = B.groupby(B.major_axis.month).std()\n",
    "std.major_axis = std.major_axis.astype('datetime64[M]')\n",
    "\n",
    "P = pd.Panel({\n",
    "    0: B.apply(pow, 1),\n",
    "    1: std.apply(pow, 1)\n",
    "})\n",
    "\n",
    "plot(P, cols=x, cbars='all')"
   ]
  },
  {
   "cell_type": "markdown",
   "metadata": {
    "deletable": true,
    "editable": true
   },
   "source": [
    "**top**: amplitude of annual cycle (see above) of 2m temperature **bias** (model minus station)  \n",
    "**bottom**: amplitude of annual cycle of monthly standard deviation of temperature bias"
   ]
  },
  {
   "cell_type": "code",
   "execution_count": null,
   "metadata": {
    "collapsed": false,
    "deletable": true,
    "editable": true,
    "hideCode": true,
    "hideOutput": true
   },
   "outputs": [],
   "source": [
    "x = ['obs', 'fnl', 'd01', 'd02', 'd03_orl', 'd03_0_00']\n",
    "\n",
    "fig = plt.figure(\n",
    "    figsize=(15, 3),\n",
    "    subplotpars=SubplotParams(left=.1, right=.96, bottom=.06, top=.92, wspace=.12, hspace=.1))\n",
    "plt.set_cmap('hsv')\n",
    "\n",
    "plot(pd.Panel({0: d.apply(pow, 1, return_period=True)}), cols=x, clims=[(1,12)])"
   ]
  },
  {
   "cell_type": "markdown",
   "metadata": {
    "deletable": true,
    "editable": true
   },
   "source": [
    "**Phase** of annual cycle of 2m temperatures (as month 1-12), computed from Lomb-Scargle reconstrution"
   ]
  },
  {
   "cell_type": "code",
   "execution_count": null,
   "metadata": {
    "collapsed": false,
    "deletable": true,
    "editable": true,
    "hideCode": true,
    "hideOutput": false
   },
   "outputs": [],
   "source": [
    "x = ['obs', 'fnl', 'd01', 'd02', 'd03_orl', 'd03_0_00']\n",
    "\n",
    "fig = plt.figure(\n",
    "    figsize=(15, 6),\n",
    "    subplotpars=SubplotParams(left=.1, right=.96, bottom=.06, top=.92, wspace=.1, hspace=.1))\n",
    "plt.set_cmap('gnuplot')\n",
    "\n",
    "P = pd.Panel({\n",
    "    0: d.apply(pow, 1),\n",
    "    1: d.apply(pow, 1, T=np.timedelta64(1, 'D').astype('timedelta64[s]')),\n",
    "})\n",
    "\n",
    "plot(P, cols=x)"
   ]
  },
  {
   "cell_type": "markdown",
   "metadata": {
    "deletable": true,
    "editable": true
   },
   "source": [
    "**top**: amplitude of annual cycle (see above) of 2m temperatures  \n",
    "**bottom**: amplitude of daily cycle, computed in the same way"
   ]
  },
  {
   "cell_type": "markdown",
   "metadata": {
    "deletable": true,
    "editable": true
   },
   "source": [
    "## Kernel density estimates (KDE) of errors"
   ]
  },
  {
   "cell_type": "code",
   "execution_count": null,
   "metadata": {
    "collapsed": false,
    "deletable": true,
    "editable": true,
    "hideCode": false,
    "hideOutput": false
   },
   "outputs": [],
   "source": [
    "# compute values of 2x2 contingency table (a, b, c, d)\n",
    "def abcd(df):\n",
    "    m = df.notnull().astype(int)\n",
    "    n = df.shape[0]\n",
    "    a = np.where(m.sum(axis=1)==2)[0].shape[0]\n",
    "    b,c = [np.where(m.diff(axis=1)[1]==i)[0].shape[0] for i in [1,-1]]\n",
    "    d = n-a-b-c\n",
    "    return a,b,c,d,n\n",
    "\n",
    "x = np.linspace(-20,20,100)\n",
    "\n",
    "P = [Tm, Tm.add(-0.0065 * dz, 1), Tm.add(-Bm, 1), Tm.add(-B.apply(lambda x:x.rolling('7D').mean(), 1))]\n",
    "\n",
    "cols = np.array([['fnl','d01','d02'],['d03_orl','d03_0_00','d03_0_12'],['d03_0_00','d03_1_00','d03_4_00']])\n",
    "fig,axs = plt.subplots(*cols.shape, figsize=(15, 10))\n",
    "mae = np.zeros(np.r_[cols.shape,4])\n",
    "cold = np.zeros_like(mae)\n",
    "heat = np.zeros_like(mae)\n",
    "for i, row in enumerate(cols):\n",
    "    for j, s in enumerate(row):\n",
    "        plt.sca(axs[i,j])\n",
    "        axs[i,j].set_title(cols[i,j])\n",
    "\n",
    "        for h,f in enumerate(P):\n",
    "            y = f[s]-T\n",
    "            fg = f[s].groupby(f[s].index.date)\n",
    "            Tg = T.groupby(T.index.date)\n",
    "            mae[i,j,h] = abs(y).mean().mean()\n",
    "            k = gaussian_kde(y.stack().dropna())\n",
    "\n",
    "            p = pd.Panel({0: Tg.min(), 1:fg.min()}).to_frame()\n",
    "            a,b,c,d,n = abcd(p[p<hh.K])\n",
    "            cold[i,j,h] = a/(a+b+c)\n",
    "\n",
    "            p = pd.Panel({0: Tg.max(), 1:fg.max()}).to_frame()\n",
    "            a,b,c,d,n = abcd(p[p>hh.K+30])\n",
    "            heat[i,j,h] = a/(a+b+c)\n",
    "            plt.plot(x,k(x))\n",
    "\n",
    "        plt.grid()\n",
    "        \n",
    "for ax in axs.flatten():\n",
    "    ax.set_ylim(0,0.2)\n",
    "    ax.set_yticklabels([])\n",
    "\n",
    "for ax in axs[:2,:].flatten():\n",
    "    ax.set_xticklabels([])"
   ]
  },
  {
   "cell_type": "code",
   "execution_count": null,
   "metadata": {
    "collapsed": false,
    "deletable": true,
    "editable": true
   },
   "outputs": [],
   "source": [
    "dz"
   ]
  },
  {
   "cell_type": "code",
   "execution_count": null,
   "metadata": {
    "collapsed": false,
    "deletable": true,
    "editable": true
   },
   "outputs": [],
   "source": [
    "k = gaussian_kde(B['d03_0_00']['MARPCH'].dropna())"
   ]
  },
  {
   "cell_type": "code",
   "execution_count": null,
   "metadata": {
    "collapsed": false,
    "deletable": true,
    "editable": true
   },
   "outputs": [],
   "source": [
    "x = np.linspace(-20,20,100)\n",
    "plt.plot(x,k(x))"
   ]
  },
  {
   "cell_type": "markdown",
   "metadata": {
    "deletable": true,
    "editable": true
   },
   "source": [
    "Kernel-density estimates of error distributions for various domains/models.\n",
    "\n",
    "**blue**: no correction  \n",
    "**yellow**: mean lapse rate of 6.5$^{\\circ}$K km$^{-1}$  \n",
    "**green**: mean bias removed  \n",
    "**red**: 7-day moving average of bias removed"
   ]
  },
  {
   "cell_type": "markdown",
   "metadata": {
    "deletable": true,
    "editable": true
   },
   "source": [
    "#### Notes\n",
    "1. The heavy tail on the *cold* bias side (model too cold w.r.t data) is ameliorated when correcting for a mean lapse rate of 6.5 $^{\\circ}$K km$^{-1}$.\n",
    "1. However, the error around the mode of the distribution is worsened. **Does this mean some stations are located in permanently stable conditions?**\n",
    "1. The changes due to lapse rate correction obviously become smaller for higher grid resolution.\n",
    "1. Removal of mean bias (overall or moving) appears to shift the error distribution towards normal. However, the error (see MAE above) on a per-station basis increases. \n",
    "1. The difference between static and moving mean corrections diminishes for finer grids. **Does this suggest improved dynamics?**"
   ]
  },
  {
   "cell_type": "code",
   "execution_count": null,
   "metadata": {
    "collapsed": false,
    "deletable": true,
    "editable": true,
    "hideCode": true
   },
   "outputs": [],
   "source": [
    "fig,axs = plt.subplots(*cols.shape, figsize=(15, 10))\n",
    "cy = axs[0,0]._get_lines.prop_cycler\n",
    "col = [next(cy)['color'] for i in range(4)]\n",
    "x = np.arange(4)\n",
    "for i in range(cols.shape[0]):\n",
    "    for j in range(cols.shape[1]):\n",
    "        axs[i,j].set_title(cols[i,j])\n",
    "        plt.sca(axs[i,j])\n",
    "        p = np.r_[mae[i:i+1,j],cold[i:i+1,j],heat[i:i+1,j]]\n",
    "        plt.bar(x,p[0,:],color=col)\n",
    "        axs[i,j].set_ylim((0,5.1))\n",
    "        ax = axs[i,j].twinx()\n",
    "        ax.bar(x+5,p[1,:],color=col)\n",
    "        ax.bar(x+10,p[2,:],color=col)\n",
    "        ax.set_ylim((0,0.81))\n",
    "        axs[i,j].set_xticks([1.5,6.5,11.5])\n",
    "        if i==2: axs[i,j].set_xticklabels(['MAE','TS < 0C', 'TS > 30C'])\n",
    "        else: axs[i,j].set_xticklabels([])\n",
    "        if j>0: axs[i,j].set_yticklabels([])\n",
    "        if j<2: ax.set_yticklabels([])\n",
    "        if i==1:\n",
    "            if j==0: axs[1,0].set_ylabel('MAE')\n",
    "            if j==2: ax.set_ylabel('threat score (TS)')"
   ]
  },
  {
   "cell_type": "markdown",
   "metadata": {
    "deletable": true,
    "editable": true
   },
   "source": [
    "MAE and threat score <cite data-cite=\"2031184/BVKVAVZP\"></cite> (page 263) of two scenarios:\n",
    "1. Daily minimum below 0$^{\\circ}$C ('< 0C')\n",
    "1. Daily maximum above 30$^{\\circ}$C ('> 30C')\n",
    "\n",
    "**blue**: without correction  \n",
    "**yellow**: with lapse rate 6.5K/km correction  \n",
    "**green**: with mean bias removed  \n",
    "**red**: with one-week running mean bias removed  \n",
    "\n",
    "**Note**: Threat score of 1 is perfect, 0 is worst. Gives proportion of correct 'yes' forcasts of events after removing 'no' forcasts from consideration. "
   ]
  },
  {
   "cell_type": "code",
   "execution_count": null,
   "metadata": {
    "collapsed": false,
    "deletable": true,
    "editable": true
   },
   "outputs": [],
   "source": [
    "D.close()\n",
    "S.close()"
   ]
  },
  {
   "cell_type": "code",
   "execution_count": null,
   "metadata": {
    "collapsed": false,
    "deletable": true,
    "editable": true,
    "hideOutput": true
   },
   "outputs": [],
   "source": []
  },
  {
   "cell_type": "code",
   "execution_count": null,
   "metadata": {
    "collapsed": false,
    "deletable": true,
    "editable": true,
    "hideCode": false
   },
   "outputs": [],
   "source": [
    "g3 = Dataset('../../data/WRF/3d/geo_em.d03.nc')\n",
    "Map = mp.basemap(g3)\n",
    "lm = g3.variables['LANDMASK'][0,:,:]\n",
    "g3.close()\n",
    "\n",
    "n0 = Dataset('../../data/WRF/3d/d03_day0.nc')\n",
    "x0 = ip.nc_interp(n0, 'T2', sta, method='linear', map=Map)\n",
    "j = hh.tsplit(x0)\n",
    "n0.close()\n",
    "\n",
    "x0_1 = x0.iloc[:j,:]\n",
    "x0_2 = x0.iloc[j:,:]\n",
    "\n",
    "n4 = Dataset('../../data/WRF/3d/T2_4.nc')\n",
    "x4 = ip.nc_interp(n4, 'T2', sta, method='linear', map=Map)\n",
    "x4_1 = x4.iloc[:j,:]\n",
    "x4_2 = x4.iloc[j:,:]\n",
    "x4.close()\n",
    "\n",
    "fig = plt.figure(figsize=(12,8))\n",
    "for i,x in enumerate([Tm['d03_orl'],x0_1,x0_2,x4_1,x4_2]):\n",
    "    y = (x-T)**2\n",
    "    y = y.groupby(y.index.hour).mean().mean(1)\n",
    "    plt.plot(y,label=['orl','op+0/00','op+0/12','op+4/00','op+4/12'][i])\n",
    "plt.legend()\n",
    "plt.grid()\n",
    "xt = plt.gca().set_xticks(range(0,24,2))"
   ]
  },
  {
   "cell_type": "markdown",
   "metadata": {
    "deletable": true,
    "editable": true
   },
   "source": [
    "Mean error stratified by hour of the day for selected experiments.\n",
    "#### Legend\n",
    "**orl**: Orlando's domain\n",
    "**op**: forcast domain 3\n",
    "**+a/b**: a - forecast lead time in days, b - initialization hour of GFS forecast"
   ]
  },
  {
   "cell_type": "code",
   "execution_count": null,
   "metadata": {
    "collapsed": false,
    "deletable": true,
    "editable": true,
    "hideCode": false,
    "hideOutput": true
   },
   "outputs": [],
   "source": [
    "from scipy.optimize import brute\n",
    "from pyproj import Geod\n",
    "\n",
    "\n",
    "L = -B.divide(dz, 1) * 1000\n",
    "\n",
    "\n",
    "def landsea(r, lm, lonlat, d=5000):\n",
    "    inv = partial(Geod(ellps='WGS84').inv,r['lon'],r['lat'])\n",
    "    def dist(x,y):\n",
    "        return inv(x,y)[2]\n",
    "    dv = np.vectorize(dist)\n",
    "    return np.any(1-lm[np.where(dv(*lonlat)<d)])\n",
    "\n",
    "def partition(sea, dz):\n",
    "    \"\"\"\n",
    "    dz = station - grid\n",
    "    returns [above, a-inland, a-coast, below, b-inland, b-coast]\n",
    "    \"\"\"\n",
    "    a = set(dz[dz>0].index) # -> station \"a\"bove grid level\n",
    "    b = set(dz[dz<0].index) # -> station \"b\"elow grid level\n",
    "    b_s = b.intersection(sea)\n",
    "    a_s = a.intersection(sea)\n",
    "    return [list(s) for s in (a, a-a_s, a_s, b, b-b_s, b_s)]\n",
    "\n",
    "def kplot(y,label,bw=0.1):\n",
    "    x = np.linspace(-20,20,100)\n",
    "    k = gaussian_kde(y.stack().dropna(),bw)\n",
    "    m = brute(lambda z:-k(z),((-20,10),))\n",
    "    plt.plot(x,k(x),label='{}: {:.2f}'.format(label,m[0]))\n",
    "    return m[0]\n",
    "\n",
    "def mode(y,bw=0.1):\n",
    "    k = gaussian_kde(y.stack().dropna(),bw)\n",
    "    m = brute(lambda z:-k(z),((-20,10),))\n",
    "    return m[0]\n",
    "\n",
    "def topplot(ax, ab):\n",
    "    plt.sca(ax)\n",
    "    plt.axvline(-9.8, color='grey', ls='--')\n",
    "    plt.axvline(-6.5, color='grey', ls=':')\n",
    "    plt.grid()   \n",
    "    plt.title('station ${}$ grid'.format(ab))\n",
    "    plt.gca().set_xlabel('$\\Delta$T')\n",
    "\n",
    "def botplot(ax, a=None, b=None, lab=None):\n",
    "    plt.sca(ax)\n",
    "    if a is not None:\n",
    "        plt.plot(a.groupby(a.index.hour).apply(mode), label='all')\n",
    "        plt.plot(b.groupby(b.index.hour).apply(mode), label=lab)\n",
    "        plt.legend()\n",
    "    plt.gca().set_xticks([0,6,12,18])\n",
    "    plt.axhline(-9.8, color='grey',ls='--')\n",
    "    plt.axhline(-6.5, color='grey',ls=':')\n",
    "    plt.grid()\n",
    "    plt.gca().set_xlabel('hour')\n",
    "    plt.gca().set_ylabel('$\\Delta$T')\n",
    "\n",
    "\n",
    "g3 = Dataset('../../data/WRF/3d/geo_em.d03.nc')\n",
    "landmask = g3.variables['LANDMASK'][0,:,:]\n",
    "lonlat = hh.lonlat(g3)\n",
    "sea = sta[sta.apply(landsea, 1, lm=landmask, lonlat=lonlat)].index\n",
    "g3.close()"
   ]
  },
  {
   "cell_type": "code",
   "execution_count": null,
   "metadata": {
    "collapsed": false,
    "deletable": true,
    "editable": true,
    "hideCode": false
   },
   "outputs": [],
   "source": [
    "a, a_l, a_s, b, b_l, b_s = partition(sea, dz['d02'])\n",
    "lr = L['d02']\n",
    "\n",
    "fig, axs = plt.subplots(2, 2, figsize=(15,10)) \n",
    "\n",
    "topplot(axs[0, 0], '<')\n",
    "kplot(lr[b],'all')\n",
    "kplot(lr[b_l],'inland all')\n",
    "kplot(lr[b_l][lr.index.hour==0],'inland 0h')\n",
    "kplot(lr[b_l][lr.index.hour==12],'inland 12h')\n",
    "plt.legend()\n",
    "\n",
    "topplot(axs[0, 1], '>')\n",
    "kplot(lr[a_l],'inland all', .001)\n",
    "kplot(lr[a_l][lr.index.hour==0],'inland 0h', .001)\n",
    "kplot(lr[a_l][lr.index.hour==12],'inland 12h', .001)\n",
    "kplot(lr[a_s],'coast all')\n",
    "kplot(lr[a_s][lr.index.hour==0],'coast 0h')\n",
    "kplot(lr[a_s][lr.index.hour==12],'coast 12h')\n",
    "plt.legend()\n",
    "\n",
    "botplot(axs[1, 1])\n",
    "plt.plot(lr[a].groupby(lr.index.hour).apply(lambda z:mode(z,.005)), label='all')\n",
    "plt.plot(lr[a_l].groupby(lr.index.hour).apply(lambda z:mode(z,.001)), label='inland')\n",
    "plt.plot(lr[a_s].groupby(lr.index.hour).apply(mode), label='coast')\n",
    "plt.legend()\n",
    "\n",
    "botplot(axs[1, 0], lr[b], lr[b_l], 'inland')"
   ]
  },
  {
   "cell_type": "markdown",
   "metadata": {
    "deletable": true,
    "editable": true
   },
   "source": [
    "'Hypothetical' lapse rates arising from model errors: Model bias is converted to a lapse rate by dividing by elevation difference (between model grid and true station elevation) and multiplying by 1000. The mode (given in legend and plotted in bottom row) is found by optimizing the KDEs (shown in top row).\n",
    "\n",
    "**Top**: KDE estimates of distribution of 2m temperature errors split according to 1) whether grid location is above or below true station location, 2) distance from shore, and 3) time of day. 'Inland' is everything > 5km from shore is given by the finest model domain ('d03_op').\n",
    "\n",
    "**Bottom**: Mode of distributions computed by numerical optimization of KDE, stratified by hour of day.\n",
    "\n",
    "Vertical / horizontal grey lines give dry (9.8 $^{\\circ}$K km$^{-1}$, hatched) and standard (6.5 $^{\\circ}$K km$^{-1}$, points) lapse rates."
   ]
  },
  {
   "cell_type": "code",
   "execution_count": null,
   "metadata": {
    "collapsed": false,
    "deletable": true,
    "editable": true,
    "hideCode": true
   },
   "outputs": [],
   "source": [
    "a, a_l, a_s, b, b_l, b_s = partition(sea, dz['d03_orl'])\n",
    "\n",
    "lr = L['d03_orl']\n",
    "\n",
    "fig, axs = plt.subplots(2, 2, figsize=(15,10)) \n",
    "\n",
    "topplot(axs[0, 0], '<')\n",
    "kplot(lr[b],'all')\n",
    "kplot(lr[b_l],'inland all')\n",
    "kplot(lr[b_l][lr.index.hour==0],'inland 0h')\n",
    "kplot(lr[b_l][lr.index.hour==12],'inland 12h')\n",
    "plt.legend()\n",
    "\n",
    "topplot(axs[0, 1], '>')\n",
    "kplot(lr[a],'all')\n",
    "kplot(lr[a_s],'coast all')\n",
    "kplot(lr[a_s][lr.index.hour==0],'coast 0h')\n",
    "kplot(lr[a_s][lr.index.hour==12],'coast 12h')\n",
    "plt.legend()\n",
    "\n",
    "botplot(axs[1, 0], lr[b], lr[b_l], 'inland')\n",
    "botplot(axs[1, 1], lr[a], lr[a_s], 'coast')"
   ]
  },
  {
   "cell_type": "code",
   "execution_count": null,
   "metadata": {
    "collapsed": false,
    "deletable": true,
    "editable": true,
    "hideCode": true
   },
   "outputs": [],
   "source": [
    "a, a_l, a_s, b, b_l, b_s = partition(sea, dz['d03_1_00'])\n",
    "\n",
    "lr = L['d03_1_00']\n",
    "\n",
    "fig, axs = plt.subplots(2, 2, figsize=(15,10)) \n",
    "\n",
    "topplot(axs[0, 0], '<')\n",
    "kplot(lr[b],'all')\n",
    "kplot(lr[b_l],'inland all')\n",
    "kplot(lr[b_l][lr.index.hour==0],'inland 0h')\n",
    "kplot(lr[b_l][lr.index.hour==12],'inland 12h')\n",
    "plt.legend()\n",
    "\n",
    "topplot(axs[0, 1], '>')\n",
    "kplot(lr[a],'all')\n",
    "kplot(lr[a_s],'coast all')\n",
    "kplot(lr[a_s][lr.index.hour==0],'coast 0h')\n",
    "kplot(lr[a_s][lr.index.hour==12],'coast 12h')\n",
    "plt.legend()\n",
    "\n",
    "botplot(axs[1, 0], lr[b], lr[b_l], 'inland')\n",
    "botplot(axs[1, 1], lr[a], lr[a_s], 'coast')"
   ]
  },
  {
   "cell_type": "code",
   "execution_count": null,
   "metadata": {
    "collapsed": false,
    "deletable": true,
    "editable": true,
    "hideCode": true
   },
   "outputs": [],
   "source": [
    "from scipy.stats import binned_statistic\n",
    "\n",
    "def binned_plot(ax, x, values, color=None, label=None):\n",
    "    me,b,n = binned_statistic(x,values,'mean',50)\n",
    "    std = binned_statistic(x,values,np.nanstd,50)[0]\n",
    "    xc = (b[:-1]+b[1:])/2\n",
    "    ax.fill_betweenx(xc, me-2*std, me+2*std, color=color, alpha=.4)\n",
    "    ax.plot(me, xc, color=color, label=label)\n",
    "\n",
    "def plot(t, tm, T2, zm, Z, sta):\n",
    "    a = pd.concat((t, sta['elev']), axis=1, keys=['T','z']).sort_values('z')\n",
    "    b = pd.concat((tm, Z), axis=1, keys=['T','z']).sort_values('z')\n",
    "    c = pd.concat((tm - 0.0065 * (sta['elev']-Z), sta['elev']), axis=1, keys=['T','z']).sort_values('z')\n",
    "\n",
    "    colors = plt.rcParams['axes.prop_cycle'].by_key()['color']\n",
    "    fig, ax = plt.subplots(1, figsize=(12,8))\n",
    "    binned_plot(ax, zm, T2, color=colors[0], label='model mean / elev')\n",
    "    ax.scatter(b['T'],b['z'], marker='+', color=colors[1], label='model station loc no adj')\n",
    "    ax.scatter(c['T'],c['z'], marker='+', color=colors[2], label='model station loc adj for 6.5 K/km')\n",
    "    ax.scatter(a['T'],a['z'], marker='+', color=colors[3], label='observations')\n",
    "    ax.set_xlabel('T [K]')\n",
    "    ax.set_ylabel('elev [m]')\n",
    "    ax.legend(loc=3)\n",
    "\n",
    "    \n",
    "# model, complete field\n",
    "nc = Dataset('../../data/WRF/2d/d02_2014-09-10.nc')\n",
    "z = nc.variables['HGT'][:].flatten()\n",
    "\n",
    "# use only one year of data so as to not bias towards a particular season\n",
    "j = np.where(hh.get_time(nc)==np.datetime64('2014-12-31T00'))[0][0]\n",
    "T2 = nc.variables['T2'][j:,:,:].mean(0).flatten()\n",
    "nc.close()\n",
    "\n",
    "# use only one year of data, s.a.\n",
    "tm = Tm['d02']['2014-12-31':].mean()\n",
    "\n",
    "# average over the same day in different years to avoid bias towards those that occur more often\n",
    "t = T.groupby(T.index.dayofyear).mean().mean()\n",
    "\n",
    "plot(t, tm, T2, z, Z['d02'], sta)"
   ]
  },
  {
   "cell_type": "markdown",
   "metadata": {
    "deletable": true,
    "editable": true
   },
   "source": [
    "Average 2m temperatures in observations and model (d02). Blue line and shade represents average and standard deviation of T2 binned according to elevation intervals. Orange crosses plot T2 at grid elevations, green crosses at corresponding station elevation after adjusting for 6.5 $^{\\circ}$K km$^{-1}$ mean lapse rate.\n",
    "\n",
    "**Question**: seasonality?"
   ]
  },
  {
   "cell_type": "code",
   "execution_count": null,
   "metadata": {
    "collapsed": false,
    "deletable": true,
    "editable": true,
    "hideCode": true
   },
   "outputs": [],
   "source": [
    "# model, complete field\n",
    "nc = Dataset('../../data/WRF/3d/d03_day0.nc')\n",
    "z = nc.variables['HGT'][:].flatten()\n",
    "\n",
    "j = hh.tsplit(nc)\n",
    "T2_00 = nc.variables['T2'][:j,:,:].mean(0).flatten()\n",
    "#T2_12 = nc.variables['T2'][j:,:,:].mean(0).flatten()\n",
    "nc.close()\n",
    "\n",
    "# use only one year of data, s.a.\n",
    "tm = Tm['d03_0_00'].mean()\n",
    "\n",
    "# average over the same day in different years to avoid bias towards those that occur more often\n",
    "t = T.groupby(T.index.dayofyear).mean().mean()\n",
    "\n",
    "plot(t, tm, T2_00, z, Z['d03_0_00'], sta)"
   ]
  },
  {
   "cell_type": "code",
   "execution_count": null,
   "metadata": {
    "collapsed": false,
    "deletable": true,
    "editable": true
   },
   "outputs": [],
   "source": [
    "from scipy.interpolate import interp1d\n",
    "from IGRAraw import extract\n",
    "import xarray as xr\n",
    "\n",
    "with pd.HDFStore('../../data/IGRA/IGRAraw.h5') as S:\n",
    "    sta = S['sta']\n",
    "\n",
    "    \n",
    "with xr.open_dataset('../../data/IGRA/IGRAmly.nc') as M:\n",
    "    mly = M['temp']\n",
    "    mly.load()\n",
    "\n",
    "with Dataset('../../data/WRF/2d/d02_2014-09-10_transf.nc') as nc:\n",
    "    Map = mp.basemap(nc)\n",
    "    t = hh.get_time(nc)\n",
    "    T = nc.variables['temp'][:]\n",
    "    P = nc.variables['press'][:]\n",
    "\n",
    "x, y = Map.xy()\n",
    "ij = Map(*hh.lonlat(sta.iloc[:2]))"
   ]
  },
  {
   "cell_type": "code",
   "execution_count": null,
   "metadata": {
    "collapsed": false,
    "deletable": true,
    "editable": true
   },
   "outputs": [],
   "source": [
    "from IGRAraw import parse, get\n",
    "S = dict([(s, parse(get(s), 'TEMP')) for s in ['CIM00085586', 'ARM00087418']])"
   ]
  },
  {
   "cell_type": "code",
   "execution_count": null,
   "metadata": {
    "collapsed": false,
    "deletable": true,
    "editable": true
   },
   "outputs": [],
   "source": [
    "Ti = ip.interp4D((x, y), T, ij, sta.iloc[:2].index, t, method='linear')\n",
    "Pi = ip.interp4D((x, y), P, ij, sta.iloc[:2].index, t, method='linear')"
   ]
  },
  {
   "cell_type": "code",
   "execution_count": null,
   "metadata": {
    "collapsed": false,
    "deletable": true,
    "editable": true,
    "scrolled": false
   },
   "outputs": [],
   "source": [
    "p = [1000, 925, 850, 700, 500, 400, 300, 250, 200, 150, 100, 70, 50]\n",
    "# pressure is given in Pa instead of hPa in data\n",
    "pl = np.log(p) + np.log(100)\n",
    "\n",
    "m = mly.sel(type='value').mean(['month', 'hour']) * 0.1 + 273.15\n",
    "\n",
    "\n",
    "# for IGRA data - pressures in index of DataFrame\n",
    "def interp_0(pl, x):\n",
    "    try:\n",
    "        return interp1d(\n",
    "            np.log(x.index), x, 'linear', bounds_error=False)(pl) * .1 + 273.15\n",
    "    except:\n",
    "        return np.repeat(np.nan, len(pl))\n",
    "\n",
    "def interp_1(pl, x):\n",
    "    x = x.dropna()\n",
    "    try:\n",
    "        return pd.Series(interp1d(\n",
    "            x.index, x, 'linear', bounds_error=False)(pl) * .1 + 273.15, index=p)\n",
    "    except:\n",
    "        return pd.Series(np.repeat(np.nan, len(p)), index=p)\n",
    "    \n",
    "# for data from netCDF files - no potential missing, pressures in separate variable\n",
    "def interp_2(pl, P, T, j):\n",
    "    return interp1d(\n",
    "        np.log(P.loc[j]), T.loc[j], 'linear', bounds_error=False)(pl)\n",
    "\n",
    "\n",
    "def interp(raw, P, T):\n",
    "    st = raw.replace({-9999: np.nan, -8888: np.nan})\n",
    "    st.columns = np.log(st.columns)\n",
    "    # initialize interpolation function with pressure levels\n",
    "    obs = st.apply(partial(interp_1, pl), 1)\n",
    "    # initialize interpolation function with pressure levels and data\n",
    "    intp = partial(interp_2, pl, P, T)\n",
    "    mod = pd.DataFrame([intp(j) for j in t], index=t, columns=p)\n",
    "    return obs, mod\n",
    "\n",
    "def plot(ax, obs, mod, mly):\n",
    "    dt = mod - obs\n",
    "    (lambda y: ax.scatter(y, y.index.get_level_values(1)))(dt.stack())\n",
    "    (lambda y: ax.plot(y, y.index, '-r', label='raw'))(dt.mean())\n",
    "    (lambda y: ax.plot(y, y.index, '-g', label='monthly')\n",
    "     )(mod.mean() - mly)\n",
    "    ax.invert_yaxis()\n",
    "    ax.grid(which='minor')\n",
    "    ax.legend()\n",
    "    ax.set_yscale('log')\n",
    "    ax.set_ylim((1050, 90))\n",
    "\n",
    "\n",
    "fig, ax = plt.subplots(1, 2, figsize=(15, 8))\n",
    "for i, s in enumerate(['CIM00085586', 'ARM00087418']):\n",
    "    obs, mod = interp(S[s], Pi[s], Ti[s])\n",
    "    plot(ax[i], obs, mod, m.sel(loc=s).to_series())\n",
    "\n",
    "ylim = np.array([a.get_ylim() for a in ax])\n",
    "for a in ax:\n",
    "    a.set_ylim((ylim.max(), ylim.min()))\n",
    "ax[0].set_title('St Domingo')\n",
    "ax[1].set_title('Mendoza')\n",
    "ax[1].set_yticklabels([])"
   ]
  },
  {
   "cell_type": "code",
   "execution_count": null,
   "metadata": {
    "collapsed": false,
    "deletable": true,
    "editable": true
   },
   "outputs": [],
   "source": [
    "from matplotlib import cm, colors\n",
    "\n",
    "def id(x):\n",
    "    x.index = x.index.date\n",
    "    return x\n",
    "\n",
    "sm = cm.ScalarMappable(norm=colors.Normalize(vmin=p[-1], vmax=p[0]))\n",
    "sm.set_array(p)\n",
    "sm.set_cmap('gnuplot_r')\n",
    "fig, ax = plt.subplots(2, 2, figsize=(15,10), \n",
    "                       subplotpars=SubplotParams(left=0.10, right=0.86))\n",
    "for i, s in enumerate(['CIM00085586', 'ARM00087418']):\n",
    "    obs, mod = interp(S[s], Pi[s], Ti[s])\n",
    "    dt = id(obs[obs.index.hour == 12]) - id(obs[obs.index.hour == 0])\n",
    "    x = np.linspace(-10, 10, 100)\n",
    "\n",
    "    for j in p:\n",
    "        try:\n",
    "            g = gaussian_kde(dt[j].dropna())\n",
    "        except:\n",
    "            pass\n",
    "        else:\n",
    "            ax[0, i].plot(x, g(x), color=sm.to_rgba(j))\n",
    "    ax[0, i].grid()\n",
    "    ax[0, i].set_xticklabels([])\n",
    "\n",
    "    dt = mod - obs\n",
    "    for j in p:\n",
    "        try:\n",
    "            g = gaussian_kde(dt[j].dropna())\n",
    "        except:\n",
    "            pass\n",
    "        else:\n",
    "            ax[1, i].plot(x, g(x), color=sm.to_rgba(j))\n",
    "    ax[1, i].grid()\n",
    "\n",
    "ax[0, 0].set_title('St Domingo')\n",
    "ax[0, 1].set_title('Mendoza')\n",
    "b1 = ax[0, 1].get_position()\n",
    "b2 = ax[1, 1].get_position()\n",
    "cb = plt.colorbar(\n",
    "    sm, cax=fig.add_axes([b1.x1 + 0.04, b2.y0, 0.02, b1.y1 - b2.y0]))\n",
    "cb.ax.invert_yaxis()"
   ]
  },
  {
   "cell_type": "markdown",
   "metadata": {
    "deletable": true,
    "editable": true
   },
   "source": [
    "**Top**: KDEs of daily cycle amplitudes for various pressure levels (colors), from radiosonde data. Daily cycle is computed as the temperature difference between the 0:00h and 12:00h soundings.  \n",
    "**Bottom**: KDEs of model errors w.r.t. radio soundings"
   ]
  },
  {
   "cell_type": "code",
   "execution_count": null,
   "metadata": {
    "collapsed": false,
    "deletable": true,
    "editable": true
   },
   "outputs": [],
   "source": []
  }
 ],
 "metadata": {
  "celltoolbar": "Hide code",
  "cite2c": {
   "citations": {
    "2031184/BVKVAVZP": {
     "ISBN": "978-0-12-751966-1",
     "author": [
      {
       "family": "Wilks",
       "given": "Daniel S."
      }
     ],
     "call-number": "QC874.5 .W55 2006",
     "collection-number": "v. 91",
     "collection-title": "International geophysics series",
     "edition": "2nd ed",
     "event-place": "Amsterdam ; Boston",
     "id": "2031184/BVKVAVZP",
     "issued": {
      "year": "2006"
     },
     "number-of-pages": "627",
     "publisher": "Academic Press",
     "publisher-place": "Amsterdam ; Boston",
     "title": "Statistical methods in the atmospheric sciences",
     "type": "book"
    }
   }
  },
  "hide_code_all_hidden": false,
  "kernelspec": {
   "display_name": "Python 3",
   "language": "python",
   "name": "python3"
  },
  "language_info": {
   "codemirror_mode": {
    "name": "ipython",
    "version": 3
   },
   "file_extension": ".py",
   "mimetype": "text/x-python",
   "name": "python",
   "nbconvert_exporter": "python",
   "pygments_lexer": "ipython3",
   "version": "3.6.0"
  }
 },
 "nbformat": 4,
 "nbformat_minor": 2
}
