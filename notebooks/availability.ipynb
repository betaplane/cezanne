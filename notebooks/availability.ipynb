{
 "cells": [
  {
   "cell_type": "code",
   "execution_count": null,
   "metadata": {
    "collapsed": false,
    "deletable": true,
    "editable": true
   },
   "outputs": [],
   "source": [
    "import pandas as pd\n",
    "import numpy as np\n",
    "import matplotlib.pyplot as plt\n",
    "%matplotlib inline\n",
    "\n",
    "def availability(stations, dates, matrix):\n",
    "    fig = plt.figure(figsize=(6,10))\n",
    "    fig.subplots_adjust(bottom=.05,top=0.99)\n",
    "    ax = plt.subplot()\n",
    "    ax.xaxis_date()\n",
    "    ax.pcolormesh(dates,np.arange(matrix.shape[0]+1),matrix)\n",
    "    y = np.arange(matrix.shape[0])\n",
    "    ax.set_yticks(y+1)\n",
    "    try:\n",
    "        l = ax.set_yticklabels(['{} ({}m): {}'.format(s[2],s[3],s[0]) for s in stations])\n",
    "    except IndexError:\n",
    "        l = ax.set_yticklabels(stations)\n",
    "    for k in l:\n",
    "        k.set_verticalalignment('bottom')\n",
    "        k.set_fontsize(8)\n",
    "    ax.yaxis.set_tick_params(tick1On=False)\n",
    "    # ax.hlines(y,*ax.get_xlim())\n",
    "    ax.grid()\n",
    "    ax.invert_yaxis()\n",
    "\n",
    "def variable(X):\n",
    "    x = X.notnull().groupby(X.index.date).aggregate(np.sum)\n",
    "    availability(x.columns, x.index, x.as_matrix().T)"
   ]
  },
  {
   "cell_type": "code",
   "execution_count": null,
   "metadata": {
    "collapsed": false,
    "deletable": true,
    "editable": true
   },
   "outputs": [],
   "source": [
    "import sys\n",
    "sys.path.append('../python/')\n",
    "from CEAZAMet import get_stations\n",
    "\n",
    "stations = sorted(get_stations(), key=lambda s:s.code)"
   ]
  },
  {
   "cell_type": "markdown",
   "metadata": {
    "deletable": true,
    "editable": true
   },
   "source": [
    "# By station / general"
   ]
  },
  {
   "cell_type": "code",
   "execution_count": null,
   "metadata": {
    "collapsed": false,
    "deletable": true,
    "editable": true
   },
   "outputs": [],
   "source": [
    "import numpy as np\n",
    "k = np.array([[s.first,s.last] for s in stations], dtype='datetime64[D]')\n",
    "d = np.arange(np.min(k), np.max(k) + np.timedelta64(1,'D'))\n",
    "n = (k - d[0]).astype(int) + 1\n",
    "m = np.zeros((n.shape[0],np.max(n)))\n",
    "for i in range(n.shape[0]):\n",
    "    m[i,n[i,0]:n[i,1]+1] = 1\n",
    "\n",
    "availability([s.code for s in stations], d, m)"
   ]
  },
  {
   "cell_type": "markdown",
   "metadata": {
    "deletable": true,
    "editable": true
   },
   "source": [
    "# By field"
   ]
  },
  {
   "cell_type": "markdown",
   "metadata": {
    "deletable": true,
    "editable": true
   },
   "source": [
    "## Solar radiation (rs_w)"
   ]
  },
  {
   "cell_type": "markdown",
   "metadata": {
    "deletable": true,
    "editable": true
   },
   "source": [
    "|   | SW down | SW up | LW down | LW up | LW net | Sol dif | Sol dir | Sol refl |\n",
    "|:-|:-:|:-:|:-:|:-:|:-:|:-:|:-:|:-:|\n",
    "| 5      |         |       | x       |       | x      |         |         |          |\n",
    "| 6      |         |       | x       |       |        | x       | x       |          |\n",
    "| ANDA   |         |       | x       |       |        |         |         |          |\n",
    "| COMB   |         |       | x       |       | x      | x       | x       |          |\n",
    "| CT     | x       | x     | x       | x     |        |         |         |          |\n",
    "| INILLA |         |       | x       |       | x      |         |         |          |\n",
    "| LSC    |         |       |         |       |        | x       | x       |          |\n",
    "| MIN    |         |       | x       |       | x      |         |         |          |\n",
    "| PAGN   |         |       |         |       |        |         |         | x        |\n",
    "| PC     |         |       | x       |       | x      |         |         |          |\n",
    "| TPF    |         | x     | x       | x     |        |         |         |          |"
   ]
  },
  {
   "cell_type": "code",
   "execution_count": null,
   "metadata": {
    "collapsed": false,
    "deletable": true,
    "editable": true
   },
   "outputs": [],
   "source": [
    "D = pd.HDFStore('../../data/tables/station_data_new.h5')\n",
    "variable(D['rs_w'].xs('prom', level='aggr', axis=1))\n",
    "D.close()"
   ]
  },
  {
   "cell_type": "markdown",
   "metadata": {
    "deletable": true,
    "editable": true
   },
   "source": [
    "## Wind speed (vv_ms)"
   ]
  },
  {
   "cell_type": "markdown",
   "metadata": {
    "deletable": true,
    "editable": true
   },
   "source": [
    "|      |     2 m | 5 m        | 10 m     |    30 m |\n",
    "|-----:|:-------:|:----------:|:--------:|:-------:|\n",
    "|    3 |       6 | PAZVV5     |          |         |\n",
    "|    4 |      16 | 1117733106 |          |         |\n",
    "|    5 |      26 | RMRVV5     |          |         |\n",
    "|    6 |      36 | VCNVV5     |          |         |\n",
    "|    8 |      56 | PEVV5      |          |         |\n",
    "|    9 |      66 | RMPVV5     |          |         |\n",
    "|  CGR |         | CGRVV5     | CGRVV10  |         |\n",
    "| CHPL |  CHPLVV |            | CHPLVV10 |         |\n",
    "| LCAR | LCARVV2 | LCARVV5    |          |         |\n",
    "|  LLH | LLHVV2M |            | LLHVV10M |         |\n",
    "|   QS |   QSVV2 |            | QSVV1    |         |\n",
    "|  VLL |         |            | VLLVV10  | VLLVV30 |\n"
   ]
  },
  {
   "cell_type": "code",
   "execution_count": null,
   "metadata": {
    "collapsed": false,
    "deletable": true,
    "editable": true
   },
   "outputs": [],
   "source": [
    "D = pd.HDFStore('../../data/tables/station_data_new.h5')\n",
    "variable(D['vv_ms'].xs('prom', level='aggr', axis=1))\n",
    "D.close()"
   ]
  },
  {
   "cell_type": "code",
   "execution_count": null,
   "metadata": {
    "collapsed": false,
    "deletable": true,
    "editable": true
   },
   "outputs": [],
   "source": []
  }
 ],
 "metadata": {
  "kernelspec": {
   "display_name": "Python 3",
   "language": "python",
   "name": "python3"
  },
  "language_info": {
   "codemirror_mode": {
    "name": "ipython",
    "version": 3
   },
   "file_extension": ".py",
   "mimetype": "text/x-python",
   "name": "python",
   "nbconvert_exporter": "python",
   "pygments_lexer": "ipython3",
   "version": "3.6.0"
  }
 },
 "nbformat": 4,
 "nbformat_minor": 2
}
