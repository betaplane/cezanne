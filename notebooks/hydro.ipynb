{
 "cells": [
  {
   "cell_type": "markdown",
   "metadata": {
    "deletable": true,
    "editable": true
   },
   "source": [
    "# Relationship between snow-covered area and volume of snow\n",
    "\n",
    "Statistical models discribing river discharge have been developed for basins in which most of the precipitation falls as snow, and where snow-covered area (which is easily measured remotely) can hence be substituted as a proxy for direct measurements of precipitation. To obtain a good statistical fit, a power-law relationship is frequently employed <cite data-cite=\"2031184/EX28JTRX\"></cite>:\n",
    "\n",
    "$$\n",
    "Q_{current} = a A^b + c Q_{near} + d Q_{long}\n",
    "$$\n",
    "\n",
    "A simple argument for why such a power-law fit might arise can be made by considering the relationship between snow volume and snow-covered area. Any given snow event will contribute more to an increase in total snow-covered area if there is very little existing snow-cover; if, on the other hand, the area is completely covered already, a shower will contribute its precipitation volume without affecting the snow-covered area.\n",
    "\n",
    "We can say that an increment in area due to an increment in volume is proportional to the probability of an \"infinitesimal\" shower occurring over the snow-free area:\n",
    "\n",
    "$$\n",
    "\\frac{\\mathrm{d}A}{\\mathrm{d}V} = \\frac{1 - A}{d}\n",
    "$$\n",
    "\n",
    "where the snow-covered area $A$ is normalized with respect to the total available area, and the constant of proportionality $d$ is depth-like.\n",
    "\n",
    "The solution in terms of $V(A)$ is:\n",
    "\n",
    "$$\n",
    "V(A) = -d \\ln \\left(1 - A \\right) + C\n",
    "$$\n",
    "\n",
    "It therefore appears that precipitation volume (and after snow melt, discharge) should fundamentally be related to snow-covered area via the logarithm of its complement (the snow-free area). The function $- \\ln (1-x)$ has the Taylor Series Expansion $\\sum_{n=1}^{\\infty} x^n/n$ on $[-1,1[$, and a statistical fit to some power is plausible; what numerical value of the exponent performs best presumably depends and the measurements available to perform the fit."
   ]
  },
  {
   "cell_type": "code",
   "execution_count": null,
   "metadata": {
    "collapsed": false,
    "deletable": true,
    "editable": true
   },
   "outputs": [],
   "source": [
    "import numpy as np\n",
    "import matplotlib.pyplot as plt\n",
    "from matplotlib import rc\n",
    "%matplotlib inline\n",
    "\n",
    "rc('text', usetex=True)\n",
    "\n",
    "x = np.linspace(0,1,100)\n",
    "plt.plot(x, -np.log(1-x), label='$\\ln ( 1-x)$')\n",
    "plt.plot(x, x, label='x')\n",
    "plt.plot(x, x**2, label='$x^2$')\n",
    "plt.plot(x, x**3, label='$x^3$')\n",
    "plt.plot(x, x**4, label='$x^4$')\n",
    "plt.legend()"
   ]
  },
  {
   "cell_type": "code",
   "execution_count": null,
   "metadata": {
    "collapsed": false,
    "deletable": true,
    "editable": true
   },
   "outputs": [],
   "source": []
  }
 ],
 "metadata": {
  "cite2c": {
   "citations": {
    "2031184/EX28JTRX": {
     "DOI": "10.1007/s11269-016-1271-4",
     "URL": "http://link.springer.com/10.1007/s11269-016-1271-4",
     "accessed": {
      "day": "28",
      "month": "11",
      "year": "2016"
     },
     "author": [
      {
       "family": "Sproles",
       "given": "Eric A."
      },
      {
       "family": "Kerr",
       "given": "Tim"
      },
      {
       "family": "Orrego Nelson",
       "given": "Cristian"
      },
      {
       "family": "Lopez Aspe",
       "given": "David"
      }
     ],
     "container-title": "Water Resources Management",
     "id": "2031184/EX28JTRX",
     "issue": "7",
     "issued": {
      "month": "5",
      "year": "2016"
     },
     "language": "en",
     "page": "2581-2590",
     "page-first": "2581",
     "title": "Developing a Snowmelt Forecast Model in the Absence of Field Data",
     "type": "article-journal",
     "volume": "30"
    }
   }
  },
  "kernelspec": {
   "display_name": "Python 3",
   "language": "python",
   "name": "python3"
  },
  "language_info": {
   "codemirror_mode": {
    "name": "ipython",
    "version": 3
   },
   "file_extension": ".py",
   "mimetype": "text/x-python",
   "name": "python",
   "nbconvert_exporter": "python",
   "pygments_lexer": "ipython3",
   "version": "3.6.0"
  }
 },
 "nbformat": 4,
 "nbformat_minor": 2
}
