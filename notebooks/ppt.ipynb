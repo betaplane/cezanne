{
 "cells": [
  {
   "cell_type": "code",
   "execution_count": null,
   "metadata": {
    "collapsed": false,
    "deletable": true,
    "editable": true,
    "hideCode": false,
    "hidePrompt": false
   },
   "outputs": [],
   "source": [
    "import sys\n",
    "sys.path.append('../python')\n",
    "sys.path.append('../4jupy/lib/python3.6/site-packages/')\n",
    "import numpy as np\n",
    "import pandas as pd\n",
    "import xarray as xr\n",
    "from data import Data\n",
    "from geo import cells\n",
    "from mapping import proj_params, cartopy_params, affine\n",
    "import matplotlib.pyplot as plt\n",
    "from warnings import catch_warnings, simplefilter\n",
    "%matplotlib nbagg"
   ]
  },
  {
   "cell_type": "code",
   "execution_count": null,
   "metadata": {
    "collapsed": false,
    "deletable": true,
    "editable": true,
    "hideCode": false,
    "hidePrompt": false
   },
   "outputs": [],
   "source": [
    "D = Data('../python/data.cfg')\n",
    "D.open('c','station_data.h5')\n",
    "D.open('d','prDaily.h5')"
   ]
  },
  {
   "cell_type": "code",
   "execution_count": null,
   "metadata": {
    "collapsed": false,
    "deletable": true,
    "editable": true,
    "hideCode": false,
    "hidePrompt": false
   },
   "outputs": [],
   "source": [
    "# CEAZA\n",
    "r = D.c['pp_mm'].xs('prom', 1, 'aggr')\n",
    "sta = D.sta.loc[r.columns.get_level_values('station')]"
   ]
  },
  {
   "cell_type": "code",
   "execution_count": null,
   "metadata": {
    "collapsed": false,
    "deletable": true,
    "editable": true,
    "hideCode": false,
    "hidePrompt": false
   },
   "outputs": [],
   "source": [
    "# DGA\n",
    "r = D.d['prDaily']\n",
    "sta = r.columns.to_series().reset_index()[['nombre', 'longitud', 'latitud']]\n",
    "sta.index = r.columns.get_level_values('codigo_estacion')\n",
    "sta.columns = ['name', 'lon', 'lat']"
   ]
  },
  {
   "cell_type": "code",
   "execution_count": null,
   "metadata": {
    "collapsed": false
   },
   "outputs": [],
   "source": [
    "g5 = conc(r, ps(a5, False), 'codigo_estacion', dt=4)\n",
    "g6 = conc(r, ps(a6, False), 'codigo_estacion', dt=16)"
   ]
  },
  {
   "cell_type": "code",
   "execution_count": null,
   "metadata": {
    "collapsed": false,
    "deletable": true,
    "editable": true,
    "hideCode": false,
    "hidePrompt": false
   },
   "outputs": [],
   "source": [
    "with xr.open_dataset('../../data/WRF/3d/geo_em.d03.nc') as d3:\n",
    "    lm = d3['LANDMASK'].squeeze().load()\n",
    "    clon, clat = d3['XLONG_C'].squeeze().load(), d3['XLAT_C'].squeeze().load()\n",
    "    lon, lat = d3['XLONG_M'].squeeze().load(), d3['XLAT_M'].squeeze().load()\n",
    "    dom3 = proj_params(d3)\n",
    "\n",
    "i, j, k = cells(clon, clat, *sta[['lon', 'lat']].astype(float).values.T)\n",
    "sta = sta.drop(sta.index[k])\n",
    "r = r[sta.index]\n",
    "\n",
    "def ps(x, mean=True):\n",
    "    y = x.sel_points(south_north=i, west_east=j)\n",
    "    y.coords['stations'] = ('points', sta.index)\n",
    "    y = y.swap_dims({'points': 'stations'})\n",
    "    if mean:\n",
    "        m = x.mean(['south_north', 'west_east'])\n",
    "        m.expand_dims('stations')\n",
    "        m['stations'] = 'mean'\n",
    "        y = y.drop(list(set(y.coords) - set(m.coords)))\n",
    "        return xr.concat((y, m), 'stations')\n",
    "    return y"
   ]
  },
  {
   "cell_type": "code",
   "execution_count": null,
   "metadata": {
    "collapsed": false,
    "deletable": true,
    "editable": true,
    "hideCode": false,
    "hidePrompt": false
   },
   "outputs": [],
   "source": [
    "d5 = xr.open_dataset('../../data/WRF/3d/RAINNC_5.nc')\n",
    "#d5 = xr.open_dataset('../python/RAINNC_5.nc')\n",
    "x = d5['RAINNC'].isel(Time = np.arange(24, 121, 24))\n",
    "x5 = xr.concat((x.isel(Time = 0), x.diff('Time')), 'Time')\n",
    "a5 = d5['RAINNC'].diff('Time')\n",
    "\n",
    "d6 = xr.open_dataset('../../data/WRF/3d/RAINNC_6.nc')\n",
    "#d6 = xr.open_dataset('../python/RAINNC_6.nc')\n",
    "x = d6['RAINNC'].sel(start=slice(None, '2017-07-21'))\n",
    "x6 = x.isel(Time = np.arange(24, 145, 24))\n",
    "x6 = xr.concat((x6.isel(Time = 0), x6.diff('Time')), 'Time')\n",
    "a6 = x.diff('Time')"
   ]
  },
  {
   "cell_type": "code",
   "execution_count": null,
   "metadata": {
    "collapsed": false,
    "deletable": true,
    "editable": true,
    "hideCode": false,
    "hidePrompt": false
   },
   "outputs": [],
   "source": [
    "# This uses proper calendar days\n",
    "y5 = d5['RAINNC'].isel(Time = np.arange(4, 121, 24))\n",
    "y5 = xr.concat((y5.isel(Time = 0), y5.diff('Time')), 'Time')\n",
    "\n",
    "x = d6['RAINNC'].sel(start=slice(None, '2017-07-21'))\n",
    "y6 = x.isel(Time = np.arange(16, 145, 24))\n",
    "y6 = xr.concat((y6.isel(Time = 0), y6.diff('Time')), 'Time')"
   ]
  },
  {
   "cell_type": "code",
   "execution_count": null,
   "metadata": {
    "collapsed": false,
    "deletable": true,
    "editable": true,
    "hideCode": false,
    "hidePrompt": false
   },
   "outputs": [],
   "source": [
    "def offset_daily(x, delta):\n",
    "    \"\"\"\n",
    "    Resample hourly observations to daily, matching WRF simulation days \n",
    "    (which start at 8:00h local time / previously 20:00h). \n",
    "    The default -8h offset means the timestamp on the resampled series refers \n",
    "    to the beginning of a 24h period starting at 8:00.\n",
    "    \"\"\"\n",
    "    y = x.copy()\n",
    "    y.index += pd.Timedelta(delta)\n",
    "    return y.resample('D').mean() * 24\n",
    "\n",
    "def loss(obs, mod, offset='MS'):\n",
    "    o = obs.resample(offset).mean().mean(1).dropna()\n",
    "    o.name = 'obs'\n",
    "    def lead(n):\n",
    "        m = mod.isel(Time=n)\n",
    "        m['start'] = m.start + pd.Timedelta(n, 'd')\n",
    "        return m.resample(offset, 'start', how='mean').to_series()\n",
    "    r = np.arange(len(mod.Time))\n",
    "    return pd.concat([lead(n) for n in r], 1, keys=r).dropna(0, 'all').join(o, how='inner')"
   ]
  },
  {
   "cell_type": "code",
   "execution_count": null,
   "metadata": {
    "collapsed": false,
    "deletable": true,
    "editable": true,
    "hideCode": false,
    "hidePrompt": false
   },
   "outputs": [],
   "source": [
    "# NOTE: the timestap on model data now refers to the *end* of a period - adjust offset_daily accordingly\n",
    "def point_diff(obs, mod, sample='D', time_dim='ultima_lectura'):\n",
    "    def lead(x, n):\n",
    "        y = x.isel(Time=n).dropna('start','all')\n",
    "        return xr.DataArray(y.values, coords=[('points', y.points), ('time', y.XTIME)])\n",
    "    m = xr.concat([lead(mod, n) for n in range(len(mod.Time))], 'lead').resample(sample, 'time', how='mean')\n",
    "    o = xr.DataArray(obs.resample(sample).mean())\n",
    "    o.coords['points'] = ('dim_1', np.arange(len(o.dim_1)))\n",
    "    o = o.swap_dims({'dim_1': 'points'}).rename({time_dim:'time'}).drop('dim_1')\n",
    "    # i = pd.DatetimeIndex(m.time.values).intersection(pd.DatetimeIndex(o.time.values))\n",
    "    # return xr.concat((o.sel(time=i), m.sel(time=i)), pd.Index(['obs', 'mod'], name='type'))\n",
    "    return xr.concat((o, m), pd.Index(['obs', 'mod'], name='source'))"
   ]
  },
  {
   "cell_type": "code",
   "execution_count": null,
   "metadata": {
    "collapsed": false,
    "deletable": true,
    "editable": true,
    "hideCode": false,
    "hidePrompt": false
   },
   "outputs": [],
   "source": [
    "def hourly(mod, obs):\n",
    "    o = obs.copy()\n",
    "    o.name = 'obs'\n",
    "    def lead(y, n):\n",
    "        x = y.isel(Time=slice(n*24, (n+1)*24)).stack(t=('start', 'Time')).transpose('t', 'points')\n",
    "        return pd.DataFrame(x.values, index=x.XTIME, columns=[n]).dropna()\n",
    "    return pd.concat([lead(mod, n) for n in range(len(mod.Time)//24)], 1).join(o, how='inner')"
   ]
  },
  {
   "cell_type": "code",
   "execution_count": null,
   "metadata": {
    "collapsed": false,
    "deletable": true,
    "editable": true,
    "hideCode": false,
    "hidePrompt": false
   },
   "outputs": [],
   "source": [
    "rs = r.mean(1).dropna()\n",
    "m5 = ps(x5).mean('points')\n",
    "m6 = ps(x6).mean('points')\n",
    "lm = [loss(offset_daily(r, o), k) for o, k in [('-20h', m5), ('-8h', m6)]]\n",
    "ld = [loss(offset_daily(r, o), k, 'D') for o, k in [('-20h', m5), ('-8h', m6)]]\n",
    "lh = [hourly(ps(a).mean('points'), rs) * 24 for a in [a5, a6]]"
   ]
  },
  {
   "cell_type": "code",
   "execution_count": null,
   "metadata": {
    "collapsed": false,
    "hideCode": false,
    "hidePrompt": false
   },
   "outputs": [],
   "source": [
    "def conc(obs, mod, station_level='stations', dt=0):\n",
    "    if dt==0:\n",
    "        def lead(y, n):\n",
    "            m = y.isel(Time=slice(n*24, (n+1)*24)).stack(t=('start', 'Time'))\n",
    "            m['t'] = m.XTIME\n",
    "            m.name = n\n",
    "            return m.drop(set(m.coords) - {'t'}).dropna('t')\n",
    "        k = np.arange(len(mod.Time)//24)\n",
    "    else:\n",
    "        def lead(y, n):\n",
    "            m = y.isel(Time=slice(n*24+dt, (n+1)*24+dt))\n",
    "            t = m.XTIME.values[:, 0] - np.timedelta64(1, 'h')\n",
    "            m = m.sum('Time')\n",
    "            m['start'] = t\n",
    "            m.name = n\n",
    "            return m.rename({'start': 't'}).dropna('t')\n",
    "        k = np.arange((mod.Time[-1] - dt)//24)\n",
    "    m = xr.concat([lead(mod, n) for n in k], pd.Index(k, name='lead'))\n",
    "    o = xr.DataArray(obs, coords=[('t', obs.index), ('stations', obs.columns.get_level_values(station_level))])\n",
    "    o.expand_dims('lead')\n",
    "    o['lead'] = 'obs'\n",
    "    return xr.concat((o, m), 'lead')"
   ]
  },
  {
   "cell_type": "code",
   "execution_count": null,
   "metadata": {
    "collapsed": false,
    "hideCode": false,
    "hidePrompt": false
   },
   "outputs": [],
   "source": [
    "def offset(r, dt):\n",
    "    s = r.copy()\n",
    "    s.index += pd.Timedelta(dt)\n",
    "    return s"
   ]
  },
  {
   "cell_type": "code",
   "execution_count": null,
   "metadata": {
    "collapsed": false,
    "hideCode": false,
    "hidePrompt": false
   },
   "outputs": [],
   "source": [
    "a5 = xr.open_dataarray('../../data/WRF/3d/RAINNC_5_diff.nc')\n",
    "a6 = xr.open_dataarray('../../data/WRF/3d/RAINNC_6_diff.nc')\n",
    "b5 = ps(a5)\n",
    "b6 = ps(a6)"
   ]
  },
  {
   "cell_type": "code",
   "execution_count": null,
   "metadata": {
    "collapsed": false,
    "hideCode": false,
    "hidePrompt": false,
    "scrolled": false
   },
   "outputs": [],
   "source": [
    "R = r.copy()\n",
    "R['mean'] = R.mean(1)\n",
    "l5 = conc(R, b5)*24\n",
    "l6 = conc(R, b6)*24"
   ]
  },
  {
   "cell_type": "code",
   "execution_count": null,
   "metadata": {
    "collapsed": false,
    "hideCode": false,
    "hidePrompt": false
   },
   "outputs": [],
   "source": [
    "def diff(x):\n",
    "    o = x.sel(lead='obs')\n",
    "    m = x.drop('obs', 'lead').dropna('t', 'all')\n",
    "    return xr.concat((m - o, o), 'lead').sel(t=m.t)\n",
    "def err(x, sample, order):\n",
    "    f = {\n",
    "        'space': lambda y: y.mean('stations'),\n",
    "        'time': lambda y: y.resample(sample, 't', how='mean'),\n",
    "        'diff': lambda y: diff(y),\n",
    "        'abs': lambda y: np.abs(y)\n",
    "    }\n",
    "    for o in order:\n",
    "        x = f[o](x)\n",
    "    return pd.Series(x.mean('t'), index=x.lead)\n",
    "def err_all(x, order=['space', 'diff', 'time', 'abs']):\n",
    "    return pd.DataFrame({s: err(x, s, order) for s in ['MS', 'D', 'h']})[['MS', 'D', 'h']]"
   ]
  },
  {
   "cell_type": "code",
   "execution_count": null,
   "metadata": {
    "collapsed": false,
    "hideCode": false,
    "hidePrompt": false
   },
   "outputs": [],
   "source": [
    "def bplot(h, legend=None, loc='best', cmap='Accent'):\n",
    "    cm = plt.get_cmap(cmap, len(h.order) if hasattr(h, 'order') else 1)\n",
    "    cols = pd.Series(index=h.x.to_index())\n",
    "    i = 0\n",
    "    ticks, labels = [], []\n",
    "    ax = plt.gca()\n",
    "    for n, c in cols.iteritems():\n",
    "        obs = h.sel(x=n, lead='obs')\n",
    "        b = h.sel(x=n).drop('obs', 'lead').dropna('lead', 'all').squeeze()\n",
    "        a = b.lead.values.astype(int)\n",
    "        j = a + i\n",
    "        if hasattr(b, 'order'):\n",
    "            m = b.order.values.astype(int)\n",
    "            s = np.sin(m*np.pi/2) / 6\n",
    "            # argsort returns the indexes of the first, second, third etc. - *NOT* the order of the element\n",
    "            for k, o in list(b.argsort(0).groupby('order'))[::-1]:\n",
    "                plt.bar(j + s[k], b.isel_points(order=o, lead=a), color=cm(o), width=.5)\n",
    "            ax.hlines(obs.sel(order=m), j[0]-1, j[-1]+1, colors=cm(m))\n",
    "            plt.legend(*zip(*[(plt.Rectangle((0, 0), 1, 1, fc=cm(k)), legend[k])\n",
    "                              for k in range(len(h.order))]), loc=loc)\n",
    "        else:\n",
    "            plt.bar(j, b, color=cm(0))\n",
    "            ax.hlines(obs, j[0]-1, j[-1]+1, colors=cm(0))\n",
    "        i = j[-1] + 2\n",
    "        ticks.extend(j)\n",
    "        labels.extend(a+1)\n",
    "        if isinstance(n, tuple):\n",
    "            # use 'data' coordinates for the center-x location, but 'offset points' for the y-shift\n",
    "            # https://matplotlib.org/api/pyplot_api.html#matplotlib.pyplot.annotate\n",
    "            ax.annotate(n[1], (j.mean(), 0), xytext=(0,-24), textcoords='offset points', ha='center')\n",
    "        cols[n] = j.mean()\n",
    "    ax.tick_params(length=0, labelsize=10)\n",
    "    ax.set_xticks(ticks)\n",
    "    ax.set_xticklabels(labels)\n",
    "    for n, c in cols.astype(float).mean(level=0).iteritems():\n",
    "        ax.annotate(n, (c, 0), xytext=(0,-36), textcoords='offset points', ha='center')"
   ]
  },
  {
   "cell_type": "code",
   "execution_count": null,
   "metadata": {
    "collapsed": false
   },
   "outputs": [],
   "source": [
    "order_list = [['diff', 'abs', 'space', 'time'],\n",
    "              ['diff', 'abs', 'time', 'space'],\n",
    "              ['diff', 'space', 'time', 'abs'],\n",
    "              ['diff', 'time', 'space', 'abs'],\n",
    "              ['space', 'time', 'diff', 'abs'], \n",
    "              ['time', 'space', 'diff', 'abs']]\n",
    "frames = [pd.concat([err_all(l.drop('mean', 'stations'), order) for l in [l5, l6]], 1, keys=['0h', '12h']) \n",
    "          for order in order_list]\n",
    "h = xr.concat([xr.DataArray(f.swaplevel(axis=1)[['MS', 'D', 'h']], dims=['lead', 'x']) for f in frames], 'order')"
   ]
  },
  {
   "cell_type": "code",
   "execution_count": null,
   "metadata": {
    "collapsed": false,
    "hideCode": false,
    "hidePrompt": false
   },
   "outputs": [],
   "source": [
    "fig = plt.figure(figsize=(9, 6))\n",
    "bplot(h, order_list, 'lower right', 'Paired')\n",
    "plt.gca().set_title('Figure 1');"
   ]
  },
  {
   "cell_type": "markdown",
   "metadata": {},
   "source": [
    "The horizontal lines mark the observed values after applying the same sequence of (spatial, temporal) averaging as for the differences between simulations and observations.\n",
    "\n",
    "**12h / MS**: Difference in mean due to lack of simulations in 2016/04-2016/06 (Fig. 2, Tab. 1): applying 'diff' means selecting only times for which both observations and simulations are available. For the monthly aggration, the weight of months with missing days is much higher in the overall average than for shorter aggragations, where the weight is spread more evenly.  \n",
    "**0h / lead 1**: This appears to be due mainly to some missing simulation dates during rain events (2015/08) (Fig.3)  \n",
    "**First differencing vs first averaging**: First differencing means that only (hourly) times for which both simulations and observations (for each location) enter the statistics, while first applying some (spatial, temporal) average means that the unavailability is somewhat smoothed over. The former results in more erratic statistics but somtimes lower errors.  \n",
    "**Abs**: Taking the absolute value first obviously produces little differences between the various temporal aggregation scales. **It's unclear however where the pattern in lead days comes from, in particular the opposite resoponse at day 4 for 0h/12h runs.**\n",
    "\n",
    "#### Some useful matplotlib links:\n",
    "[pyplot.annotate()](https://matplotlib.org/api/pyplot_api.html#matplotlib.pyplot.annotate)  \n",
    "[Axes.tick_params()](http://matplotlib.org/api/_as_gen/matplotlib.axes.Axes.tick_params.html#matplotlib.axes.Axes.tick_params)  \n",
    "[annotation axes](https://matplotlib.org/users/annotations_guide.html)"
   ]
  },
  {
   "cell_type": "code",
   "execution_count": null,
   "metadata": {
    "collapsed": false
   },
   "outputs": [],
   "source": [
    "plt.figure(figsize=(8,3))\n",
    "xt = lambda x: (x.t, x)\n",
    "plt.plot(*xt(diff(l6).sel(lead='obs').resample('MS','t', how='mean').mean('stations')), label='diff first')\n",
    "plt.plot(*xt(diff(l6.resample('MS','t', how='mean').mean('stations')).sel(lead='obs')), label='mean first')\n",
    "plt.gca().set_title('Figure 2');"
   ]
  },
  {
   "cell_type": "code",
   "execution_count": null,
   "metadata": {
    "collapsed": false
   },
   "outputs": [],
   "source": [
    "pd.DataFrame([\n",
    "    h.sel(order=3,lead='obs',x=('MS','12h')), \n",
    "    err_all(l6.sel(t=slice('2016-08', None)), ['diff', 'sample', 'space', 'abs', 'mean']).loc['obs', 'MS']],\n",
    "    index=['original', 'first months removed'], columns=['mean of monthly means']).T"
   ]
  },
  {
   "cell_type": "code",
   "execution_count": null,
   "metadata": {
    "collapsed": false
   },
   "outputs": [],
   "source": [
    "x = xr.open_dataarray('../../data/WRF/3d/RAINNC_5.nc').isel(Time = np.arange(24, 121, 24)).mean(['south_north', 'west_east'])\n",
    "x5 = xr.concat((x.isel(Time = 0), x.diff('Time')), 'Time')"
   ]
  },
  {
   "cell_type": "code",
   "execution_count": null,
   "metadata": {
    "collapsed": false
   },
   "outputs": [],
   "source": [
    "x = xr.open_dataarray('../../data/WRF/3d/RAINNC_6.nc').isel(Time = np.arange(24, 145, 24)).mean(['south_north', 'west_east'])\n",
    "x6 = xr.concat((x.isel(Time = 0), x.diff('Time')), 'Time')"
   ]
  },
  {
   "cell_type": "code",
   "execution_count": null,
   "metadata": {
    "collapsed": false
   },
   "outputs": [],
   "source": [
    "fig, axs = plt.subplots(3, 1, figsize=(6,8))\n",
    "axs[0].set_title('Figure 3')\n",
    "# detail plot of daily mean model data\n",
    "plt.sca(axs[0])\n",
    "for i in np.arange(5):\n",
    "    plt.plot(x5.XTIME[:, i], x5[:, i], 'x-', label=i+1)\n",
    "axs[0].set_xlim('2015-08-01', '2015-08-20')\n",
    "axs[0].set_xticks(np.arange(*axs[0].get_xlim())[2::5])\n",
    "plt.legend(title='lead')\n",
    "\n",
    "# monthly means\n",
    "plt.sca(axs[1])\n",
    "xt = lambda x: (x.t, x)\n",
    "plt.plot(*xt(diff(l5).sel(lead='0').resample('MS','t', how='mean').mean('stations')), label='diff first')\n",
    "plt.plot(*xt(diff(l5.resample('MS','t', how='mean').mean('stations')).sel(lead='0')), label='mean first')\n",
    "axs[1].axvspan(*axs[0].get_xlim(), fc='gray', alpha=.3)\n",
    "\n",
    "# remove the respective time interval from the statistics and replot bars\n",
    "h1 = err_all(xr.concat((l5.sel(t=slice(None, '2015-08-01')), \n",
    "                        l5.sel(t=slice('2015-08-20', None))), 't'), ['diff', 'time', 'space', 'abs'])\n",
    "plt.sca(axs[2])\n",
    "bplot(xr.DataArray(h1[['MS', 'D', 'h']], dims=['lead', 'x']));"
   ]
  },
  {
   "cell_type": "code",
   "execution_count": null,
   "metadata": {
    "collapsed": false
   },
   "outputs": [],
   "source": [
    "order_list2 = [['diff', 'space', 'time', 'abs'],\n",
    "              ['diff', 'time', 'space', 'abs'],\n",
    "              ['space', 'diff', 'time', 'abs'],\n",
    "              ['time', 'diff', 'space', 'abs'],\n",
    "              ['space', 'diff', 'abs', 'time'],\n",
    "              ['time', 'diff', 'abs', 'space'],\n",
    "              ['space', 'time', 'diff', 'abs'], \n",
    "              ['time', 'space', 'diff', 'abs']]\n",
    "frames = [pd.concat([err_all(l.drop('mean', 'stations'), order) for l in [l5, l6]], 1, keys=['0h', '12h']) \n",
    "          for order in order_list2]\n",
    "h2 = xr.concat([xr.DataArray(f.swaplevel(axis=1)[['MS', 'D', 'h']], dims=['lead', 'x']) for f in frames], 'order')"
   ]
  },
  {
   "cell_type": "code",
   "execution_count": null,
   "metadata": {
    "collapsed": false,
    "scrolled": false
   },
   "outputs": [],
   "source": [
    "fig = plt.figure(figsize=(9, 6))\n",
    "bplot(h2, order_list2, 'upper left', 'Paired')\n",
    "plt.gca().set_title('Figure 4');"
   ]
  },
  {
   "cell_type": "markdown",
   "metadata": {},
   "source": [
    "**h**: Time-averaging makes no difference here (already hourly), but space-averaging before taking the difference.   \n",
    "**diff before vs after time**: Time-averaging before differencing might lead to larger errors.   \n",
    "**space after diff**: Not a huge difference   \n",
    "**space after abs**: Obviously this contains spatial errors.\n",
    "\n",
    "**Conclusion**: For aggregates, use *space, diff, time, abs*. My original was *time, space, diff, abs*, which does not account for the concurrency of (observation, simulation) pairs."
   ]
  },
  {
   "cell_type": "code",
   "execution_count": null,
   "metadata": {
    "collapsed": false,
    "deletable": true,
    "editable": true,
    "hideCode": false,
    "hidePrompt": false
   },
   "outputs": [],
   "source": [
    "from scipy import interpolate as ip\n",
    "from pyproj import Proj\n",
    "\n",
    "def interp2Dn(lon, lat, x, sta, coords=['XTIME']):\n",
    "    p = Proj(**dom3)\n",
    "    g = affine(*p(lon.values, lat.values))\n",
    "    xy = (np.arange(lon.shape[0]), np.arange(lon.shape[1]))\n",
    "    order = x.dims.index('south_north') < x.dims.index('west_east')\n",
    "    i, j = p(*sta[['lon', 'lat']].astype(float).values.T)\n",
    "    co = np.roll(g(np.r_['0,2', [i, j]]).T, int(order), 1)\n",
    "    d = list(set(x.dims) - {'south_north', 'west_east'})\n",
    "    y = xr.concat([\n",
    "        xr.concat([\n",
    "            xr.DataArray(\n",
    "                ip.interpn(xy, x.loc[{d[0]:a, d[1]:b}].values, co, 'linear'),\n",
    "                coords=[('stations', sta.index)]\n",
    "            ) for b in x[d[1]]], \n",
    "            pd.Index(x[d[1]], name = d[1])\n",
    "        ) for a in x[d[0]]],\n",
    "        pd.Index(x[d[0]], name = d[0])\n",
    "    )\n",
    "    for c in coords:\n",
    "        y[c] = x[c]\n",
    "    return y"
   ]
  },
  {
   "cell_type": "code",
   "execution_count": null,
   "metadata": {
    "collapsed": false
   },
   "outputs": [],
   "source": [
    "# WRF linearly interpolated to station locations\n",
    "i5 = conc(r, interp2Dn(lon, lat, a5, sta))*24\n",
    "i6 = conc(r, interp2Dn(lon, lat, a6, sta))*24"
   ]
  },
  {
   "cell_type": "code",
   "execution_count": null,
   "metadata": {
    "collapsed": false
   },
   "outputs": [],
   "source": [
    "frames = [\n",
    "    pd.concat([err_all(l.drop('mean', 'stations')) for l in [l5, l6]], 1, keys=['0h', '12h']),\n",
    "    pd.concat([err_all(l.sel(stations='mean'), ['diff', 'time','abs']) \n",
    "                     for l in [l5, l6]], 1, keys=['0h', '12h']),\n",
    "    pd.concat([err_all(l) for l in [i5, i6]], 1, keys=['0h', '12h']),\n",
    "    pd.concat([pd.DataFrame({s: err(l, s, ['space', 'diff', 'time', 'abs']) for s in ['MS', 'D']}) \n",
    "               for l in [g5, g6]], 1, keys=['0h', '12h'])\n",
    "]\n",
    "frames[-1][('0h','h')] = np.nan\n",
    "frames[-1][('12h','h')] = np.nan\n",
    "h3 = xr.concat([xr.DataArray(f.swaplevel(axis=1)[['MS', 'D', 'h']], dims=['lead', 'x']) for f in frames], 'order')"
   ]
  },
  {
   "cell_type": "code",
   "execution_count": null,
   "metadata": {
    "collapsed": false
   },
   "outputs": [],
   "source": [
    "fig = plt.figure(figsize=(9, 6))\n",
    "bplot(h3, ['station locations', 'whole domain', 'linear interpolation', 'DGA'])\n",
    "plt.gca().set_title('Figure 5');"
   ]
  },
  {
   "cell_type": "code",
   "execution_count": null,
   "metadata": {
    "collapsed": false,
    "hideCode": false,
    "hidePrompt": false
   },
   "outputs": [],
   "source": [
    "fig, ax = plt.subplots(figsize=(9, 6))\n",
    "p = []\n",
    "k = 0\n",
    "for l in lh:\n",
    "    for m in ['h', 'D', 'MS'][::-1]:\n",
    "        p.append(plt.bar(np.arange(l.shape[1] - 1) * 7 + k, mae(l, m)))\n",
    "        k += 1\n",
    "ax.set_xticks(np.arange(6) * 7 + 1.5)\n",
    "ax.set_xticklabels(np.arange(1, 7))\n",
    "ax.set_xlabel('lead day')\n",
    "plt.legend(p, ['monthly 0h', 'daily 0h', 'hourly 0h', 'monthly 12h', 'daily 12h', 'hourly 12h'], loc='upper left')"
   ]
  },
  {
   "cell_type": "code",
   "execution_count": null,
   "metadata": {
    "collapsed": false,
    "deletable": true,
    "editable": true,
    "hideCode": false,
    "hidePrompt": false
   },
   "outputs": [],
   "source": [
    "p5 = ps(x5)\n",
    "p6 = ps(x6)\n",
    "lm = [point_loss(offset_daily(r, o), k, 'MS') for o, k in [('4h', p5), ('16h', p6)]]\n",
    "ld = [point_loss(offset_daily(r, o), k) for o, k in [('4h', p5), ('16h', p6)]]"
   ]
  },
  {
   "cell_type": "code",
   "execution_count": null,
   "metadata": {
    "collapsed": false,
    "deletable": true,
    "editable": true,
    "hideCode": false,
    "hidePrompt": false
   },
   "outputs": [],
   "source": [
    "plt.figure(figsize=(9,5))\n",
    "p = plt.plot(pd.concat([l[['obs', 0]] for l in ld]).sort_index())\n",
    "plt.legend(p, ['obs', 'WRF'])"
   ]
  },
  {
   "cell_type": "code",
   "execution_count": null,
   "metadata": {
    "collapsed": false
   },
   "outputs": [],
   "source": [
    "def lplot(a, b, lead=0):\n",
    "    c = b.sel(t=slice(str(a6.start.values[0]), None)).combine_first(\n",
    "        a.sel(t=slice(str(a5.start.values[0]), None))\n",
    "    ).sel(lead=['obs',lead]).mean('stations').resample('D', 't', how='mean')\n",
    "    with catch_warnings():\n",
    "        simplefilter('ignore')\n",
    "        d = c.where(c>0.1)\n",
    "    p = plt.plot(c.t, c)\n",
    "    plt.gca().set_prop_cycle(None)\n",
    "    plt.plot(d.t, d, marker='x', ls='none')\n",
    "    return p"
   ]
  },
  {
   "cell_type": "code",
   "execution_count": null,
   "metadata": {
    "collapsed": false
   },
   "outputs": [],
   "source": [
    "fig, axs = plt.subplots(2, 1, figsize=(9,6))\n",
    "plt.sca(axs[0])\n",
    "p = lplot(l5, l6)\n",
    "plt.legend(p, ['CEAZAMet', 'WRF'])\n",
    "plt.sca(axs[1])\n",
    "p = lplot(g5, g6)\n",
    "plt.legend(p, ['DGA', 'WRF'])\n",
    "axs[0].set_title('Figure 6');"
   ]
  },
  {
   "cell_type": "code",
   "execution_count": null,
   "metadata": {
    "collapsed": false
   },
   "outputs": [],
   "source": [
    "a = pd.concat([l[['obs', 0]] for l in ld]).sort_index()\n",
    "plt.figure(figsize=(9,5))\n",
    "p = plt.plot(a)\n",
    "plt.plot(a[a>0.1]['obs'], marker='x', ls='none', color=p[0].get_color())\n",
    "plt.plot(a[a>0.1][0], marker='x', ls='none', color=p[1].get_color())\n",
    "plt.legend(p, ['obs', 'WRF'])"
   ]
  },
  {
   "cell_type": "code",
   "execution_count": null,
   "metadata": {
    "collapsed": false,
    "deletable": true,
    "editable": true,
    "hideCode": false,
    "hidePrompt": false
   },
   "outputs": [],
   "source": [
    "# DGA\n",
    "m5 = ps(x5).mean('points')\n",
    "m6 = ps(x6).mean('points')\n",
    "lm = [loss(r, k) for k in [m5, m6]]\n",
    "ld = [loss(r, k, 'D') for k in [m5, m6]]"
   ]
  },
  {
   "cell_type": "code",
   "execution_count": null,
   "metadata": {
    "collapsed": false,
    "deletable": true,
    "editable": true,
    "hideCode": false,
    "hidePrompt": false
   },
   "outputs": [],
   "source": [
    "a = pd.concat([l[['obs', 0]] for l in ld]).sort_index()\n",
    "plt.figure(figsize=(9,5))\n",
    "p = plt.plot(a)\n",
    "plt.plot(a[a>0.1]['obs'], marker='x', ls='none', color=p[0].get_color())\n",
    "plt.plot(a[a>0.1][0], marker='x', ls='none', color=p[1].get_color())\n",
    "plt.legend(p, ['obs', 'WRF'])"
   ]
  },
  {
   "cell_type": "markdown",
   "metadata": {
    "deletable": true,
    "editable": true,
    "hideCode": false,
    "hidePrompt": false
   },
   "source": [
    "Same as above for DGA stations. Note that the average is over different points as for the CEAZA stations, hence the different values. Also, for DGA, I don't know what their time conventions are, so no attempt is made to align WRF results and DGA data temporally."
   ]
  },
  {
   "cell_type": "code",
   "execution_count": null,
   "metadata": {
    "collapsed": false,
    "deletable": true,
    "editable": true,
    "hideCode": false,
    "hidePrompt": false
   },
   "outputs": [],
   "source": [
    "def mae(x):\n",
    "    if isinstance(x, pd.DataFrame):\n",
    "        return x.drop('obs', 1).add(-x['obs'], 0).abs().mean()\n",
    "    else:\n",
    "        return np.abs(x.mean('points').diff('type')).mean('time').values.flatten()"
   ]
  },
  {
   "cell_type": "code",
   "execution_count": null,
   "metadata": {
    "collapsed": false,
    "deletable": true,
    "editable": true,
    "hideCode": false,
    "hidePrompt": false
   },
   "outputs": [],
   "source": [
    "fig, ax = plt.subplots(figsize=(9, 6))\n",
    "ps = []\n",
    "for k, l in enumerate([lm[0], ld[0], lh[0], lm[1], ld[1], lh[1]]):\n",
    "    ps.append(plt.bar(np.arange(l.shape[1] - 1) * 7 + k, mae(l)))\n",
    "ax.set_xticks(np.arange(6) * 7 + 1.5)\n",
    "ax.set_xticklabels(np.arange(1, 7))\n",
    "ax.set_xlabel('lead day')\n",
    "plt.legend(ps, ['monthly 0h', 'daily 0h', 'hourly 0h', 'monthly 12h', 'daily 12h', 'hourly 12h'], loc='upper left')"
   ]
  },
  {
   "cell_type": "markdown",
   "metadata": {
    "deletable": true,
    "editable": true,
    "hideCode": false,
    "hidePrompt": false
   },
   "source": [
    "original plot with 'loss' (first station-averaging, then loss computation)"
   ]
  },
  {
   "cell_type": "code",
   "execution_count": null,
   "metadata": {
    "collapsed": false,
    "deletable": true,
    "editable": true,
    "hideCode": false,
    "hidePrompt": false
   },
   "outputs": [],
   "source": [
    "fig, ax = plt.subplots(figsize=(9, 6))\n",
    "ps = []\n",
    "for k, l in enumerate([lm[0], ld[0], lh[0], lm[1], ld[1], lh[1]]):\n",
    "    e = mae(l)\n",
    "    ps.append(plt.bar(np.arange(len(e)) * 7 + k, e))\n",
    "ax.set_xticks(np.arange(6) * 7 + 1.5)\n",
    "ax.set_xticklabels(np.arange(1, 7))\n",
    "ax.set_xlabel('lead day')\n",
    "plt.legend(ps, ['monthly 0h', 'daily 0h', 'hourly 0h', 'monthly 12h', 'daily 12h', 'hourly 12h'], loc='upper left')"
   ]
  },
  {
   "cell_type": "markdown",
   "metadata": {
    "deletable": true,
    "editable": true,
    "hideCode": false,
    "hidePrompt": false
   },
   "source": [
    "same as above but with point_loss (station-wise loss, then averaging)"
   ]
  },
  {
   "cell_type": "code",
   "execution_count": null,
   "metadata": {
    "collapsed": false,
    "deletable": true,
    "editable": true,
    "hideCode": false,
    "hidePrompt": false
   },
   "outputs": [],
   "source": [
    "lm = [loss(offset_daily(r, o)/24, k) for o, k in [('-1d', m5), ('0d', m6)]]\n",
    "ld = [loss(offset_daily(r, o)/24, k, 'D') for o, k in [('-1d', m5), ('0d', m6)]]"
   ]
  },
  {
   "cell_type": "code",
   "execution_count": null,
   "metadata": {
    "collapsed": false,
    "deletable": true,
    "editable": true,
    "hideCode": false,
    "hidePrompt": false
   },
   "outputs": [],
   "source": [
    "fig, ax = plt.subplots(figsize=(9, 6))\n",
    "bars = [lm[0], ld[0], lm[1], ld[1]]\n",
    "ps = []\n",
    "for k, l in enumerate(bars):\n",
    "    ps.append(plt.bar(np.arange(l.shape[1] - 1) * (len(bars) + 1) + k, mae(l)))\n",
    "ax.set_xticks(np.arange(6) * (len(bars) + 1) + 1.5)\n",
    "ax.set_xticklabels(np.arange(1, 7))\n",
    "ax.set_xlabel('lead day')\n",
    "plt.legend(ps, ['monthly 0h', 'daily 0h', 'monthly 12h', 'daily 12h'], loc='lower right')"
   ]
  },
  {
   "cell_type": "code",
   "execution_count": null,
   "metadata": {
    "collapsed": false,
    "deletable": true,
    "editable": true,
    "hideCode": false,
    "hidePrompt": false
   },
   "outputs": [],
   "source": [
    "fig, ax = plt.subplots(figsize=(9, 6))\n",
    "bars = [lm[0], ld[0], lm[1], ld[1]]\n",
    "ps = []\n",
    "for k, l in enumerate(bars):\n",
    "    ps.append(plt.bar(np.arange(l.shape[1] - 1) * (len(bars) + 1) + k, mae(l)))\n",
    "ax.set_xticks(np.arange(6) * (len(bars) + 1) + 1.5)\n",
    "ax.set_xticklabels(np.arange(1, 7))\n",
    "ax.set_xlabel('lead day')\n",
    "plt.legend(ps, ['monthly 0h', 'daily 0h', 'monthly 12h', 'daily 12h'], loc='lower right')"
   ]
  },
  {
   "cell_type": "markdown",
   "metadata": {
    "deletable": true,
    "editable": true,
    "hideCode": false,
    "hidePrompt": false
   },
   "source": [
    "Same as above with DGA data. Note that the large daily errors for the 0h runs have to do with the lack of alignment between WRF runs and the DGA data."
   ]
  },
  {
   "cell_type": "code",
   "execution_count": null,
   "metadata": {
    "collapsed": false,
    "deletable": true,
    "editable": true,
    "hideCode": false,
    "hidePrompt": false
   },
   "outputs": [],
   "source": [
    "id5 = interp2Dn(lon, lat, x5, sta).mean('stations')\n",
    "id6 = interp2Dn(lon, lat, x6, sta).mean('stations')\n",
    "ih5 = interp2Dn(lon, lat, d5['RAINNC'], sta).mean('stations').diff('Time')\n",
    "ih6 = interp2Dn(lon, lat, d6['RAINNC'].sel(start=slice(None, '2017-07-21')), sta).mean('stations').diff('Time')"
   ]
  },
  {
   "cell_type": "code",
   "execution_count": null,
   "metadata": {
    "collapsed": false,
    "deletable": true,
    "editable": true,
    "hideCode": false,
    "hidePrompt": false
   },
   "outputs": [],
   "source": [
    "lid = [loss(offset_daily(r, o), k, 'D') for o, k in [('-20h', id5), ('-8h', id6)]]\n",
    "lih = [hourly(a, rs) * 24 for a in [ih5, ih6]]"
   ]
  },
  {
   "cell_type": "code",
   "execution_count": null,
   "metadata": {
    "collapsed": false,
    "deletable": true,
    "editable": true,
    "hideCode": false,
    "hidePrompt": false
   },
   "outputs": [],
   "source": [
    "fig, ax = plt.subplots(figsize=(9, 6))\n",
    "bars = [ld[0], lid[0], lh[0], lih[0], ld[1], lid[1], lh[1], lih[1]]\n",
    "ps = []\n",
    "for k, l in enumerate(bars):\n",
    "    ps.append(plt.bar(np.arange(l.shape[1] - 1) * (len(bars) + 1) + k, mae(l)))\n",
    "ax.set_xticks(np.arange(6) * (len(bars) + 1) + 1.5)\n",
    "ax.set_xticklabels(np.arange(1, 7))\n",
    "ax.set_xlabel('lead day')\n",
    "plt.legend(ps, ['daily 0h', 'daily interp. 0h', 'hourly 0h', 'hourly interp. 0h',\n",
    "               'daily 12h', 'daily interp. 12h', 'hourly 12h', 'hourly interp. 12h'], loc='lower right')"
   ]
  },
  {
   "cell_type": "markdown",
   "metadata": {
    "deletable": true,
    "editable": true,
    "hideCode": false,
    "hidePrompt": false
   },
   "source": [
    "check if interpolation changes anything (no it doesn't)"
   ]
  },
  {
   "cell_type": "code",
   "execution_count": null,
   "metadata": {
    "collapsed": false,
    "deletable": true,
    "editable": true,
    "hideCode": false,
    "hidePrompt": false
   },
   "outputs": [],
   "source": [
    "p5 = point_loss(offset_daily(r,'4h'), ps(x5))\n",
    "p6 = point_loss(offset_daily(r,'16h'), ps(x6))"
   ]
  },
  {
   "cell_type": "code",
   "execution_count": null,
   "metadata": {
    "collapsed": false,
    "deletable": true,
    "editable": true,
    "hideCode": false,
    "hidePrompt": false
   },
   "outputs": [],
   "source": [
    "from cartopy import crs\n",
    "from cartopy.io import shapereader\n",
    "import matplotlib.gridspec as gs"
   ]
  },
  {
   "cell_type": "code",
   "execution_count": null,
   "metadata": {
    "collapsed": false,
    "deletable": true,
    "editable": true,
    "hideCode": false,
    "hidePrompt": false
   },
   "outputs": [],
   "source": [
    "proj = crs.LambertConformal(**cartopy_params(dom3))"
   ]
  },
  {
   "cell_type": "code",
   "execution_count": null,
   "metadata": {
    "collapsed": false,
    "deletable": true,
    "editable": true,
    "hideCode": false,
    "hidePrompt": false
   },
   "outputs": [],
   "source": [
    "coast = shapereader.Reader('../../data/geo/GSHHG/coast.shp')\n",
    "border = shapereader.Reader('../../data/geo/GSHHG/border.shp')\n",
    "rivers = shapereader.Reader('../../data/geo/GSHHG/river.shp')"
   ]
  },
  {
   "cell_type": "code",
   "execution_count": null,
   "metadata": {
    "collapsed": false,
    "deletable": true,
    "editable": true,
    "hideCode": false,
    "hidePrompt": false
   },
   "outputs": [],
   "source": [
    "def mplot(x, grid, cbar=True, vmin=None, vmax=None, title=None):\n",
    "    ax = plt.subplot(grid, projection=proj)\n",
    "    i, j = sta[['lon', 'lat']].astype(float).values.T\n",
    "    p = ax.scatter(i, j, c=x.values, vmin=vmin, vmax=vmax)\n",
    "    ax.add_geometries(coast.geometries(), crs=proj, facecolor='none', edgecolor='k')\n",
    "    ax.add_geometries(rivers.geometries(), crs=proj, facecolor='none', edgecolor='b')\n",
    "    ax.add_geometries(border.geometries(), crs=proj, facecolor='none', edgecolor='g', linewidth=.5)\n",
    "    ax.set_extent((-72.2, -69.8, -32.5, -28.2), crs=proj)\n",
    "    if title is not None:\n",
    "        ax.set_title(title)\n",
    "    if cbar:\n",
    "        plt.colorbar(p, ax=ax)\n",
    "    return p"
   ]
  },
  {
   "cell_type": "code",
   "execution_count": null,
   "metadata": {
    "collapsed": false,
    "deletable": true,
    "editable": true,
    "hideCode": false,
    "hidePrompt": false
   },
   "outputs": [],
   "source": [
    "p5 = point_loss(r, ps(x5), 'MS', time_dim='dim_0')\n",
    "p6 = point_loss(r, ps(x6), 'MS', time_dim='dim_0')"
   ]
  },
  {
   "cell_type": "code",
   "execution_count": null,
   "metadata": {
    "collapsed": false,
    "deletable": true,
    "editable": true,
    "hideCode": false,
    "hidePrompt": false
   },
   "outputs": [],
   "source": [
    "def mae(x):\n",
    "    return bias(np.abs(x))\n",
    "def bias(x):\n",
    "    return x.mean('time').squeeze()"
   ]
  },
  {
   "cell_type": "markdown",
   "metadata": {
    "deletable": true,
    "editable": true,
    "hideCode": false,
    "hidePrompt": false
   },
   "source": [
    "same as below but with non-standardized colorbars"
   ]
  },
  {
   "cell_type": "code",
   "execution_count": null,
   "metadata": {
    "collapsed": false,
    "deletable": true,
    "editable": true,
    "hideCode": false,
    "hidePrompt": false
   },
   "outputs": [],
   "source": [
    "a = p5.isel(lead=0).diff('type')\n",
    "b = p6.isel(lead=0).diff('type')\n",
    "\n",
    "fig = plt.figure(figsize=(8, 6))\n",
    "grid = gs.GridSpec(2, 3)\n",
    "\n",
    "plt.set_cmap('gnuplot')\n",
    "mplot(r.mean() * 24, grid[0, 0])\n",
    "mplot(mae(a), grid[0, 1])\n",
    "mplot(mae(b), grid[0, 2])\n",
    "\n",
    "plt.set_cmap('coolwarm')\n",
    "mplot(bias(a), grid[1, 1])\n",
    "mplot(bias(b), grid[1, 2])"
   ]
  },
  {
   "cell_type": "code",
   "execution_count": null,
   "metadata": {
    "collapsed": false,
    "deletable": true,
    "editable": true,
    "hideCode": false,
    "hidePrompt": false
   },
   "outputs": [],
   "source": [
    "fig = plt.figure(figsize=(8, 8))\n",
    "\n",
    "w = 6\n",
    "grid = gs.GridSpec(2, 3*w+1)\n",
    "\n",
    "plt.set_cmap('gnuplot')\n",
    "mplot(r.mean() * 24, grid[0, :w], False, 0, .8, title='mean daily ppt')\n",
    "mplot(mae(a), grid[0, w:2*w], False, 0, .8, title='daily MAE 0h')\n",
    "p = mplot(mae(b), grid[0, 2*w:3*w], False, 0, .8, title='daily MAE 12h')\n",
    "plt.colorbar(p, cax=plt.subplot(grid[0,3*w]))\n",
    "\n",
    "plt.set_cmap('coolwarm')\n",
    "mplot(bias(a), grid[1, w:2*w], False, -.8, .8, title='bias 0h')\n",
    "p = mplot(bias(b), grid[1, 2*w:3*w], False, -.8, .8, 'bias 12h')\n",
    "plt.colorbar(p, cax=plt.subplot(grid[1,3*w]))"
   ]
  },
  {
   "cell_type": "code",
   "execution_count": null,
   "metadata": {
    "collapsed": false,
    "deletable": true,
    "editable": true,
    "hideCode": false,
    "hidePrompt": false
   },
   "outputs": [],
   "source": [
    "a = p5.isel(lead=1).diff('type')\n",
    "b = p6.isel(lead=3).diff('type')\n",
    "\n",
    "fig = plt.figure(figsize=(8, 6))\n",
    "grid = gs.GridSpec(2, 3)\n",
    "\n",
    "plt.set_cmap('gnuplot')\n",
    "mplot(r.mean(), grid[0, 0])\n",
    "mplot(mae(a), grid[0, 1])\n",
    "mplot(mae(b), grid[0, 2])\n",
    "\n",
    "plt.set_cmap('coolwarm')\n",
    "mplot(bias(a), grid[1, 1])\n",
    "mplot(bias(b), grid[1, 2])"
   ]
  },
  {
   "cell_type": "code",
   "execution_count": null,
   "metadata": {
    "collapsed": false,
    "deletable": true,
    "editable": true,
    "hideCode": false,
    "hidePrompt": false
   },
   "outputs": [],
   "source": [
    "fig = plt.figure(figsize=(8, 8))\n",
    "\n",
    "w = 6\n",
    "grid = gs.GridSpec(2, 3*w+1)\n",
    "\n",
    "plt.set_cmap('gnuplot')\n",
    "mplot(r.mean(), grid[0, :w], False, 0, 1.4, title='mean daily ppt')\n",
    "mplot(mae(a), grid[0, w:2*w], False, 0, 1.4, title='daily MAE 0h')\n",
    "p = mplot(mae(b), grid[0, 2*w:3*w], False, 0, 1.4, title='daily MAE 12h')\n",
    "plt.colorbar(p, cax=plt.subplot(grid[0,3*w]))\n",
    "\n",
    "plt.set_cmap('coolwarm')\n",
    "mplot(bias(a), grid[1, w:2*w], False, -1, 1, title='bias 0h')\n",
    "p = mplot(bias(b), grid[1, 2*w:3*w], False, -1, 1, 'bias 12h')\n",
    "plt.colorbar(p, cax=plt.subplot(grid[1,3*w]))"
   ]
  },
  {
   "cell_type": "code",
   "execution_count": null,
   "metadata": {
    "collapsed": false,
    "deletable": true,
    "editable": true,
    "hideCode": false,
    "hidePrompt": false
   },
   "outputs": [],
   "source": [
    "def nplot(station, ax):\n",
    "    col = plt.rcParams['axes.prop_cycle'].by_key()['color']\n",
    "    k = r.columns.get_level_values('station').get_loc(station)\n",
    "    s = r[station].resample('D')\n",
    "    a = s.mean() * 24\n",
    "    a = a[a>0]\n",
    "    b = a5[:,:24, i[k], j[k]].stack(t=('start', 'Time'))\n",
    "    c = a6[:,:24, i[k], j[k]].stack(t=('start', 'Time'))\n",
    "    ax.scatter(a.index, a, s=s.count(), c=col[0])\n",
    "    b = b[b>0]\n",
    "    ax.plot(b.XTIME, b.values, '+', c=col[1])\n",
    "    c = c[c>0]\n",
    "    ax.plot(c.XTIME, c.values, '+', c=col[2])\n",
    "    ax.set_xlim(b.XTIME.values[0], c.XTIME.values[-1])"
   ]
  },
  {
   "cell_type": "code",
   "execution_count": null,
   "metadata": {
    "collapsed": false,
    "deletable": true,
    "editable": true,
    "hideCode": false,
    "hidePrompt": false
   },
   "outputs": [],
   "source": [
    "fig, axs = plt.subplots(3, 1, figsize=(9,9))\n",
    "nplot('LAGHU', axs[0]) # Laguna Hurtado - tipping bucket in snow territory\n",
    "nplot('INIA66', axs[1])\n",
    "nplot('RPL', axs[2])"
   ]
  },
  {
   "cell_type": "markdown",
   "metadata": {
    "deletable": true,
    "editable": true,
    "hideCode": false,
    "hidePrompt": false
   },
   "source": [
    "dots - observations (daily mean * 24, dot size = n obs)"
   ]
  },
  {
   "cell_type": "code",
   "execution_count": null,
   "metadata": {
    "collapsed": false,
    "deletable": true,
    "editable": true,
    "hideCode": false,
    "hidePrompt": false
   },
   "outputs": [],
   "source": [
    "with xr.open_mfdataset('../../data/fnl/ppt/*f0[6,9].nc') as ds:\n",
    "    d6 = ds['APCP_P8_L1_GLL0_acc'].load()\n",
    "    d9 = ds['APCP_P8_L1_GLL0_acc3h'].load()"
   ]
  },
  {
   "cell_type": "code",
   "execution_count": null,
   "metadata": {
    "collapsed": false,
    "deletable": true,
    "editable": true,
    "hideCode": false,
    "hidePrompt": false
   },
   "outputs": [],
   "source": [
    "def hour(x, h):\n",
    "    d = pd.DatetimeIndex(x.initial_time0_hours.values)\n",
    "    x.coords['date'] = ('initial_time0_hours', d.date.astype('datetime64'))\n",
    "    x0 = x.loc[d.hour==h, :, :].swap_dims({'initial_time0_hours': 'date'})\n",
    "    return x0"
   ]
  },
  {
   "cell_type": "code",
   "execution_count": null,
   "metadata": {
    "collapsed": false,
    "deletable": true,
    "editable": true,
    "hideCode": false,
    "hidePrompt": false
   },
   "outputs": [],
   "source": [
    "d0 = hour(d6, 0) + hour(d9, 0)\n",
    "d1 = hour(d6, 12) + hour(d9, 12)"
   ]
  },
  {
   "cell_type": "code",
   "execution_count": null,
   "metadata": {
    "collapsed": false,
    "deletable": true,
    "editable": true,
    "hideCode": false,
    "hidePrompt": false
   },
   "outputs": [],
   "source": [
    "def split(x, i):\n",
    "    return x.sel(date = slice('2016-04-25', None) if i else slice(None, '2016-04-24'))"
   ]
  },
  {
   "cell_type": "code",
   "execution_count": null,
   "metadata": {
    "collapsed": false,
    "deletable": true,
    "editable": true,
    "hideCode": false,
    "hidePrompt": false
   },
   "outputs": [],
   "source": [
    "def pplot(x, grid, cbar=True, vmin=None, vmax=None, title=None):\n",
    "    ax = plt.subplot(grid, projection=proj)\n",
    "    i, j = x.lon_0.values - 360, x.lat_0.values\n",
    "    p = ax.pcolormesh(i, j, x.values, vmin=vmin, vmax=vmax)\n",
    "    ax.add_geometries(coast.geometries(), crs=proj, facecolor='none', edgecolor='k')\n",
    "    ax.add_geometries(rivers.geometries(), crs=proj, facecolor='none', edgecolor='b')\n",
    "    ax.add_geometries(border.geometries(), crs=proj, facecolor='none', edgecolor='g', linewidth=.5)\n",
    "    ax.set_extent((-72.2, -69.8, -32.5, -28.2), crs=proj)\n",
    "    if title is not None:\n",
    "        ax.set_title(title)\n",
    "    if cbar:\n",
    "        plt.colorbar(p, ax=ax)\n",
    "    return p"
   ]
  },
  {
   "cell_type": "code",
   "execution_count": null,
   "metadata": {
    "collapsed": false,
    "deletable": true,
    "editable": true,
    "hideCode": false,
    "hidePrompt": false
   },
   "outputs": [],
   "source": [
    "fig = plt.figure(figsize=(8, 6))\n",
    "grid = gs.GridSpec(1, 2)\n",
    "mplot(r['2015-07-08':'2016-04-24'].mean(), grid[0, 0], vmin=0, vmax=1.5)\n",
    "mplot(r['2016-04-25':].mean(), grid[0, 1], vmin=0, vmax=1.5)"
   ]
  },
  {
   "cell_type": "code",
   "execution_count": null,
   "metadata": {
    "collapsed": false,
    "deletable": true,
    "editable": true,
    "hideCode": false,
    "hidePrompt": false
   },
   "outputs": [],
   "source": [
    "r0 = r['2015-07-08':'2016-04-24']\n",
    "r1 = r['2016-04-25':]\n",
    "R = r['2015-07-08':]"
   ]
  },
  {
   "cell_type": "code",
   "execution_count": null,
   "metadata": {
    "collapsed": false,
    "deletable": true,
    "editable": true,
    "hideCode": false,
    "hidePrompt": false
   },
   "outputs": [],
   "source": [
    "def hour(x, h):\n",
    "    idx = x.index\n",
    "    k = (idx.hour > 15) | (idx.hour < 2) if h else (idx.hour > 3) & (idx.hour < 14)\n",
    "    return x.groupby(k).mean().loc[True]*9"
   ]
  },
  {
   "cell_type": "code",
   "execution_count": null,
   "metadata": {
    "collapsed": false,
    "deletable": true,
    "editable": true,
    "hideCode": false,
    "hidePrompt": false
   },
   "outputs": [],
   "source": [
    "fig = plt.figure(figsize=(8, 6))\n",
    "plt.set_cmap('gnuplot')\n",
    "grid = gs.GridSpec(2, 3)\n",
    "ma = .5\n",
    "d = (d0 + d1) / 2\n",
    "mplot(r0.mean()*9, grid[0, 0], vmin=0, vmax=ma)\n",
    "mplot(r1.mean()*9, grid[1, 0], vmin=0, vmax=ma)\n",
    "mplot(hour(R, 0), grid[0, 1], vmin=0, vmax=ma)\n",
    "mplot(hour(R, 1), grid[1, 1], vmin=0, vmax=ma)\n",
    "mplot(hour(r0, 0), grid[0, 2], vmin=0, vmax=ma)\n",
    "mplot(hour(r1, 1), grid[1, 2], vmin=0, vmax=ma)"
   ]
  },
  {
   "cell_type": "code",
   "execution_count": null,
   "metadata": {
    "collapsed": false,
    "deletable": true,
    "editable": true,
    "hideCode": false,
    "hidePrompt": false
   },
   "outputs": [],
   "source": [
    "import sys\n",
    "sys.path.append('../miniconda3/envs/iris/lib/python3.6/site-packages/')\n",
    "import iris\n",
    "import iris.plot as iplt\n",
    "import iris.coord_categorisation as ccat\n",
    "from datetime import datetime, timedelta\n",
    "iris.FUTURE.netcdf_promote = True\n",
    "iris.FUTURE.cell_datetime_objects = True"
   ]
  },
  {
   "cell_type": "code",
   "execution_count": null,
   "metadata": {
    "collapsed": false,
    "deletable": true,
    "editable": true,
    "hideCode": false,
    "hidePrompt": false
   },
   "outputs": [],
   "source": [
    "from geo import domain_bounds\n",
    "sta = sta.loc[domain_bounds('../../data/WRF/3d/geo_em.d03.nc', sta[['lon', 'lat']].values)]"
   ]
  },
  {
   "cell_type": "code",
   "execution_count": null,
   "metadata": {
    "collapsed": false,
    "deletable": true,
    "editable": true,
    "hideCode": false,
    "hidePrompt": false
   },
   "outputs": [],
   "source": [
    "def adco(cube):\n",
    "    ccat.add_day_of_year(cube, 'time', 'day')\n",
    "    ccat.add_year(cube, 'time', 'year')\n",
    "    ccat.add_hour(cube, 'time', 'hour')\n",
    "    return cube\n",
    "def xtr(cube, h):\n",
    "    x = cube.copy().extract(iris.Constraint(hour = h))\n",
    "    x.remove_coord('hour')\n",
    "    return x\n",
    "def split(x, a):\n",
    "    crt = (lambda t: t > datetime(2016, 4, 24)) if a else (lambda t: t < datetime(2016, 4, 25))\n",
    "    return x.extract(iris.Constraint(time = crt))\n",
    "def mean(x):\n",
    "    with catch_warnings():\n",
    "        simplefilter('ignore')\n",
    "        return x.collapsed('time', iris.analysis.MEAN)\n",
    "def delay(cube, dt):\n",
    "    x = cube.copy()\n",
    "    t = x.coord(axis='t')\n",
    "    d = x.coord_dims(t.name())[0]\n",
    "    n = t.units.num2date(t.points) + dt\n",
    "    x.remove_coord(t.name())\n",
    "    x.add_dim_coord(\n",
    "        iris.coords.DimCoord(t.units.date2num(n), \n",
    "                             units=t.units, \n",
    "                             **{s: getattr(t, s) for s in ['standard_name', 'long_name', 'var_name']}), \n",
    "        d)\n",
    "    return x"
   ]
  },
  {
   "cell_type": "code",
   "execution_count": null,
   "metadata": {
    "collapsed": false,
    "deletable": true,
    "editable": true,
    "hideCode": false,
    "hidePrompt": false
   },
   "outputs": [],
   "source": [
    "with catch_warnings():\n",
    "    simplefilter('ignore')\n",
    "    c6 = adco(iris.load('../../data/fnl/ppt/gdas1.fnl0p25.f06.nc', 'Total precipitation')[0])\n",
    "    c9 = adco(iris.load('../../data/fnl/ppt/gdas1.fnl0p25.f09.nc', 'Total precipitation')[0])\n",
    "    c0 = (xtr(c6, 0) + xtr(c9, 0))\n",
    "    c1 = (xtr(c6, 12) + xtr(c9, 12))\n",
    "c = c0 + delay(c1, timedelta(hours=-12)) # shift the f09 files back to 0h initial time so iris will add them"
   ]
  },
  {
   "cell_type": "code",
   "execution_count": null,
   "metadata": {
    "collapsed": false,
    "deletable": true,
    "editable": true,
    "hideCode": false,
    "hidePrompt": false
   },
   "outputs": [],
   "source": [
    "def iplot(x, grid, vmin=None, vmax=None, cbar=True, title=None):\n",
    "    plt.subplot(grid)\n",
    "    with catch_warnings():\n",
    "        simplefilter('ignore')\n",
    "        p = iplt.pcolormesh(x, vmin=vmin, vmax=vmax)\n",
    "    p.axes.set_extent((-72.2, -69.8, -32.5, -28.2))\n",
    "    p.axes.add_geometries(coast.geometries(), crs.PlateCarree(), facecolor='none', edgecolor='k')\n",
    "    p.axes.add_geometries(rivers.geometries(), crs.PlateCarree(), facecolor='none', edgecolor='b')\n",
    "    p.axes.add_geometries(border.geometries(), crs.PlateCarree(), facecolor='none', edgecolor='g', linewidth=.5)\n",
    "    if title is not None:\n",
    "        p.axes.set_title(title)\n",
    "    if cbar:\n",
    "        plt.colorbar(p, ax=p.axes)\n",
    "    return p"
   ]
  },
  {
   "cell_type": "code",
   "execution_count": null,
   "metadata": {
    "collapsed": false,
    "deletable": true,
    "editable": true,
    "hideCode": false,
    "hidePrompt": false
   },
   "outputs": [],
   "source": [
    "ma = 1\n",
    "w = 6\n",
    "plt.figure(figsize=(6, 6))\n",
    "grid = gs.GridSpec(2, 3*w+1)\n",
    "plt.set_cmap('gnuplot')\n",
    "iplot(mean(split(c/2, 0)), grid[0, :w], 0, ma, False, 'before / after')\n",
    "iplot(mean(split(c/2, 1)), grid[1, :w], 0, ma, False)\n",
    "iplot(mean(c0), grid[0, w:2*w], 0, ma, False, '0h / 12h')\n",
    "iplot(mean(c1), grid[1, w:2*w], 0, ma, False)\n",
    "iplot(mean(split(c0, 0)), grid[0, 2*w:3*w], 0, ma, False, 'both')\n",
    "p = iplot(mean(split(c1, 1)), grid[1, 2*w:3*w], 0, ma, False)\n",
    "plt.colorbar(p, cax=plt.subplot(grid[:2, -1]))"
   ]
  },
  {
   "cell_type": "code",
   "execution_count": null,
   "metadata": {
    "collapsed": false,
    "deletable": true,
    "editable": true,
    "hideCode": false,
    "hidePrompt": false
   },
   "outputs": [],
   "source": [
    "def pint(x, datetime='D'):\n",
    "    i = np.arange(len(sta))\n",
    "    tc = x.coord(axis='t')\n",
    "    t = tc.units.num2date(tc.points).astype('datetime64[{}]'.format(datetime))\n",
    "    y = x.interpolate([('longitude', sta['lon']), ('latitude', sta['lat'])], \n",
    "                      iris.analysis.Linear(extrapolation_mode='mask'))\n",
    "    return xr.DataArray(y.data[:, i, i], coords=[('date', t), ('points', i)])"
   ]
  },
  {
   "cell_type": "code",
   "execution_count": null,
   "metadata": {
    "collapsed": false,
    "deletable": true,
    "editable": true,
    "hideCode": false,
    "hidePrompt": false
   },
   "outputs": [],
   "source": [
    "def point_loss(obs, mod):\n",
    "    o = xr.DataArray(obs.groupby(obs.index.date).sum())\n",
    "    o.coords['points'] = ('dim_1', np.arange(len(o.dim_1)))\n",
    "    o = o.swap_dims({'dim_1': 'points'}).rename({'dim_0': 'date'}).drop('dim_1')\n",
    "    i = pd.DatetimeIndex(mod.date.values).intersection(pd.DatetimeIndex(o.date.values))\n",
    "    return xr.concat((o.sel(date=i), mod.sel(date=i)), 'type').diff('type').squeeze()"
   ]
  },
  {
   "cell_type": "code",
   "execution_count": null,
   "metadata": {
    "collapsed": false,
    "deletable": true,
    "editable": true,
    "hideCode": false,
    "hidePrompt": false
   },
   "outputs": [],
   "source": [
    "proj = crs.PlateCarree()\n",
    "def mplot(v, grid, vmin=None, vmax=None, cbar=True, title=None):\n",
    "    ax = plt.subplot(grid, projection=proj)\n",
    "    i, j = sta[['lon', 'lat']].astype(float).values.T\n",
    "    vc = v.count('date')\n",
    "    x, y = v.mean('date'), vc / vc.max() * 50\n",
    "    p = ax.scatter(i, j, c=x.values, s=y.values, vmin=vmin, vmax=vmax)\n",
    "    ax.add_geometries(coast.geometries(), crs=proj, facecolor='none', edgecolor='k')\n",
    "    ax.add_geometries(rivers.geometries(), crs=proj, facecolor='none', edgecolor='b')\n",
    "    ax.add_geometries(border.geometries(), crs=proj, facecolor='none', edgecolor='g', linewidth=.5)\n",
    "    ax.set_extent((-72.2, -69.8, -32.5, -28.2), crs=proj)\n",
    "    if title is not None:\n",
    "        ax.set_title(title)\n",
    "    if cbar:\n",
    "        plt.colorbar(p, ax=ax)\n",
    "    return p"
   ]
  },
  {
   "cell_type": "code",
   "execution_count": null,
   "metadata": {
    "collapsed": false,
    "deletable": true,
    "editable": true,
    "hideCode": false,
    "hidePrompt": false
   },
   "outputs": [],
   "source": [
    "s = R[sta.index].copy()\n",
    "s.index += np.timedelta64(4, 'h')\n",
    "s0 = s[(s.index.hour > 0) & (s.index.hour < 10)]\n",
    "s1 = s[(s.index.hour > 12) & (s.index.hour < 22)]"
   ]
  },
  {
   "cell_type": "code",
   "execution_count": null,
   "metadata": {
    "collapsed": false,
    "deletable": true,
    "editable": true,
    "hideCode": false,
    "hidePrompt": false
   },
   "outputs": [],
   "source": [
    "from matplotlib.figure import SubplotParams\n",
    "ma = .8\n",
    "w = 6\n",
    "proj = crs.PlateCarree()\n",
    "fig = plt.figure(figsize=(9,4), subplotpars=SubplotParams(left=0.04, right=0.9, wspace=0.1))\n",
    "plt.set_cmap('coolwarm')\n",
    "grid = gs.GridSpec(1, 4*w+1)\n",
    "mplot(point_loss(s0, pint(c0)), grid[0, :w], -ma, ma, False, '0h')\n",
    "mplot(point_loss(s1, pint(c1)), grid[0, w:2*w], -ma, ma, False, '12h')\n",
    "mplot(point_loss(s0, pint(split(c0, 0))), grid[0, 2*w:3*w], -ma, ma, False, '0h before')\n",
    "p = mplot(point_loss(s1, pint(split(c1, 1))), grid[0, 3*w:4*w], -ma, ma, False, '12h after')\n",
    "plt.colorbar(p, cax=plt.subplot(grid[0, -1]))"
   ]
  },
  {
   "cell_type": "markdown",
   "metadata": {
    "deletable": true,
    "editable": true,
    "hideCode": false,
    "hidePrompt": false
   },
   "source": [
    "[GFS uses the (2 class: rain and snow) Kessler microphysics scheme](http://www.dtcenter.org/GMTB/gfs_phys_doc/group__precip.html) (in WRF: mp_physics = 1) <cite data-cite=\"2031184/HX6KUHZA\"></cite> with simplified computation of precipitation <cite data-cite=\"2031184/6VR7B9X8\"></cite>.\n",
    "\n",
    "Our WRF setup uses the WRF single moment 3-class scheme (WSM3, mp_physics = 3) <cite data-cite=\"2031184/ETWZMQAE\"></cite>."
   ]
  },
  {
   "cell_type": "code",
   "execution_count": null,
   "metadata": {
    "collapsed": false,
    "deletable": true,
    "editable": true,
    "hideCode": false,
    "hidePrompt": false
   },
   "outputs": [],
   "source": [
    "# if I only shift by three hours, the groupby action will appropriately apportion the 0:00h time to the previous day \n",
    "# (since it represents the accumulation between 23:00h and 0:00h).\n",
    "q = R[sta.index].copy()\n",
    "q.index += np.timedelta64(3, 'h')\n",
    "s = q.groupby((q.index.date, q.index.hour // 6)).sum() # 6-h sums\n",
    "s.index = [np.datetime64(d) + np.timedelta64(6*h, 'h') for d, h in s.index]\n",
    "s.columns = np.arange(s.shape[1])\n",
    "i = s.index.intersection(pd.DatetimeIndex(ci.date.values))\n",
    "s = xr.DataArray(s, dims=['date', 'points'])"
   ]
  },
  {
   "cell_type": "code",
   "execution_count": null,
   "metadata": {
    "collapsed": false,
    "deletable": true,
    "editable": true,
    "hideCode": false,
    "hidePrompt": false
   },
   "outputs": [],
   "source": [
    "l = xr.concat((s, pint(c6, 'h')), pd.Index(['obs', 'mod'], name='type'))\n",
    "lm = l.mean('points').groupby('type').apply(lambda g:g.groupby('date.date').sum())"
   ]
  },
  {
   "cell_type": "code",
   "execution_count": null,
   "metadata": {
    "collapsed": false,
    "deletable": true,
    "editable": true,
    "hideCode": false,
    "hidePrompt": false
   },
   "outputs": [],
   "source": [
    "plt.figure(figsize=(9,5))\n",
    "ab = lambda x: (lambda y: (y.date, y)) (x[x>0.1])\n",
    "p = plt.plot(lm.date, lm.sel(type=['obs', 'mod']).T)\n",
    "plt.plot(*ab(lm.sel(type='obs')), marker='x', ls='none', color=p[0].get_color())\n",
    "plt.plot(*ab(lm.sel(type='mod')), marker='x', ls='none', color=p[1].get_color())\n",
    "plt.legend(p, ['obs', 'GFS'])"
   ]
  },
  {
   "cell_type": "code",
   "execution_count": null,
   "metadata": {
    "collapsed": false,
    "deletable": true,
    "editable": true,
    "hideCode": false,
    "hidePrompt": false
   },
   "outputs": [],
   "source": [
    "s.mean()*4"
   ]
  },
  {
   "cell_type": "code",
   "execution_count": null,
   "metadata": {
    "collapsed": false,
    "deletable": true,
    "editable": true,
    "hideCode": false,
    "hidePrompt": false
   },
   "outputs": [],
   "source": [
    "era = adco(iris.load('../../data/analyses/ERA-ppt.nc', iris.Constraint(time=lambda t: t > datetime(2004,1,30)))[0])\n",
    "e = pint(era, 'h')\n",
    "e['date'] = e.date - np.timedelta64(1, 'h') # so that 0:00h accumulation is counted toward previous day\n",
    "e = e.groupby('points').apply(lambda g:g.groupby('date.date').sum()) * 1000"
   ]
  },
  {
   "cell_type": "code",
   "execution_count": null,
   "metadata": {
    "collapsed": false,
    "deletable": true,
    "editable": true,
    "hideCode": false,
    "hidePrompt": false
   },
   "outputs": [],
   "source": [
    "q = r[sta.index].copy()\n",
    "q.index += np.timedelta64(3, 'h') # to include 0:00h accumulation in previous day!\n",
    "s = q.groupby(q.index.date).sum() # daily sums\n",
    "s = xr.DataArray(s, coords=[('date', s.index.astype('datetime64')), ('points', np.arange(s.shape[1]))])\n",
    "l = xr.concat((s, e), pd.Index(['obs', 'mod'], name='type'))\n",
    "lm = l['era'].mean('points').sel(date=slice('2004-01-31', None))"
   ]
  },
  {
   "cell_type": "code",
   "execution_count": null,
   "metadata": {
    "collapsed": false,
    "deletable": true,
    "editable": true,
    "hideCode": false,
    "hidePrompt": false
   },
   "outputs": [],
   "source": [
    "plt.figure(figsize=(9,5))\n",
    "ab = lambda x: (lambda y: (y.date, y)) (x[x>0.1])\n",
    "p = plt.plot(lm.date, lm.sel(type=['obs', 'mod']).T)\n",
    "plt.plot(*ab(lm.sel(type='obs')), marker='x', ls='none', color=p[0].get_color())\n",
    "plt.plot(*ab(lm.sel(type='mod')), marker='x', ls='none', color=p[1].get_color())\n",
    "plt.legend(p, ['obs', 'ERA'])"
   ]
  },
  {
   "cell_type": "code",
   "execution_count": null,
   "metadata": {
    "collapsed": false,
    "hideCode": false,
    "hidePrompt": false
   },
   "outputs": [],
   "source": [
    "with xr.open_dataset('../../data/WRF/3d/RAINNC_5.nc') as d5:\n",
    "    x5 = ps(d5['RAINNC'].isel(Time=24)).load()\n",
    "    x5['date'] = ('start', np.array(pd.DatetimeIndex(x5.XTIME.values).date, dtype='datetime64'))\n",
    "    x5 = x5.swap_dims({'start': 'date'}).drop(['Time', 'XLAT', 'XLONG', 'XTIME', 'start'])"
   ]
  },
  {
   "cell_type": "code",
   "execution_count": null,
   "metadata": {
    "collapsed": false,
    "deletable": true,
    "editable": true,
    "hideCode": false,
    "hidePrompt": false
   },
   "outputs": [],
   "source": [
    "c = pint(c6, 'h').groupby('points').apply(lambda g:g.groupby('date.date').sum()) # times are initial times here"
   ]
  },
  {
   "cell_type": "code",
   "execution_count": null,
   "metadata": {
    "collapsed": false,
    "hideCode": false,
    "hidePrompt": false
   },
   "outputs": [],
   "source": [
    "g = xr.concat((s, c, e, x5), pd.Index(['obs', 'gfs', 'era', 'x5'], name='source')).sel(date=slice('2015-07-08', None))"
   ]
  },
  {
   "cell_type": "code",
   "execution_count": null,
   "metadata": {
    "collapsed": false,
    "deletable": true,
    "editable": true,
    "hideCode": false,
    "hidePrompt": false
   },
   "outputs": [],
   "source": [
    "ma = 1.5\n",
    "w = 8\n",
    "plt.figure(figsize=(9, 5))\n",
    "plt.set_cmap('coolwarm')\n",
    "grid = gs.GridSpec(1, 3*w+1)\n",
    "mplot(g.sel(source=['obs', 'gfs']).diff('source').squeeze(), grid[0, :w], -ma, ma, False, 'GFS')\n",
    "mplot(g.sel(source=['obs', 'era']).diff('source').squeeze(), grid[0, w:2*w], -ma, ma, False, 'ERA')\n",
    "p = mplot(g.sel(source=['obs', 'x5']).diff('source').squeeze(), grid[0, 2*w:3*w], -ma, ma, False, 'WRF 0h')\n",
    "plt.colorbar(p, cax=plt.subplot(grid[0,-1]))"
   ]
  },
  {
   "cell_type": "code",
   "execution_count": null,
   "metadata": {
    "collapsed": false,
    "deletable": true,
    "editable": true,
    "hideCode": false,
    "hidePrompt": false
   },
   "outputs": [],
   "source": [
    "np.abs(l.mean('points')).groupby('date.hour').mean()"
   ]
  },
  {
   "cell_type": "code",
   "execution_count": null,
   "metadata": {
    "collapsed": false,
    "deletable": true,
    "editable": true,
    "hideCode": false,
    "hidePrompt": false
   },
   "outputs": [],
   "source": [
    "np.abs(lm.diff('type').squeeze()).mean()"
   ]
  },
  {
   "cell_type": "code",
   "execution_count": null,
   "metadata": {
    "collapsed": false,
    "deletable": true,
    "editable": true,
    "hideCode": false,
    "hidePrompt": false
   },
   "outputs": [],
   "source": [
    "np.abs(l.mean('points').groupby('date.date').sum()).mean()"
   ]
  },
  {
   "cell_type": "code",
   "execution_count": null,
   "metadata": {
    "collapsed": false,
    "deletable": true,
    "editable": true,
    "hideCode": false,
    "hidePrompt": false
   },
   "outputs": [],
   "source": [
    "np.abs(l.groupby('date.date').mean()*4).mean()"
   ]
  },
  {
   "cell_type": "code",
   "execution_count": null,
   "metadata": {
    "collapsed": false,
    "hideCode": false,
    "hidePrompt": false
   },
   "outputs": [],
   "source": [
    "np.abs(g.sel(source=['gfs', 'era', 'x5']).mean('points') - g.sel(source='obs').mean('points')).mean('date')"
   ]
  },
  {
   "cell_type": "code",
   "execution_count": null,
   "metadata": {
    "collapsed": false,
    "hideCode": false,
    "hidePrompt": false
   },
   "outputs": [],
   "source": [
    "np.abs((g.sel(source=['gfs', 'era', 'x5']) - g.sel(source='obs')).mean('points')).mean('date')"
   ]
  },
  {
   "cell_type": "code",
   "execution_count": null,
   "metadata": {
    "collapsed": false,
    "hideCode": false,
    "hidePrompt": false
   },
   "outputs": [],
   "source": [
    "(g.sel(source=['gfs', 'era', 'x5']) - g.sel(source='obs')).mean('date')"
   ]
  },
  {
   "cell_type": "code",
   "execution_count": null,
   "metadata": {
    "collapsed": false,
    "hideCode": false,
    "hidePrompt": false
   },
   "outputs": [],
   "source": [
    "def offset(r, dt):\n",
    "    q = r[sta.index].copy()\n",
    "    q.index += pd.Timedelta(dt)\n",
    "    s = q.resample('D').mean()*24\n",
    "    return xr.DataArray(s, coords=[('date', s.index), ('points', np.arange(s.shape[1]))])\n",
    "res = [\n",
    "    np.abs((x5 - offset(r, '4h')).mean('points')).mean('date'),\n",
    "    np.abs((x5 - offset(r, '3h')).mean('points')).mean('date'),\n",
    "    np.abs(offset(r, '4h').mean('points') - x5.mean('points')).mean('date'),\n",
    "    np.abs(offset(r, '3h').mean('points') - x5.mean('points')).mean('date')\n",
    "]\n",
    "pd.DataFrame(res, index=['4h mean of diff', '3h mean of diff', '4h diff of mean','3h diff of mean'])"
   ]
  },
  {
   "cell_type": "code",
   "execution_count": null,
   "metadata": {
    "collapsed": false,
    "hideCode": false,
    "hidePrompt": false
   },
   "outputs": [],
   "source": []
  }
 ],
 "metadata": {
  "cite2c": {
   "citations": {
    "2031184/6VR7B9X8": {
     "URL": "http://journals.ametsoc.org/doi/abs/10.1175/1520-0493(1997)125%3C1931%3AAPCSFO%3E2.0.CO%3B2",
     "accessed": {
      "day": "4",
      "month": "8",
      "year": "2017"
     },
     "author": [
      {
       "family": "Zhao",
       "given": "Qingyun"
      },
      {
       "family": "Carr",
       "given": "Frederick H."
      }
     ],
     "container-title": "Monthly Weather Review",
     "id": "2031184/6VR7B9X8",
     "issue": "8",
     "issued": {
      "year": "1997"
     },
     "page": "1931–1953",
     "page-first": "1931",
     "title": "A prognostic cloud scheme for operational NWP models",
     "type": "article-journal",
     "volume": "125"
    },
    "2031184/ETWZMQAE": {
     "URL": "http://journals.ametsoc.org/doi/abs/10.1175/1520-0493(2004)132%3C0103:ARATIM%3E2.0.CO;2",
     "accessed": {
      "day": "7",
      "month": "12",
      "year": "2016"
     },
     "author": [
      {
       "family": "Hong",
       "given": "Song-You"
      },
      {
       "family": "Dudhia",
       "given": "Jimy"
      },
      {
       "family": "Chen",
       "given": "Shu-Hua"
      }
     ],
     "container-title": "Monthly Weather Review",
     "id": "2031184/ETWZMQAE",
     "issue": "1",
     "issued": {
      "year": "2004"
     },
     "page": "103–120",
     "page-first": "103",
     "title": "A revised approach to ice microphysical processes for the bulk parameterization of clouds and precipitation",
     "type": "article-journal",
     "volume": "132"
    },
    "2031184/HX6KUHZA": {
     "ISBN": "978-1-935704-36-2",
     "URL": "https://doi.org/10.1007/978-1-935704-36-2_1",
     "abstract": "The conservation and distribution of water substance in atmospheric circulations is considered within a frame of continuity principles, model air flows, and models of microphysical processes. The simplest considerations of precipitation involve its vertical distribution in an updraft column, where condensate appears immediately as precipitation with uniform terminal fallspeed. The study also treats steady two-dimensional air circulations in which time-dependent distributions of water vapor, cloud and precipitation respond to model microphysical processes.",
     "author": [
      {
       "family": "Kessler",
       "given": "Edwin"
      }
     ],
     "container-title": "On the Distribution and Continuity of Water Substance in Atmospheric Circulations",
     "event-place": "Boston, MA",
     "id": "2031184/HX6KUHZA",
     "issued": {
      "year": "1969"
     },
     "note": "DOI: 10.1007/978-1-935704-36-2_1",
     "page": "1–84",
     "page-first": "1",
     "publisher": "American Meteorological Society",
     "publisher-place": "Boston, MA",
     "title": "On the Distribution and Continuity of Water Substance in Atmospheric Circulations",
     "type": "chapter"
    }
   }
  },
  "hide_code_all_hidden": false,
  "kernelspec": {
   "display_name": "Python 3",
   "language": "python",
   "name": "python3"
  },
  "language_info": {
   "codemirror_mode": {
    "name": "ipython",
    "version": 3
   },
   "file_extension": ".py",
   "mimetype": "text/x-python",
   "name": "python",
   "nbconvert_exporter": "python",
   "pygments_lexer": "ipython3",
   "version": "3.6.0"
  }
 },
 "nbformat": 4,
 "nbformat_minor": 2
}
