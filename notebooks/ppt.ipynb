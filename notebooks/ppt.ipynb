{
 "cells": [
  {
   "cell_type": "code",
   "execution_count": null,
   "metadata": {
    "collapsed": false,
    "deletable": true,
    "editable": true
   },
   "outputs": [],
   "source": [
    "import sys\n",
    "sys.path.append('../python')\n",
    "import numpy as np\n",
    "import pandas as pd\n",
    "import xarray as xr\n",
    "from data import Data\n",
    "from geo import cells\n",
    "from mapping import matts\n",
    "import matplotlib.pyplot as plt\n",
    "%matplotlib nbagg"
   ]
  },
  {
   "cell_type": "code",
   "execution_count": null,
   "metadata": {
    "collapsed": false,
    "deletable": true,
    "editable": true
   },
   "outputs": [],
   "source": [
    "D = Data('../python/data.cfg')\n",
    "D.open('d','station_data.h5')\n",
    "r = D.d['pp_mm'].xs('prom', 1, 'aggr')\n",
    "sta = D.sta.loc[r.columns.get_level_values('station')]"
   ]
  },
  {
   "cell_type": "code",
   "execution_count": null,
   "metadata": {
    "collapsed": false,
    "deletable": true,
    "editable": true
   },
   "outputs": [],
   "source": [
    "with xr.open_dataset('../../data/WRF/3d/geo_em.d03.nc') as d3:\n",
    "    lm = d3['LANDMASK'].squeeze().load()\n",
    "    clon, clat = d3['XLONG_C'].squeeze().load(), d3['XLAT_C'].squeeze().load()\n",
    "    lon, lat = d3['XLONG_M'].squeeze().load(), d3['XLAT_M'].squeeze().load()\n",
    "    dom3 = matts(d3)\n",
    "\n",
    "i, j, k = cells(clon, clat, *sta[['lon', 'lat']].astype(float).values.T)\n",
    "sta = sta.drop(sta.index[k])\n",
    "r = r[sta.index]\n",
    "\n",
    "def pm(x):\n",
    "    return x.sel_points(south_north=i, west_east=j).mean('points')"
   ]
  },
  {
   "cell_type": "code",
   "execution_count": null,
   "metadata": {
    "collapsed": false,
    "deletable": true,
    "editable": true
   },
   "outputs": [],
   "source": [
    "# d5 = xr.open_dataset('../../data/WRF/3d/RAINNC_5.nc')\n",
    "d5 = xr.open_dataset('../python/RAINNC_5.nc')\n",
    "x = d5['RAINNC'].isel(Time = np.arange(24, 121, 24))\n",
    "x5 = xr.concat((x.isel(Time = 0), x.diff('Time')), 'Time')\n",
    "a5 = d5['RAINNC'].diff('Time')\n",
    "\n",
    "# d6 = xr.open_dataset('../../data/WRF/3d/RAINNC_6.nc')\n",
    "d6 = xr.open_dataset('../python/RAINNC_6.nc')\n",
    "x = d6['RAINNC'].sel(start=slice(None, '2017-07-21'))\n",
    "x6 = x.isel(Time = np.arange(24, 145, 24))\n",
    "x6 = xr.concat((x6.isel(Time = 0), x6.diff('Time')), 'Time')\n",
    "a6 = x.diff('Time')"
   ]
  },
  {
   "cell_type": "code",
   "execution_count": null,
   "metadata": {
    "collapsed": false
   },
   "outputs": [],
   "source": [
    "from scipy import interpolate as ip\n",
    "from mapping import affine\n",
    "\n",
    "def interp2Dn(lon, lat, x, sta, coords=['XTIME']):\n",
    "    g = affine(lon.values, lat.values)\n",
    "    xy = (np.arange(lon.shape[0]), np.arange(lon.shape[1]))\n",
    "    order = x.dims.index('south_north') < x.dims.index('west_east')\n",
    "    co = np.roll(g(sta[['lon', 'lat']].astype(float).values.T).T, int(order), 1)\n",
    "    d = list(set(x.dims) - {'south_north', 'west_east'})\n",
    "    y = xr.concat([\n",
    "        xr.concat([\n",
    "            xr.DataArray(\n",
    "                ip.interpn(xy, x.loc[{d[0]:a, d[1]:b}].values, co, 'linear'),\n",
    "                coords=[('stations', sta.index)]\n",
    "            ) for b in x[d[1]]], \n",
    "            pd.Index(x[d[1]], name = d[1])\n",
    "        ) for a in x[d[0]]],\n",
    "        pd.Index(x[d[0]], name = d[0])\n",
    "    )\n",
    "    for c in coords:\n",
    "        y[c] = x[c]\n",
    "    return y"
   ]
  },
  {
   "cell_type": "code",
   "execution_count": null,
   "metadata": {
    "collapsed": false,
    "deletable": true,
    "editable": true
   },
   "outputs": [],
   "source": [
    "def offset_daily(x, delta='-8h'):\n",
    "    \"\"\"\n",
    "    Resample hourly observations to daily, matching WRF simulation days (which start at 8:00h local time / previously 20:00h). The default -8h offset means the timestamp on the resampled series refers to the beginning of a 24h period starting at 8:00.\n",
    "    \"\"\"\n",
    "    y = x.copy()\n",
    "    y.index += pd.Timedelta(delta)\n",
    "    return y.resample('D').mean() * 24\n",
    "\n",
    "def loss(obs, mod, offset='MS'):\n",
    "    o = obs.resample(offset).mean().mean(1).dropna()\n",
    "    o.name = 'obs'\n",
    "    def lead(n):\n",
    "        m = mod.isel(Time=n)\n",
    "        m['start'] = m.start + pd.Timedelta(n, 'd')\n",
    "        return m.resample(offset, 'start', how='mean').to_series()\n",
    "    r = np.arange(len(mod.Time))\n",
    "    return pd.concat([lead(n) for n in r], 1, keys=r).dropna(0, 'all').join(o, how='inner')"
   ]
  },
  {
   "cell_type": "code",
   "execution_count": null,
   "metadata": {
    "collapsed": false
   },
   "outputs": [],
   "source": [
    "def hourly(mod, obs):\n",
    "    o = obs.copy()\n",
    "    o.name = 'obs'\n",
    "    def lead(y, n):\n",
    "        x = y.isel(Time=slice(n*24, (n+1)*24)).stack(t=('start', 'Time'))\n",
    "        return pd.DataFrame(x.values, index=x.XTIME, columns=[n]).dropna()\n",
    "    return pd.concat([lead(mod, n) for n in range(len(mod.Time)//24)], 1).join(o, how='inner')"
   ]
  },
  {
   "cell_type": "code",
   "execution_count": null,
   "metadata": {
    "collapsed": false,
    "deletable": true,
    "editable": true,
    "scrolled": false
   },
   "outputs": [],
   "source": [
    "rs = r.mean(1).dropna()\n",
    "m5 = pm(x5)\n",
    "m6 = pm(x6)\n",
    "lm = [loss(offset_daily(r, o), k) for o, k in [('-20h', m5), ('-8h', m6)]]\n",
    "ld = [loss(offset_daily(r, o), k, 'D') for o, k in [('-20h', m5), ('-8h', m6)]]\n",
    "lh = [hourly(a, rs) * 24 for a in [pm(a5), pm(a6)]]"
   ]
  },
  {
   "cell_type": "code",
   "execution_count": null,
   "metadata": {
    "collapsed": false
   },
   "outputs": [],
   "source": [
    "plt.figure(figsize=(9,5))\n",
    "p = plt.plot(pd.concat([l[['obs', 0]] for l in ld]).sort_index())\n",
    "plt.legend(p, ['obs', 'WRF'])"
   ]
  },
  {
   "cell_type": "code",
   "execution_count": null,
   "metadata": {
    "collapsed": false
   },
   "outputs": [],
   "source": [
    "def mae(x):\n",
    "    if isinstance(x, pd.DataFrame):\n",
    "        return x.drop('obs', 1).add(-x['obs'], 0).abs().mean()\n",
    "    else:\n",
    "        return np.abs(x.mean('points').diff('type')).mean('time').values.flatten()"
   ]
  },
  {
   "cell_type": "code",
   "execution_count": null,
   "metadata": {
    "collapsed": false
   },
   "outputs": [],
   "source": [
    "fig, ax = plt.subplots(figsize=(9, 6))\n",
    "ps = []\n",
    "for k, l in enumerate([lm[0], ld[0], lh[0], lm[1], ld[1], lh[1]]):\n",
    "    ps.append(plt.bar(np.arange(l.shape[1] - 1) * 7 + k, mae(l)))\n",
    "ax.set_xticks(np.arange(6) * 7 + 1.5)\n",
    "ax.set_xticklabels(np.arange(1, 7))\n",
    "ax.set_xlabel('lead day')\n",
    "plt.legend(ps, ['monthly 0h', 'daily 0h', 'hourly 0h', 'monthly 12h', 'daily 12h', 'hourly 12h'], loc='upper left')"
   ]
  },
  {
   "cell_type": "code",
   "execution_count": null,
   "metadata": {
    "collapsed": false
   },
   "outputs": [],
   "source": [
    "p5 = x5.isel_points(south_north=i, west_east=j)\n",
    "p6 = x6.isel_points(south_north=i, west_east=j)\n",
    "lm = [point_loss(offset_daily(r, o), k, 'MS') for o, k in [('4h', p5), ('16h', p6)]]\n",
    "ld = [point_loss(offset_daily(r, o), k) for o, k in [('4h', p5), ('16h', p6)]]"
   ]
  },
  {
   "cell_type": "code",
   "execution_count": null,
   "metadata": {
    "collapsed": false
   },
   "outputs": [],
   "source": [
    "fig, ax = plt.subplots(figsize=(9, 6))\n",
    "ps = []\n",
    "for k, l in enumerate([lm[0], ld[0], lh[0], lm[1], ld[1], lh[1]]):\n",
    "    e = mae(l)\n",
    "    ps.append(plt.bar(np.arange(len(e)) * 7 + k, e))\n",
    "ax.set_xticks(np.arange(6) * 7 + 1.5)\n",
    "ax.set_xticklabels(np.arange(1, 7))\n",
    "ax.set_xlabel('lead day')\n",
    "plt.legend(ps, ['monthly 0h', 'daily 0h', 'hourly 0h', 'monthly 12h', 'daily 12h', 'hourly 12h'], loc='upper left')"
   ]
  },
  {
   "cell_type": "code",
   "execution_count": null,
   "metadata": {
    "collapsed": false
   },
   "outputs": [],
   "source": [
    "id5 = interp2Dn(lon, lat, x5, sta).mean('stations')\n",
    "id6 = interp2Dn(lon, lat, x6, sta).mean('stations')\n",
    "ih5 = interp2Dn(lon, lat, d5['RAINNC'], sta).mean('stations').diff('Time')\n",
    "ih6 = interp2Dn(lon, lat, d6['RAINNC'].sel(start=slice(None, '2017-07-21')), sta).mean('stations').diff('Time')"
   ]
  },
  {
   "cell_type": "code",
   "execution_count": null,
   "metadata": {
    "collapsed": false
   },
   "outputs": [],
   "source": [
    "lid = [loss(offset_daily(r, o), k, 'D') for o, k in [('-20h', id5), ('-8h', id6)]]\n",
    "lih = [hourly(a, rs) * 24 for a in [ih5, ih6]]"
   ]
  },
  {
   "cell_type": "code",
   "execution_count": null,
   "metadata": {
    "collapsed": false
   },
   "outputs": [],
   "source": [
    "fig, ax = plt.subplots(figsize=(9, 6))\n",
    "bars = [ld[0], lid[0], lh[0], lih[0], ld[1], lid[1], lh[1], lih[1]]\n",
    "ps = []\n",
    "for k, l in enumerate(bars):\n",
    "    ps.append(plt.bar(np.arange(l.shape[1] - 1) * (len(bars) + 1) + k, mae(l)))\n",
    "ax.set_xticks(np.arange(6) * (len(bars) + 1) + 1.5)\n",
    "ax.set_xticklabels(np.arange(1, 7))\n",
    "ax.set_xlabel('lead day')\n",
    "plt.legend(ps, ['daily 0h', 'daily interp. 0h', 'hourly 0h', 'hourly interp. 0h',\n",
    "               'daily 12h', 'daily interp. 12h', 'hourly 12h', 'hourly interp. 12h'], loc='lower right')"
   ]
  },
  {
   "cell_type": "code",
   "execution_count": null,
   "metadata": {
    "collapsed": false
   },
   "outputs": [],
   "source": [
    "# NOTE: the timestap on model data now refers to the *end* of a period - adjust offset_daily accordingly\n",
    "def point_loss(obs, mod, sample='D'):\n",
    "    def lead(x, n):\n",
    "        y = x.isel(Time=n).dropna('start','all')\n",
    "        return xr.DataArray(y.values, coords=[('points', y.points), ('time', y.XTIME)])\n",
    "    m = xr.concat([lead(mod, n) for n in range(len(mod.Time))], 'lead').resample(sample, 'time', how='mean')\n",
    "    o = xr.DataArray(obs.resample(sample).mean())\n",
    "    o.coords['points'] = ('dim_1', np.arange(len(o.dim_1)))\n",
    "    o = o.swap_dims({'dim_1': 'points'}).rename({'ultima_lectura':'time'}).drop('dim_1')\n",
    "    i = pd.DatetimeIndex(m.time.values).intersection(pd.DatetimeIndex(o.time.values))\n",
    "    return xr.concat((o.sel(time=i), m.sel(time=i)), pd.Index(['obs', 'mod'], name='type'))"
   ]
  },
  {
   "cell_type": "code",
   "execution_count": null,
   "metadata": {
    "collapsed": false
   },
   "outputs": [],
   "source": [
    "p5 = point_loss(offset_daily(r,'4h'), x5.isel_points(south_north=i, west_east=j))\n",
    "p6 = point_loss(offset_daily(r,'16h'), x6.isel_points(south_north=i, west_east=j))"
   ]
  },
  {
   "cell_type": "code",
   "execution_count": null,
   "metadata": {
    "collapsed": false
   },
   "outputs": [],
   "source": [
    "from mapping import map_plot"
   ]
  },
  {
   "cell_type": "code",
   "execution_count": null,
   "metadata": {
    "collapsed": false
   },
   "outputs": [],
   "source": [
    "from mpl_toolkits import basemap"
   ]
  },
  {
   "cell_type": "code",
   "execution_count": null,
   "metadata": {
    "collapsed": false
   },
   "outputs": [],
   "source": [
    "Map = basemap.Basemap(projection='lcc', **dom3)"
   ]
  },
  {
   "cell_type": "code",
   "execution_count": null,
   "metadata": {
    "collapsed": false
   },
   "outputs": [],
   "source": [
    "e = np.abs(p5.isel(lead=0).diff('type')).mean('time').squeeze()"
   ]
  },
  {
   "cell_type": "code",
   "execution_count": null,
   "metadata": {
    "collapsed": false
   },
   "outputs": [],
   "source": [
    "plt.figure()\n",
    "x, y = sta[['lon', 'lat']].values.T\n",
    "Map.scatter(x, y, c=e.values, latlon=True)\n",
    "plt.colorbar()"
   ]
  },
  {
   "cell_type": "code",
   "execution_count": null,
   "metadata": {
    "collapsed": false
   },
   "outputs": [],
   "source": [
    "e = np.abs(p6.isel(lead=0).diff('type')).mean('time').squeeze()\n",
    "plt.figure()\n",
    "x, y = sta[['lon', 'lat']].values.T\n",
    "Map.scatter(x, y, c=e.values, latlon=True)\n",
    "plt.colorbar()"
   ]
  },
  {
   "cell_type": "code",
   "execution_count": null,
   "metadata": {
    "collapsed": false
   },
   "outputs": [],
   "source": [
    "f = a5[:,:24, i[20], j[20]].stack(t=('start', 'Time'))\n",
    "g = a6[:,:24, i[20], j[20]].stack(t=('start', 'Time'))"
   ]
  },
  {
   "cell_type": "code",
   "execution_count": null,
   "metadata": {
    "collapsed": false
   },
   "outputs": [],
   "source": [
    "plt.figure()\n",
    "plt.plot(r['LAGHU'])\n",
    "plt.plot(g.XTIME, g.values)\n",
    "plt.plot(f.XTIME, f.values)\n",
    "plt.plot()"
   ]
  },
  {
   "cell_type": "code",
   "execution_count": null,
   "metadata": {
    "collapsed": false
   },
   "outputs": [],
   "source": [
    "r.columns.get_loc('LAGHU')"
   ]
  }
 ],
 "metadata": {
  "kernelspec": {
   "display_name": "Python 3",
   "language": "python",
   "name": "python3"
  },
  "language_info": {
   "codemirror_mode": {
    "name": "ipython",
    "version": 3
   },
   "file_extension": ".py",
   "mimetype": "text/x-python",
   "name": "python",
   "nbconvert_exporter": "python",
   "pygments_lexer": "ipython3",
   "version": "3.6.0"
  }
 },
 "nbformat": 4,
 "nbformat_minor": 2
}
