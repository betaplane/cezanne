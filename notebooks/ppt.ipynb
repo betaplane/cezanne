{
 "cells": [
  {
   "cell_type": "code",
   "execution_count": null,
   "metadata": {
    "collapsed": false,
    "deletable": true,
    "editable": true
   },
   "outputs": [],
   "source": [
    "import sys\n",
    "sys.path.append('../python')\n",
    "import numpy as np\n",
    "import pandas as pd\n",
    "import xarray as xr\n",
    "from data import Data\n",
    "from geo import cells\n",
    "import matplotlib.pyplot as plt\n",
    "%matplotlib nbagg"
   ]
  },
  {
   "cell_type": "code",
   "execution_count": null,
   "metadata": {
    "collapsed": false,
    "deletable": true,
    "editable": true
   },
   "outputs": [],
   "source": [
    "D = Data('../python/data.cfg')\n",
    "D.open('d','station_data.h5')\n",
    "r = D.d['pp_mm'].xs('prom', 1, 'aggr')\n",
    "sta = D.sta.loc[r.columns.get_level_values('station')]"
   ]
  },
  {
   "cell_type": "code",
   "execution_count": null,
   "metadata": {
    "collapsed": false,
    "deletable": true,
    "editable": true
   },
   "outputs": [],
   "source": [
    "with xr.open_dataset('../../data/WRF/3d/geo_em.d03.nc') as d3:\n",
    "    lm = d3['LANDMASK'].squeeze().load()\n",
    "    lon, lat = d3['XLONG_C'].squeeze().load(), d3['XLAT_C'].squeeze().load()\n",
    "\n",
    "i, j, k = cells(lon, lat, *sta[['lon', 'lat']].astype(float).values.T)\n",
    "sta = sta.drop(sta.index[k])"
   ]
  },
  {
   "cell_type": "code",
   "execution_count": null,
   "metadata": {
    "collapsed": false,
    "deletable": true,
    "editable": true
   },
   "outputs": [],
   "source": [
    "d5 = xr.open_dataset('../python/RAINNC_5days.nc')\n",
    "x = d5['RAINNC'].isel(Time = np.arange(24, 121, 24))\n",
    "x5 = xr.concat((x.isel(Time = 0), x.diff('Time')), 'Time')\n",
    "m5 = x5.isel_points(south_north=i, west_east=j).mean('points')\n",
    "\n",
    "d6 = xr.open_dataset('../python/RAINNC_6.nc')\n",
    "x = d6['RAINNC'].isel(Time = np.arange(24, 145, 24))\n",
    "x6 = xr.concat((x.isel(Time = 0), x.diff('Time')), 'Time')\n",
    "m6 = x6.isel_points(south_north=i, west_east=j).mean('points')"
   ]
  },
  {
   "cell_type": "code",
   "execution_count": null,
   "metadata": {
    "collapsed": false
   },
   "outputs": [],
   "source": [
    "sta.shape"
   ]
  },
  {
   "cell_type": "code",
   "execution_count": null,
   "metadata": {
    "collapsed": false
   },
   "outputs": [],
   "source": [
    "m6 = x6.isel_points(south_north=i, west_east=j)"
   ]
  },
  {
   "cell_type": "code",
   "execution_count": null,
   "metadata": {
    "collapsed": false
   },
   "outputs": [],
   "source": [
    "m6"
   ]
  },
  {
   "cell_type": "code",
   "execution_count": null,
   "metadata": {
    "collapsed": false,
    "deletable": true,
    "editable": true
   },
   "outputs": [],
   "source": [
    "def offset_daily(x, delta='-8h'):\n",
    "    \"\"\"\n",
    "    Resample hourly observations to daily, matching WRF simulation days (which start at 8:00h local time / previously 20:00h). The default -8h offset means the timestamp on the resampled series refers to the beginning of a 24h period starting at 8:00.\n",
    "    \"\"\"\n",
    "    y = x.copy()\n",
    "    y.index += pd.Timedelta(delta)\n",
    "    return y.resample('D').mean() * 24\n",
    "\n",
    "def loss(obs, mod, offset='MS'):\n",
    "    o = obs.resample(offset).mean().mean(1).dropna()\n",
    "    o.name = 'obs'\n",
    "    def lead(n):\n",
    "        m = mod.isel(Time=n)\n",
    "        m['start'] = m.start + pd.Timedelta(n, 'd')\n",
    "        return m.resample(offset, 'start', how='mean').to_series()\n",
    "    r = np.arange(len(mod.Time))\n",
    "    return pd.concat([lead(n) for n in r], 1, keys=r).dropna(0, 'all').join(o, how='inner')"
   ]
  },
  {
   "cell_type": "code",
   "execution_count": null,
   "metadata": {
    "collapsed": false
   },
   "outputs": [],
   "source": [
    "d5 = xr.open_dataset('../python/RAINNC_5days.nc')\n",
    "x = d5['RAINNC']\n",
    "a5 = x.diff('Time')\n",
    "a5 = a5.isel_points(south_north=i, west_east=j).mean('points')"
   ]
  },
  {
   "cell_type": "code",
   "execution_count": null,
   "metadata": {
    "collapsed": false
   },
   "outputs": [],
   "source": [
    "d6 = xr.open_dataset('../python/RAINNC_6.nc')\n",
    "x = d6['RAINNC']\n",
    "a6 = x.diff('Time')\n",
    "a6 = a6.isel_points(south_north=i, west_east=j).mean('points')"
   ]
  },
  {
   "cell_type": "code",
   "execution_count": null,
   "metadata": {
    "collapsed": false
   },
   "outputs": [],
   "source": [
    "def hourly(mod, obs):\n",
    "    o = obs.copy()\n",
    "    o.name = 'obs'\n",
    "    def lead(y, n):\n",
    "        x = y[:, n*24:(n+1)*24].stack(t=('start', 'Time'))\n",
    "        return pd.DataFrame(x.values, index=x.XTIME, columns=[n]).dropna()\n",
    "    return pd.concat([lead(mod, n) for n in range(mod.shape[1]//24)], 1).join(o, how='inner')"
   ]
  },
  {
   "cell_type": "code",
   "execution_count": null,
   "metadata": {
    "collapsed": false,
    "deletable": true,
    "editable": true
   },
   "outputs": [],
   "source": [
    "lm = [loss(offset_daily(r, o), k) for o, k in [('4h', m5), ('-8h', m6)]]\n",
    "ld = [loss(offset_daily(r, o), k, 'D') for o, k in [('4h', m5), ('-8h', m6)]]\n",
    "lh = [hourly(a.sel(start=slice(None, '2017-07-21')), r.mean(1).dropna()) * 24 for a in [a5, a6]]"
   ]
  },
  {
   "cell_type": "code",
   "execution_count": null,
   "metadata": {
    "collapsed": false,
    "deletable": true,
    "editable": true
   },
   "outputs": [],
   "source": [
    "plt.figure(figsize=(9,5))\n",
    "p = plt.plot(pd.concat([l[['obs', 0]] for l in ld]).sort_index())\n",
    "plt.legend(p, ['obs', 'WRF'])"
   ]
  },
  {
   "cell_type": "code",
   "execution_count": null,
   "metadata": {
    "collapsed": false
   },
   "outputs": [],
   "source": [
    "d5 = xr.open_dataset('../../data/WRF/3d/RAINNC_5days.nc')\n",
    "x = d5['RAINNC'].isel(Time = np.arange(24, 121, 24))\n",
    "X5 = xr.concat((x.isel(Time = 0), x.diff('Time')), 'Time')\n",
    "M5 = X5.isel_points(south_north=i, west_east=j).mean('points')\n",
    "\n",
    "d6 = xr.open_dataset('../../data/WRF/3d/RAINNC_6days.nc')\n",
    "x = d6['RAINNC'].isel(Time = np.arange(24, 145, 24))\n",
    "X6 = xr.concat((x.isel(Time = 0), x.diff('Time')), 'Time')\n",
    "M6 = X6.isel_points(south_north=i, west_east=j).mean('points')"
   ]
  },
  {
   "cell_type": "code",
   "execution_count": null,
   "metadata": {
    "collapsed": false
   },
   "outputs": [],
   "source": [
    "M5 = X5.isel_points(south_north=i, west_east=j).mean('points')\n",
    "M6 = X6.isel_points(south_north=i, west_east=j).mean('points')"
   ]
  },
  {
   "cell_type": "code",
   "execution_count": null,
   "metadata": {
    "collapsed": false
   },
   "outputs": [],
   "source": [
    "lm = [loss(offset_daily(r, o), k) for o, k in [('4h', M5), ('-8h', M6)]]\n",
    "ld = [loss(offset_daily(r, o), k, 'D') for o, k in [('4h', M5), ('-8h', M6)]]"
   ]
  },
  {
   "cell_type": "code",
   "execution_count": null,
   "metadata": {
    "collapsed": false
   },
   "outputs": [],
   "source": [
    "plt.figure(figsize=(9,5))\n",
    "p = plt.plot(pd.concat([l[['obs', 0]] for l in ld]).sort_index())\n",
    "plt.legend(p, ['obs', 'WRF'])"
   ]
  },
  {
   "cell_type": "code",
   "execution_count": null,
   "metadata": {
    "collapsed": false,
    "deletable": true,
    "editable": true,
    "scrolled": false
   },
   "outputs": [],
   "source": [
    "plt.figure(figsize=(15,8))\n",
    "p = plt.plot(pd.concat((l5d[0],l6d[0])))\n",
    "plt.legend(p, ['obs', 'WRF'])"
   ]
  },
  {
   "cell_type": "code",
   "execution_count": null,
   "metadata": {
    "collapsed": false,
    "deletable": true,
    "editable": true
   },
   "outputs": [],
   "source": [
    "plt.figure()\n"
   ]
  },
  {
   "cell_type": "code",
   "execution_count": null,
   "metadata": {
    "collapsed": false,
    "deletable": true,
    "editable": true
   },
   "outputs": [],
   "source": [
    "mly5 = [a.diff(1,1).abs().mean()[1] for a in l5m]\n",
    "mly6 = [a.diff(1,1).abs().mean()[1] for a in l6m]\n",
    "dly5 = [a.diff(1,1).abs().mean()[1] for a in l5d]\n",
    "dly6 = [a.diff(1,1).abs().mean()[1] for a in l6d]"
   ]
  },
  {
   "cell_type": "code",
   "execution_count": null,
   "metadata": {
    "collapsed": false,
    "deletable": true,
    "editable": true
   },
   "outputs": [],
   "source": [
    "mly5"
   ]
  },
  {
   "cell_type": "code",
   "execution_count": null,
   "metadata": {
    "collapsed": false,
    "deletable": true,
    "editable": true
   },
   "outputs": [],
   "source": [
    "mly6"
   ]
  },
  {
   "cell_type": "code",
   "execution_count": null,
   "metadata": {
    "collapsed": false,
    "deletable": true,
    "editable": true
   },
   "outputs": [],
   "source": [
    "dly5"
   ]
  },
  {
   "cell_type": "code",
   "execution_count": null,
   "metadata": {
    "collapsed": false,
    "deletable": true,
    "editable": true
   },
   "outputs": [],
   "source": [
    "dly6"
   ]
  },
  {
   "cell_type": "code",
   "execution_count": null,
   "metadata": {
    "collapsed": false
   },
   "outputs": [],
   "source": [
    "def mae(df):\n",
    "    return df.drop('obs', 1).add(-df['obs'], 0).abs().mean()"
   ]
  },
  {
   "cell_type": "code",
   "execution_count": null,
   "metadata": {
    "collapsed": false
   },
   "outputs": [],
   "source": [
    "lm = [loss(offset_daily(r, o), k) for o, k in [('4h', m5), ('-8h', m6)]]\n",
    "ld = [loss(offset_daily(r, o), k, 'D') for o, k in [('4h', m5), ('-8h', m6)]]"
   ]
  },
  {
   "cell_type": "code",
   "execution_count": null,
   "metadata": {
    "collapsed": false
   },
   "outputs": [],
   "source": [
    "fig, ax = plt.subplots(figsize=(9, 6))\n",
    "ps = []\n",
    "for k, l in enumerate([lm[0], ld[0], lh[0], lm[1], ld[1], lh[1]]):\n",
    "    ps.append(plt.bar(np.arange(l.shape[1] - 1) * 7 + k, mae(l)))\n",
    "ax.set_xticks(np.arange(6) * 7 + 1.5)\n",
    "ax.set_xticklabels(np.arange(1, 7))\n",
    "ax.set_xlabel('lead day')\n",
    "plt.legend(ps, ['monthly 0h', 'daily 0h', 'hourly 0h', 'monthly 12h', 'daily 12h', 'hourly 12h'], loc='upper right')"
   ]
  },
  {
   "cell_type": "code",
   "execution_count": null,
   "metadata": {
    "collapsed": false
   },
   "outputs": [],
   "source": [
    "r.mean().mean()*24"
   ]
  },
  {
   "cell_type": "code",
   "execution_count": null,
   "metadata": {
    "collapsed": false
   },
   "outputs": [],
   "source": [
    "a.mean()*24"
   ]
  },
  {
   "cell_type": "code",
   "execution_count": null,
   "metadata": {
    "collapsed": false
   },
   "outputs": [],
   "source": [
    "lh[0].mean()"
   ]
  },
  {
   "cell_type": "code",
   "execution_count": null,
   "metadata": {
    "collapsed": false
   },
   "outputs": [],
   "source": [
    "lh[1].mean()"
   ]
  },
  {
   "cell_type": "code",
   "execution_count": null,
   "metadata": {
    "collapsed": false
   },
   "outputs": [],
   "source": [
    "lh[1]"
   ]
  },
  {
   "cell_type": "code",
   "execution_count": null,
   "metadata": {
    "collapsed": false
   },
   "outputs": [],
   "source": []
  }
 ],
 "metadata": {
  "kernelspec": {
   "display_name": "Python 3",
   "language": "python",
   "name": "python3"
  },
  "language_info": {
   "codemirror_mode": {
    "name": "ipython",
    "version": 3
   },
   "file_extension": ".py",
   "mimetype": "text/x-python",
   "name": "python",
   "nbconvert_exporter": "python",
   "pygments_lexer": "ipython3",
   "version": "3.6.0"
  }
 },
 "nbformat": 4,
 "nbformat_minor": 2
}
