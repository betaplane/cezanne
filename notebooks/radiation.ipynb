{
 "cells": [
  {
   "cell_type": "raw",
   "metadata": {
    "collapsed": false,
    "deletable": true,
    "editable": true
   },
   "source": [
    "import numpy as np\n",
    "import pandas as pd\n",
    "import matplotlib.pyplot as plt\n",
    "from netCDF4 import Dataset\n",
    "from scipy.stats import binned_statistic\n",
    "%matplotlib inline"
   ]
  },
  {
   "cell_type": "code",
   "execution_count": null,
   "metadata": {
    "collapsed": false,
    "deletable": true,
    "editable": true
   },
   "outputs": [],
   "source": [
    "nc = Dataset('../../data/WRF/2d/d02_2014-09-10_transf.nc')"
   ]
  },
  {
   "cell_type": "code",
   "execution_count": null,
   "metadata": {
    "collapsed": false,
    "deletable": true,
    "editable": true
   },
   "outputs": [],
   "source": [
    "T = nc.variables['temp'][:]\n",
    "G = nc.variables['ghgt'][:]"
   ]
  },
  {
   "cell_type": "code",
   "execution_count": null,
   "metadata": {
    "collapsed": false,
    "deletable": true,
    "editable": true
   },
   "outputs": [],
   "source": [
    "Tm = np.mean(T,0)\n",
    "Gm = np.mean(G,0)"
   ]
  },
  {
   "cell_type": "code",
   "execution_count": null,
   "metadata": {
    "collapsed": false,
    "deletable": true,
    "editable": true
   },
   "outputs": [],
   "source": [
    "Ts = np.std(T,0)\n",
    "Gs = np.std(G,0)"
   ]
  },
  {
   "cell_type": "code",
   "execution_count": null,
   "metadata": {
    "collapsed": false,
    "deletable": true,
    "editable": true
   },
   "outputs": [],
   "source": [
    "g = Gm.flatten()\n",
    "bm = binned_statistic(g, Tm.flatten(), 'std', 50)\n",
    "bs = binned_statistic(g, Ts.flatten(), 'mean', 50)"
   ]
  },
  {
   "cell_type": "code",
   "execution_count": null,
   "metadata": {
    "collapsed": false,
    "deletable": true,
    "editable": true
   },
   "outputs": [],
   "source": [
    "plt.plot(bm[0], bm[1][:-1]+np.diff(bs[1])/2)\n",
    "plt.plot(bs[0], bm[1][:-1]+np.diff(bs[1])/2)"
   ]
  },
  {
   "cell_type": "code",
   "execution_count": null,
   "metadata": {
    "collapsed": false,
    "deletable": true,
    "editable": true
   },
   "outputs": [],
   "source": [
    "h = np.histogram(G.flatten(),50)"
   ]
  },
  {
   "cell_type": "code",
   "execution_count": null,
   "metadata": {
    "collapsed": false,
    "deletable": true,
    "editable": true,
    "scrolled": false
   },
   "outputs": [],
   "source": [
    "plt.plot(h[0], h[1][:-1]+np.diff(bs[1])/2)"
   ]
  },
  {
   "cell_type": "markdown",
   "metadata": {},
   "source": [
    "# Extraterrestrial radiation"
   ]
  },
  {
   "cell_type": "markdown",
   "metadata": {
    "deletable": true,
    "editable": true
   },
   "source": [
    "## Hour angle\n",
    "https://en.wikipedia.org/wiki/Hour_angle\n",
    "\n",
    "$$\n",
    "LHA_{sun} = LST - \\alpha_{sun}\n",
    "$$\n",
    "\n",
    "$LHA$ local hour angle, $LST$ local sidereal time, $\\alpha$ right ascension.\n",
    "\n",
    "```\n",
    "import ephem\n",
    "sun = ephem.Sun()\n",
    "obs = ephem.Observer()\n",
    "\n",
    "# apparent topocentric right ascenscion\n",
    "# meaning: all corrections (relativistic, light travel time, parallax, location on earth etc)\n",
    "# are applied before computing the position of the sun\n",
    "sun.ra\n",
    "\n",
    "# apparent topocentric declinaction\n",
    "sun.dec\n",
    "\n",
    "# local sidereal time\n",
    "obs.sidereal_time()\n",
    "```"
   ]
  },
  {
   "cell_type": "markdown",
   "metadata": {
    "deletable": true,
    "editable": true
   },
   "source": [
    "## Zenith\n",
    "\n",
    "https://en.wikipedia.org/wiki/Solar_zenith_angle\n",
    "\n",
    "Solar zenith angle is given by:\n",
    "\n",
    "$$\n",
    "\\mu \\equiv \\cos \\theta = \\sin \\alpha = \\sin \\Phi \\sin \\delta + \\cos \\Phi \\cos \\delta \\cos h\n",
    "$$\n",
    "\n",
    "where $\\theta$ solar zenith angle, $\\alpha$ solar elevation angle, $\\Phi$ latitude, $\\delta$ solar declination, $h$ hour angle. Hence Eq. 28 of <cite data-cite=\"2031184/23R794ET\"></cite> is equivalent to $F_{\\downarrow TOA} = S_0 \\mu_0$."
   ]
  },
  {
   "cell_type": "markdown",
   "metadata": {},
   "source": [
    "# <cite data-cite=\"2031184/8MGQW9FQ\"></cite>"
   ]
  },
  {
   "cell_type": "markdown",
   "metadata": {
    "collapsed": false,
    "deletable": true,
    "editable": true
   },
   "source": [
    "energy balance:\n",
    "\n",
    "$$\n",
    "\\begin{align}\n",
    "\\theta_* &= \\frac{\\lambda E - Q^* + G}{\\rho C_p u_*} \\\\\n",
    "\\lambda E &= \\frac{\\alpha S}{S+1} \\left(Q^* - G \\right) + \\alpha \\beta \\rho \\lambda \\Delta q_d u_*\n",
    "\\end{align}\n",
    "$$\n",
    "\n",
    "where $\\lambda$ latent heat of evaporation ($\\lambda E$ latent heat flux)"
   ]
  },
  {
   "cell_type": "markdown",
   "metadata": {
    "deletable": true,
    "editable": true
   },
   "source": [
    "net radiation $Q^*$ (subscript $i$ isothermal):\n",
    "\n",
    "$$\n",
    "\\begin{align}\n",
    "Q^* & = K^* + L^+ - L^- \\\\\n",
    "Q_i^* & = K^*+L_i^* \\\\\n",
    "L^+ - L^- & = L_i^* + 4 \\sigma T_r^3 \\left(T_r - T_0 \\right)\n",
    "\\end{align}\n",
    "$$\n",
    "\n",
    "gives\n",
    "\n",
    "$$\n",
    "\\quad Q^* = Q_i^* + 4 \\sigma T_r^3 \\left(T_r -T_0 \\right)\n",
    "$$\n",
    "\n",
    "where the last term is the correction due to temperature gradients (non-isothermal conditions). All subscripts $r$ with respect to a reference height (ca. 50 m), $T_0$ is the  radiation temperature of the surface.\n",
    "\n",
    "For $\\theta_*$:\n",
    "\n",
    "$$\n",
    "\\theta_* = \\frac{\\left(\\alpha -1 \\right) S -1}{\\left(S+1 \\right) \\rho C_p u_*} \\left(Q^* -G \\right) + \\alpha \\theta_d\n",
    "$$\n",
    "\n",
    "with $\\alpha$ an empirical constant (wet grass $\\alpha = 1$, prairie grass $\\alpha = 0.5$, desert $\\alpha = 0$),\n",
    "\n",
    "$ \\theta_d = \\beta \\lambda \\frac{\\Delta q_d}{C_p} \\quad$ a temperature scale: $\\beta \\lambda \\Delta q_d u_* \\approx 20$ W m⁻² <cite data-cite=\"2031184/2EBHW8VH\"></cite>.\n",
    "\n",
    "and $ \\quad S = e^{0.055 \\left(T_r-279 \\right)} \\quad$ ($279 < T_r < 310$ K) the slope of the saturation enthalpy curve.\n",
    "\n",
    "**Note:** Net longwave radiation is obtained from:\n",
    "\n",
    "$$\n",
    "\\begin{align}\n",
    "L^* &= c_1 \\sigma T_r^6 + c_2 N \\\\\n",
    "L^- &= \\sigma T_0^4\n",
    "\\end{align}\n",
    "$$\n",
    "\n",
    "and expanding $L^-$ into a truncated Taylor series about $T_r$:\n",
    "\n",
    "$$\n",
    "L^- = \\sigma T_r^4 - 4 \\sigma T_r^3 \\left(T_r - T_0 \\right)\n",
    "$$"
   ]
  },
  {
   "cell_type": "markdown",
   "metadata": {
    "deletable": true,
    "editable": true
   },
   "source": [
    "The isothermal longwave radiation $L_i^*$ is modelled by:\n",
    "\n",
    "$$\n",
    "L_i^* = - \\sigma T_r^4 \\left(1- c_1 T_r^2 \\right) + c_2 N\n",
    "$$\n",
    "\n",
    "where $N$ total cloud cover, $c_1=9.35 \\times 10^{-6}$ K⁻² and $c_2=60$ W m²."
   ]
  },
  {
   "cell_type": "markdown",
   "metadata": {
    "deletable": true,
    "editable": true
   },
   "source": [
    "**during the day**, deviation from isothermal conditions and ground heat flux $G$ can be modelled:\n",
    "\n",
    "$$\n",
    "\\begin{align}\n",
    "4 \\sigma T_r^3 \\left(T_r - T_0 \\right) & = - C_H Q^* \\\\\n",
    "G &= C_G Q^*\n",
    "\\end{align}\n",
    "$$"
   ]
  },
  {
   "cell_type": "markdown",
   "metadata": {
    "deletable": true,
    "editable": true
   },
   "source": [
    "Hence\n",
    "$$\n",
    "\\begin{align}\n",
    "\\therefore \\quad Q^* & = \\frac{Q_i^*}{1+C_H} \\\\\n",
    "\\therefore \\quad \\theta_* &= - \\frac{\\left(1- \\alpha \\right) S + 1}{\\left(S+1 \\right) \\rho C_p u_*} \\frac{1-C_G}{1+C_H} Q_i^* + \\alpha \\theta_d\n",
    "\\end{align}\n",
    "$$"
   ]
  },
  {
   "cell_type": "markdown",
   "metadata": {
    "deletable": true,
    "editable": true
   },
   "source": [
    "The flux coefficients:\n",
    "\n",
    "$$\n",
    "\\begin{align}\n",
    "C_H &= 0.38 \\frac{\\left(1- \\alpha \\right) S + 1}{S+1} \\\\\n",
    "C_G &= \\frac{A_G}{4 \\sigma T_r^3} C_H\n",
    "\\end{align}\n",
    "$$\n",
    "\n",
    "with empirical constand $A_G$ ($\\approx 5 W m^{-2} K^{-1}$ for grass surface)."
   ]
  },
  {
   "cell_type": "markdown",
   "metadata": {
    "deletable": true,
    "editable": true
   },
   "source": [
    "**during nighttime**, the temperature difference can be modelled using similarity theory (since mostly affected by wind speed):\n",
    "\n",
    "$$\n",
    "T_r - T_0 = \\frac{\\theta_*}{k} \\left[ ln \\left(\\frac{z_r}{z_H} \\right) + 5 \\frac{z_r}{L} \\right] - \\Gamma_d z_r\n",
    "$$\n",
    "\n",
    "and the ground heat flux also depends on this difference:\n",
    "$$\n",
    "G = -A_G \\left( T_r - T_0 \\right)\n",
    "$$\n",
    "\n",
    "where $\\quad L = \\frac{u_*^2 T_r}{kg \\theta_*} \\quad $ the Monin-Obukhov length. $\\frac{1}{k} ln \\frac{z_r}{z_H} \\approx 30$ for short grass <cite data-cite=\"2031184/2UVU9VJD\"></cite>, where $z_r$ reference height ($\\approx 50$ m), $z_H$ roughness length for heat transfer. "
   ]
  },
  {
   "cell_type": "markdown",
   "metadata": {
    "collapsed": false,
    "deletable": true,
    "editable": true
   },
   "source": [
    "roughness lengths for temperature and momentum <cite data-cite=\"2031184/TI4ZF8MN\"></cite>:\n",
    "\n",
    "$$\n",
    "z_{0T} = z_{0M} e^{-k C Re^{1/2}}\n",
    "$$\n",
    "\n",
    "where $C$ empirical constant and $Re = \\frac{z_{0M}}{\\nu} u_*$ Reynolds number, with $\\nu$ molecular viscosity."
   ]
  },
  {
   "cell_type": "markdown",
   "metadata": {
    "collapsed": false,
    "deletable": true,
    "editable": true
   },
   "source": [
    "cloud cover <cite data-cite=\"2031184/SS8QRG3X\"></cite>:\n",
    "\n",
    "$$c = 1 - R_S/R_{SO}$$\n",
    "\n",
    "where $R_S$ is measured solar radiation and $R_{SO}$ clear sky solar radiation."
   ]
  },
  {
   "cell_type": "markdown",
   "metadata": {
    "collapsed": false,
    "deletable": true,
    "editable": true
   },
   "source": [
    "# Shortwave"
   ]
  },
  {
   "cell_type": "markdown",
   "metadata": {},
   "source": [
    "## clear sky"
   ]
  },
  {
   "cell_type": "markdown",
   "metadata": {},
   "source": [
    "<cite data-cite=\"2031184/U5M9ZDPU\"></cite>\n",
    "\n",
    "$$\n",
    "R_{SO} = R_a \\exp \\left(\\frac{-0.0018 p}{K_t \\mu} \\right)\n",
    "$$\n",
    "\n",
    "where $0 < K_t < 1$ a turbidity coefficent (1 for clean air), $p$ [kPa] air pressure. Air pressure can be calculated from altitude $z$:\n",
    "\n",
    "$$\n",
    "p(z) = 101.3 \\left(1- \\frac{0.0065 z}{293} \\right)^{5.26}\n",
    "$$"
   ]
  },
  {
   "cell_type": "markdown",
   "metadata": {},
   "source": [
    "<cite data-cite=\"2031184/IDF36CZ7\"></cite>\n",
    "\n",
    "$$\n",
    "R_{SO} = R_a T_R T_{pg} T_w T_a\n",
    "$$\n",
    "\n",
    "where the subscripts to transmission coefficients $T$ denote: $R$ Rayleigh scattering, $pg$ permanent gases, $w$ water vapor, $a$ aerosols. \n",
    "\n",
    "$$\n",
    "\\begin{align}\n",
    "T_R T_{pg} &= 1.021 - 0.084 \\sqrt{m \\left(949p \\times 10^{-5} + 0.051 \\right)} \\\\\n",
    "m &= \\frac{35}{\\sqrt{1224 \\mu^2 + 1}} \\\\\n",
    "T_w &= 1 - 0.077 \\left(um \\right)^{0.3} \\\\\n",
    "u &= \\exp \\left(0.1133 - \\ln \\left( \\lambda +1 \\right) + 0.0393 T_d \\right) \\\\\n",
    "T_a &= x^m\n",
    "\\end{align}\n",
    "$$\n",
    "\n",
    "with $p$ in [kPa], $u$ column precipitable water and dewpoint temperature $T_d$ in [$^{\\circ}$F]<cite data-cite=\"2031184/GKCTEJEJ\"></cite>, $\\lambda$ an empirical constant. Note <cite data-cite=\"2031184/RFDSZXPP\"></cite> have error in equation for optical air mass $m$. \n",
    "\n",
    "In <cite data-cite=\"2031184/RFDSZXPP\">,\n",
    "\n",
    "$$\n",
    "T_a = 0.935^m\n",
    "$$"
   ]
  },
  {
   "cell_type": "code",
   "execution_count": null,
   "metadata": {
    "collapsed": false
   },
   "outputs": [],
   "source": []
  }
 ],
 "metadata": {
  "cite2c": {
   "citations": {
    "2031184/23R794ET": {
     "author": [
      {
       "family": "Allen",
       "given": "Richard G."
      },
      {
       "family": "Pereira",
       "given": "L. S."
      },
      {
       "family": "Raes",
       "given": "D."
      },
      {
       "family": "Smith",
       "given": "M."
      }
     ],
     "container-title": "Rome: Food and Agriculture Organization of the United Nations",
     "id": "2031184/23R794ET",
     "issued": {
      "year": "1998"
     },
     "note": "**",
     "page": "97–156",
     "page-first": "97",
     "title": "FAO Irrigation and drainage paper No. 56",
     "type": "article-journal",
     "volume": "56"
    },
    "2031184/2EBHW8VH": {
     "DOI": "10.1175/1520-0450(1982)021<1610:ASPOTS>2.0.CO;2",
     "URL": "http://journals.ametsoc.org/doi/abs/10.1175/1520-0450%281982%29021%3C1610%3AASPOTS%3E2.0.CO%3B2",
     "accessed": {
      "day": "29",
      "month": "12",
      "year": "2016"
     },
     "author": [
      {
       "family": "De Bruin",
       "given": "H. A. R."
      },
      {
       "family": "Holtslag",
       "given": "A. A. M."
      }
     ],
     "container-title": "Journal of Applied Meteorology",
     "id": "2031184/2EBHW8VH",
     "issue": "11",
     "issued": {
      "month": "11",
      "year": "1982"
     },
     "language": "en",
     "page": "1610-1621",
     "page-first": "1610",
     "title": "A Simple Parameterization of the Surface Fluxes of Sensible and Latent Heat During Daytime Compared with the Penman-Monteith Concept",
     "type": "article-journal",
     "volume": "21"
    },
    "2031184/2UVU9VJD": {
     "author": [
      {
       "family": "Van Ulden",
       "given": "AP"
      },
      {
       "family": "Holtslag",
       "given": "AAM"
      }
     ],
     "container-title": "Sixth Symposium on Turbulence and Diffusion, American Meteorological Society, Boston",
     "id": "2031184/2UVU9VJD",
     "issued": {
      "year": "1983"
     },
     "page": "257–260",
     "page-first": "257",
     "title": "The stability of the atmospheric surface layer during nighttime",
     "type": "paper-conference"
    },
    "2031184/8MGQW9FQ": {
     "DOI": "10.1175/1520-0450(1985)024<1196:EOABLP>2.0.CO;2",
     "URL": "http://journals.ametsoc.org/doi/abs/10.1175/1520-0450%281985%29024%3C1196%3AEOABLP%3E2.0.CO%3B2",
     "accessed": {
      "day": "6",
      "month": "1",
      "year": "2017"
     },
     "author": [
      {
       "family": "Van Ulden",
       "given": "A. P."
      },
      {
       "family": "Holtslag",
       "given": "A. A. M."
      }
     ],
     "container-title": "Journal of Climate and Applied Meteorology",
     "id": "2031184/8MGQW9FQ",
     "issue": "11",
     "issued": {
      "month": "11",
      "year": "1985"
     },
     "language": "en",
     "note": "*",
     "page": "1196-1207",
     "page-first": "1196",
     "title": "Estimation of Atmospheric Boundary Layer Parameters for Diffusion Applications",
     "type": "article-journal",
     "volume": "24"
    },
    "2031184/GKCTEJEJ": {
     "DOI": "10.1175/1520-0450(1966)005<0726:NOTRBT>2.0.CO;2",
     "URL": "http://journals.ametsoc.org/doi/abs/10.1175/1520-0450%281966%29005%3C0726%3ANOTRBT%3E2.0.CO%3B2",
     "accessed": {
      "day": "2",
      "month": "3",
      "year": "2017"
     },
     "author": [
      {
       "family": "Smith",
       "given": "W. L."
      }
     ],
     "container-title": "Journal of Applied Meteorology",
     "id": "2031184/GKCTEJEJ",
     "issue": "5",
     "issued": {
      "month": "10",
      "year": "1966"
     },
     "language": "en",
     "page": "726-727",
     "page-first": "726",
     "title": "Note on the Relationship Between Total Precipitable Water and Surface Dew Point",
     "type": "article-journal",
     "volume": "5"
    },
    "2031184/IDF36CZ7": {
     "DOI": "10.1175/1520-0450(1983)022<0537:PDIWHC>2.0.CO;2",
     "URL": "http://journals.ametsoc.org/doi/abs/10.1175/1520-0450%281983%29022%3C0537%3APDIWHC%3E2.0.CO%3B2",
     "accessed": {
      "day": "2",
      "month": "3",
      "year": "2017"
     },
     "author": [
      {
       "family": "Meyers",
       "given": "T. P."
      },
      {
       "family": "Dale",
       "given": "R. F."
      }
     ],
     "container-title": "Journal of Climate and Applied Meteorology",
     "id": "2031184/IDF36CZ7",
     "issue": "4",
     "issued": {
      "month": "4",
      "year": "1983"
     },
     "language": "en",
     "page": "537-545",
     "page-first": "537",
     "title": "Predicting Daily Insolation with Hourly Cloud Height and Coverage",
     "type": "article-journal",
     "volume": "22"
    },
    "2031184/RFDSZXPP": {
     "DOI": "10.1175/1520-0450(1999)038<0474:AIPFEE>2.0.CO;2",
     "URL": "http://journals.ametsoc.org/doi/abs/10.1175/1520-0450%281999%29038%3C0474%3AAIPFEE%3E2.0.CO%3B2",
     "accessed": {
      "day": "1",
      "month": "3",
      "year": "2017"
     },
     "author": [
      {
       "family": "Crawford",
       "given": "Todd M."
      },
      {
       "family": "Duchon",
       "given": "Claude E."
      }
     ],
     "container-title": "Journal of Applied Meteorology",
     "id": "2031184/RFDSZXPP",
     "issue": "4",
     "issued": {
      "month": "4",
      "year": "1999"
     },
     "language": "en",
     "note": "?",
     "page": "474-480",
     "page-first": "474",
     "title": "An Improved Parameterization for Estimating Effective Atmospheric Emissivity for Use in Calculating Daytime Downwelling Longwave Radiation",
     "type": "article-journal",
     "volume": "38"
    },
    "2031184/SS8QRG3X": {
     "DOI": "10.1029/2008GL035731",
     "URL": "http://doi.wiley.com/10.1029/2008GL035731",
     "accessed": {
      "day": "23",
      "month": "2",
      "year": "2017"
     },
     "author": [
      {
       "family": "Choi",
       "given": "Minha"
      },
      {
       "family": "Jacobs",
       "given": "Jennifer M."
      },
      {
       "family": "Kustas",
       "given": "William P."
      }
     ],
     "container-title": "Geophysical Research Letters",
     "id": "2031184/SS8QRG3X",
     "issue": "20",
     "issued": {
      "day": "18",
      "month": "10",
      "year": "2008"
     },
     "language": "en",
     "title": "Assessment of clear and cloudy sky parameterizations for daily downwelling longwave radiation over different land surfaces in Florida, USA",
     "type": "article-journal",
     "volume": "35"
    },
    "2031184/TI4ZF8MN": {
     "URL": "http://www.lib.ncep.noaa.gov/ncepofficenotes/files/on437.pdf",
     "accessed": {
      "day": "7",
      "month": "12",
      "year": "2016"
     },
     "author": [
      {
       "family": "Janjić",
       "given": "Zaviša I."
      }
     ],
     "container-title": "NCEP office note",
     "id": "2031184/TI4ZF8MN",
     "issued": {
      "year": "2002"
     },
     "page": "61",
     "page-first": "61",
     "title": "Nonsingular implementation of the Mellor–Yamada level 2.5 scheme in the NCEP Meso model",
     "type": "article-journal",
     "volume": "437"
    },
    "2031184/U5M9ZDPU": {
     "DOI": "10.1016/j.agrformet.2007.04.007",
     "URL": "http://linkinghub.elsevier.com/retrieve/pii/S0168192307001074",
     "accessed": {
      "day": "6",
      "month": "3",
      "year": "2017"
     },
     "author": [
      {
       "family": "Lhomme",
       "given": "J.P."
      },
      {
       "family": "Vacher",
       "given": "J.J."
      },
      {
       "family": "Rocheteau",
       "given": "A."
      }
     ],
     "container-title": "Agricultural and Forest Meteorology",
     "id": "2031184/U5M9ZDPU",
     "issue": "3-4",
     "issued": {
      "month": "8",
      "year": "2007"
     },
     "language": "en",
     "note": "*",
     "page": "139-148",
     "page-first": "139",
     "title": "Estimating downward long-wave radiation on the Andean Altiplano",
     "type": "article-journal",
     "volume": "145"
    }
   }
  },
  "kernelspec": {
   "display_name": "Python 3",
   "language": "python",
   "name": "python3"
  },
  "language_info": {
   "codemirror_mode": {
    "name": "ipython",
    "version": 3
   },
   "file_extension": ".py",
   "mimetype": "text/x-python",
   "name": "python",
   "nbconvert_exporter": "python",
   "pygments_lexer": "ipython3",
   "version": "3.6.0"
  }
 },
 "nbformat": 4,
 "nbformat_minor": 2
}
