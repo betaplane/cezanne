{
 "cells": [
  {
   "cell_type": "code",
   "execution_count": null,
   "metadata": {
    "collapsed": false
   },
   "outputs": [],
   "source": [
    "import sys\n",
    "sys.path.append('../../code/python')\n",
    "import numpy as np\n",
    "from collections import Counter\n",
    "import data\n",
    "import matplotlib.pyplot as plt\n",
    "%matplotlib inline\n",
    "\n",
    "from collections import Counter\n",
    "class Irregularities(object):\n",
    "    def __init__(self, x):\n",
    "        self.x = x\n",
    "        t = np.array(x.index, dtype='datetime64[m]')\n",
    "        dt = np.diff(t).astype(float)\n",
    "        self.c = Counter(dt)\n",
    "\n",
    "        # look for indexes which are != the most common timestep on both sides\n",
    "        self.d = np.r_[np.nan, dt, dt, np.nan].reshape((2,-1))\n",
    "        \n",
    "    def dt(self, dt):\n",
    "        return (self.d == dt).any(0)\n",
    "    \n",
    "    def plot(self, dts):\n",
    "        plt.figure(figsize=(15, 5))\n",
    "        plt.plot(self.x)\n",
    "        for dt in dts:\n",
    "            plt.plot(self.x[self.dt(dt)], 'x', label='{}'.format(dt))\n",
    "        plt.legend()"
   ]
  },
  {
   "cell_type": "code",
   "execution_count": null,
   "metadata": {
    "collapsed": false
   },
   "outputs": [],
   "source": [
    "from sklearn import tree\n",
    "\n",
    "tr = tree.DecisionTreeClassifier(min_samples_leaf = 1000)\n",
    "def cut(df):\n",
    "    t = np.array(df.index, dtype='datetime64[m]').astype(int)\n",
    "    dt = np.diff(t)\n",
    "    # use min of dt on either side of timestamp as label\n",
    "    d = np.r_[dt[0], dt, dt, dt[-1]].reshape((2,-1)).min(0)\n",
    "    x = t.reshape((-1, 1))\n",
    "    tr.fit(x, d.T)\n",
    "    cl = tr.predict(x)\n",
    "\n",
    "    ix = np.where(np.diff(cl))[0]\n",
    "    plt.figure(figsize=(min(15, len(ix)*6), 4))\n",
    "    for i, j in enumerate(ix):\n",
    "        plt.subplot(1, len(ix), i+1)\n",
    "        plt.plot(df[j-9:j+11])\n",
    "        plt.plot(df[j-9:j+1], 'x', label='{}'.format(cl[j]))\n",
    "        plt.plot(df[j+1:j+11], 'o', label='{}'.format(cl[j+1]))\n",
    "        plt.gca().set_xticks([df.index[j-4], df.index[j+6]])\n",
    "        plt.gca().set_xticklabels([df.index[j-4].strftime('%Y-%m'), df.index[j+6].strftime('%Y-%m')])\n",
    "        plt.gca().set_title(df.index[j].strftime('%Y-%m-%d %Hh'))\n",
    "        plt.legend()"
   ]
  },
  {
   "cell_type": "code",
   "execution_count": null,
   "metadata": {
    "collapsed": false
   },
   "outputs": [],
   "source": [
    "D = data.Data('../python/data.cfg')\n",
    "D.open('r', '_raw')"
   ]
  },
  {
   "cell_type": "code",
   "execution_count": null,
   "metadata": {
    "collapsed": false
   },
   "outputs": [],
   "source": [
    "Irregularities(D.r['5'].xs('avg', 1, 'aggr')).plot([5, 15, 30, 45, 60])"
   ]
  },
  {
   "cell_type": "code",
   "execution_count": null,
   "metadata": {
    "collapsed": false
   },
   "outputs": [],
   "source": [
    "cut(D.r['5'].xs('avg', 1, 'aggr'))"
   ]
  },
  {
   "cell_type": "code",
   "execution_count": null,
   "metadata": {
    "collapsed": false,
    "scrolled": false
   },
   "outputs": [],
   "source": [
    "Irregularities(D.r['6'].xs('avg', 1, 'aggr')).plot([5, 10, 15, 30, 45, 60])"
   ]
  },
  {
   "cell_type": "code",
   "execution_count": null,
   "metadata": {
    "collapsed": false
   },
   "outputs": [],
   "source": [
    "cut(D.r['6'].xs('avg', 1, 'aggr'))"
   ]
  },
  {
   "cell_type": "code",
   "execution_count": null,
   "metadata": {
    "collapsed": false,
    "scrolled": false
   },
   "outputs": [],
   "source": [
    "Irregularities(D.r['8'].xs('avg', 1, 'aggr')).plot([15, 30])"
   ]
  },
  {
   "cell_type": "code",
   "execution_count": null,
   "metadata": {
    "collapsed": false
   },
   "outputs": [],
   "source": [
    "cut(D.r['8'].xs('avg', 1, 'aggr'))"
   ]
  },
  {
   "cell_type": "code",
   "execution_count": null,
   "metadata": {
    "collapsed": false
   },
   "outputs": [],
   "source": [
    "Irregularities(D.r['BTG'].xs('avg', 1, 'aggr')).plot([10, 15, 30])"
   ]
  },
  {
   "cell_type": "code",
   "execution_count": null,
   "metadata": {
    "collapsed": false
   },
   "outputs": [],
   "source": [
    "cut(D.r['BTG'].xs('avg', 1, 'aggr'))"
   ]
  },
  {
   "cell_type": "code",
   "execution_count": null,
   "metadata": {
    "collapsed": false
   },
   "outputs": [],
   "source": [
    "Irregularities(D.r['MARPCH'].xs('avg', 1, 'aggr')).plot([5, 15])"
   ]
  },
  {
   "cell_type": "code",
   "execution_count": null,
   "metadata": {
    "collapsed": false
   },
   "outputs": [],
   "source": [
    "cut(D.r['MARPCH'].xs('avg', 1, 'aggr'))"
   ]
  },
  {
   "cell_type": "code",
   "execution_count": null,
   "metadata": {
    "collapsed": false
   },
   "outputs": [],
   "source": [
    "Irregularities(D.r['ANDA'].xs('avg', 1, 'aggr')).plot([5, 15])"
   ]
  },
  {
   "cell_type": "code",
   "execution_count": null,
   "metadata": {
    "collapsed": false
   },
   "outputs": [],
   "source": [
    "cut(D.r['ANDA'].xs('avg', 1, 'aggr'))"
   ]
  },
  {
   "cell_type": "code",
   "execution_count": null,
   "metadata": {
    "collapsed": false
   },
   "outputs": [],
   "source": [
    "Irregularities(D.r['COMB'].xs('avg', 1, 'aggr')).plot([5, 10, 15])"
   ]
  },
  {
   "cell_type": "code",
   "execution_count": null,
   "metadata": {
    "collapsed": false
   },
   "outputs": [],
   "source": [
    "cut(D.r['COMB'].xs('avg', 1, 'aggr'))"
   ]
  },
  {
   "cell_type": "code",
   "execution_count": null,
   "metadata": {
    "collapsed": false
   },
   "outputs": [],
   "source": [
    "Irregularities(D.r['CT'].xs('avg', 1, 'aggr')).plot([10, 15])"
   ]
  },
  {
   "cell_type": "code",
   "execution_count": null,
   "metadata": {
    "collapsed": false
   },
   "outputs": [],
   "source": [
    "cut(D.r['CT'].xs('avg', 1, 'aggr'))"
   ]
  },
  {
   "cell_type": "code",
   "execution_count": null,
   "metadata": {
    "collapsed": false
   },
   "outputs": [],
   "source": [
    "Irregularities(D.r['INILLA'].xs('avg', 1, 'aggr')).plot([5, 15])"
   ]
  },
  {
   "cell_type": "code",
   "execution_count": null,
   "metadata": {
    "collapsed": false
   },
   "outputs": [],
   "source": [
    "cut(D.r['INILLA'].xs('avg', 1, 'aggr'))"
   ]
  },
  {
   "cell_type": "code",
   "execution_count": null,
   "metadata": {
    "collapsed": false
   },
   "outputs": [],
   "source": [
    "Irregularities(D.r['LSC'].xs('avg', 1, 'aggr')).plot([5, 15])"
   ]
  },
  {
   "cell_type": "code",
   "execution_count": null,
   "metadata": {
    "collapsed": false
   },
   "outputs": [],
   "source": [
    "cut(D.r['LSC'].xs('avg', 1, 'aggr'))"
   ]
  },
  {
   "cell_type": "code",
   "execution_count": null,
   "metadata": {
    "collapsed": false
   },
   "outputs": [],
   "source": [
    "Irregularities(D.r['MET3CH'].xs('avg', 1, 'aggr')).plot([5, 10])"
   ]
  },
  {
   "cell_type": "code",
   "execution_count": null,
   "metadata": {
    "collapsed": false
   },
   "outputs": [],
   "source": [
    "cut(D.r['MET3CH'].xs('avg', 1, 'aggr'))"
   ]
  },
  {
   "cell_type": "code",
   "execution_count": null,
   "metadata": {
    "collapsed": false
   },
   "outputs": [],
   "source": [
    "Irregularities(D.r['MET3LP'].xs('avg', 1, 'aggr')).plot([5, 10])"
   ]
  },
  {
   "cell_type": "code",
   "execution_count": null,
   "metadata": {
    "collapsed": false
   },
   "outputs": [],
   "source": [
    "cut(D.r['MET3LP'].xs('avg', 1, 'aggr'))"
   ]
  },
  {
   "cell_type": "code",
   "execution_count": null,
   "metadata": {
    "collapsed": false
   },
   "outputs": [],
   "source": [
    "Irregularities(D.r['MIN'].xs('avg', 1, 'aggr')).plot([5, 15])"
   ]
  },
  {
   "cell_type": "code",
   "execution_count": null,
   "metadata": {
    "collapsed": false
   },
   "outputs": [],
   "source": [
    "cut(D.r['MIN'].xs('avg', 1, 'aggr'))"
   ]
  },
  {
   "cell_type": "code",
   "execution_count": null,
   "metadata": {
    "collapsed": false
   },
   "outputs": [],
   "source": [
    "Irregularities(D.r['PC'].xs('avg', 1, 'aggr')).plot([5, 15])"
   ]
  },
  {
   "cell_type": "code",
   "execution_count": null,
   "metadata": {
    "collapsed": false
   },
   "outputs": [],
   "source": [
    "cut(D.r['PC'].xs('avg', 1, 'aggr'))"
   ]
  },
  {
   "cell_type": "code",
   "execution_count": null,
   "metadata": {
    "collapsed": false
   },
   "outputs": [],
   "source": [
    "Irregularities(D.r['PLMCN'].xs('avg', 1, 'aggr')).plot([15, 60])"
   ]
  },
  {
   "cell_type": "code",
   "execution_count": null,
   "metadata": {
    "collapsed": false
   },
   "outputs": [],
   "source": [
    "cut(D.r['PLMCN'].xs('avg', 1, 'aggr'))"
   ]
  },
  {
   "cell_type": "code",
   "execution_count": null,
   "metadata": {
    "collapsed": false
   },
   "outputs": [],
   "source": [
    "Irregularities(D.r['PLV'].xs('avg', 1, 'aggr')).plot([ 15, 60])"
   ]
  },
  {
   "cell_type": "code",
   "execution_count": null,
   "metadata": {
    "collapsed": false
   },
   "outputs": [],
   "source": [
    "cut(D.r['PLV'].xs('avg', 1, 'aggr'))"
   ]
  },
  {
   "cell_type": "code",
   "execution_count": null,
   "metadata": {
    "collapsed": false
   },
   "outputs": [],
   "source": [
    "Irregularities(D.r['RPL'].xs('avg', 1, 'aggr')).plot([15, 60, 120])"
   ]
  },
  {
   "cell_type": "code",
   "execution_count": null,
   "metadata": {
    "collapsed": false
   },
   "outputs": [],
   "source": [
    "cut(D.r['RPL'].xs('avg', 1, 'aggr'))"
   ]
  },
  {
   "cell_type": "code",
   "execution_count": null,
   "metadata": {
    "collapsed": false
   },
   "outputs": [],
   "source": [
    "Irregularities(D.r['TLH'].xs('avg', 1, 'aggr')).plot([5, 15])"
   ]
  },
  {
   "cell_type": "code",
   "execution_count": null,
   "metadata": {
    "collapsed": false
   },
   "outputs": [],
   "source": [
    "cut(D.r['TLH'].xs('avg', 1, 'aggr'))"
   ]
  },
  {
   "cell_type": "code",
   "execution_count": null,
   "metadata": {
    "collapsed": false
   },
   "outputs": [],
   "source": []
  }
 ],
 "metadata": {
  "kernelspec": {
   "display_name": "Python 3",
   "language": "python",
   "name": "python3"
  },
  "language_info": {
   "codemirror_mode": {
    "name": "ipython",
    "version": 3
   },
   "file_extension": ".py",
   "mimetype": "text/x-python",
   "name": "python",
   "nbconvert_exporter": "python",
   "pygments_lexer": "ipython3",
   "version": "3.6.0"
  }
 },
 "nbformat": 4,
 "nbformat_minor": 2
}
